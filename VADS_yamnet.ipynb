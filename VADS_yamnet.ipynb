{
  "nbformat": 4,
  "nbformat_minor": 0,
  "metadata": {
    "colab": {
      "provenance": [],
      "authorship_tag": "ABX9TyMHaOCCe+mPcOtsmleBE8mc",
      "include_colab_link": true
    },
    "kernelspec": {
      "name": "python3",
      "display_name": "Python 3"
    },
    "language_info": {
      "name": "python"
    },
    "widgets": {
      "application/vnd.jupyter.widget-state+json": {
        "5b43fbff55214d788f9e52144235a372": {
          "model_module": "@jupyter-widgets/controls",
          "model_name": "HBoxModel",
          "model_module_version": "1.5.0",
          "state": {
            "_dom_classes": [],
            "_model_module": "@jupyter-widgets/controls",
            "_model_module_version": "1.5.0",
            "_model_name": "HBoxModel",
            "_view_count": null,
            "_view_module": "@jupyter-widgets/controls",
            "_view_module_version": "1.5.0",
            "_view_name": "HBoxView",
            "box_style": "",
            "children": [
              "IPY_MODEL_16be1864ab254ef18308c98119a63d5b",
              "IPY_MODEL_9fd3c5effb81440490cf818424b0b0b9",
              "IPY_MODEL_533173dcfe5f4480bcbf2d096efe9b01"
            ],
            "layout": "IPY_MODEL_cb3aa777ccaf4d34943d55a68225b5fa"
          }
        },
        "16be1864ab254ef18308c98119a63d5b": {
          "model_module": "@jupyter-widgets/controls",
          "model_name": "HTMLModel",
          "model_module_version": "1.5.0",
          "state": {
            "_dom_classes": [],
            "_model_module": "@jupyter-widgets/controls",
            "_model_module_version": "1.5.0",
            "_model_name": "HTMLModel",
            "_view_count": null,
            "_view_module": "@jupyter-widgets/controls",
            "_view_module_version": "1.5.0",
            "_view_name": "HTMLView",
            "description": "",
            "description_tooltip": null,
            "layout": "IPY_MODEL_f594360225974e54a5448abd7362ce74",
            "placeholder": "​",
            "style": "IPY_MODEL_029e7f42bf854c80b1378fadf16b8e4a",
            "value": "Map: 100%"
          }
        },
        "9fd3c5effb81440490cf818424b0b0b9": {
          "model_module": "@jupyter-widgets/controls",
          "model_name": "FloatProgressModel",
          "model_module_version": "1.5.0",
          "state": {
            "_dom_classes": [],
            "_model_module": "@jupyter-widgets/controls",
            "_model_module_version": "1.5.0",
            "_model_name": "FloatProgressModel",
            "_view_count": null,
            "_view_module": "@jupyter-widgets/controls",
            "_view_module_version": "1.5.0",
            "_view_name": "ProgressView",
            "bar_style": "success",
            "description": "",
            "description_tooltip": null,
            "layout": "IPY_MODEL_76c5717c7aa646f89c7ba692e2987e1a",
            "max": 2012,
            "min": 0,
            "orientation": "horizontal",
            "style": "IPY_MODEL_bcc3f15527fb47498ce0f267fae1a947",
            "value": 2012
          }
        },
        "533173dcfe5f4480bcbf2d096efe9b01": {
          "model_module": "@jupyter-widgets/controls",
          "model_name": "HTMLModel",
          "model_module_version": "1.5.0",
          "state": {
            "_dom_classes": [],
            "_model_module": "@jupyter-widgets/controls",
            "_model_module_version": "1.5.0",
            "_model_name": "HTMLModel",
            "_view_count": null,
            "_view_module": "@jupyter-widgets/controls",
            "_view_module_version": "1.5.0",
            "_view_name": "HTMLView",
            "description": "",
            "description_tooltip": null,
            "layout": "IPY_MODEL_0f7fe04661aa47588552f40218083891",
            "placeholder": "​",
            "style": "IPY_MODEL_430a2d2c254c4a05a4bbc7b9ab96b3eb",
            "value": " 2012/2012 [00:04&lt;00:00, 532.37 examples/s]"
          }
        },
        "cb3aa777ccaf4d34943d55a68225b5fa": {
          "model_module": "@jupyter-widgets/base",
          "model_name": "LayoutModel",
          "model_module_version": "1.2.0",
          "state": {
            "_model_module": "@jupyter-widgets/base",
            "_model_module_version": "1.2.0",
            "_model_name": "LayoutModel",
            "_view_count": null,
            "_view_module": "@jupyter-widgets/base",
            "_view_module_version": "1.2.0",
            "_view_name": "LayoutView",
            "align_content": null,
            "align_items": null,
            "align_self": null,
            "border": null,
            "bottom": null,
            "display": null,
            "flex": null,
            "flex_flow": null,
            "grid_area": null,
            "grid_auto_columns": null,
            "grid_auto_flow": null,
            "grid_auto_rows": null,
            "grid_column": null,
            "grid_gap": null,
            "grid_row": null,
            "grid_template_areas": null,
            "grid_template_columns": null,
            "grid_template_rows": null,
            "height": null,
            "justify_content": null,
            "justify_items": null,
            "left": null,
            "margin": null,
            "max_height": null,
            "max_width": null,
            "min_height": null,
            "min_width": null,
            "object_fit": null,
            "object_position": null,
            "order": null,
            "overflow": null,
            "overflow_x": null,
            "overflow_y": null,
            "padding": null,
            "right": null,
            "top": null,
            "visibility": null,
            "width": null
          }
        },
        "f594360225974e54a5448abd7362ce74": {
          "model_module": "@jupyter-widgets/base",
          "model_name": "LayoutModel",
          "model_module_version": "1.2.0",
          "state": {
            "_model_module": "@jupyter-widgets/base",
            "_model_module_version": "1.2.0",
            "_model_name": "LayoutModel",
            "_view_count": null,
            "_view_module": "@jupyter-widgets/base",
            "_view_module_version": "1.2.0",
            "_view_name": "LayoutView",
            "align_content": null,
            "align_items": null,
            "align_self": null,
            "border": null,
            "bottom": null,
            "display": null,
            "flex": null,
            "flex_flow": null,
            "grid_area": null,
            "grid_auto_columns": null,
            "grid_auto_flow": null,
            "grid_auto_rows": null,
            "grid_column": null,
            "grid_gap": null,
            "grid_row": null,
            "grid_template_areas": null,
            "grid_template_columns": null,
            "grid_template_rows": null,
            "height": null,
            "justify_content": null,
            "justify_items": null,
            "left": null,
            "margin": null,
            "max_height": null,
            "max_width": null,
            "min_height": null,
            "min_width": null,
            "object_fit": null,
            "object_position": null,
            "order": null,
            "overflow": null,
            "overflow_x": null,
            "overflow_y": null,
            "padding": null,
            "right": null,
            "top": null,
            "visibility": null,
            "width": null
          }
        },
        "029e7f42bf854c80b1378fadf16b8e4a": {
          "model_module": "@jupyter-widgets/controls",
          "model_name": "DescriptionStyleModel",
          "model_module_version": "1.5.0",
          "state": {
            "_model_module": "@jupyter-widgets/controls",
            "_model_module_version": "1.5.0",
            "_model_name": "DescriptionStyleModel",
            "_view_count": null,
            "_view_module": "@jupyter-widgets/base",
            "_view_module_version": "1.2.0",
            "_view_name": "StyleView",
            "description_width": ""
          }
        },
        "76c5717c7aa646f89c7ba692e2987e1a": {
          "model_module": "@jupyter-widgets/base",
          "model_name": "LayoutModel",
          "model_module_version": "1.2.0",
          "state": {
            "_model_module": "@jupyter-widgets/base",
            "_model_module_version": "1.2.0",
            "_model_name": "LayoutModel",
            "_view_count": null,
            "_view_module": "@jupyter-widgets/base",
            "_view_module_version": "1.2.0",
            "_view_name": "LayoutView",
            "align_content": null,
            "align_items": null,
            "align_self": null,
            "border": null,
            "bottom": null,
            "display": null,
            "flex": null,
            "flex_flow": null,
            "grid_area": null,
            "grid_auto_columns": null,
            "grid_auto_flow": null,
            "grid_auto_rows": null,
            "grid_column": null,
            "grid_gap": null,
            "grid_row": null,
            "grid_template_areas": null,
            "grid_template_columns": null,
            "grid_template_rows": null,
            "height": null,
            "justify_content": null,
            "justify_items": null,
            "left": null,
            "margin": null,
            "max_height": null,
            "max_width": null,
            "min_height": null,
            "min_width": null,
            "object_fit": null,
            "object_position": null,
            "order": null,
            "overflow": null,
            "overflow_x": null,
            "overflow_y": null,
            "padding": null,
            "right": null,
            "top": null,
            "visibility": null,
            "width": null
          }
        },
        "bcc3f15527fb47498ce0f267fae1a947": {
          "model_module": "@jupyter-widgets/controls",
          "model_name": "ProgressStyleModel",
          "model_module_version": "1.5.0",
          "state": {
            "_model_module": "@jupyter-widgets/controls",
            "_model_module_version": "1.5.0",
            "_model_name": "ProgressStyleModel",
            "_view_count": null,
            "_view_module": "@jupyter-widgets/base",
            "_view_module_version": "1.2.0",
            "_view_name": "StyleView",
            "bar_color": null,
            "description_width": ""
          }
        },
        "0f7fe04661aa47588552f40218083891": {
          "model_module": "@jupyter-widgets/base",
          "model_name": "LayoutModel",
          "model_module_version": "1.2.0",
          "state": {
            "_model_module": "@jupyter-widgets/base",
            "_model_module_version": "1.2.0",
            "_model_name": "LayoutModel",
            "_view_count": null,
            "_view_module": "@jupyter-widgets/base",
            "_view_module_version": "1.2.0",
            "_view_name": "LayoutView",
            "align_content": null,
            "align_items": null,
            "align_self": null,
            "border": null,
            "bottom": null,
            "display": null,
            "flex": null,
            "flex_flow": null,
            "grid_area": null,
            "grid_auto_columns": null,
            "grid_auto_flow": null,
            "grid_auto_rows": null,
            "grid_column": null,
            "grid_gap": null,
            "grid_row": null,
            "grid_template_areas": null,
            "grid_template_columns": null,
            "grid_template_rows": null,
            "height": null,
            "justify_content": null,
            "justify_items": null,
            "left": null,
            "margin": null,
            "max_height": null,
            "max_width": null,
            "min_height": null,
            "min_width": null,
            "object_fit": null,
            "object_position": null,
            "order": null,
            "overflow": null,
            "overflow_x": null,
            "overflow_y": null,
            "padding": null,
            "right": null,
            "top": null,
            "visibility": null,
            "width": null
          }
        },
        "430a2d2c254c4a05a4bbc7b9ab96b3eb": {
          "model_module": "@jupyter-widgets/controls",
          "model_name": "DescriptionStyleModel",
          "model_module_version": "1.5.0",
          "state": {
            "_model_module": "@jupyter-widgets/controls",
            "_model_module_version": "1.5.0",
            "_model_name": "DescriptionStyleModel",
            "_view_count": null,
            "_view_module": "@jupyter-widgets/base",
            "_view_module_version": "1.2.0",
            "_view_name": "StyleView",
            "description_width": ""
          }
        },
        "ae0392bffaf141d9a82d7c0ae35a58ca": {
          "model_module": "@jupyter-widgets/controls",
          "model_name": "HBoxModel",
          "model_module_version": "1.5.0",
          "state": {
            "_dom_classes": [],
            "_model_module": "@jupyter-widgets/controls",
            "_model_module_version": "1.5.0",
            "_model_name": "HBoxModel",
            "_view_count": null,
            "_view_module": "@jupyter-widgets/controls",
            "_view_module_version": "1.5.0",
            "_view_name": "HBoxView",
            "box_style": "",
            "children": [
              "IPY_MODEL_2b6a156841c4447bb08241189da43dc3",
              "IPY_MODEL_f7ad27a0cf9f40de8e7c2e5e5ad995f6",
              "IPY_MODEL_418b79b8ca364d3cb4a7ee118a87fcfe"
            ],
            "layout": "IPY_MODEL_3f68a3e5b40a4616b6d8592851124d57"
          }
        },
        "2b6a156841c4447bb08241189da43dc3": {
          "model_module": "@jupyter-widgets/controls",
          "model_name": "HTMLModel",
          "model_module_version": "1.5.0",
          "state": {
            "_dom_classes": [],
            "_model_module": "@jupyter-widgets/controls",
            "_model_module_version": "1.5.0",
            "_model_name": "HTMLModel",
            "_view_count": null,
            "_view_module": "@jupyter-widgets/controls",
            "_view_module_version": "1.5.0",
            "_view_name": "HTMLView",
            "description": "",
            "description_tooltip": null,
            "layout": "IPY_MODEL_9b5b661362c84b2a8deb139e93f1ee3f",
            "placeholder": "​",
            "style": "IPY_MODEL_0b5e6fce4fef4fa3a9a61229f0a69798",
            "value": "Map: 100%"
          }
        },
        "f7ad27a0cf9f40de8e7c2e5e5ad995f6": {
          "model_module": "@jupyter-widgets/controls",
          "model_name": "FloatProgressModel",
          "model_module_version": "1.5.0",
          "state": {
            "_dom_classes": [],
            "_model_module": "@jupyter-widgets/controls",
            "_model_module_version": "1.5.0",
            "_model_name": "FloatProgressModel",
            "_view_count": null,
            "_view_module": "@jupyter-widgets/controls",
            "_view_module_version": "1.5.0",
            "_view_name": "ProgressView",
            "bar_style": "success",
            "description": "",
            "description_tooltip": null,
            "layout": "IPY_MODEL_c144047d5bf04764b75fb85832f83e0c",
            "max": 503,
            "min": 0,
            "orientation": "horizontal",
            "style": "IPY_MODEL_ada0880c2f134241bb3cb9578a7bedea",
            "value": 503
          }
        },
        "418b79b8ca364d3cb4a7ee118a87fcfe": {
          "model_module": "@jupyter-widgets/controls",
          "model_name": "HTMLModel",
          "model_module_version": "1.5.0",
          "state": {
            "_dom_classes": [],
            "_model_module": "@jupyter-widgets/controls",
            "_model_module_version": "1.5.0",
            "_model_name": "HTMLModel",
            "_view_count": null,
            "_view_module": "@jupyter-widgets/controls",
            "_view_module_version": "1.5.0",
            "_view_name": "HTMLView",
            "description": "",
            "description_tooltip": null,
            "layout": "IPY_MODEL_5f1e01612b2646d3a7b5704cbc53606d",
            "placeholder": "​",
            "style": "IPY_MODEL_6055c087d9274abda0af09570397c423",
            "value": " 503/503 [00:01&lt;00:00, 523.64 examples/s]"
          }
        },
        "3f68a3e5b40a4616b6d8592851124d57": {
          "model_module": "@jupyter-widgets/base",
          "model_name": "LayoutModel",
          "model_module_version": "1.2.0",
          "state": {
            "_model_module": "@jupyter-widgets/base",
            "_model_module_version": "1.2.0",
            "_model_name": "LayoutModel",
            "_view_count": null,
            "_view_module": "@jupyter-widgets/base",
            "_view_module_version": "1.2.0",
            "_view_name": "LayoutView",
            "align_content": null,
            "align_items": null,
            "align_self": null,
            "border": null,
            "bottom": null,
            "display": null,
            "flex": null,
            "flex_flow": null,
            "grid_area": null,
            "grid_auto_columns": null,
            "grid_auto_flow": null,
            "grid_auto_rows": null,
            "grid_column": null,
            "grid_gap": null,
            "grid_row": null,
            "grid_template_areas": null,
            "grid_template_columns": null,
            "grid_template_rows": null,
            "height": null,
            "justify_content": null,
            "justify_items": null,
            "left": null,
            "margin": null,
            "max_height": null,
            "max_width": null,
            "min_height": null,
            "min_width": null,
            "object_fit": null,
            "object_position": null,
            "order": null,
            "overflow": null,
            "overflow_x": null,
            "overflow_y": null,
            "padding": null,
            "right": null,
            "top": null,
            "visibility": null,
            "width": null
          }
        },
        "9b5b661362c84b2a8deb139e93f1ee3f": {
          "model_module": "@jupyter-widgets/base",
          "model_name": "LayoutModel",
          "model_module_version": "1.2.0",
          "state": {
            "_model_module": "@jupyter-widgets/base",
            "_model_module_version": "1.2.0",
            "_model_name": "LayoutModel",
            "_view_count": null,
            "_view_module": "@jupyter-widgets/base",
            "_view_module_version": "1.2.0",
            "_view_name": "LayoutView",
            "align_content": null,
            "align_items": null,
            "align_self": null,
            "border": null,
            "bottom": null,
            "display": null,
            "flex": null,
            "flex_flow": null,
            "grid_area": null,
            "grid_auto_columns": null,
            "grid_auto_flow": null,
            "grid_auto_rows": null,
            "grid_column": null,
            "grid_gap": null,
            "grid_row": null,
            "grid_template_areas": null,
            "grid_template_columns": null,
            "grid_template_rows": null,
            "height": null,
            "justify_content": null,
            "justify_items": null,
            "left": null,
            "margin": null,
            "max_height": null,
            "max_width": null,
            "min_height": null,
            "min_width": null,
            "object_fit": null,
            "object_position": null,
            "order": null,
            "overflow": null,
            "overflow_x": null,
            "overflow_y": null,
            "padding": null,
            "right": null,
            "top": null,
            "visibility": null,
            "width": null
          }
        },
        "0b5e6fce4fef4fa3a9a61229f0a69798": {
          "model_module": "@jupyter-widgets/controls",
          "model_name": "DescriptionStyleModel",
          "model_module_version": "1.5.0",
          "state": {
            "_model_module": "@jupyter-widgets/controls",
            "_model_module_version": "1.5.0",
            "_model_name": "DescriptionStyleModel",
            "_view_count": null,
            "_view_module": "@jupyter-widgets/base",
            "_view_module_version": "1.2.0",
            "_view_name": "StyleView",
            "description_width": ""
          }
        },
        "c144047d5bf04764b75fb85832f83e0c": {
          "model_module": "@jupyter-widgets/base",
          "model_name": "LayoutModel",
          "model_module_version": "1.2.0",
          "state": {
            "_model_module": "@jupyter-widgets/base",
            "_model_module_version": "1.2.0",
            "_model_name": "LayoutModel",
            "_view_count": null,
            "_view_module": "@jupyter-widgets/base",
            "_view_module_version": "1.2.0",
            "_view_name": "LayoutView",
            "align_content": null,
            "align_items": null,
            "align_self": null,
            "border": null,
            "bottom": null,
            "display": null,
            "flex": null,
            "flex_flow": null,
            "grid_area": null,
            "grid_auto_columns": null,
            "grid_auto_flow": null,
            "grid_auto_rows": null,
            "grid_column": null,
            "grid_gap": null,
            "grid_row": null,
            "grid_template_areas": null,
            "grid_template_columns": null,
            "grid_template_rows": null,
            "height": null,
            "justify_content": null,
            "justify_items": null,
            "left": null,
            "margin": null,
            "max_height": null,
            "max_width": null,
            "min_height": null,
            "min_width": null,
            "object_fit": null,
            "object_position": null,
            "order": null,
            "overflow": null,
            "overflow_x": null,
            "overflow_y": null,
            "padding": null,
            "right": null,
            "top": null,
            "visibility": null,
            "width": null
          }
        },
        "ada0880c2f134241bb3cb9578a7bedea": {
          "model_module": "@jupyter-widgets/controls",
          "model_name": "ProgressStyleModel",
          "model_module_version": "1.5.0",
          "state": {
            "_model_module": "@jupyter-widgets/controls",
            "_model_module_version": "1.5.0",
            "_model_name": "ProgressStyleModel",
            "_view_count": null,
            "_view_module": "@jupyter-widgets/base",
            "_view_module_version": "1.2.0",
            "_view_name": "StyleView",
            "bar_color": null,
            "description_width": ""
          }
        },
        "5f1e01612b2646d3a7b5704cbc53606d": {
          "model_module": "@jupyter-widgets/base",
          "model_name": "LayoutModel",
          "model_module_version": "1.2.0",
          "state": {
            "_model_module": "@jupyter-widgets/base",
            "_model_module_version": "1.2.0",
            "_model_name": "LayoutModel",
            "_view_count": null,
            "_view_module": "@jupyter-widgets/base",
            "_view_module_version": "1.2.0",
            "_view_name": "LayoutView",
            "align_content": null,
            "align_items": null,
            "align_self": null,
            "border": null,
            "bottom": null,
            "display": null,
            "flex": null,
            "flex_flow": null,
            "grid_area": null,
            "grid_auto_columns": null,
            "grid_auto_flow": null,
            "grid_auto_rows": null,
            "grid_column": null,
            "grid_gap": null,
            "grid_row": null,
            "grid_template_areas": null,
            "grid_template_columns": null,
            "grid_template_rows": null,
            "height": null,
            "justify_content": null,
            "justify_items": null,
            "left": null,
            "margin": null,
            "max_height": null,
            "max_width": null,
            "min_height": null,
            "min_width": null,
            "object_fit": null,
            "object_position": null,
            "order": null,
            "overflow": null,
            "overflow_x": null,
            "overflow_y": null,
            "padding": null,
            "right": null,
            "top": null,
            "visibility": null,
            "width": null
          }
        },
        "6055c087d9274abda0af09570397c423": {
          "model_module": "@jupyter-widgets/controls",
          "model_name": "DescriptionStyleModel",
          "model_module_version": "1.5.0",
          "state": {
            "_model_module": "@jupyter-widgets/controls",
            "_model_module_version": "1.5.0",
            "_model_name": "DescriptionStyleModel",
            "_view_count": null,
            "_view_module": "@jupyter-widgets/base",
            "_view_module_version": "1.2.0",
            "_view_name": "StyleView",
            "description_width": ""
          }
        },
        "aa3fa169d3634edcb227077c62c8c0bc": {
          "model_module": "@jupyter-widgets/controls",
          "model_name": "HBoxModel",
          "model_module_version": "1.5.0",
          "state": {
            "_dom_classes": [],
            "_model_module": "@jupyter-widgets/controls",
            "_model_module_version": "1.5.0",
            "_model_name": "HBoxModel",
            "_view_count": null,
            "_view_module": "@jupyter-widgets/controls",
            "_view_module_version": "1.5.0",
            "_view_name": "HBoxView",
            "box_style": "",
            "children": [
              "IPY_MODEL_890d9bbb48324ab2af6c8f26b5334512",
              "IPY_MODEL_e1c9dbf514b24b4aa14e8c0bcc46084b",
              "IPY_MODEL_368587e9e3094a28a1091eec4a01af56"
            ],
            "layout": "IPY_MODEL_76d795116ab7448d9fa8c57fde9c3ea2"
          }
        },
        "890d9bbb48324ab2af6c8f26b5334512": {
          "model_module": "@jupyter-widgets/controls",
          "model_name": "HTMLModel",
          "model_module_version": "1.5.0",
          "state": {
            "_dom_classes": [],
            "_model_module": "@jupyter-widgets/controls",
            "_model_module_version": "1.5.0",
            "_model_name": "HTMLModel",
            "_view_count": null,
            "_view_module": "@jupyter-widgets/controls",
            "_view_module_version": "1.5.0",
            "_view_name": "HTMLView",
            "description": "",
            "description_tooltip": null,
            "layout": "IPY_MODEL_8f17f3c3d545402599ece185dfc2f01a",
            "placeholder": "​",
            "style": "IPY_MODEL_240ed52a169549f9a67afbcd8df5b87b",
            "value": "Map: 100%"
          }
        },
        "e1c9dbf514b24b4aa14e8c0bcc46084b": {
          "model_module": "@jupyter-widgets/controls",
          "model_name": "FloatProgressModel",
          "model_module_version": "1.5.0",
          "state": {
            "_dom_classes": [],
            "_model_module": "@jupyter-widgets/controls",
            "_model_module_version": "1.5.0",
            "_model_name": "FloatProgressModel",
            "_view_count": null,
            "_view_module": "@jupyter-widgets/controls",
            "_view_module_version": "1.5.0",
            "_view_name": "ProgressView",
            "bar_style": "success",
            "description": "",
            "description_tooltip": null,
            "layout": "IPY_MODEL_07c182a142fa45d28a931f058961e1f9",
            "max": 2012,
            "min": 0,
            "orientation": "horizontal",
            "style": "IPY_MODEL_c966eddb4ce7445ab365ddd736200f06",
            "value": 2012
          }
        },
        "368587e9e3094a28a1091eec4a01af56": {
          "model_module": "@jupyter-widgets/controls",
          "model_name": "HTMLModel",
          "model_module_version": "1.5.0",
          "state": {
            "_dom_classes": [],
            "_model_module": "@jupyter-widgets/controls",
            "_model_module_version": "1.5.0",
            "_model_name": "HTMLModel",
            "_view_count": null,
            "_view_module": "@jupyter-widgets/controls",
            "_view_module_version": "1.5.0",
            "_view_name": "HTMLView",
            "description": "",
            "description_tooltip": null,
            "layout": "IPY_MODEL_f55cf658b085423db7a5ee4fe482c6b6",
            "placeholder": "​",
            "style": "IPY_MODEL_336fef6bd92d4492bf01f15a61e5a10e",
            "value": " 2012/2012 [00:19&lt;00:00, 60.16 examples/s]"
          }
        },
        "76d795116ab7448d9fa8c57fde9c3ea2": {
          "model_module": "@jupyter-widgets/base",
          "model_name": "LayoutModel",
          "model_module_version": "1.2.0",
          "state": {
            "_model_module": "@jupyter-widgets/base",
            "_model_module_version": "1.2.0",
            "_model_name": "LayoutModel",
            "_view_count": null,
            "_view_module": "@jupyter-widgets/base",
            "_view_module_version": "1.2.0",
            "_view_name": "LayoutView",
            "align_content": null,
            "align_items": null,
            "align_self": null,
            "border": null,
            "bottom": null,
            "display": null,
            "flex": null,
            "flex_flow": null,
            "grid_area": null,
            "grid_auto_columns": null,
            "grid_auto_flow": null,
            "grid_auto_rows": null,
            "grid_column": null,
            "grid_gap": null,
            "grid_row": null,
            "grid_template_areas": null,
            "grid_template_columns": null,
            "grid_template_rows": null,
            "height": null,
            "justify_content": null,
            "justify_items": null,
            "left": null,
            "margin": null,
            "max_height": null,
            "max_width": null,
            "min_height": null,
            "min_width": null,
            "object_fit": null,
            "object_position": null,
            "order": null,
            "overflow": null,
            "overflow_x": null,
            "overflow_y": null,
            "padding": null,
            "right": null,
            "top": null,
            "visibility": null,
            "width": null
          }
        },
        "8f17f3c3d545402599ece185dfc2f01a": {
          "model_module": "@jupyter-widgets/base",
          "model_name": "LayoutModel",
          "model_module_version": "1.2.0",
          "state": {
            "_model_module": "@jupyter-widgets/base",
            "_model_module_version": "1.2.0",
            "_model_name": "LayoutModel",
            "_view_count": null,
            "_view_module": "@jupyter-widgets/base",
            "_view_module_version": "1.2.0",
            "_view_name": "LayoutView",
            "align_content": null,
            "align_items": null,
            "align_self": null,
            "border": null,
            "bottom": null,
            "display": null,
            "flex": null,
            "flex_flow": null,
            "grid_area": null,
            "grid_auto_columns": null,
            "grid_auto_flow": null,
            "grid_auto_rows": null,
            "grid_column": null,
            "grid_gap": null,
            "grid_row": null,
            "grid_template_areas": null,
            "grid_template_columns": null,
            "grid_template_rows": null,
            "height": null,
            "justify_content": null,
            "justify_items": null,
            "left": null,
            "margin": null,
            "max_height": null,
            "max_width": null,
            "min_height": null,
            "min_width": null,
            "object_fit": null,
            "object_position": null,
            "order": null,
            "overflow": null,
            "overflow_x": null,
            "overflow_y": null,
            "padding": null,
            "right": null,
            "top": null,
            "visibility": null,
            "width": null
          }
        },
        "240ed52a169549f9a67afbcd8df5b87b": {
          "model_module": "@jupyter-widgets/controls",
          "model_name": "DescriptionStyleModel",
          "model_module_version": "1.5.0",
          "state": {
            "_model_module": "@jupyter-widgets/controls",
            "_model_module_version": "1.5.0",
            "_model_name": "DescriptionStyleModel",
            "_view_count": null,
            "_view_module": "@jupyter-widgets/base",
            "_view_module_version": "1.2.0",
            "_view_name": "StyleView",
            "description_width": ""
          }
        },
        "07c182a142fa45d28a931f058961e1f9": {
          "model_module": "@jupyter-widgets/base",
          "model_name": "LayoutModel",
          "model_module_version": "1.2.0",
          "state": {
            "_model_module": "@jupyter-widgets/base",
            "_model_module_version": "1.2.0",
            "_model_name": "LayoutModel",
            "_view_count": null,
            "_view_module": "@jupyter-widgets/base",
            "_view_module_version": "1.2.0",
            "_view_name": "LayoutView",
            "align_content": null,
            "align_items": null,
            "align_self": null,
            "border": null,
            "bottom": null,
            "display": null,
            "flex": null,
            "flex_flow": null,
            "grid_area": null,
            "grid_auto_columns": null,
            "grid_auto_flow": null,
            "grid_auto_rows": null,
            "grid_column": null,
            "grid_gap": null,
            "grid_row": null,
            "grid_template_areas": null,
            "grid_template_columns": null,
            "grid_template_rows": null,
            "height": null,
            "justify_content": null,
            "justify_items": null,
            "left": null,
            "margin": null,
            "max_height": null,
            "max_width": null,
            "min_height": null,
            "min_width": null,
            "object_fit": null,
            "object_position": null,
            "order": null,
            "overflow": null,
            "overflow_x": null,
            "overflow_y": null,
            "padding": null,
            "right": null,
            "top": null,
            "visibility": null,
            "width": null
          }
        },
        "c966eddb4ce7445ab365ddd736200f06": {
          "model_module": "@jupyter-widgets/controls",
          "model_name": "ProgressStyleModel",
          "model_module_version": "1.5.0",
          "state": {
            "_model_module": "@jupyter-widgets/controls",
            "_model_module_version": "1.5.0",
            "_model_name": "ProgressStyleModel",
            "_view_count": null,
            "_view_module": "@jupyter-widgets/base",
            "_view_module_version": "1.2.0",
            "_view_name": "StyleView",
            "bar_color": null,
            "description_width": ""
          }
        },
        "f55cf658b085423db7a5ee4fe482c6b6": {
          "model_module": "@jupyter-widgets/base",
          "model_name": "LayoutModel",
          "model_module_version": "1.2.0",
          "state": {
            "_model_module": "@jupyter-widgets/base",
            "_model_module_version": "1.2.0",
            "_model_name": "LayoutModel",
            "_view_count": null,
            "_view_module": "@jupyter-widgets/base",
            "_view_module_version": "1.2.0",
            "_view_name": "LayoutView",
            "align_content": null,
            "align_items": null,
            "align_self": null,
            "border": null,
            "bottom": null,
            "display": null,
            "flex": null,
            "flex_flow": null,
            "grid_area": null,
            "grid_auto_columns": null,
            "grid_auto_flow": null,
            "grid_auto_rows": null,
            "grid_column": null,
            "grid_gap": null,
            "grid_row": null,
            "grid_template_areas": null,
            "grid_template_columns": null,
            "grid_template_rows": null,
            "height": null,
            "justify_content": null,
            "justify_items": null,
            "left": null,
            "margin": null,
            "max_height": null,
            "max_width": null,
            "min_height": null,
            "min_width": null,
            "object_fit": null,
            "object_position": null,
            "order": null,
            "overflow": null,
            "overflow_x": null,
            "overflow_y": null,
            "padding": null,
            "right": null,
            "top": null,
            "visibility": null,
            "width": null
          }
        },
        "336fef6bd92d4492bf01f15a61e5a10e": {
          "model_module": "@jupyter-widgets/controls",
          "model_name": "DescriptionStyleModel",
          "model_module_version": "1.5.0",
          "state": {
            "_model_module": "@jupyter-widgets/controls",
            "_model_module_version": "1.5.0",
            "_model_name": "DescriptionStyleModel",
            "_view_count": null,
            "_view_module": "@jupyter-widgets/base",
            "_view_module_version": "1.2.0",
            "_view_name": "StyleView",
            "description_width": ""
          }
        },
        "6ffa951ec11d424d8e63d39b68c58455": {
          "model_module": "@jupyter-widgets/controls",
          "model_name": "HBoxModel",
          "model_module_version": "1.5.0",
          "state": {
            "_dom_classes": [],
            "_model_module": "@jupyter-widgets/controls",
            "_model_module_version": "1.5.0",
            "_model_name": "HBoxModel",
            "_view_count": null,
            "_view_module": "@jupyter-widgets/controls",
            "_view_module_version": "1.5.0",
            "_view_name": "HBoxView",
            "box_style": "",
            "children": [
              "IPY_MODEL_4d9b27bd716148b39aeec6941b582d3b",
              "IPY_MODEL_94a7957fc2e943768fb78f7fb1811102",
              "IPY_MODEL_cec7f69aa6d24690a0e807519e1ce472"
            ],
            "layout": "IPY_MODEL_612204c317f14303ba49179299d3edb8"
          }
        },
        "4d9b27bd716148b39aeec6941b582d3b": {
          "model_module": "@jupyter-widgets/controls",
          "model_name": "HTMLModel",
          "model_module_version": "1.5.0",
          "state": {
            "_dom_classes": [],
            "_model_module": "@jupyter-widgets/controls",
            "_model_module_version": "1.5.0",
            "_model_name": "HTMLModel",
            "_view_count": null,
            "_view_module": "@jupyter-widgets/controls",
            "_view_module_version": "1.5.0",
            "_view_name": "HTMLView",
            "description": "",
            "description_tooltip": null,
            "layout": "IPY_MODEL_13e907776cf24f18ab363c759aa485a8",
            "placeholder": "​",
            "style": "IPY_MODEL_80d1ed72bc5e4d0bb9139bad1d996847",
            "value": "Map: 100%"
          }
        },
        "94a7957fc2e943768fb78f7fb1811102": {
          "model_module": "@jupyter-widgets/controls",
          "model_name": "FloatProgressModel",
          "model_module_version": "1.5.0",
          "state": {
            "_dom_classes": [],
            "_model_module": "@jupyter-widgets/controls",
            "_model_module_version": "1.5.0",
            "_model_name": "FloatProgressModel",
            "_view_count": null,
            "_view_module": "@jupyter-widgets/controls",
            "_view_module_version": "1.5.0",
            "_view_name": "ProgressView",
            "bar_style": "success",
            "description": "",
            "description_tooltip": null,
            "layout": "IPY_MODEL_5f6718aca23b4a80adbd833405f91b18",
            "max": 503,
            "min": 0,
            "orientation": "horizontal",
            "style": "IPY_MODEL_2612e9d2c6b340a3b9df13843e3490ab",
            "value": 503
          }
        },
        "cec7f69aa6d24690a0e807519e1ce472": {
          "model_module": "@jupyter-widgets/controls",
          "model_name": "HTMLModel",
          "model_module_version": "1.5.0",
          "state": {
            "_dom_classes": [],
            "_model_module": "@jupyter-widgets/controls",
            "_model_module_version": "1.5.0",
            "_model_name": "HTMLModel",
            "_view_count": null,
            "_view_module": "@jupyter-widgets/controls",
            "_view_module_version": "1.5.0",
            "_view_name": "HTMLView",
            "description": "",
            "description_tooltip": null,
            "layout": "IPY_MODEL_93a0be534fb0475180950c77de76bd94",
            "placeholder": "​",
            "style": "IPY_MODEL_2eefbb2448f54426bb5a6da80fb1c914",
            "value": " 503/503 [00:04&lt;00:00, 78.58 examples/s]"
          }
        },
        "612204c317f14303ba49179299d3edb8": {
          "model_module": "@jupyter-widgets/base",
          "model_name": "LayoutModel",
          "model_module_version": "1.2.0",
          "state": {
            "_model_module": "@jupyter-widgets/base",
            "_model_module_version": "1.2.0",
            "_model_name": "LayoutModel",
            "_view_count": null,
            "_view_module": "@jupyter-widgets/base",
            "_view_module_version": "1.2.0",
            "_view_name": "LayoutView",
            "align_content": null,
            "align_items": null,
            "align_self": null,
            "border": null,
            "bottom": null,
            "display": null,
            "flex": null,
            "flex_flow": null,
            "grid_area": null,
            "grid_auto_columns": null,
            "grid_auto_flow": null,
            "grid_auto_rows": null,
            "grid_column": null,
            "grid_gap": null,
            "grid_row": null,
            "grid_template_areas": null,
            "grid_template_columns": null,
            "grid_template_rows": null,
            "height": null,
            "justify_content": null,
            "justify_items": null,
            "left": null,
            "margin": null,
            "max_height": null,
            "max_width": null,
            "min_height": null,
            "min_width": null,
            "object_fit": null,
            "object_position": null,
            "order": null,
            "overflow": null,
            "overflow_x": null,
            "overflow_y": null,
            "padding": null,
            "right": null,
            "top": null,
            "visibility": null,
            "width": null
          }
        },
        "13e907776cf24f18ab363c759aa485a8": {
          "model_module": "@jupyter-widgets/base",
          "model_name": "LayoutModel",
          "model_module_version": "1.2.0",
          "state": {
            "_model_module": "@jupyter-widgets/base",
            "_model_module_version": "1.2.0",
            "_model_name": "LayoutModel",
            "_view_count": null,
            "_view_module": "@jupyter-widgets/base",
            "_view_module_version": "1.2.0",
            "_view_name": "LayoutView",
            "align_content": null,
            "align_items": null,
            "align_self": null,
            "border": null,
            "bottom": null,
            "display": null,
            "flex": null,
            "flex_flow": null,
            "grid_area": null,
            "grid_auto_columns": null,
            "grid_auto_flow": null,
            "grid_auto_rows": null,
            "grid_column": null,
            "grid_gap": null,
            "grid_row": null,
            "grid_template_areas": null,
            "grid_template_columns": null,
            "grid_template_rows": null,
            "height": null,
            "justify_content": null,
            "justify_items": null,
            "left": null,
            "margin": null,
            "max_height": null,
            "max_width": null,
            "min_height": null,
            "min_width": null,
            "object_fit": null,
            "object_position": null,
            "order": null,
            "overflow": null,
            "overflow_x": null,
            "overflow_y": null,
            "padding": null,
            "right": null,
            "top": null,
            "visibility": null,
            "width": null
          }
        },
        "80d1ed72bc5e4d0bb9139bad1d996847": {
          "model_module": "@jupyter-widgets/controls",
          "model_name": "DescriptionStyleModel",
          "model_module_version": "1.5.0",
          "state": {
            "_model_module": "@jupyter-widgets/controls",
            "_model_module_version": "1.5.0",
            "_model_name": "DescriptionStyleModel",
            "_view_count": null,
            "_view_module": "@jupyter-widgets/base",
            "_view_module_version": "1.2.0",
            "_view_name": "StyleView",
            "description_width": ""
          }
        },
        "5f6718aca23b4a80adbd833405f91b18": {
          "model_module": "@jupyter-widgets/base",
          "model_name": "LayoutModel",
          "model_module_version": "1.2.0",
          "state": {
            "_model_module": "@jupyter-widgets/base",
            "_model_module_version": "1.2.0",
            "_model_name": "LayoutModel",
            "_view_count": null,
            "_view_module": "@jupyter-widgets/base",
            "_view_module_version": "1.2.0",
            "_view_name": "LayoutView",
            "align_content": null,
            "align_items": null,
            "align_self": null,
            "border": null,
            "bottom": null,
            "display": null,
            "flex": null,
            "flex_flow": null,
            "grid_area": null,
            "grid_auto_columns": null,
            "grid_auto_flow": null,
            "grid_auto_rows": null,
            "grid_column": null,
            "grid_gap": null,
            "grid_row": null,
            "grid_template_areas": null,
            "grid_template_columns": null,
            "grid_template_rows": null,
            "height": null,
            "justify_content": null,
            "justify_items": null,
            "left": null,
            "margin": null,
            "max_height": null,
            "max_width": null,
            "min_height": null,
            "min_width": null,
            "object_fit": null,
            "object_position": null,
            "order": null,
            "overflow": null,
            "overflow_x": null,
            "overflow_y": null,
            "padding": null,
            "right": null,
            "top": null,
            "visibility": null,
            "width": null
          }
        },
        "2612e9d2c6b340a3b9df13843e3490ab": {
          "model_module": "@jupyter-widgets/controls",
          "model_name": "ProgressStyleModel",
          "model_module_version": "1.5.0",
          "state": {
            "_model_module": "@jupyter-widgets/controls",
            "_model_module_version": "1.5.0",
            "_model_name": "ProgressStyleModel",
            "_view_count": null,
            "_view_module": "@jupyter-widgets/base",
            "_view_module_version": "1.2.0",
            "_view_name": "StyleView",
            "bar_color": null,
            "description_width": ""
          }
        },
        "93a0be534fb0475180950c77de76bd94": {
          "model_module": "@jupyter-widgets/base",
          "model_name": "LayoutModel",
          "model_module_version": "1.2.0",
          "state": {
            "_model_module": "@jupyter-widgets/base",
            "_model_module_version": "1.2.0",
            "_model_name": "LayoutModel",
            "_view_count": null,
            "_view_module": "@jupyter-widgets/base",
            "_view_module_version": "1.2.0",
            "_view_name": "LayoutView",
            "align_content": null,
            "align_items": null,
            "align_self": null,
            "border": null,
            "bottom": null,
            "display": null,
            "flex": null,
            "flex_flow": null,
            "grid_area": null,
            "grid_auto_columns": null,
            "grid_auto_flow": null,
            "grid_auto_rows": null,
            "grid_column": null,
            "grid_gap": null,
            "grid_row": null,
            "grid_template_areas": null,
            "grid_template_columns": null,
            "grid_template_rows": null,
            "height": null,
            "justify_content": null,
            "justify_items": null,
            "left": null,
            "margin": null,
            "max_height": null,
            "max_width": null,
            "min_height": null,
            "min_width": null,
            "object_fit": null,
            "object_position": null,
            "order": null,
            "overflow": null,
            "overflow_x": null,
            "overflow_y": null,
            "padding": null,
            "right": null,
            "top": null,
            "visibility": null,
            "width": null
          }
        },
        "2eefbb2448f54426bb5a6da80fb1c914": {
          "model_module": "@jupyter-widgets/controls",
          "model_name": "DescriptionStyleModel",
          "model_module_version": "1.5.0",
          "state": {
            "_model_module": "@jupyter-widgets/controls",
            "_model_module_version": "1.5.0",
            "_model_name": "DescriptionStyleModel",
            "_view_count": null,
            "_view_module": "@jupyter-widgets/base",
            "_view_module_version": "1.2.0",
            "_view_name": "StyleView",
            "description_width": ""
          }
        },
        "fd353ebdb31e4b2595268ff2121030bf": {
          "model_module": "@jupyter-widgets/controls",
          "model_name": "HBoxModel",
          "model_module_version": "1.5.0",
          "state": {
            "_dom_classes": [],
            "_model_module": "@jupyter-widgets/controls",
            "_model_module_version": "1.5.0",
            "_model_name": "HBoxModel",
            "_view_count": null,
            "_view_module": "@jupyter-widgets/controls",
            "_view_module_version": "1.5.0",
            "_view_name": "HBoxView",
            "box_style": "",
            "children": [
              "IPY_MODEL_b8a39fa56ec84b639388b93df11d519d",
              "IPY_MODEL_debe6e2b847c4e78a85f606aed7cb6a7",
              "IPY_MODEL_e1afaa83192346afbed3f3f6288e93eb"
            ],
            "layout": "IPY_MODEL_70e916f61b6f4b8e99f5187c9698c209"
          }
        },
        "b8a39fa56ec84b639388b93df11d519d": {
          "model_module": "@jupyter-widgets/controls",
          "model_name": "HTMLModel",
          "model_module_version": "1.5.0",
          "state": {
            "_dom_classes": [],
            "_model_module": "@jupyter-widgets/controls",
            "_model_module_version": "1.5.0",
            "_model_name": "HTMLModel",
            "_view_count": null,
            "_view_module": "@jupyter-widgets/controls",
            "_view_module_version": "1.5.0",
            "_view_name": "HTMLView",
            "description": "",
            "description_tooltip": null,
            "layout": "IPY_MODEL_25314757c9214ce080a6503838bafedc",
            "placeholder": "​",
            "style": "IPY_MODEL_783dde11f78940bfa13b6a07c11db708",
            "value": "README.md: 100%"
          }
        },
        "debe6e2b847c4e78a85f606aed7cb6a7": {
          "model_module": "@jupyter-widgets/controls",
          "model_name": "FloatProgressModel",
          "model_module_version": "1.5.0",
          "state": {
            "_dom_classes": [],
            "_model_module": "@jupyter-widgets/controls",
            "_model_module_version": "1.5.0",
            "_model_name": "FloatProgressModel",
            "_view_count": null,
            "_view_module": "@jupyter-widgets/controls",
            "_view_module_version": "1.5.0",
            "_view_name": "ProgressView",
            "bar_style": "success",
            "description": "",
            "description_tooltip": null,
            "layout": "IPY_MODEL_231883f38b11447c9cf8adbf511facb5",
            "max": 4904,
            "min": 0,
            "orientation": "horizontal",
            "style": "IPY_MODEL_fe170c60e18049c68316e06276a551b7",
            "value": 4904
          }
        },
        "e1afaa83192346afbed3f3f6288e93eb": {
          "model_module": "@jupyter-widgets/controls",
          "model_name": "HTMLModel",
          "model_module_version": "1.5.0",
          "state": {
            "_dom_classes": [],
            "_model_module": "@jupyter-widgets/controls",
            "_model_module_version": "1.5.0",
            "_model_name": "HTMLModel",
            "_view_count": null,
            "_view_module": "@jupyter-widgets/controls",
            "_view_module_version": "1.5.0",
            "_view_name": "HTMLView",
            "description": "",
            "description_tooltip": null,
            "layout": "IPY_MODEL_fa38e712f0cf4cd8979dd0d8bb1a7e8c",
            "placeholder": "​",
            "style": "IPY_MODEL_913a1dab131d4c0c833c546669ce7f18",
            "value": " 4.90k/4.90k [00:00&lt;00:00, 420kB/s]"
          }
        },
        "70e916f61b6f4b8e99f5187c9698c209": {
          "model_module": "@jupyter-widgets/base",
          "model_name": "LayoutModel",
          "model_module_version": "1.2.0",
          "state": {
            "_model_module": "@jupyter-widgets/base",
            "_model_module_version": "1.2.0",
            "_model_name": "LayoutModel",
            "_view_count": null,
            "_view_module": "@jupyter-widgets/base",
            "_view_module_version": "1.2.0",
            "_view_name": "LayoutView",
            "align_content": null,
            "align_items": null,
            "align_self": null,
            "border": null,
            "bottom": null,
            "display": null,
            "flex": null,
            "flex_flow": null,
            "grid_area": null,
            "grid_auto_columns": null,
            "grid_auto_flow": null,
            "grid_auto_rows": null,
            "grid_column": null,
            "grid_gap": null,
            "grid_row": null,
            "grid_template_areas": null,
            "grid_template_columns": null,
            "grid_template_rows": null,
            "height": null,
            "justify_content": null,
            "justify_items": null,
            "left": null,
            "margin": null,
            "max_height": null,
            "max_width": null,
            "min_height": null,
            "min_width": null,
            "object_fit": null,
            "object_position": null,
            "order": null,
            "overflow": null,
            "overflow_x": null,
            "overflow_y": null,
            "padding": null,
            "right": null,
            "top": null,
            "visibility": null,
            "width": null
          }
        },
        "25314757c9214ce080a6503838bafedc": {
          "model_module": "@jupyter-widgets/base",
          "model_name": "LayoutModel",
          "model_module_version": "1.2.0",
          "state": {
            "_model_module": "@jupyter-widgets/base",
            "_model_module_version": "1.2.0",
            "_model_name": "LayoutModel",
            "_view_count": null,
            "_view_module": "@jupyter-widgets/base",
            "_view_module_version": "1.2.0",
            "_view_name": "LayoutView",
            "align_content": null,
            "align_items": null,
            "align_self": null,
            "border": null,
            "bottom": null,
            "display": null,
            "flex": null,
            "flex_flow": null,
            "grid_area": null,
            "grid_auto_columns": null,
            "grid_auto_flow": null,
            "grid_auto_rows": null,
            "grid_column": null,
            "grid_gap": null,
            "grid_row": null,
            "grid_template_areas": null,
            "grid_template_columns": null,
            "grid_template_rows": null,
            "height": null,
            "justify_content": null,
            "justify_items": null,
            "left": null,
            "margin": null,
            "max_height": null,
            "max_width": null,
            "min_height": null,
            "min_width": null,
            "object_fit": null,
            "object_position": null,
            "order": null,
            "overflow": null,
            "overflow_x": null,
            "overflow_y": null,
            "padding": null,
            "right": null,
            "top": null,
            "visibility": null,
            "width": null
          }
        },
        "783dde11f78940bfa13b6a07c11db708": {
          "model_module": "@jupyter-widgets/controls",
          "model_name": "DescriptionStyleModel",
          "model_module_version": "1.5.0",
          "state": {
            "_model_module": "@jupyter-widgets/controls",
            "_model_module_version": "1.5.0",
            "_model_name": "DescriptionStyleModel",
            "_view_count": null,
            "_view_module": "@jupyter-widgets/base",
            "_view_module_version": "1.2.0",
            "_view_name": "StyleView",
            "description_width": ""
          }
        },
        "231883f38b11447c9cf8adbf511facb5": {
          "model_module": "@jupyter-widgets/base",
          "model_name": "LayoutModel",
          "model_module_version": "1.2.0",
          "state": {
            "_model_module": "@jupyter-widgets/base",
            "_model_module_version": "1.2.0",
            "_model_name": "LayoutModel",
            "_view_count": null,
            "_view_module": "@jupyter-widgets/base",
            "_view_module_version": "1.2.0",
            "_view_name": "LayoutView",
            "align_content": null,
            "align_items": null,
            "align_self": null,
            "border": null,
            "bottom": null,
            "display": null,
            "flex": null,
            "flex_flow": null,
            "grid_area": null,
            "grid_auto_columns": null,
            "grid_auto_flow": null,
            "grid_auto_rows": null,
            "grid_column": null,
            "grid_gap": null,
            "grid_row": null,
            "grid_template_areas": null,
            "grid_template_columns": null,
            "grid_template_rows": null,
            "height": null,
            "justify_content": null,
            "justify_items": null,
            "left": null,
            "margin": null,
            "max_height": null,
            "max_width": null,
            "min_height": null,
            "min_width": null,
            "object_fit": null,
            "object_position": null,
            "order": null,
            "overflow": null,
            "overflow_x": null,
            "overflow_y": null,
            "padding": null,
            "right": null,
            "top": null,
            "visibility": null,
            "width": null
          }
        },
        "fe170c60e18049c68316e06276a551b7": {
          "model_module": "@jupyter-widgets/controls",
          "model_name": "ProgressStyleModel",
          "model_module_version": "1.5.0",
          "state": {
            "_model_module": "@jupyter-widgets/controls",
            "_model_module_version": "1.5.0",
            "_model_name": "ProgressStyleModel",
            "_view_count": null,
            "_view_module": "@jupyter-widgets/base",
            "_view_module_version": "1.2.0",
            "_view_name": "StyleView",
            "bar_color": null,
            "description_width": ""
          }
        },
        "fa38e712f0cf4cd8979dd0d8bb1a7e8c": {
          "model_module": "@jupyter-widgets/base",
          "model_name": "LayoutModel",
          "model_module_version": "1.2.0",
          "state": {
            "_model_module": "@jupyter-widgets/base",
            "_model_module_version": "1.2.0",
            "_model_name": "LayoutModel",
            "_view_count": null,
            "_view_module": "@jupyter-widgets/base",
            "_view_module_version": "1.2.0",
            "_view_name": "LayoutView",
            "align_content": null,
            "align_items": null,
            "align_self": null,
            "border": null,
            "bottom": null,
            "display": null,
            "flex": null,
            "flex_flow": null,
            "grid_area": null,
            "grid_auto_columns": null,
            "grid_auto_flow": null,
            "grid_auto_rows": null,
            "grid_column": null,
            "grid_gap": null,
            "grid_row": null,
            "grid_template_areas": null,
            "grid_template_columns": null,
            "grid_template_rows": null,
            "height": null,
            "justify_content": null,
            "justify_items": null,
            "left": null,
            "margin": null,
            "max_height": null,
            "max_width": null,
            "min_height": null,
            "min_width": null,
            "object_fit": null,
            "object_position": null,
            "order": null,
            "overflow": null,
            "overflow_x": null,
            "overflow_y": null,
            "padding": null,
            "right": null,
            "top": null,
            "visibility": null,
            "width": null
          }
        },
        "913a1dab131d4c0c833c546669ce7f18": {
          "model_module": "@jupyter-widgets/controls",
          "model_name": "DescriptionStyleModel",
          "model_module_version": "1.5.0",
          "state": {
            "_model_module": "@jupyter-widgets/controls",
            "_model_module_version": "1.5.0",
            "_model_name": "DescriptionStyleModel",
            "_view_count": null,
            "_view_module": "@jupyter-widgets/base",
            "_view_module_version": "1.2.0",
            "_view_name": "StyleView",
            "description_width": ""
          }
        },
        "837ad4477e86457cbce16b0bd8566edd": {
          "model_module": "@jupyter-widgets/controls",
          "model_name": "HBoxModel",
          "model_module_version": "1.5.0",
          "state": {
            "_dom_classes": [],
            "_model_module": "@jupyter-widgets/controls",
            "_model_module_version": "1.5.0",
            "_model_name": "HBoxModel",
            "_view_count": null,
            "_view_module": "@jupyter-widgets/controls",
            "_view_module_version": "1.5.0",
            "_view_name": "HBoxView",
            "box_style": "",
            "children": [
              "IPY_MODEL_b188e70a5c63420790c8479d33843fbb",
              "IPY_MODEL_068a2a25989a4524b1f3c1865234c578",
              "IPY_MODEL_8ef3f8c6cddb4f6686bfb5239b0da3c5"
            ],
            "layout": "IPY_MODEL_e29b3029324042068482a51686ef5c90"
          }
        },
        "b188e70a5c63420790c8479d33843fbb": {
          "model_module": "@jupyter-widgets/controls",
          "model_name": "HTMLModel",
          "model_module_version": "1.5.0",
          "state": {
            "_dom_classes": [],
            "_model_module": "@jupyter-widgets/controls",
            "_model_module_version": "1.5.0",
            "_model_name": "HTMLModel",
            "_view_count": null,
            "_view_module": "@jupyter-widgets/controls",
            "_view_module_version": "1.5.0",
            "_view_name": "HTMLView",
            "description": "",
            "description_tooltip": null,
            "layout": "IPY_MODEL_810898001cf642d7a66f59fefca6ee94",
            "placeholder": "​",
            "style": "IPY_MODEL_58df997699f94d369c39e96fe90f3ea4",
            "value": "train-00000-of-00001.parquet: 100%"
          }
        },
        "068a2a25989a4524b1f3c1865234c578": {
          "model_module": "@jupyter-widgets/controls",
          "model_name": "FloatProgressModel",
          "model_module_version": "1.5.0",
          "state": {
            "_dom_classes": [],
            "_model_module": "@jupyter-widgets/controls",
            "_model_module_version": "1.5.0",
            "_model_name": "FloatProgressModel",
            "_view_count": null,
            "_view_module": "@jupyter-widgets/controls",
            "_view_module_version": "1.5.0",
            "_view_name": "ProgressView",
            "bar_style": "success",
            "description": "",
            "description_tooltip": null,
            "layout": "IPY_MODEL_57009ca702c749aeaffbcc3a65fbc264",
            "max": 226731480,
            "min": 0,
            "orientation": "horizontal",
            "style": "IPY_MODEL_a99ee72315954251be7164f9d65308e4",
            "value": 226731480
          }
        },
        "8ef3f8c6cddb4f6686bfb5239b0da3c5": {
          "model_module": "@jupyter-widgets/controls",
          "model_name": "HTMLModel",
          "model_module_version": "1.5.0",
          "state": {
            "_dom_classes": [],
            "_model_module": "@jupyter-widgets/controls",
            "_model_module_version": "1.5.0",
            "_model_name": "HTMLModel",
            "_view_count": null,
            "_view_module": "@jupyter-widgets/controls",
            "_view_module_version": "1.5.0",
            "_view_name": "HTMLView",
            "description": "",
            "description_tooltip": null,
            "layout": "IPY_MODEL_c89b0a958d684bb4860e4264f9630f74",
            "placeholder": "​",
            "style": "IPY_MODEL_a7552072afbf4edfb8ce4281dd294335",
            "value": " 227M/227M [00:19&lt;00:00, 11.3MB/s]"
          }
        },
        "e29b3029324042068482a51686ef5c90": {
          "model_module": "@jupyter-widgets/base",
          "model_name": "LayoutModel",
          "model_module_version": "1.2.0",
          "state": {
            "_model_module": "@jupyter-widgets/base",
            "_model_module_version": "1.2.0",
            "_model_name": "LayoutModel",
            "_view_count": null,
            "_view_module": "@jupyter-widgets/base",
            "_view_module_version": "1.2.0",
            "_view_name": "LayoutView",
            "align_content": null,
            "align_items": null,
            "align_self": null,
            "border": null,
            "bottom": null,
            "display": null,
            "flex": null,
            "flex_flow": null,
            "grid_area": null,
            "grid_auto_columns": null,
            "grid_auto_flow": null,
            "grid_auto_rows": null,
            "grid_column": null,
            "grid_gap": null,
            "grid_row": null,
            "grid_template_areas": null,
            "grid_template_columns": null,
            "grid_template_rows": null,
            "height": null,
            "justify_content": null,
            "justify_items": null,
            "left": null,
            "margin": null,
            "max_height": null,
            "max_width": null,
            "min_height": null,
            "min_width": null,
            "object_fit": null,
            "object_position": null,
            "order": null,
            "overflow": null,
            "overflow_x": null,
            "overflow_y": null,
            "padding": null,
            "right": null,
            "top": null,
            "visibility": null,
            "width": null
          }
        },
        "810898001cf642d7a66f59fefca6ee94": {
          "model_module": "@jupyter-widgets/base",
          "model_name": "LayoutModel",
          "model_module_version": "1.2.0",
          "state": {
            "_model_module": "@jupyter-widgets/base",
            "_model_module_version": "1.2.0",
            "_model_name": "LayoutModel",
            "_view_count": null,
            "_view_module": "@jupyter-widgets/base",
            "_view_module_version": "1.2.0",
            "_view_name": "LayoutView",
            "align_content": null,
            "align_items": null,
            "align_self": null,
            "border": null,
            "bottom": null,
            "display": null,
            "flex": null,
            "flex_flow": null,
            "grid_area": null,
            "grid_auto_columns": null,
            "grid_auto_flow": null,
            "grid_auto_rows": null,
            "grid_column": null,
            "grid_gap": null,
            "grid_row": null,
            "grid_template_areas": null,
            "grid_template_columns": null,
            "grid_template_rows": null,
            "height": null,
            "justify_content": null,
            "justify_items": null,
            "left": null,
            "margin": null,
            "max_height": null,
            "max_width": null,
            "min_height": null,
            "min_width": null,
            "object_fit": null,
            "object_position": null,
            "order": null,
            "overflow": null,
            "overflow_x": null,
            "overflow_y": null,
            "padding": null,
            "right": null,
            "top": null,
            "visibility": null,
            "width": null
          }
        },
        "58df997699f94d369c39e96fe90f3ea4": {
          "model_module": "@jupyter-widgets/controls",
          "model_name": "DescriptionStyleModel",
          "model_module_version": "1.5.0",
          "state": {
            "_model_module": "@jupyter-widgets/controls",
            "_model_module_version": "1.5.0",
            "_model_name": "DescriptionStyleModel",
            "_view_count": null,
            "_view_module": "@jupyter-widgets/base",
            "_view_module_version": "1.2.0",
            "_view_name": "StyleView",
            "description_width": ""
          }
        },
        "57009ca702c749aeaffbcc3a65fbc264": {
          "model_module": "@jupyter-widgets/base",
          "model_name": "LayoutModel",
          "model_module_version": "1.2.0",
          "state": {
            "_model_module": "@jupyter-widgets/base",
            "_model_module_version": "1.2.0",
            "_model_name": "LayoutModel",
            "_view_count": null,
            "_view_module": "@jupyter-widgets/base",
            "_view_module_version": "1.2.0",
            "_view_name": "LayoutView",
            "align_content": null,
            "align_items": null,
            "align_self": null,
            "border": null,
            "bottom": null,
            "display": null,
            "flex": null,
            "flex_flow": null,
            "grid_area": null,
            "grid_auto_columns": null,
            "grid_auto_flow": null,
            "grid_auto_rows": null,
            "grid_column": null,
            "grid_gap": null,
            "grid_row": null,
            "grid_template_areas": null,
            "grid_template_columns": null,
            "grid_template_rows": null,
            "height": null,
            "justify_content": null,
            "justify_items": null,
            "left": null,
            "margin": null,
            "max_height": null,
            "max_width": null,
            "min_height": null,
            "min_width": null,
            "object_fit": null,
            "object_position": null,
            "order": null,
            "overflow": null,
            "overflow_x": null,
            "overflow_y": null,
            "padding": null,
            "right": null,
            "top": null,
            "visibility": null,
            "width": null
          }
        },
        "a99ee72315954251be7164f9d65308e4": {
          "model_module": "@jupyter-widgets/controls",
          "model_name": "ProgressStyleModel",
          "model_module_version": "1.5.0",
          "state": {
            "_model_module": "@jupyter-widgets/controls",
            "_model_module_version": "1.5.0",
            "_model_name": "ProgressStyleModel",
            "_view_count": null,
            "_view_module": "@jupyter-widgets/base",
            "_view_module_version": "1.2.0",
            "_view_name": "StyleView",
            "bar_color": null,
            "description_width": ""
          }
        },
        "c89b0a958d684bb4860e4264f9630f74": {
          "model_module": "@jupyter-widgets/base",
          "model_name": "LayoutModel",
          "model_module_version": "1.2.0",
          "state": {
            "_model_module": "@jupyter-widgets/base",
            "_model_module_version": "1.2.0",
            "_model_name": "LayoutModel",
            "_view_count": null,
            "_view_module": "@jupyter-widgets/base",
            "_view_module_version": "1.2.0",
            "_view_name": "LayoutView",
            "align_content": null,
            "align_items": null,
            "align_self": null,
            "border": null,
            "bottom": null,
            "display": null,
            "flex": null,
            "flex_flow": null,
            "grid_area": null,
            "grid_auto_columns": null,
            "grid_auto_flow": null,
            "grid_auto_rows": null,
            "grid_column": null,
            "grid_gap": null,
            "grid_row": null,
            "grid_template_areas": null,
            "grid_template_columns": null,
            "grid_template_rows": null,
            "height": null,
            "justify_content": null,
            "justify_items": null,
            "left": null,
            "margin": null,
            "max_height": null,
            "max_width": null,
            "min_height": null,
            "min_width": null,
            "object_fit": null,
            "object_position": null,
            "order": null,
            "overflow": null,
            "overflow_x": null,
            "overflow_y": null,
            "padding": null,
            "right": null,
            "top": null,
            "visibility": null,
            "width": null
          }
        },
        "a7552072afbf4edfb8ce4281dd294335": {
          "model_module": "@jupyter-widgets/controls",
          "model_name": "DescriptionStyleModel",
          "model_module_version": "1.5.0",
          "state": {
            "_model_module": "@jupyter-widgets/controls",
            "_model_module_version": "1.5.0",
            "_model_name": "DescriptionStyleModel",
            "_view_count": null,
            "_view_module": "@jupyter-widgets/base",
            "_view_module_version": "1.2.0",
            "_view_name": "StyleView",
            "description_width": ""
          }
        },
        "dc9a6d53a7944807bb93c55a29e49d8d": {
          "model_module": "@jupyter-widgets/controls",
          "model_name": "HBoxModel",
          "model_module_version": "1.5.0",
          "state": {
            "_dom_classes": [],
            "_model_module": "@jupyter-widgets/controls",
            "_model_module_version": "1.5.0",
            "_model_name": "HBoxModel",
            "_view_count": null,
            "_view_module": "@jupyter-widgets/controls",
            "_view_module_version": "1.5.0",
            "_view_name": "HBoxView",
            "box_style": "",
            "children": [
              "IPY_MODEL_daa7bdc8bb3a4e05bdb8bad98323b4fb",
              "IPY_MODEL_0e73a37535464cc483adc0409084687f",
              "IPY_MODEL_77ba96ebb6c34b45ad925c82e6a12ca2"
            ],
            "layout": "IPY_MODEL_6bea277b17d44b758bed46c8eaeaa703"
          }
        },
        "daa7bdc8bb3a4e05bdb8bad98323b4fb": {
          "model_module": "@jupyter-widgets/controls",
          "model_name": "HTMLModel",
          "model_module_version": "1.5.0",
          "state": {
            "_dom_classes": [],
            "_model_module": "@jupyter-widgets/controls",
            "_model_module_version": "1.5.0",
            "_model_name": "HTMLModel",
            "_view_count": null,
            "_view_module": "@jupyter-widgets/controls",
            "_view_module_version": "1.5.0",
            "_view_name": "HTMLView",
            "description": "",
            "description_tooltip": null,
            "layout": "IPY_MODEL_fe0db873d1b94007b6500a8454994bce",
            "placeholder": "​",
            "style": "IPY_MODEL_9acc25b796fd4addb347e3496bf92f40",
            "value": "Generating train split: 100%"
          }
        },
        "0e73a37535464cc483adc0409084687f": {
          "model_module": "@jupyter-widgets/controls",
          "model_name": "FloatProgressModel",
          "model_module_version": "1.5.0",
          "state": {
            "_dom_classes": [],
            "_model_module": "@jupyter-widgets/controls",
            "_model_module_version": "1.5.0",
            "_model_name": "FloatProgressModel",
            "_view_count": null,
            "_view_module": "@jupyter-widgets/controls",
            "_view_module_version": "1.5.0",
            "_view_name": "ProgressView",
            "bar_style": "success",
            "description": "",
            "description_tooltip": null,
            "layout": "IPY_MODEL_2a58f01c89654221bc31d71eb8607b05",
            "max": 2515,
            "min": 0,
            "orientation": "horizontal",
            "style": "IPY_MODEL_aaf29a692bd9428686f7acbc03d6983b",
            "value": 2515
          }
        },
        "77ba96ebb6c34b45ad925c82e6a12ca2": {
          "model_module": "@jupyter-widgets/controls",
          "model_name": "HTMLModel",
          "model_module_version": "1.5.0",
          "state": {
            "_dom_classes": [],
            "_model_module": "@jupyter-widgets/controls",
            "_model_module_version": "1.5.0",
            "_model_name": "HTMLModel",
            "_view_count": null,
            "_view_module": "@jupyter-widgets/controls",
            "_view_module_version": "1.5.0",
            "_view_name": "HTMLView",
            "description": "",
            "description_tooltip": null,
            "layout": "IPY_MODEL_cfcd37bd0ac645688b3cd2874cc6730b",
            "placeholder": "​",
            "style": "IPY_MODEL_c82a63374ead45d69da2a5e4a54a15b7",
            "value": " 2515/2515 [00:00&lt;00:00, 4510.95 examples/s]"
          }
        },
        "6bea277b17d44b758bed46c8eaeaa703": {
          "model_module": "@jupyter-widgets/base",
          "model_name": "LayoutModel",
          "model_module_version": "1.2.0",
          "state": {
            "_model_module": "@jupyter-widgets/base",
            "_model_module_version": "1.2.0",
            "_model_name": "LayoutModel",
            "_view_count": null,
            "_view_module": "@jupyter-widgets/base",
            "_view_module_version": "1.2.0",
            "_view_name": "LayoutView",
            "align_content": null,
            "align_items": null,
            "align_self": null,
            "border": null,
            "bottom": null,
            "display": null,
            "flex": null,
            "flex_flow": null,
            "grid_area": null,
            "grid_auto_columns": null,
            "grid_auto_flow": null,
            "grid_auto_rows": null,
            "grid_column": null,
            "grid_gap": null,
            "grid_row": null,
            "grid_template_areas": null,
            "grid_template_columns": null,
            "grid_template_rows": null,
            "height": null,
            "justify_content": null,
            "justify_items": null,
            "left": null,
            "margin": null,
            "max_height": null,
            "max_width": null,
            "min_height": null,
            "min_width": null,
            "object_fit": null,
            "object_position": null,
            "order": null,
            "overflow": null,
            "overflow_x": null,
            "overflow_y": null,
            "padding": null,
            "right": null,
            "top": null,
            "visibility": null,
            "width": null
          }
        },
        "fe0db873d1b94007b6500a8454994bce": {
          "model_module": "@jupyter-widgets/base",
          "model_name": "LayoutModel",
          "model_module_version": "1.2.0",
          "state": {
            "_model_module": "@jupyter-widgets/base",
            "_model_module_version": "1.2.0",
            "_model_name": "LayoutModel",
            "_view_count": null,
            "_view_module": "@jupyter-widgets/base",
            "_view_module_version": "1.2.0",
            "_view_name": "LayoutView",
            "align_content": null,
            "align_items": null,
            "align_self": null,
            "border": null,
            "bottom": null,
            "display": null,
            "flex": null,
            "flex_flow": null,
            "grid_area": null,
            "grid_auto_columns": null,
            "grid_auto_flow": null,
            "grid_auto_rows": null,
            "grid_column": null,
            "grid_gap": null,
            "grid_row": null,
            "grid_template_areas": null,
            "grid_template_columns": null,
            "grid_template_rows": null,
            "height": null,
            "justify_content": null,
            "justify_items": null,
            "left": null,
            "margin": null,
            "max_height": null,
            "max_width": null,
            "min_height": null,
            "min_width": null,
            "object_fit": null,
            "object_position": null,
            "order": null,
            "overflow": null,
            "overflow_x": null,
            "overflow_y": null,
            "padding": null,
            "right": null,
            "top": null,
            "visibility": null,
            "width": null
          }
        },
        "9acc25b796fd4addb347e3496bf92f40": {
          "model_module": "@jupyter-widgets/controls",
          "model_name": "DescriptionStyleModel",
          "model_module_version": "1.5.0",
          "state": {
            "_model_module": "@jupyter-widgets/controls",
            "_model_module_version": "1.5.0",
            "_model_name": "DescriptionStyleModel",
            "_view_count": null,
            "_view_module": "@jupyter-widgets/base",
            "_view_module_version": "1.2.0",
            "_view_name": "StyleView",
            "description_width": ""
          }
        },
        "2a58f01c89654221bc31d71eb8607b05": {
          "model_module": "@jupyter-widgets/base",
          "model_name": "LayoutModel",
          "model_module_version": "1.2.0",
          "state": {
            "_model_module": "@jupyter-widgets/base",
            "_model_module_version": "1.2.0",
            "_model_name": "LayoutModel",
            "_view_count": null,
            "_view_module": "@jupyter-widgets/base",
            "_view_module_version": "1.2.0",
            "_view_name": "LayoutView",
            "align_content": null,
            "align_items": null,
            "align_self": null,
            "border": null,
            "bottom": null,
            "display": null,
            "flex": null,
            "flex_flow": null,
            "grid_area": null,
            "grid_auto_columns": null,
            "grid_auto_flow": null,
            "grid_auto_rows": null,
            "grid_column": null,
            "grid_gap": null,
            "grid_row": null,
            "grid_template_areas": null,
            "grid_template_columns": null,
            "grid_template_rows": null,
            "height": null,
            "justify_content": null,
            "justify_items": null,
            "left": null,
            "margin": null,
            "max_height": null,
            "max_width": null,
            "min_height": null,
            "min_width": null,
            "object_fit": null,
            "object_position": null,
            "order": null,
            "overflow": null,
            "overflow_x": null,
            "overflow_y": null,
            "padding": null,
            "right": null,
            "top": null,
            "visibility": null,
            "width": null
          }
        },
        "aaf29a692bd9428686f7acbc03d6983b": {
          "model_module": "@jupyter-widgets/controls",
          "model_name": "ProgressStyleModel",
          "model_module_version": "1.5.0",
          "state": {
            "_model_module": "@jupyter-widgets/controls",
            "_model_module_version": "1.5.0",
            "_model_name": "ProgressStyleModel",
            "_view_count": null,
            "_view_module": "@jupyter-widgets/base",
            "_view_module_version": "1.2.0",
            "_view_name": "StyleView",
            "bar_color": null,
            "description_width": ""
          }
        },
        "cfcd37bd0ac645688b3cd2874cc6730b": {
          "model_module": "@jupyter-widgets/base",
          "model_name": "LayoutModel",
          "model_module_version": "1.2.0",
          "state": {
            "_model_module": "@jupyter-widgets/base",
            "_model_module_version": "1.2.0",
            "_model_name": "LayoutModel",
            "_view_count": null,
            "_view_module": "@jupyter-widgets/base",
            "_view_module_version": "1.2.0",
            "_view_name": "LayoutView",
            "align_content": null,
            "align_items": null,
            "align_self": null,
            "border": null,
            "bottom": null,
            "display": null,
            "flex": null,
            "flex_flow": null,
            "grid_area": null,
            "grid_auto_columns": null,
            "grid_auto_flow": null,
            "grid_auto_rows": null,
            "grid_column": null,
            "grid_gap": null,
            "grid_row": null,
            "grid_template_areas": null,
            "grid_template_columns": null,
            "grid_template_rows": null,
            "height": null,
            "justify_content": null,
            "justify_items": null,
            "left": null,
            "margin": null,
            "max_height": null,
            "max_width": null,
            "min_height": null,
            "min_width": null,
            "object_fit": null,
            "object_position": null,
            "order": null,
            "overflow": null,
            "overflow_x": null,
            "overflow_y": null,
            "padding": null,
            "right": null,
            "top": null,
            "visibility": null,
            "width": null
          }
        },
        "c82a63374ead45d69da2a5e4a54a15b7": {
          "model_module": "@jupyter-widgets/controls",
          "model_name": "DescriptionStyleModel",
          "model_module_version": "1.5.0",
          "state": {
            "_model_module": "@jupyter-widgets/controls",
            "_model_module_version": "1.5.0",
            "_model_name": "DescriptionStyleModel",
            "_view_count": null,
            "_view_module": "@jupyter-widgets/base",
            "_view_module_version": "1.2.0",
            "_view_name": "StyleView",
            "description_width": ""
          }
        }
      }
    }
  },
  "cells": [
    {
      "cell_type": "markdown",
      "metadata": {
        "id": "view-in-github",
        "colab_type": "text"
      },
      "source": [
        "<a href=\"https://colab.research.google.com/github/politeles/audio_classification/blob/main/VADS_yamnet.ipynb\" target=\"_parent\"><img src=\"https://colab.research.google.com/assets/colab-badge.svg\" alt=\"Open In Colab\"/></a>"
      ]
    },
    {
      "cell_type": "markdown",
      "source": [
        "# Transfer learning to train a Yammnet classifier for the VADS dataset\n",
        "\n",
        " We are going to load the dataset and the initial model."
      ],
      "metadata": {
        "id": "SWe0ZsOCzSI8"
      }
    },
    {
      "cell_type": "code",
      "execution_count": null,
      "metadata": {
        "colab": {
          "base_uri": "https://localhost:8080/"
        },
        "id": "T-fFps8UzLyp",
        "outputId": "15a8b123-821b-48fa-bd82-d91279db3c89"
      },
      "outputs": [
        {
          "output_type": "stream",
          "name": "stdout",
          "text": [
            "Requirement already satisfied: tensorflow==2.17 in /usr/local/lib/python3.10/dist-packages (2.17.0)\n",
            "Requirement already satisfied: absl-py>=1.0.0 in /usr/local/lib/python3.10/dist-packages (from tensorflow==2.17) (1.4.0)\n",
            "Requirement already satisfied: astunparse>=1.6.0 in /usr/local/lib/python3.10/dist-packages (from tensorflow==2.17) (1.6.3)\n",
            "Requirement already satisfied: flatbuffers>=24.3.25 in /usr/local/lib/python3.10/dist-packages (from tensorflow==2.17) (24.3.25)\n",
            "Requirement already satisfied: gast!=0.5.0,!=0.5.1,!=0.5.2,>=0.2.1 in /usr/local/lib/python3.10/dist-packages (from tensorflow==2.17) (0.6.0)\n",
            "Requirement already satisfied: google-pasta>=0.1.1 in /usr/local/lib/python3.10/dist-packages (from tensorflow==2.17) (0.2.0)\n",
            "Requirement already satisfied: h5py>=3.10.0 in /usr/local/lib/python3.10/dist-packages (from tensorflow==2.17) (3.11.0)\n",
            "Requirement already satisfied: libclang>=13.0.0 in /usr/local/lib/python3.10/dist-packages (from tensorflow==2.17) (18.1.1)\n",
            "Requirement already satisfied: ml-dtypes<0.5.0,>=0.3.1 in /usr/local/lib/python3.10/dist-packages (from tensorflow==2.17) (0.4.1)\n",
            "Requirement already satisfied: opt-einsum>=2.3.2 in /usr/local/lib/python3.10/dist-packages (from tensorflow==2.17) (3.3.0)\n",
            "Requirement already satisfied: packaging in /usr/local/lib/python3.10/dist-packages (from tensorflow==2.17) (24.1)\n",
            "Requirement already satisfied: protobuf!=4.21.0,!=4.21.1,!=4.21.2,!=4.21.3,!=4.21.4,!=4.21.5,<5.0.0dev,>=3.20.3 in /usr/local/lib/python3.10/dist-packages (from tensorflow==2.17) (3.20.3)\n",
            "Requirement already satisfied: requests<3,>=2.21.0 in /usr/local/lib/python3.10/dist-packages (from tensorflow==2.17) (2.32.3)\n",
            "Requirement already satisfied: setuptools in /usr/local/lib/python3.10/dist-packages (from tensorflow==2.17) (71.0.4)\n",
            "Requirement already satisfied: six>=1.12.0 in /usr/local/lib/python3.10/dist-packages (from tensorflow==2.17) (1.16.0)\n",
            "Requirement already satisfied: termcolor>=1.1.0 in /usr/local/lib/python3.10/dist-packages (from tensorflow==2.17) (2.4.0)\n",
            "Requirement already satisfied: typing-extensions>=3.6.6 in /usr/local/lib/python3.10/dist-packages (from tensorflow==2.17) (4.12.2)\n",
            "Requirement already satisfied: wrapt>=1.11.0 in /usr/local/lib/python3.10/dist-packages (from tensorflow==2.17) (1.16.0)\n",
            "Requirement already satisfied: grpcio<2.0,>=1.24.3 in /usr/local/lib/python3.10/dist-packages (from tensorflow==2.17) (1.64.1)\n",
            "Requirement already satisfied: tensorboard<2.18,>=2.17 in /usr/local/lib/python3.10/dist-packages (from tensorflow==2.17) (2.17.0)\n",
            "Requirement already satisfied: keras>=3.2.0 in /usr/local/lib/python3.10/dist-packages (from tensorflow==2.17) (3.4.1)\n",
            "Requirement already satisfied: tensorflow-io-gcs-filesystem>=0.23.1 in /usr/local/lib/python3.10/dist-packages (from tensorflow==2.17) (0.37.1)\n",
            "Requirement already satisfied: numpy<2.0.0,>=1.23.5 in /usr/local/lib/python3.10/dist-packages (from tensorflow==2.17) (1.26.4)\n",
            "Requirement already satisfied: wheel<1.0,>=0.23.0 in /usr/local/lib/python3.10/dist-packages (from astunparse>=1.6.0->tensorflow==2.17) (0.44.0)\n",
            "Requirement already satisfied: rich in /usr/local/lib/python3.10/dist-packages (from keras>=3.2.0->tensorflow==2.17) (13.8.1)\n",
            "Requirement already satisfied: namex in /usr/local/lib/python3.10/dist-packages (from keras>=3.2.0->tensorflow==2.17) (0.0.8)\n",
            "Requirement already satisfied: optree in /usr/local/lib/python3.10/dist-packages (from keras>=3.2.0->tensorflow==2.17) (0.12.1)\n",
            "Requirement already satisfied: charset-normalizer<4,>=2 in /usr/local/lib/python3.10/dist-packages (from requests<3,>=2.21.0->tensorflow==2.17) (3.3.2)\n",
            "Requirement already satisfied: idna<4,>=2.5 in /usr/local/lib/python3.10/dist-packages (from requests<3,>=2.21.0->tensorflow==2.17) (3.10)\n",
            "Requirement already satisfied: urllib3<3,>=1.21.1 in /usr/local/lib/python3.10/dist-packages (from requests<3,>=2.21.0->tensorflow==2.17) (2.2.3)\n",
            "Requirement already satisfied: certifi>=2017.4.17 in /usr/local/lib/python3.10/dist-packages (from requests<3,>=2.21.0->tensorflow==2.17) (2024.8.30)\n",
            "Requirement already satisfied: markdown>=2.6.8 in /usr/local/lib/python3.10/dist-packages (from tensorboard<2.18,>=2.17->tensorflow==2.17) (3.7)\n",
            "Requirement already satisfied: tensorboard-data-server<0.8.0,>=0.7.0 in /usr/local/lib/python3.10/dist-packages (from tensorboard<2.18,>=2.17->tensorflow==2.17) (0.7.2)\n",
            "Requirement already satisfied: werkzeug>=1.0.1 in /usr/local/lib/python3.10/dist-packages (from tensorboard<2.18,>=2.17->tensorflow==2.17) (3.0.4)\n",
            "Requirement already satisfied: MarkupSafe>=2.1.1 in /usr/local/lib/python3.10/dist-packages (from werkzeug>=1.0.1->tensorboard<2.18,>=2.17->tensorflow==2.17) (2.1.5)\n",
            "Requirement already satisfied: markdown-it-py>=2.2.0 in /usr/local/lib/python3.10/dist-packages (from rich->keras>=3.2.0->tensorflow==2.17) (3.0.0)\n",
            "Requirement already satisfied: pygments<3.0.0,>=2.13.0 in /usr/local/lib/python3.10/dist-packages (from rich->keras>=3.2.0->tensorflow==2.17) (2.18.0)\n",
            "Requirement already satisfied: mdurl~=0.1 in /usr/local/lib/python3.10/dist-packages (from markdown-it-py>=2.2.0->rich->keras>=3.2.0->tensorflow==2.17) (0.1.2)\n",
            "\u001b[2K   \u001b[90m━━━━━━━━━━━━━━━━━━━━━━━━━━━━━━━━━━━━━━━━\u001b[0m \u001b[32m242.5/242.5 kB\u001b[0m \u001b[31m4.4 MB/s\u001b[0m eta \u001b[36m0:00:00\u001b[0m\n",
            "\u001b[?25h"
          ]
        }
      ],
      "source": [
        "%pip install --upgrade tensorflow==2.17\n",
        "%pip install -q tensorflow-model-optimization"
      ]
    },
    {
      "cell_type": "code",
      "source": [
        "!pip install tensorflow-io[tensorflow]"
      ],
      "metadata": {
        "colab": {
          "base_uri": "https://localhost:8080/"
        },
        "id": "_ymMkEKmIfUE",
        "outputId": "77053b50-4526-4d5d-9d6e-d87db4ddcbb6"
      },
      "execution_count": null,
      "outputs": [
        {
          "output_type": "stream",
          "name": "stdout",
          "text": [
            "Collecting tensorflow-io[tensorflow]\n",
            "  Downloading tensorflow_io-0.37.1-cp310-cp310-manylinux_2_17_x86_64.manylinux2014_x86_64.whl.metadata (14 kB)\n",
            "Requirement already satisfied: tensorflow-io-gcs-filesystem==0.37.1 in /usr/local/lib/python3.10/dist-packages (from tensorflow-io[tensorflow]) (0.37.1)\n",
            "Collecting tensorflow<2.17.0,>=2.16.0 (from tensorflow-io[tensorflow])\n",
            "  Downloading tensorflow-2.16.2-cp310-cp310-manylinux_2_17_x86_64.manylinux2014_x86_64.whl.metadata (4.2 kB)\n",
            "Requirement already satisfied: absl-py>=1.0.0 in /usr/local/lib/python3.10/dist-packages (from tensorflow<2.17.0,>=2.16.0->tensorflow-io[tensorflow]) (1.4.0)\n",
            "Requirement already satisfied: astunparse>=1.6.0 in /usr/local/lib/python3.10/dist-packages (from tensorflow<2.17.0,>=2.16.0->tensorflow-io[tensorflow]) (1.6.3)\n",
            "Requirement already satisfied: flatbuffers>=23.5.26 in /usr/local/lib/python3.10/dist-packages (from tensorflow<2.17.0,>=2.16.0->tensorflow-io[tensorflow]) (24.3.25)\n",
            "Requirement already satisfied: gast!=0.5.0,!=0.5.1,!=0.5.2,>=0.2.1 in /usr/local/lib/python3.10/dist-packages (from tensorflow<2.17.0,>=2.16.0->tensorflow-io[tensorflow]) (0.6.0)\n",
            "Requirement already satisfied: google-pasta>=0.1.1 in /usr/local/lib/python3.10/dist-packages (from tensorflow<2.17.0,>=2.16.0->tensorflow-io[tensorflow]) (0.2.0)\n",
            "Requirement already satisfied: h5py>=3.10.0 in /usr/local/lib/python3.10/dist-packages (from tensorflow<2.17.0,>=2.16.0->tensorflow-io[tensorflow]) (3.11.0)\n",
            "Requirement already satisfied: libclang>=13.0.0 in /usr/local/lib/python3.10/dist-packages (from tensorflow<2.17.0,>=2.16.0->tensorflow-io[tensorflow]) (18.1.1)\n",
            "Collecting ml-dtypes~=0.3.1 (from tensorflow<2.17.0,>=2.16.0->tensorflow-io[tensorflow])\n",
            "  Downloading ml_dtypes-0.3.2-cp310-cp310-manylinux_2_17_x86_64.manylinux2014_x86_64.whl.metadata (20 kB)\n",
            "Requirement already satisfied: opt-einsum>=2.3.2 in /usr/local/lib/python3.10/dist-packages (from tensorflow<2.17.0,>=2.16.0->tensorflow-io[tensorflow]) (3.3.0)\n",
            "Requirement already satisfied: packaging in /usr/local/lib/python3.10/dist-packages (from tensorflow<2.17.0,>=2.16.0->tensorflow-io[tensorflow]) (24.1)\n",
            "Requirement already satisfied: protobuf!=4.21.0,!=4.21.1,!=4.21.2,!=4.21.3,!=4.21.4,!=4.21.5,<5.0.0dev,>=3.20.3 in /usr/local/lib/python3.10/dist-packages (from tensorflow<2.17.0,>=2.16.0->tensorflow-io[tensorflow]) (3.20.3)\n",
            "Requirement already satisfied: requests<3,>=2.21.0 in /usr/local/lib/python3.10/dist-packages (from tensorflow<2.17.0,>=2.16.0->tensorflow-io[tensorflow]) (2.32.3)\n",
            "Requirement already satisfied: setuptools in /usr/local/lib/python3.10/dist-packages (from tensorflow<2.17.0,>=2.16.0->tensorflow-io[tensorflow]) (71.0.4)\n",
            "Requirement already satisfied: six>=1.12.0 in /usr/local/lib/python3.10/dist-packages (from tensorflow<2.17.0,>=2.16.0->tensorflow-io[tensorflow]) (1.16.0)\n",
            "Requirement already satisfied: termcolor>=1.1.0 in /usr/local/lib/python3.10/dist-packages (from tensorflow<2.17.0,>=2.16.0->tensorflow-io[tensorflow]) (2.4.0)\n",
            "Requirement already satisfied: typing-extensions>=3.6.6 in /usr/local/lib/python3.10/dist-packages (from tensorflow<2.17.0,>=2.16.0->tensorflow-io[tensorflow]) (4.12.2)\n",
            "Requirement already satisfied: wrapt>=1.11.0 in /usr/local/lib/python3.10/dist-packages (from tensorflow<2.17.0,>=2.16.0->tensorflow-io[tensorflow]) (1.16.0)\n",
            "Requirement already satisfied: grpcio<2.0,>=1.24.3 in /usr/local/lib/python3.10/dist-packages (from tensorflow<2.17.0,>=2.16.0->tensorflow-io[tensorflow]) (1.64.1)\n",
            "Collecting tensorboard<2.17,>=2.16 (from tensorflow<2.17.0,>=2.16.0->tensorflow-io[tensorflow])\n",
            "  Downloading tensorboard-2.16.2-py3-none-any.whl.metadata (1.6 kB)\n",
            "Requirement already satisfied: keras>=3.0.0 in /usr/local/lib/python3.10/dist-packages (from tensorflow<2.17.0,>=2.16.0->tensorflow-io[tensorflow]) (3.4.1)\n",
            "Requirement already satisfied: numpy<2.0.0,>=1.23.5 in /usr/local/lib/python3.10/dist-packages (from tensorflow<2.17.0,>=2.16.0->tensorflow-io[tensorflow]) (1.26.4)\n",
            "Requirement already satisfied: wheel<1.0,>=0.23.0 in /usr/local/lib/python3.10/dist-packages (from astunparse>=1.6.0->tensorflow<2.17.0,>=2.16.0->tensorflow-io[tensorflow]) (0.44.0)\n",
            "Requirement already satisfied: rich in /usr/local/lib/python3.10/dist-packages (from keras>=3.0.0->tensorflow<2.17.0,>=2.16.0->tensorflow-io[tensorflow]) (13.8.1)\n",
            "Requirement already satisfied: namex in /usr/local/lib/python3.10/dist-packages (from keras>=3.0.0->tensorflow<2.17.0,>=2.16.0->tensorflow-io[tensorflow]) (0.0.8)\n",
            "Requirement already satisfied: optree in /usr/local/lib/python3.10/dist-packages (from keras>=3.0.0->tensorflow<2.17.0,>=2.16.0->tensorflow-io[tensorflow]) (0.12.1)\n",
            "Requirement already satisfied: charset-normalizer<4,>=2 in /usr/local/lib/python3.10/dist-packages (from requests<3,>=2.21.0->tensorflow<2.17.0,>=2.16.0->tensorflow-io[tensorflow]) (3.3.2)\n",
            "Requirement already satisfied: idna<4,>=2.5 in /usr/local/lib/python3.10/dist-packages (from requests<3,>=2.21.0->tensorflow<2.17.0,>=2.16.0->tensorflow-io[tensorflow]) (3.10)\n",
            "Requirement already satisfied: urllib3<3,>=1.21.1 in /usr/local/lib/python3.10/dist-packages (from requests<3,>=2.21.0->tensorflow<2.17.0,>=2.16.0->tensorflow-io[tensorflow]) (2.2.3)\n",
            "Requirement already satisfied: certifi>=2017.4.17 in /usr/local/lib/python3.10/dist-packages (from requests<3,>=2.21.0->tensorflow<2.17.0,>=2.16.0->tensorflow-io[tensorflow]) (2024.8.30)\n",
            "Requirement already satisfied: markdown>=2.6.8 in /usr/local/lib/python3.10/dist-packages (from tensorboard<2.17,>=2.16->tensorflow<2.17.0,>=2.16.0->tensorflow-io[tensorflow]) (3.7)\n",
            "Requirement already satisfied: tensorboard-data-server<0.8.0,>=0.7.0 in /usr/local/lib/python3.10/dist-packages (from tensorboard<2.17,>=2.16->tensorflow<2.17.0,>=2.16.0->tensorflow-io[tensorflow]) (0.7.2)\n",
            "Requirement already satisfied: werkzeug>=1.0.1 in /usr/local/lib/python3.10/dist-packages (from tensorboard<2.17,>=2.16->tensorflow<2.17.0,>=2.16.0->tensorflow-io[tensorflow]) (3.0.4)\n",
            "Requirement already satisfied: MarkupSafe>=2.1.1 in /usr/local/lib/python3.10/dist-packages (from werkzeug>=1.0.1->tensorboard<2.17,>=2.16->tensorflow<2.17.0,>=2.16.0->tensorflow-io[tensorflow]) (2.1.5)\n",
            "Requirement already satisfied: markdown-it-py>=2.2.0 in /usr/local/lib/python3.10/dist-packages (from rich->keras>=3.0.0->tensorflow<2.17.0,>=2.16.0->tensorflow-io[tensorflow]) (3.0.0)\n",
            "Requirement already satisfied: pygments<3.0.0,>=2.13.0 in /usr/local/lib/python3.10/dist-packages (from rich->keras>=3.0.0->tensorflow<2.17.0,>=2.16.0->tensorflow-io[tensorflow]) (2.18.0)\n",
            "Requirement already satisfied: mdurl~=0.1 in /usr/local/lib/python3.10/dist-packages (from markdown-it-py>=2.2.0->rich->keras>=3.0.0->tensorflow<2.17.0,>=2.16.0->tensorflow-io[tensorflow]) (0.1.2)\n",
            "Downloading tensorflow-2.16.2-cp310-cp310-manylinux_2_17_x86_64.manylinux2014_x86_64.whl (590.6 MB)\n",
            "\u001b[2K   \u001b[90m━━━━━━━━━━━━━━━━━━━━━━━━━━━━━━━━━━━━━━━━\u001b[0m \u001b[32m590.6/590.6 MB\u001b[0m \u001b[31m4.1 MB/s\u001b[0m eta \u001b[36m0:00:00\u001b[0m\n",
            "\u001b[?25hDownloading tensorflow_io-0.37.1-cp310-cp310-manylinux_2_17_x86_64.manylinux2014_x86_64.whl (49.6 MB)\n",
            "\u001b[2K   \u001b[90m━━━━━━━━━━━━━━━━━━━━━━━━━━━━━━━━━━━━━━━━\u001b[0m \u001b[32m49.6/49.6 MB\u001b[0m \u001b[31m9.5 MB/s\u001b[0m eta \u001b[36m0:00:00\u001b[0m\n",
            "\u001b[?25hDownloading ml_dtypes-0.3.2-cp310-cp310-manylinux_2_17_x86_64.manylinux2014_x86_64.whl (2.2 MB)\n",
            "\u001b[2K   \u001b[90m━━━━━━━━━━━━━━━━━━━━━━━━━━━━━━━━━━━━━━━━\u001b[0m \u001b[32m2.2/2.2 MB\u001b[0m \u001b[31m15.7 MB/s\u001b[0m eta \u001b[36m0:00:00\u001b[0m\n",
            "\u001b[?25hDownloading tensorboard-2.16.2-py3-none-any.whl (5.5 MB)\n",
            "\u001b[2K   \u001b[90m━━━━━━━━━━━━━━━━━━━━━━━━━━━━━━━━━━━━━━━━\u001b[0m \u001b[32m5.5/5.5 MB\u001b[0m \u001b[31m28.3 MB/s\u001b[0m eta \u001b[36m0:00:00\u001b[0m\n",
            "\u001b[?25hInstalling collected packages: tensorflow-io, ml-dtypes, tensorboard, tensorflow\n",
            "  Attempting uninstall: ml-dtypes\n",
            "    Found existing installation: ml-dtypes 0.4.1\n",
            "    Uninstalling ml-dtypes-0.4.1:\n",
            "      Successfully uninstalled ml-dtypes-0.4.1\n",
            "  Attempting uninstall: tensorboard\n",
            "    Found existing installation: tensorboard 2.17.0\n",
            "    Uninstalling tensorboard-2.17.0:\n",
            "      Successfully uninstalled tensorboard-2.17.0\n",
            "  Attempting uninstall: tensorflow\n",
            "    Found existing installation: tensorflow 2.17.0\n",
            "    Uninstalling tensorflow-2.17.0:\n",
            "      Successfully uninstalled tensorflow-2.17.0\n",
            "\u001b[31mERROR: pip's dependency resolver does not currently take into account all the packages that are installed. This behaviour is the source of the following dependency conflicts.\n",
            "tf-keras 2.17.0 requires tensorflow<2.18,>=2.17, but you have tensorflow 2.16.2 which is incompatible.\u001b[0m\u001b[31m\n",
            "\u001b[0mSuccessfully installed ml-dtypes-0.3.2 tensorboard-2.16.2 tensorflow-2.16.2 tensorflow-io-0.37.1\n"
          ]
        }
      ]
    },
    {
      "cell_type": "code",
      "source": [
        "%pip install --upgrade tensorflow-datasets"
      ],
      "metadata": {
        "colab": {
          "base_uri": "https://localhost:8080/"
        },
        "id": "XP_jtAg-GQff",
        "outputId": "2673dbcb-71da-4558-8867-1e1ef1262ea1"
      },
      "execution_count": null,
      "outputs": [
        {
          "output_type": "stream",
          "name": "stdout",
          "text": [
            "Requirement already satisfied: tensorflow-datasets in /usr/local/lib/python3.10/dist-packages (4.9.6)\n",
            "Collecting tensorflow-datasets\n",
            "  Downloading tensorflow_datasets-4.9.7-py3-none-any.whl.metadata (9.6 kB)\n",
            "Requirement already satisfied: absl-py in /usr/local/lib/python3.10/dist-packages (from tensorflow-datasets) (1.4.0)\n",
            "Requirement already satisfied: click in /usr/local/lib/python3.10/dist-packages (from tensorflow-datasets) (8.1.7)\n",
            "Requirement already satisfied: dm-tree in /usr/local/lib/python3.10/dist-packages (from tensorflow-datasets) (0.1.8)\n",
            "Requirement already satisfied: immutabledict in /usr/local/lib/python3.10/dist-packages (from tensorflow-datasets) (4.2.0)\n",
            "Requirement already satisfied: numpy in /usr/local/lib/python3.10/dist-packages (from tensorflow-datasets) (1.26.4)\n",
            "Requirement already satisfied: promise in /usr/local/lib/python3.10/dist-packages (from tensorflow-datasets) (2.3)\n",
            "Requirement already satisfied: protobuf>=3.20 in /usr/local/lib/python3.10/dist-packages (from tensorflow-datasets) (3.20.3)\n",
            "Requirement already satisfied: psutil in /usr/local/lib/python3.10/dist-packages (from tensorflow-datasets) (5.9.5)\n",
            "Requirement already satisfied: pyarrow in /usr/local/lib/python3.10/dist-packages (from tensorflow-datasets) (14.0.2)\n",
            "Requirement already satisfied: requests>=2.19.0 in /usr/local/lib/python3.10/dist-packages (from tensorflow-datasets) (2.32.3)\n",
            "Requirement already satisfied: simple-parsing in /usr/local/lib/python3.10/dist-packages (from tensorflow-datasets) (0.1.6)\n",
            "Requirement already satisfied: tensorflow-metadata in /usr/local/lib/python3.10/dist-packages (from tensorflow-datasets) (1.15.0)\n",
            "Requirement already satisfied: termcolor in /usr/local/lib/python3.10/dist-packages (from tensorflow-datasets) (2.4.0)\n",
            "Requirement already satisfied: toml in /usr/local/lib/python3.10/dist-packages (from tensorflow-datasets) (0.10.2)\n",
            "Requirement already satisfied: tqdm in /usr/local/lib/python3.10/dist-packages (from tensorflow-datasets) (4.66.5)\n",
            "Requirement already satisfied: wrapt in /usr/local/lib/python3.10/dist-packages (from tensorflow-datasets) (1.16.0)\n",
            "Requirement already satisfied: array-record>=0.5.0 in /usr/local/lib/python3.10/dist-packages (from tensorflow-datasets) (0.5.1)\n",
            "Requirement already satisfied: etils>=1.6.0 in /usr/local/lib/python3.10/dist-packages (from etils[edc,enp,epath,epy,etree]>=1.6.0; python_version < \"3.11\"->tensorflow-datasets) (1.9.4)\n",
            "Requirement already satisfied: fsspec in /usr/local/lib/python3.10/dist-packages (from etils[edc,enp,epath,epy,etree]>=1.6.0; python_version < \"3.11\"->tensorflow-datasets) (2024.6.1)\n",
            "Requirement already satisfied: importlib_resources in /usr/local/lib/python3.10/dist-packages (from etils[edc,enp,epath,epy,etree]>=1.6.0; python_version < \"3.11\"->tensorflow-datasets) (6.4.5)\n",
            "Requirement already satisfied: typing_extensions in /usr/local/lib/python3.10/dist-packages (from etils[edc,enp,epath,epy,etree]>=1.6.0; python_version < \"3.11\"->tensorflow-datasets) (4.12.2)\n",
            "Requirement already satisfied: zipp in /usr/local/lib/python3.10/dist-packages (from etils[edc,enp,epath,epy,etree]>=1.6.0; python_version < \"3.11\"->tensorflow-datasets) (3.20.2)\n",
            "Requirement already satisfied: charset-normalizer<4,>=2 in /usr/local/lib/python3.10/dist-packages (from requests>=2.19.0->tensorflow-datasets) (3.3.2)\n",
            "Requirement already satisfied: idna<4,>=2.5 in /usr/local/lib/python3.10/dist-packages (from requests>=2.19.0->tensorflow-datasets) (3.10)\n",
            "Requirement already satisfied: urllib3<3,>=1.21.1 in /usr/local/lib/python3.10/dist-packages (from requests>=2.19.0->tensorflow-datasets) (2.2.3)\n",
            "Requirement already satisfied: certifi>=2017.4.17 in /usr/local/lib/python3.10/dist-packages (from requests>=2.19.0->tensorflow-datasets) (2024.8.30)\n",
            "Requirement already satisfied: six in /usr/local/lib/python3.10/dist-packages (from promise->tensorflow-datasets) (1.16.0)\n",
            "Requirement already satisfied: docstring-parser<1.0,>=0.15 in /usr/local/lib/python3.10/dist-packages (from simple-parsing->tensorflow-datasets) (0.16)\n",
            "Downloading tensorflow_datasets-4.9.7-py3-none-any.whl (5.3 MB)\n",
            "\u001b[2K   \u001b[90m━━━━━━━━━━━━━━━━━━━━━━━━━━━━━━━━━━━━━━━━\u001b[0m \u001b[32m5.3/5.3 MB\u001b[0m \u001b[31m19.2 MB/s\u001b[0m eta \u001b[36m0:00:00\u001b[0m\n",
            "\u001b[?25hInstalling collected packages: tensorflow-datasets\n",
            "  Attempting uninstall: tensorflow-datasets\n",
            "    Found existing installation: tensorflow-datasets 4.9.6\n",
            "    Uninstalling tensorflow-datasets-4.9.6:\n",
            "      Successfully uninstalled tensorflow-datasets-4.9.6\n",
            "Successfully installed tensorflow-datasets-4.9.7\n"
          ]
        }
      ]
    },
    {
      "cell_type": "code",
      "source": [
        "!pip install datasets[audio]"
      ],
      "metadata": {
        "id": "k1T3Bb9Dz72s",
        "colab": {
          "base_uri": "https://localhost:8080/"
        },
        "outputId": "d1db380f-0583-4d50-bb6b-d1f34de9bcc6"
      },
      "execution_count": null,
      "outputs": [
        {
          "output_type": "stream",
          "name": "stdout",
          "text": [
            "Collecting datasets[audio]\n",
            "  Downloading datasets-3.3.2-py3-none-any.whl.metadata (19 kB)\n",
            "Requirement already satisfied: filelock in /usr/local/lib/python3.10/dist-packages (from datasets[audio]) (3.16.1)\n",
            "Requirement already satisfied: numpy>=1.17 in /usr/local/lib/python3.10/dist-packages (from datasets[audio]) (1.26.4)\n",
            "Collecting pyarrow>=15.0.0 (from datasets[audio])\n",
            "  Downloading pyarrow-19.0.1-cp310-cp310-manylinux_2_28_x86_64.whl.metadata (3.3 kB)\n",
            "Collecting dill<0.3.9,>=0.3.0 (from datasets[audio])\n",
            "  Downloading dill-0.3.8-py3-none-any.whl.metadata (10 kB)\n",
            "Requirement already satisfied: pandas in /usr/local/lib/python3.10/dist-packages (from datasets[audio]) (2.1.4)\n",
            "Requirement already satisfied: requests>=2.32.2 in /usr/local/lib/python3.10/dist-packages (from datasets[audio]) (2.32.3)\n",
            "Requirement already satisfied: tqdm>=4.66.3 in /usr/local/lib/python3.10/dist-packages (from datasets[audio]) (4.66.5)\n",
            "Collecting xxhash (from datasets[audio])\n",
            "  Downloading xxhash-3.5.0-cp310-cp310-manylinux_2_17_x86_64.manylinux2014_x86_64.whl.metadata (12 kB)\n",
            "Collecting multiprocess<0.70.17 (from datasets[audio])\n",
            "  Downloading multiprocess-0.70.16-py310-none-any.whl.metadata (7.2 kB)\n",
            "Requirement already satisfied: fsspec<=2024.12.0,>=2023.1.0 in /usr/local/lib/python3.10/dist-packages (from fsspec[http]<=2024.12.0,>=2023.1.0->datasets[audio]) (2024.6.1)\n",
            "Requirement already satisfied: aiohttp in /usr/local/lib/python3.10/dist-packages (from datasets[audio]) (3.10.5)\n",
            "Requirement already satisfied: huggingface-hub>=0.24.0 in /usr/local/lib/python3.10/dist-packages (from datasets[audio]) (0.24.7)\n",
            "Requirement already satisfied: packaging in /usr/local/lib/python3.10/dist-packages (from datasets[audio]) (24.1)\n",
            "Requirement already satisfied: pyyaml>=5.1 in /usr/local/lib/python3.10/dist-packages (from datasets[audio]) (6.0.2)\n",
            "Requirement already satisfied: soundfile>=0.12.1 in /usr/local/lib/python3.10/dist-packages (from datasets[audio]) (0.12.1)\n",
            "Requirement already satisfied: librosa in /usr/local/lib/python3.10/dist-packages (from datasets[audio]) (0.10.2.post1)\n",
            "Requirement already satisfied: soxr>=0.4.0 in /usr/local/lib/python3.10/dist-packages (from datasets[audio]) (0.5.0.post1)\n",
            "Requirement already satisfied: aiohappyeyeballs>=2.3.0 in /usr/local/lib/python3.10/dist-packages (from aiohttp->datasets[audio]) (2.4.0)\n",
            "Requirement already satisfied: aiosignal>=1.1.2 in /usr/local/lib/python3.10/dist-packages (from aiohttp->datasets[audio]) (1.3.1)\n",
            "Requirement already satisfied: attrs>=17.3.0 in /usr/local/lib/python3.10/dist-packages (from aiohttp->datasets[audio]) (24.2.0)\n",
            "Requirement already satisfied: frozenlist>=1.1.1 in /usr/local/lib/python3.10/dist-packages (from aiohttp->datasets[audio]) (1.4.1)\n",
            "Requirement already satisfied: multidict<7.0,>=4.5 in /usr/local/lib/python3.10/dist-packages (from aiohttp->datasets[audio]) (6.1.0)\n",
            "Requirement already satisfied: yarl<2.0,>=1.0 in /usr/local/lib/python3.10/dist-packages (from aiohttp->datasets[audio]) (1.11.1)\n",
            "Requirement already satisfied: async-timeout<5.0,>=4.0 in /usr/local/lib/python3.10/dist-packages (from aiohttp->datasets[audio]) (4.0.3)\n",
            "Requirement already satisfied: typing-extensions>=3.7.4.3 in /usr/local/lib/python3.10/dist-packages (from huggingface-hub>=0.24.0->datasets[audio]) (4.12.2)\n",
            "Requirement already satisfied: charset-normalizer<4,>=2 in /usr/local/lib/python3.10/dist-packages (from requests>=2.32.2->datasets[audio]) (3.3.2)\n",
            "Requirement already satisfied: idna<4,>=2.5 in /usr/local/lib/python3.10/dist-packages (from requests>=2.32.2->datasets[audio]) (3.10)\n",
            "Requirement already satisfied: urllib3<3,>=1.21.1 in /usr/local/lib/python3.10/dist-packages (from requests>=2.32.2->datasets[audio]) (2.2.3)\n",
            "Requirement already satisfied: certifi>=2017.4.17 in /usr/local/lib/python3.10/dist-packages (from requests>=2.32.2->datasets[audio]) (2024.8.30)\n",
            "Requirement already satisfied: cffi>=1.0 in /usr/local/lib/python3.10/dist-packages (from soundfile>=0.12.1->datasets[audio]) (1.17.1)\n",
            "Requirement already satisfied: audioread>=2.1.9 in /usr/local/lib/python3.10/dist-packages (from librosa->datasets[audio]) (3.0.1)\n",
            "Requirement already satisfied: scipy>=1.2.0 in /usr/local/lib/python3.10/dist-packages (from librosa->datasets[audio]) (1.13.1)\n",
            "Requirement already satisfied: scikit-learn>=0.20.0 in /usr/local/lib/python3.10/dist-packages (from librosa->datasets[audio]) (1.5.2)\n",
            "Requirement already satisfied: joblib>=0.14 in /usr/local/lib/python3.10/dist-packages (from librosa->datasets[audio]) (1.4.2)\n",
            "Requirement already satisfied: decorator>=4.3.0 in /usr/local/lib/python3.10/dist-packages (from librosa->datasets[audio]) (4.4.2)\n",
            "Requirement already satisfied: numba>=0.51.0 in /usr/local/lib/python3.10/dist-packages (from librosa->datasets[audio]) (0.60.0)\n",
            "Requirement already satisfied: pooch>=1.1 in /usr/local/lib/python3.10/dist-packages (from librosa->datasets[audio]) (1.8.2)\n",
            "Requirement already satisfied: lazy-loader>=0.1 in /usr/local/lib/python3.10/dist-packages (from librosa->datasets[audio]) (0.4)\n",
            "Requirement already satisfied: msgpack>=1.0 in /usr/local/lib/python3.10/dist-packages (from librosa->datasets[audio]) (1.0.8)\n",
            "Requirement already satisfied: python-dateutil>=2.8.2 in /usr/local/lib/python3.10/dist-packages (from pandas->datasets[audio]) (2.8.2)\n",
            "Requirement already satisfied: pytz>=2020.1 in /usr/local/lib/python3.10/dist-packages (from pandas->datasets[audio]) (2024.2)\n",
            "Requirement already satisfied: tzdata>=2022.1 in /usr/local/lib/python3.10/dist-packages (from pandas->datasets[audio]) (2024.1)\n",
            "Requirement already satisfied: pycparser in /usr/local/lib/python3.10/dist-packages (from cffi>=1.0->soundfile>=0.12.1->datasets[audio]) (2.22)\n",
            "Requirement already satisfied: llvmlite<0.44,>=0.43.0dev0 in /usr/local/lib/python3.10/dist-packages (from numba>=0.51.0->librosa->datasets[audio]) (0.43.0)\n",
            "Requirement already satisfied: platformdirs>=2.5.0 in /usr/local/lib/python3.10/dist-packages (from pooch>=1.1->librosa->datasets[audio]) (4.3.6)\n",
            "Requirement already satisfied: six>=1.5 in /usr/local/lib/python3.10/dist-packages (from python-dateutil>=2.8.2->pandas->datasets[audio]) (1.16.0)\n",
            "Requirement already satisfied: threadpoolctl>=3.1.0 in /usr/local/lib/python3.10/dist-packages (from scikit-learn>=0.20.0->librosa->datasets[audio]) (3.5.0)\n",
            "Downloading dill-0.3.8-py3-none-any.whl (116 kB)\n",
            "\u001b[2K   \u001b[90m━━━━━━━━━━━━━━━━━━━━━━━━━━━━━━━━━━━━━━━━\u001b[0m \u001b[32m116.3/116.3 kB\u001b[0m \u001b[31m2.7 MB/s\u001b[0m eta \u001b[36m0:00:00\u001b[0m\n",
            "\u001b[?25hDownloading multiprocess-0.70.16-py310-none-any.whl (134 kB)\n",
            "\u001b[2K   \u001b[90m━━━━━━━━━━━━━━━━━━━━━━━━━━━━━━━━━━━━━━━━\u001b[0m \u001b[32m134.8/134.8 kB\u001b[0m \u001b[31m6.7 MB/s\u001b[0m eta \u001b[36m0:00:00\u001b[0m\n",
            "\u001b[?25hDownloading pyarrow-19.0.1-cp310-cp310-manylinux_2_28_x86_64.whl (42.1 MB)\n",
            "\u001b[2K   \u001b[90m━━━━━━━━━━━━━━━━━━━━━━━━━━━━━━━━━━━━━━━━\u001b[0m \u001b[32m42.1/42.1 MB\u001b[0m \u001b[31m10.6 MB/s\u001b[0m eta \u001b[36m0:00:00\u001b[0m\n",
            "\u001b[?25hDownloading datasets-3.3.2-py3-none-any.whl (485 kB)\n",
            "\u001b[2K   \u001b[90m━━━━━━━━━━━━━━━━━━━━━━━━━━━━━━━━━━━━━━━━\u001b[0m \u001b[32m485.4/485.4 kB\u001b[0m \u001b[31m10.3 MB/s\u001b[0m eta \u001b[36m0:00:00\u001b[0m\n",
            "\u001b[?25hDownloading xxhash-3.5.0-cp310-cp310-manylinux_2_17_x86_64.manylinux2014_x86_64.whl (194 kB)\n",
            "\u001b[2K   \u001b[90m━━━━━━━━━━━━━━━━━━━━━━━━━━━━━━━━━━━━━━━━\u001b[0m \u001b[32m194.1/194.1 kB\u001b[0m \u001b[31m9.3 MB/s\u001b[0m eta \u001b[36m0:00:00\u001b[0m\n",
            "\u001b[?25hInstalling collected packages: xxhash, pyarrow, dill, multiprocess, datasets\n",
            "  Attempting uninstall: pyarrow\n",
            "    Found existing installation: pyarrow 14.0.2\n",
            "    Uninstalling pyarrow-14.0.2:\n",
            "      Successfully uninstalled pyarrow-14.0.2\n",
            "\u001b[31mERROR: pip's dependency resolver does not currently take into account all the packages that are installed. This behaviour is the source of the following dependency conflicts.\n",
            "cudf-cu12 24.4.1 requires pyarrow<15.0.0a0,>=14.0.1, but you have pyarrow 19.0.1 which is incompatible.\n",
            "ibis-framework 8.0.0 requires pyarrow<16,>=2, but you have pyarrow 19.0.1 which is incompatible.\u001b[0m\u001b[31m\n",
            "\u001b[0mSuccessfully installed datasets-3.3.2 dill-0.3.8 multiprocess-0.70.16 pyarrow-19.0.1 xxhash-3.5.0\n"
          ]
        }
      ]
    },
    {
      "cell_type": "code",
      "source": [
        "import os\n",
        "\n",
        "from IPython import display\n",
        "import matplotlib.pyplot as plt\n",
        "import numpy as np\n",
        "import pandas as pd\n",
        "\n",
        "import tensorflow as tf\n",
        "import tensorflow_hub as hub\n",
        "import tensorflow_io as tfio"
      ],
      "metadata": {
        "id": "SWGibYVEzR7W"
      },
      "execution_count": null,
      "outputs": []
    },
    {
      "cell_type": "code",
      "source": [
        "import librosa"
      ],
      "metadata": {
        "id": "vX9T0RnIU0IB"
      },
      "execution_count": null,
      "outputs": []
    },
    {
      "cell_type": "code",
      "source": [
        "# Set seed for experiment reproducibility\n",
        "random_seed = 42\n",
        "tf.random.set_seed(random_seed)\n",
        "np.random.seed(random_seed)"
      ],
      "metadata": {
        "id": "0tc_4YAAGuID"
      },
      "execution_count": null,
      "outputs": []
    },
    {
      "cell_type": "code",
      "source": [
        "yamnet_model_handle = 'https://tfhub.dev/google/yamnet/1'\n",
        "yamnet_model = hub.load(yamnet_model_handle)"
      ],
      "metadata": {
        "id": "i1-aZeGKzuc6"
      },
      "execution_count": null,
      "outputs": []
    },
    {
      "cell_type": "code",
      "source": [
        "from datasets import load_dataset"
      ],
      "metadata": {
        "id": "5IV1H9Xr0Dc2"
      },
      "execution_count": null,
      "outputs": []
    },
    {
      "cell_type": "code",
      "source": [
        "vads = load_dataset(\"politeles/vads\")"
      ],
      "metadata": {
        "id": "diCf72L_0HsV",
        "colab": {
          "base_uri": "https://localhost:8080/",
          "height": 113,
          "referenced_widgets": [
            "fd353ebdb31e4b2595268ff2121030bf",
            "b8a39fa56ec84b639388b93df11d519d",
            "debe6e2b847c4e78a85f606aed7cb6a7",
            "e1afaa83192346afbed3f3f6288e93eb",
            "70e916f61b6f4b8e99f5187c9698c209",
            "25314757c9214ce080a6503838bafedc",
            "783dde11f78940bfa13b6a07c11db708",
            "231883f38b11447c9cf8adbf511facb5",
            "fe170c60e18049c68316e06276a551b7",
            "fa38e712f0cf4cd8979dd0d8bb1a7e8c",
            "913a1dab131d4c0c833c546669ce7f18",
            "837ad4477e86457cbce16b0bd8566edd",
            "b188e70a5c63420790c8479d33843fbb",
            "068a2a25989a4524b1f3c1865234c578",
            "8ef3f8c6cddb4f6686bfb5239b0da3c5",
            "e29b3029324042068482a51686ef5c90",
            "810898001cf642d7a66f59fefca6ee94",
            "58df997699f94d369c39e96fe90f3ea4",
            "57009ca702c749aeaffbcc3a65fbc264",
            "a99ee72315954251be7164f9d65308e4",
            "c89b0a958d684bb4860e4264f9630f74",
            "a7552072afbf4edfb8ce4281dd294335",
            "dc9a6d53a7944807bb93c55a29e49d8d",
            "daa7bdc8bb3a4e05bdb8bad98323b4fb",
            "0e73a37535464cc483adc0409084687f",
            "77ba96ebb6c34b45ad925c82e6a12ca2",
            "6bea277b17d44b758bed46c8eaeaa703",
            "fe0db873d1b94007b6500a8454994bce",
            "9acc25b796fd4addb347e3496bf92f40",
            "2a58f01c89654221bc31d71eb8607b05",
            "aaf29a692bd9428686f7acbc03d6983b",
            "cfcd37bd0ac645688b3cd2874cc6730b",
            "c82a63374ead45d69da2a5e4a54a15b7"
          ]
        },
        "outputId": "bd12aa8e-a808-40f6-f2e9-903a76db974a"
      },
      "execution_count": null,
      "outputs": [
        {
          "output_type": "display_data",
          "data": {
            "text/plain": [
              "README.md:   0%|          | 0.00/4.90k [00:00<?, ?B/s]"
            ],
            "application/vnd.jupyter.widget-view+json": {
              "version_major": 2,
              "version_minor": 0,
              "model_id": "fd353ebdb31e4b2595268ff2121030bf"
            }
          },
          "metadata": {}
        },
        {
          "output_type": "display_data",
          "data": {
            "text/plain": [
              "train-00000-of-00001.parquet:   0%|          | 0.00/227M [00:00<?, ?B/s]"
            ],
            "application/vnd.jupyter.widget-view+json": {
              "version_major": 2,
              "version_minor": 0,
              "model_id": "837ad4477e86457cbce16b0bd8566edd"
            }
          },
          "metadata": {}
        },
        {
          "output_type": "display_data",
          "data": {
            "text/plain": [
              "Generating train split:   0%|          | 0/2515 [00:00<?, ? examples/s]"
            ],
            "application/vnd.jupyter.widget-view+json": {
              "version_major": 2,
              "version_minor": 0,
              "model_id": "dc9a6d53a7944807bb93c55a29e49d8d"
            }
          },
          "metadata": {}
        }
      ]
    },
    {
      "cell_type": "code",
      "source": [
        "audio_sample = vads['train']['audio'][0]['array']"
      ],
      "metadata": {
        "id": "Wr2jKgVTUvDS"
      },
      "execution_count": null,
      "outputs": []
    },
    {
      "cell_type": "code",
      "source": [
        "id2label_fn = vads[\"train\"].features[\"technique\"].int2str"
      ],
      "metadata": {
        "id": "OQja1CvSV-9x"
      },
      "execution_count": null,
      "outputs": []
    },
    {
      "cell_type": "code",
      "source": [
        "for label in range(0,9):\n",
        "  print('Technique: '+str(label)+' value: '+str(id2label_fn(label)))"
      ],
      "metadata": {
        "colab": {
          "base_uri": "https://localhost:8080/"
        },
        "id": "ZvlGvwnSWlP5",
        "outputId": "93099e16-3756-4dfd-f466-84b3a032610f"
      },
      "execution_count": null,
      "outputs": [
        {
          "output_type": "stream",
          "name": "stdout",
          "text": [
            "Technique: 0 value: bariolage\n",
            "Technique: 1 value: chords\n",
            "Technique: 2 value: doublestops\n",
            "Technique: 3 value: legato\n",
            "Technique: 4 value: martele\n",
            "Technique: 5 value: pizz\n",
            "Technique: 6 value: ricochet\n",
            "Technique: 7 value: spicatto\n",
            "Technique: 8 value: sulponticello\n"
          ]
        }
      ]
    },
    {
      "cell_type": "code",
      "source": [],
      "metadata": {
        "id": "jeuU5aYiWlSV"
      },
      "execution_count": null,
      "outputs": []
    },
    {
      "cell_type": "code",
      "source": [
        "audio_sample"
      ],
      "metadata": {
        "colab": {
          "base_uri": "https://localhost:8080/"
        },
        "id": "fNmaMh_sWDGq",
        "outputId": "4ca55a06-b7b7-4de9-83ae-db62c4969080"
      },
      "execution_count": null,
      "outputs": [
        {
          "output_type": "execute_result",
          "data": {
            "text/plain": [
              "array([-0.01071167, -0.01193237, -0.01132202, ...,  0.0479126 ,\n",
              "       -0.03659058, -0.10913086])"
            ]
          },
          "metadata": {},
          "execution_count": 12
        }
      ]
    },
    {
      "cell_type": "code",
      "source": [
        "sr = vads['train']['audio'][0]['sampling_rate']"
      ],
      "metadata": {
        "id": "dK8fLCgzVRZ9"
      },
      "execution_count": null,
      "outputs": []
    },
    {
      "cell_type": "code",
      "source": [
        "vads['train']['audio'][0]"
      ],
      "metadata": {
        "colab": {
          "base_uri": "https://localhost:8080/"
        },
        "id": "S1PoXnQlp3GE",
        "outputId": "efedf8aa-bf82-43eb-dcce-17d2a41aed9e"
      },
      "execution_count": null,
      "outputs": [
        {
          "output_type": "execute_result",
          "data": {
            "text/plain": [
              "{'path': 'bariolage1_sample-0.wav',\n",
              " 'array': array([-0.01071167, -0.01193237, -0.01132202, ...,  0.0479126 ,\n",
              "        -0.03659058, -0.10913086]),\n",
              " 'sampling_rate': 48000}"
            ]
          },
          "metadata": {},
          "execution_count": 14
        }
      ]
    },
    {
      "cell_type": "code",
      "source": [
        "wav = librosa.resample(audio_sample,orig_sr=sr,target_sr=16000)"
      ],
      "metadata": {
        "id": "4Doab0MoVERY"
      },
      "execution_count": null,
      "outputs": []
    },
    {
      "cell_type": "code",
      "source": [
        "wav"
      ],
      "metadata": {
        "colab": {
          "base_uri": "https://localhost:8080/"
        },
        "id": "eH7iTevaW53M",
        "outputId": "b8508c3d-f314-450b-d657-643d141adcc3"
      },
      "execution_count": null,
      "outputs": [
        {
          "output_type": "execute_result",
          "data": {
            "text/plain": [
              "array([-0.00738981, -0.01287119, -0.01104051, ...,  0.10692932,\n",
              "        0.18936762,  0.03587643])"
            ]
          },
          "metadata": {},
          "execution_count": 16
        }
      ]
    },
    {
      "cell_type": "code",
      "source": [],
      "metadata": {
        "id": "FHwn0gHxY1XE"
      },
      "execution_count": null,
      "outputs": []
    },
    {
      "cell_type": "code",
      "source": [
        "display.Audio(wav, rate=16000)"
      ],
      "metadata": {
        "colab": {
          "base_uri": "https://localhost:8080/",
          "height": 61
        },
        "id": "F5M6azx5VEUE",
        "outputId": "0650c3a4-7591-47c7-986f-24c620ba88f8"
      },
      "execution_count": null,
      "outputs": [
        {
          "output_type": "execute_result",
          "data": {
            "text/plain": [
              "<IPython.lib.display.Audio object>"
            ],
            "text/html": [
              "\n",
              "                <audio  controls=\"controls\" >\n",
              "                    <source src=\"data:audio/wav;base64,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\" type=\"audio/wav\" />\n",
              "                    Your browser does not support the audio element.\n",
              "                </audio>\n",
              "              "
            ]
          },
          "metadata": {},
          "execution_count": 17
        }
      ]
    },
    {
      "cell_type": "code",
      "source": [
        "class_map_path = yamnet_model.class_map_path().numpy().decode('utf-8')\n",
        "class_names =list(pd.read_csv(class_map_path)['display_name'])\n",
        "\n",
        "for name in class_names[:20]:\n",
        "  print(name)\n",
        "print('...')\n"
      ],
      "metadata": {
        "colab": {
          "base_uri": "https://localhost:8080/"
        },
        "id": "Sz44RY72VEWf",
        "outputId": "12bf52e7-3564-45fd-c050-d687cb7295ca"
      },
      "execution_count": null,
      "outputs": [
        {
          "output_type": "stream",
          "name": "stdout",
          "text": [
            "Speech\n",
            "Child speech, kid speaking\n",
            "Conversation\n",
            "Narration, monologue\n",
            "Babbling\n",
            "Speech synthesizer\n",
            "Shout\n",
            "Bellow\n",
            "Whoop\n",
            "Yell\n",
            "Children shouting\n",
            "Screaming\n",
            "Whispering\n",
            "Laughter\n",
            "Baby laughter\n",
            "Giggle\n",
            "Snicker\n",
            "Belly laugh\n",
            "Chuckle, chortle\n",
            "Crying, sobbing\n",
            "...\n"
          ]
        }
      ]
    },
    {
      "cell_type": "code",
      "source": [
        "scores, embeddings, spectrogram = yamnet_model(wav)\n",
        "class_scores = tf.reduce_mean(scores, axis=0)\n",
        "top_class = tf.math.argmax(class_scores)\n",
        "inferred_class = class_names[top_class]\n",
        "\n",
        "print(f'The main sound is: {inferred_class}')\n",
        "print(f'The embeddings shape: {embeddings.shape}')"
      ],
      "metadata": {
        "colab": {
          "base_uri": "https://localhost:8080/"
        },
        "id": "A-DHfcx6XMpp",
        "outputId": "f060d731-44d7-42c0-ad98-1beef572a402"
      },
      "execution_count": null,
      "outputs": [
        {
          "output_type": "stream",
          "name": "stdout",
          "text": [
            "The main sound is: Music\n",
            "The embeddings shape: (2, 1024)\n"
          ]
        }
      ]
    },
    {
      "cell_type": "code",
      "source": [],
      "metadata": {
        "id": "rrioYKvyXMsa"
      },
      "execution_count": null,
      "outputs": []
    },
    {
      "cell_type": "code",
      "source": [
        "def load_audio_from_hf_dataset(example, desired_sample_rate, desired_channels):\n",
        "  \"\"\"Loads audio from a Hugging Face dataset example.\n",
        "\n",
        "  Args:\n",
        "    example: A dictionary representing a single example from the Hugging Face dataset.\n",
        "    desired_sample_rate: The desired sample rate for the audio.\n",
        "    desired_channels: The desired number of channels (1 for mono, 2 for stereo).\n",
        "\n",
        "  Returns:\n",
        "    A TensorFlow tensor containing the resampled audio waveform.\n",
        "  \"\"\"\n",
        "\n",
        "  # Access audio data and sample rate from the Hugging Face dataset example\n",
        "  audio_data = example['audio']['array']  # Assuming 'audio' key contains audio data\n",
        "  sample_rate = example['audio']['sampling_rate'] # Assuming 'sampling_rate' key\n",
        "\n",
        "\n",
        "  # Convert audio data to TensorFlow tensor\n",
        "  y = librosa.resample(audio_data,orig_sr=sr,target_sr=desired_sample_rate)\n",
        "  wav = tf.convert_to_tensor(y, dtype=tf.float32)\n",
        "\n",
        "\n",
        "\n",
        "  return wav"
      ],
      "metadata": {
        "id": "TMNQoFgF0K0v"
      },
      "execution_count": null,
      "outputs": []
    },
    {
      "cell_type": "code",
      "source": [
        "# write audio files resampled to disk\n",
        "def write_audio_to_disk(example, desired_sample_rate, desired_channels):\n",
        "  file_name = example['audio']['path']\n",
        "  audio_data = example['audio']['array']  # Assuming 'audio' key contains audio data\n",
        "  sample_rate = example['audio']['sampling_rate'] # Assuming 'sampling_rate' k\n",
        "  y = librosa.resample(audio_data,orig_sr=sr,target_sr=desired_sample_rate)\n",
        "  #write to disk the audio example"
      ],
      "metadata": {
        "id": "H0qTW641Ut3L"
      },
      "execution_count": null,
      "outputs": []
    },
    {
      "cell_type": "markdown",
      "source": [
        "## Plot an audio example"
      ],
      "metadata": {
        "id": "7zXY4JUVHOHG"
      }
    },
    {
      "cell_type": "code",
      "source": [
        "import matplotlib.pyplot as plt\n",
        "from IPython import display\n",
        "\n",
        "sample_rate = 16000\n",
        "channels = 1\n",
        "\n",
        "test_wav_file_path = vads['train'][60]\n",
        "test_wav_data = load_audio_from_hf_dataset(test_wav_file_path, sample_rate, channels)\n",
        "\n",
        "plt.plot(test_wav_data)\n",
        "plt.show()\n",
        "\n",
        "display.Audio(test_wav_data, rate=sample_rate)"
      ],
      "metadata": {
        "colab": {
          "base_uri": "https://localhost:8080/",
          "height": 474
        },
        "id": "Xxdr-saxHQ2T",
        "outputId": "579b2bb2-4d81-4896-d5d1-d4a075e587da"
      },
      "execution_count": null,
      "outputs": [
        {
          "output_type": "display_data",
          "data": {
            "text/plain": [
              "<Figure size 640x480 with 1 Axes>"
            ],
            "image/png": "[encoded data removed]"
          },
          "metadata": {}
        },
        {
          "output_type": "execute_result",
          "data": {
            "text/plain": [
              "<IPython.lib.display.Audio object>"
            ],
            "text/html": [
              "\n",
              "                <audio  controls=\"controls\" >\n",
              "                    <source src=\"data:audio/wav;base64,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\" type=\"audio/wav\" />\n",
              "                    Your browser does not support the audio element.\n",
              "                </audio>\n",
              "              "
            ]
          },
          "metadata": {},
          "execution_count": 22
        }
      ]
    },
    {
      "cell_type": "code",
      "source": [
        "test_wav_data"
      ],
      "metadata": {
        "colab": {
          "base_uri": "https://localhost:8080/"
        },
        "id": "buOFrfoGHmdt",
        "outputId": "e471d8d5-c219-47ec-b139-f5256e8b137f"
      },
      "execution_count": null,
      "outputs": [
        {
          "output_type": "execute_result",
          "data": {
            "text/plain": [
              "<tf.Tensor: shape=(16000,), dtype=float32, numpy=\n",
              "array([-0.3011727 ,  0.00376597,  0.48422283, ..., -0.23853122,\n",
              "       -0.13462968,  0.07807195], dtype=float32)>"
            ]
          },
          "metadata": {},
          "execution_count": 23
        }
      ]
    },
    {
      "cell_type": "code",
      "source": [
        "# Rename the \"technique\" column to \"label\"\n",
        "vads = vads.rename_column(\"technique\", \"label\")"
      ],
      "metadata": {
        "id": "ML0MeKezSfFf"
      },
      "execution_count": null,
      "outputs": []
    },
    {
      "cell_type": "code",
      "source": [
        "vads = vads.remove_columns([\"microphone\",\"string\",\"note\"])"
      ],
      "metadata": {
        "id": "lFmZlwVUevZ3"
      },
      "execution_count": null,
      "outputs": []
    },
    {
      "cell_type": "code",
      "source": [
        "vads_train_test = vads['train'].train_test_split(test_size=0.2)  # split the dataset\n"
      ],
      "metadata": {
        "id": "mKUDwJrgUEL9"
      },
      "execution_count": null,
      "outputs": []
    },
    {
      "cell_type": "code",
      "source": [
        "vads['train'][0]['audio']"
      ],
      "metadata": {
        "colab": {
          "base_uri": "https://localhost:8080/"
        },
        "id": "kKdC1NyeaYwk",
        "outputId": "a0cc5de1-8be2-4839-e6c0-851d44591c50"
      },
      "execution_count": null,
      "outputs": [
        {
          "output_type": "execute_result",
          "data": {
            "text/plain": [
              "{'path': 'bariolage1_sample-0.wav',\n",
              " 'array': array([-0.01071167, -0.01193237, -0.01132202, ...,  0.0479126 ,\n",
              "        -0.03659058, -0.10913086]),\n",
              " 'sampling_rate': 48000}"
            ]
          },
          "metadata": {},
          "execution_count": 27
        }
      ]
    },
    {
      "cell_type": "code",
      "source": [
        "# get the total number of classes:\n",
        "num_classes = len(vads['train'].unique('label'))"
      ],
      "metadata": {
        "id": "hos7glJiRq9H"
      },
      "execution_count": null,
      "outputs": []
    },
    {
      "cell_type": "code",
      "source": [
        "num_classes"
      ],
      "metadata": {
        "colab": {
          "base_uri": "https://localhost:8080/"
        },
        "id": "PzmZJKxyScgT",
        "outputId": "0e380489-8c0c-4cf2-8075-9f21c6ae9b6c"
      },
      "execution_count": null,
      "outputs": [
        {
          "output_type": "execute_result",
          "data": {
            "text/plain": [
              "9"
            ]
          },
          "metadata": {},
          "execution_count": 29
        }
      ]
    },
    {
      "cell_type": "code",
      "source": [
        "# Preprocess the data\n",
        "def preprocess_function(example):\n",
        "    audio = load_audio_from_hf_dataset(example, desired_sample_rate=16000, desired_channels=1)\n",
        "    label = example[\"label\"]\n",
        "    #label_one_hot = tf.one_hot(label,num_classes)\n",
        "    return {\"audio\": audio, \"label\": label}"
      ],
      "metadata": {
        "id": "zLiXIUK3TMCv"
      },
      "execution_count": null,
      "outputs": []
    },
    {
      "cell_type": "code",
      "source": [
        "# Apply the preprocessing function to the dataset\n",
        "vads_train_test_preprocessed = vads_train_test.map(preprocess_function)"
      ],
      "metadata": {
        "id": "YqVwk1FrTa02",
        "colab": {
          "base_uri": "https://localhost:8080/",
          "height": 81,
          "referenced_widgets": [
            "5b43fbff55214d788f9e52144235a372",
            "16be1864ab254ef18308c98119a63d5b",
            "9fd3c5effb81440490cf818424b0b0b9",
            "533173dcfe5f4480bcbf2d096efe9b01",
            "cb3aa777ccaf4d34943d55a68225b5fa",
            "f594360225974e54a5448abd7362ce74",
            "029e7f42bf854c80b1378fadf16b8e4a",
            "76c5717c7aa646f89c7ba692e2987e1a",
            "bcc3f15527fb47498ce0f267fae1a947",
            "0f7fe04661aa47588552f40218083891",
            "430a2d2c254c4a05a4bbc7b9ab96b3eb",
            "ae0392bffaf141d9a82d7c0ae35a58ca",
            "2b6a156841c4447bb08241189da43dc3",
            "f7ad27a0cf9f40de8e7c2e5e5ad995f6",
            "418b79b8ca364d3cb4a7ee118a87fcfe",
            "3f68a3e5b40a4616b6d8592851124d57",
            "9b5b661362c84b2a8deb139e93f1ee3f",
            "0b5e6fce4fef4fa3a9a61229f0a69798",
            "c144047d5bf04764b75fb85832f83e0c",
            "ada0880c2f134241bb3cb9578a7bedea",
            "5f1e01612b2646d3a7b5704cbc53606d",
            "6055c087d9274abda0af09570397c423"
          ]
        },
        "outputId": "1a5bb88b-eda2-40cc-bc60-9b5046737154"
      },
      "execution_count": null,
      "outputs": [
        {
          "output_type": "display_data",
          "data": {
            "text/plain": [
              "Map:   0%|          | 0/2012 [00:00<?, ? examples/s]"
            ],
            "application/vnd.jupyter.widget-view+json": {
              "version_major": 2,
              "version_minor": 0,
              "model_id": "5b43fbff55214d788f9e52144235a372"
            }
          },
          "metadata": {}
        },
        {
          "output_type": "display_data",
          "data": {
            "text/plain": [
              "Map:   0%|          | 0/503 [00:00<?, ? examples/s]"
            ],
            "application/vnd.jupyter.widget-view+json": {
              "version_major": 2,
              "version_minor": 0,
              "model_id": "ae0392bffaf141d9a82d7c0ae35a58ca"
            }
          },
          "metadata": {}
        }
      ]
    },
    {
      "cell_type": "code",
      "source": [
        "vads_train_test_preprocessed"
      ],
      "metadata": {
        "colab": {
          "base_uri": "https://localhost:8080/"
        },
        "id": "Qp1ONGK5cR_l",
        "outputId": "60edb583-8ca0-41af-cb04-48862318cd1d"
      },
      "execution_count": null,
      "outputs": [
        {
          "output_type": "execute_result",
          "data": {
            "text/plain": [
              "DatasetDict({\n",
              "    train: Dataset({\n",
              "        features: ['audio', 'label'],\n",
              "        num_rows: 2012\n",
              "    })\n",
              "    test: Dataset({\n",
              "        features: ['audio', 'label'],\n",
              "        num_rows: 503\n",
              "    })\n",
              "})"
            ]
          },
          "metadata": {},
          "execution_count": 32
        }
      ]
    },
    {
      "cell_type": "code",
      "source": [
        "wav_sample1 = vads_train_test_preprocessed['train'][0]['audio']"
      ],
      "metadata": {
        "id": "UiW2O5IrcSF_"
      },
      "execution_count": null,
      "outputs": []
    },
    {
      "cell_type": "code",
      "source": [
        "display.Audio(wav_sample1, rate=16000)"
      ],
      "metadata": {
        "colab": {
          "base_uri": "https://localhost:8080/",
          "height": 61
        },
        "id": "cXPl6g40dpge",
        "outputId": "1423b76c-d550-4ef3-c903-8ebf41fba643"
      },
      "execution_count": null,
      "outputs": [
        {
          "output_type": "execute_result",
          "data": {
            "text/plain": [
              "<IPython.lib.display.Audio object>"
            ],
            "text/html": [
              "\n",
              "                <audio  controls=\"controls\" >\n",
              "                    <source src=\"data:audio/wav;base64,UklGRiR9AABXQVZFZm10IBAAAAABAAEAgD4AAAB9AAACABAAZGF0YQB9AABy/Qv81v1v/2kBwQLCAx0DLAIaARYBDQLOAvoCOAPiAlkBp/+c/qr9NP2d/R3+J/+c//P+K/5V/c38gf0c/8wAggGWAR4BnADt/5v/AgDCAFsBFAGJAEr/q/1B/HL7DvxF/SH+2/5A/97+6f2p/eX9Zf9uAegCdgRfBVIFogQzBOEDagM1A10DfgNIAxIClAD//oD9Mf3A/Yn+/P5+/s/9Kv2c/JD8hv05/8YA2QH7AdIB1QCJ/4n+mP5g/xUAVABPAKf/SP5Y/RD9yf3p/sP/MgC4AEoAf/8D/y7/jP9JAGwBsQLWA8IDOQNKAoMBIwG6AW8CWQLIAZ0AR/9D/mz9Kf30/cv+If/x/mf+Xf0t/GP7v/tA/b3+/f/0AHMBQQHgAPoAmQFmAuICAgMaA50CUAEOAFP/6v7P/jT/4/9wAGgArP8F/97+NP9nAPoBSgP/A8kDFwONAsUBPwFTAcABwwFCAVkA1v5Y/cb7NPuV+2L86Pwm/Sr9h/wG/Ar87/wp/nX/tgAgAsECngI2AicCRwIEAhMCSAKTAgwC7gCi/+n+nP7H/jL/7P8gAJP/uv5D/m3+NP47/5gAiAEHAnYCUAJ9AZYAhQAJAS4BMgGhAPD/Nv/D/dH8C/1p/bD9uv3E/hf/Tf6L/d79jv77/v3/QAEYA4EDbQM2A1ICewGWAQgCVQJyArMBBwEJAFT/0/1+/en+FAACADsAAACO/hH+CP3Z/dv+p//GALABiAHLAIYAKwAHANn/owBIAf4Ao/+a/k3+bP5B/dL8Cv62/r3+Jf7+/ZH+Qf6H/VH/ywGuAtQBlQHeAoMDzAKpAvwCJwNlAoABxwCz/0T/y/5w//P/HwDD/3P+OP10/En9Uf7M/ur/FAKjBFcEHQKAABAB6QHEAEAAdQEjA3MBMf4r/Pr7Bvzo+8v8EP6T/+r+b/zq/NT+U/6Q/ZD/aAP7A0cB9gAEA84DBQOrAW0DygMpAwMDsgG2ATIBsgE0/1T9Av7c/RX/f/3V/P7+7ABuAGj+pP1jAK4Bn/9GAB8CAgM6AEv+vgDcA3kCZ/0D/B4C/QIk+0/2IP1KBCcBBfeg9nYBkQTC+uv0bwLhCrwK2wLz/twE9womBbn9igBJB+EIOAC5/OD8KP1u+eT1TfgHBrALnARI/40A1AC3/N701/edAFwGlQKX9Vn4aQG+/vH0IvwuB4QQDw2B+lb2rQrnCYD0D/EnAyUIi/gx5VvpDwMbBmIAxfyCCnAMig1oCVoCYASmDGILvvlZ+eT8FfpB9kb4wfemAxMFzPzE+24IoBIuC/r6bgAAApzv6/ifAvz8Xvc9AKj8avcW+BX5TP7UAkoDngBCCvIQxwOmAGYJSPgz9qP+mfea/8kGQwBHDGcXTguACUT/ru9T+qsNlQ5z+1P0MvbM/LT8WPUL7bn8CxP4CVwHZgDh/wUAwPpeAEsLYAdW+cr2l+Ri+JcVGwMq97UA3AXaB+L5Yejx+nkV+xqN+sr2J/oh6NPxDP+F+MwO9RpYEDwgcxcxBiv+iA2VBrb8hf2H8GP0kO/Q8mP6XOnY3brkx/bYAr4A1QnYGPUTQA0xBbT+uAH5+JcBAQZQAfD9UOyp7AIF/Ra6Da4GDAEG58X0RxKcCtD3iv2c9nfz2/YS64vmS/hdH9YhxSKMFoj+zPtsDD0W+xhyDRYApf089pvkm+rK8ZjiD+om8Qv2vfT99bP5tRabHX8cuw0/9TPxb/QPBRsHNAXS/ob4mwFfCHz7Bf4QCE39N/E8+gL/rveF+wP/9veb/tTst+Y2/GYWsyFpJCkjzxMpEqINyhBNFLwdHg64+C30JerQ3WfgreJk9BgEl/u9653izOmi82b9LfYfAHr5Se1o6sbpxvnmFDMbkQfnDJkbvB4FEpQW0xJ+H/wt0Qth87LwEvKe6xbwfOuy6Y7pmvDc92ELuxZKCaIJQAHjBqQGwgGT8/7vFv8cAsTzD+aX5PL5MBOwFIoMpQRWCSwAYvk0CEEPW/5t7ELxl/Zj7Xv15/fi98cV2B0n/Tvyj/7+GBgjpQ6pAiQIFRcsBvjzGQWlAqfjkexc95IEWRqM/IDjOv9iIiErDBEW7K/gpPNuCs8N9v8m60rvs+yW7lcH2wNl9VfpyOtoDvUcu/0g5yHp5ALVDVD6Muii4kECYhe2EucQ4RciD7L5TOc2ABMqryvdCg7zMgF9BXj8Tv9K/PwBRyneKb8qEw977mHrpO7EAXb91fgG5DXXgth/zKTe6uoo2rHp2vSoAAj4k/JvDzscfRJiCdEC3vnh6pPorwHkFPAcSA5NBg4TqSdHIowCUe4CAxcaohBc84fuofmt+WTzhvbg+54EIiA+J+Q7RTvbJmL/LenU+ZQFYQ6Z+8PnR+xu5hve4c8tvvnMKt8u7v/tMPcU/RrvtPWfD8og2g3a653qPfvyCR4bTB2vHrIlchuzFmQPWQfKEagW6AXv9r77VQZR+HbXmecF+DQWpzBoKbkk7R2rImASewTJClMFCQHvBMUIdQAW4zDVV83U0k3heuOC373XIuF09lfukN5l6Q/ynOsP4LDrr/q0AzYMvg4WGEMu7jLdJJkNYwG0E1AeBwgB+p8IvxLGAYPeGNww6T0QGCgMLdwyhyvEJPUIUviM+xgBfQd9E1cRRfuA2NbUUdIT0fbcI+NU54flc/ew/7zwfeJR7Tr19Osy30vk5e0i9+P/ughRGhIkiRxJElgPfBmlK48igglA+8ICIRVKELD5ne8A5SIAORxZJR4mIRzaF0QM+gmiEOcLhfkP/0AMJQJj8a/nj8pmydLhXfLx/yb95PxS/8bzWOyp+CD8y/HK5KbrHPU790z/tAInCY8Wbxv/CSH6Rf+0B/UHP/0vAkUS0Rc2+Eza3tup7UwZITCkMp4tXTASLPAaKxFfC14BNQLDEBQOqPSE2drIlr14z2Dlce9K8LbnJvNeBFUCwgHd//3zhObA6NvzEPlA+4X5MwMwGVAnPiDZChD+QQ8IJjYWIfQ37rD4QgUn9YHknN7/5lYHfhkgKRYuBTE4KKMTwAm4CRgHUgc3EFEPrvU24tnXzci41oHi8OQj5+/t1QOOCj/9+fXe9n7xMO7M+SwIUgU5/FP5QwI2Gx8thSNGCAsDlBPgH8cUdgHh/SgDBv9e7fDh9NgT6R0GRB34IoIj2CTrEUgGHAc1CzkHJAdQC08DrPE23kPOUc1l2DHmIPGX9CUAXgmJAR77S/7E+rnvgeey70D59fdy+Mz7AQs5HWgfQw/GCWoWFiIwGl7/RPTB/ikJkASY9wfoxuN29M0Q1SOgJiQlTCCcF28N0AcvBPMAdAY9CwYD+ur+zqjEQMkB2DPltOYh7X/9AQNQ/xj+dPwc+FXvGvGnAnULewIM+RP+lA5UH+Ec6RDFEKYWYhjZEq0LVweZB7f/hvdQ8hztKvA7ASEVbxsoIMknLiSQGJ8KQAPgB2YI/wvzCgv+D+NEyrvFUs1x22TiJebE8mL+MwC3/7z/BvxO8CPpbfJWAagDC/wi+JkC8hOAGsUVMhQ8FcEUehSaDp8GLwQvAuL6NPhZ87bu6fEBAiQUZh35IxwkbB4jE2YKgwqLDUwPiA+LBs71Ad9z0pzRuNKQ1nLd++4Q/Kn65fHd6gbrRfCn8Djwx/Ql+bX1LvWO//AI1g7SDPgOfRjlG0waVRXDD5QOIA6EBvf7+/Kp7w/zIP2lDnEbOxwhGsYcwx1MF6sNnQeWCSUOiAwoA/3xXt9C1TDU99jm4m/uYvk4/BD5ZfWH8cPvle0F7VDwmvUf97DwMvA7+8oGNwocClQSFBidFD0RThLwET8ShA1zA73+av0b+9H6nwP+D2wZzhsEGsoZURg2ELwKJwpUC5kMsAc2/aruVuMR3u/bad6D6LT06fum/SH8vfXx7ortEu/L8LLyC/Uh8XntOvF++Fz9mgFMC+MTOhN8C7gLchGAE+wPCQX/+oL2vPlK/Of9vAbMEkUbKxzkGo8abBXDDdUJvAoVDVEIFP+f9ULuLegA4zjgzOSN8AL6RAHqA/v/fPas7rbunvOd99f4tPaA7wvsIfOa/JX/VQHXBmYLtwz9DaAPaQ05CcMDGv7s/On+S/4W/LP+BAmjFq0cqhrQF1AXwxQjEOwMUwumCD4Dvvyk9n7xU+ri4yHjm+sX9rz8HgAbAPf7uPP/8N/0Ivlf+Zj3ufSa8O7uj/KW+b79aAFDB7YLygz4DGsNvwtXBsb98vdK+gz/DQA6AKgEPQ5AGa0c0RjJFZ0TGBB3DJMKdQiEAjL8bvhh9HntF+eR5XLpcvEL96j7L/4Q/YL5lfaq90D8mP00+sL4F/jm9vT29vnN/MAAQQU9Cu8LcQm9BoAHbAhnA8r6z/Pr9Jj5rv2eAcwG6w2+FEMX/xbhFnkV6BBDDRgN/QoGBMX8rvdp81bvKOy27EnwOvRO90b7ovxK+aL1K/Wc+Hv99P2++kb5Jvkp+Ij4OvuJ/icCYAfGDH0NQArxBr0HCAfAAQn6gvX29gz6s/5HBJ0KnxCKE1IT3hMtFFERHg2FC5AKNAfjADj7Z/f388rwFe+g8DzzI/av+AT8Qvw5+Mv0RPXw+Ab8nvuA+Yb4e/cO99j44PwoANoCYwdoC+ULjwpWCrEJtwUK/gP3KfUk9wL74f8jBfAJSQ6kELoRYxJYEXoOEgtXCZoHcgSY/3X7Qfdt81Tx7fGV9D33hfn3+Sb6v/gq9k/1q/aU+Az5C/jB9yD4CfgP+N/4bPum/nMDGgoEDlkO7wxRCuAHqgQ7/436ffm2+n/9AQKPBvMLow9rDzAO8QzBDPQKBQj9BRAEHQE+/ez5lfYT9Hrze/SR9oP4Afr++qH6wvjh9pb3Tvlv+rr5m/gG+dn57/lU+TL6CPx2/tsC/wg5DUwOSA1/Cq8HawOZ/Z35Vvkv/HIAlQRGCEAM8w06DQcNvwxoC7wI0wTCAQAAAv49+4j4BvZw9NL0z/bB+SX7SPv0+777kfkc+LL4qPnD+Sn51Pjj+I34X/eE9wn5bvuA/ogC+genDEsOjAynCYgG/gGS/cf7yvyc/+8CywWWCOoLLg2NDJ0LgArtCI0GgQR/AusA+v2g+j34Xfbp9UT2efid+if8/vyz/Gf70vly+WD5dvku+Zz5xPrX+in6qvm7+U76XfyI/wQDiQf3CkwM6goAB5sCEf9N/Rj+DwHXA3MGMwmUCz4OaA9WDqIM8QqMCJgFMwMKAUUAJf6L+gz4ePc69zj32/gA+hb7d/ug+2v7Nvpy+fz4APnk+bP6avvM+gn5FPgb+AX6ufzE/7UDyAdRCmgJywZUAwcARv6W/Qf/kQE5BKAGaglXDcYPig+8DbMLpgrhCFsGxQPIAe8AE//a/CP7Wfln9332Efjz+cf6RvqR+ZT5a/hy+Dj5VPkk+rH7kvxw/K37NvsG+6n7m/03AOIEEAgVCfwHwwTgAIX9cfxl/DD+4wASAz4FvQYDCfUL1Q0IDusMvgp9B+YEYQRXBM0DhgHp/ef7gfqf+SP5hfkO+ub5Evod+hD55fc89yf3zPci+ej6v/sF+xL6b/op+4v8Z/7/AEwERgd5CNQGJAP0/4/9tPx//Sb/pQArAt8D1gS+B+8JtQonC3sKywgRB8cFOQVkBUwFXQOwAPn+Iv3N+xj7ifuP/IL8b/t6+qT5n/gc+Mn3jPdM+Hr5qvla+Wz5rPj5+Kb67fzqAPoEHgd8BsoDcwDe/V39hP31/df/ewEGA/wD/wSFBrsI8wmjCU4JqwdCBncFhwWBBp4GFwW3ArMAqf6v/Ar8ufu6+y77/fmA+Tf4Offv9nf2BPe59773qff19k33CvgI+d77q/76AVQFSQcsByIF5gJ8AGP///6y/+8BaANbBBQEPQSYBdwGqQd9B7wGjgUBBVcF/wXgBsQGygVqBIwCMQCr/l/+gf63/tj9yfwf+wD6lvm++BD4GPgf+Y/5LPkA+OL2zPas90X6qP0oATkDAASqAyACFwEfAPT/7f9HANoBuQOwBE0ErQQaBgwH9AdPB+QFrgT5BNEFOAbxBucFswSkA2EC5gCT/87+9v5Z/z7/EP6l/F37U/rT+VX5pvls+tj5b/ih9+T2Wfdx+LX6RP0OADACPALZAaEAg/8Y/37/WAB6AbsCiwNrA50DxwMHBNMEZAQ8BJ4DjwMyBIYEWgVNBaUFsQQTA6MBtP9H/4n/0ABxAZAAdP/o/Rz9Z/yw+077u/sd/PD6ofk1+IH3vvcA+QD7vP2n/wAAZP8Y/oP9q/0M/on+pf97AGcBHgMCBKwEpwUwBrsGRgaMBZgEHgUZBhwGiwZOBlwFIQSpAoQB5v/4/jz/xP/bAFwAyf8j/1T+DP58/cL9Q/4F/jf9P/sF+sH5r/kz+qf76/0z/0n/a/4F/Vb8M/xw/GT9KP7D/nn/ogCPAfICHwTFBKgFlgWdBIIEVAVBBhUHNAcoB3MGGAUuA3QBLwCd/xAAbAD7/zf/L/56/VH9JP3a/Ab9rf1k/W78Uvu/+rX6Kfs3/Mj9IP9+/wf/If4+/bL8Yfxu/Pv8xv1U/hz//v8cASMCrALBA6MEIwUtBV4FpQbaB0wIkgg7CFsHQQVIA8QBkwD1/7v/DQDM/w7/+P0h/Uj88Pvf+yj8nfxg/JT7mPpe+ub6qPtm/If9P/4+/qX9JP0c/Zn8f/ya/Ar9bv1W/W796P2k/k7/3f+vAHcB7wEnAv4C6gR5BpYHMQiLCPEHvAZ1BfADAANmAlgCXAKyAaAANf/w/U/95Pyl/Jv8tvyo/IL7qfpm+r36t/uT/In9Jv7v/V796vx5/FD8X/zR/PX8Uv2N/ST+E/+1/1wAxABpAd4B+AEEAssCjARYBrUHggiBCPoH4AaTBSIEJwPXAgwD9wJyAgMBUf9O/tn9o/0e/fj8avzK+7L6AvrV+SD6qvqL+4X86fzp/KP8fvyk/Ab9Gf1x/bv9GP54/u/+Rv+F/4P/dP/Z/0QANgBVAEQB+AK5BPgFcQaqBl0GtAX8BFUEeASQBOwEwwQ1BLsCRQFUAMH/WP8G/xP/yP7Z/cv8T/wG/D38RfzD/NX88fzI/E/8kPy5/F/9v/0i/jj+9v3y/QT+hv7O/g//MP94/6n/4/9XAC8BngLtA8oE2gSvBEQE4gNFA1UDWwP+A70E3QSuBIUDwQIPAvEBhQGJAXsBqgCH/0T+df0J/QL9+Py9/Hn8ovxi/FH8yfxY/bj99f0V/lH+Wf4N/gz++f3U/Yj9ef2A/ZP94v1V/mT/kACdAVsCkAKeAlICzQGEAYUBHQL7ArcDEAS3A0EDtgKqAt8C/QL9AnACswF+AJf/Dv+N/kX+8P2i/Wf9N/3B/HP8oPwc/Wv9v/0C/tf9vv2K/ej9U/5G/kb+Gv43/nj+hP5C/0wAZgHxAecBowEUAd4AkAClAOMApAF1AugCIgMUA+UC/AKLAwgEYwSgBHwE0gMIAwQCXwHCAFYA4v+O/zL/qP48/hT+Tv58/tH+jP5w/hn+1/3U/QP+c/5x/o/+qv6F/nT+Zv6y/qz/ZgAcARUBvQBUAHr/V/9W/9r/TQCLAAgByQDCAGsAegACAV8B5wE8AlwCCgKpAU8BHgHfAKYAVQAXALr/cP/V/mz+lv6M/pX+QP7+/Z/9a/1c/eT9Sv6Z/rP+c/6h/pP+If93/zQAjQCZAIsACgCH/w//q/6E/uT+JP+q//b/HgDL/9D/BwByAOMAHAFZAb0BpwGwAfcBGAIYAvkBHQLGAb4BIwHMAIgAtAC+AMMAawD5/3z/zv6R/nH+2v43/z3/tv4M/wf/Kv9t/4MAMQEKAQQB+wCpANb/Y/9z//j/QgCJAFYAHQCB/1n/OP8D/83+Xf/+/+z/UABjAHAA2wDkALkAQgFjAVQB7wAQAaEBdAHxAJ8A1AA7AGb/GP/a/ob+6/4S/2r/tP8k/2P/yf6n/lD/Y/+3/ov/9gC//5n+T/+Q/33+G/+Y/+H+NP+i/9X/BP+8/Uz+r/6H/bX8Mf6a/pz9nv4SABwAMAAmAB8AFAK5Ap8BKwIeAyMCiwFBANL/LP8A/0//DP/g/n/9JP4F/hz/GgEaA9MB1QC+ARIB5f5y/5gCkgJ9A30DiAJ6/y//sAAPAr4AMQCzA4QDg/9H/UMAZQGc/eP5i/uu/Vj8j/nk+6wBRgKe/aj8BgIiBiUElwMLB4YIAwakAQgBygDQ/XH8A/4h/4n8s/gZ+Cb7IAESAa8BmAURBMj9Qf5aASgBhgGZAUMFtQVbANz4x/ma/+j9UflR/+kG/wWb/0UCZAQpA1P5+O+P++//+/sJ+cQBfgQDAb/4+POt/G8D3f0RA20VAg7r/hUFNhOFBr75b/zD/5P33e8C8CT1fPa6+XwLJQug+775pAS8AIAFMBaUFToGQQOIB8sFAP4F7Qbv2/rO88Xy/QO7B1X7KQAcC9kBv/yK9MH4wQpzB//4DgOwD9wBBPj9ALMFNPzW7kvv7gwAErr7egBrGjkVHPuC+N/3+vYU9OPrZ+9K8iLxKvIb/Gr+lwRZDZcD7//9GKsfBQjlDwEk7h0tCHgOMg5U8GrWit6//lL0cuMEBLsd9/+k9uf/W+o35aflxOvdBFYZYwr7+jwC7AyAIBgTMPst+VET0QZU/5MapxbcAnEGnBUd7unVAss416zks+27/PEEvQI36rTzjAKpBqcKLAovFkQqtSkFF4cQmiEeIAwVT/u13TvODtq59SAI6xEEAsn2ue/49hcBJe4d6rT/pAfu+CP9efVZ43zwmQ93Ger2EPH3/vcTKBwuGloebSJPEG3zwfmrAH/vhs9/0C/jUfdJ6fnhYAACD6gXWBBqFD8ZERCxBcsd+DLUHEwa8SynJNMDS/rq8bPYuck00Nric+HR1N7mWQUpAGzpqfZo+7L+xBYCItQOjQQ4FModChHu91oBBxSg/xrlyQatMRsndBtlGV7xa9nGykDA8r7Z1MbbK9x38wXva/Go57kPukFlJb4E6STHMWwWySCEURdF3xVCGQkLDfnA38XdUeTk60Lz3uxN5gbO2Mp46dX2WOEU9pQergib2TYKHkvcKNXy7AJJHioBU97I/+MppQQlDpMvIQzXxLa04dxW8C/73uKi3b3gWum58c/3Zz8FQjT+T/j0KlEqjBNcONtTbykLFtgjHg4x3p/JRuYU7u305e6Q137DUMhj7FcKhvFC1aHko/kk9g3/vC9eSY4/SipXNKMkMgEnBGIjwiL5HeQkgAVuvQGAFZRatjPGyMb97PvzhMQM1pcB5B/aKu4vTCoJJ+YyZhyuEENP6HrfPvAWIi/FH8rvOtZ04N4D5vvk1ADd7tSYwwDMaOk58MnpU+DO16ja/e30GX0OrAX2LRs8nRNV+zoc6kXGLyclyiQSHW/y/a3orp7HKcQtwM/lON+iyXvc0+YE+tQ2vEG5FQcLayB/DBwF40RlZLlC9iLqH6sJavSe4hrvagEN73zts+n82S6/9eG65nDeMheT8jTt+/bJAsQhBP6FFZpE3hye8z/5WR5fGCAhbkjULKr+UMk2tX/CHNCo1ZXqZvVp4KbCpM/60ULqcB8lH44EtQ2ZIXwKWCb6bRh0dDtpLfklKQrM6jH4Mxk9FZrsMdLk42bkgM34yzvbQwNaERLf59YP+o0X/fzw5NIgNEF0B4Hykx3xIeIVdi7bNFUct9wHsgmngMAN3z/rbv7I6HLTx9xV5RPlIyK3MZgJUQDyAvn4ywb4RNxc0ESLNn8fVBLPA1nvnwMyE8b7Xd0G7vTpINlE4hTpR/Ei/XbtpeGc9YMTKwsO+OMS0SllDYTnIw0rMJ4RnhgqShhQdAVasBmiCrgx0QzLGd+r+M/pds3t1AbooP5eH1kGafTQC20QJPhgHDtgyFqpNmcm+fxD81z3RP3YJkQq4fV/3pn8A/xc9BvzKN5R4a/60+oX3Bb9Sg4M/mn7bRVeI33/NfNgD8sbqiX8NAY3HhYf0rKlU63gyeDh3e4U+SX3Quio58rnYeehD0EiFg21+l391/IDBFtLBmNrSSEs5Qh665nqiOoYAkYbLwBK363pRftE+Wf/pAHU7cLrSul023rshgfzDFQKAxuVKbsPQPKACSUdxhFvGN4zSTcPBie57Jz4sVzZrvdJAhgBt+yu3VznWPtUEQ4iQQcE6S/nS+vX6w0fG1rJUUs1aR779k/c59qT79EgWSKZ9IXdNuj69lwMexrKBo3xue/35qDtyAcPC9QIcxr+KLsddgCT+QkH7g3tD3IetS7TEmDTKKqMrLi/Et2z+VYG6PVl4H/fAPFQC/odGBlACeIEyvsO670MfkokWvJDRyo0BaLhYdcT5V4KCBCj6tvX6uXa7j/+AQtCCjz+PO0a4Zfp8gNECV4BsAdRJrs0px4/CDMDdAhSECkh2SxQG6XvPcL9tZW+tdYy9VoDUv/z6nvgH+SU9/MO/xayElAECfo+6/z4ayqUVYJVIzYwDUbhndHl3Cr4oAe5+k7jBuN96mP1nA23GtEK7/aM6lLr+P6JCdUDcgeXIQE0fSe2D8oK2QmGCrIVpCSMG5z3pM+EuKSy68E65Gz7PQFe8FHfY+GM8KQCbhi8JtsZfgVv83/3DB8NSLVUkEGTH6/zBteK293yowhtBdnp1NYb5FD3JgKyCwUKW/Yy45DkCPUlAIH8BfxdDYopyDGVHpAOagteDaYYhialJUMMR9zsvpfAqs2G3gj04AFc+GLnguXw8An9dgfIE6gaEAqb9Oft7wLVLJhPtkw2KFD5hdEwy33iTAFqCGHzjdxz4L30lAJ/ClgMDgNs81rx1fy9A3f/8vj8A3oecS9gJqIO+QB0BfwVQyQdJTIRIOevw0fBAsgn0HDkD/oQ/t3yDeuq7UH5NwWxEOgaJheCA+fyKvlKH69KxFKxNosNc+Uk1TvihfhNAsTz29/B3entTPzSBFEKLwS8+ajzofXh+uf+MP+8ARUTBCQtI5ISGAPU/xcNGRvJH58Xnv1p3MfKFM7u02bhmPXH/1D6ZPKe7p/3MAdSEgwY8hIV//frdO5FC882P0ubOy0YufB716rY/utb+uzykeRO4/Xvy/yBA0gJeAuZAtL5pvoU/o0A2AICBo4QuyFwJjwV5v80+TMDXRMjGO8T+wL65W3LicZx0xvfkenq9Xn/5ftc87D2wQSzEqMdCxv3CZL3FfNcApAhHEHZQW4jiPuU37LZ3uTd9Zv3zOiy3vHo1PoLBEcHCwr8BsX/v/xC/Hf9kgG+BRAMKxroImQZnQbd/rsENhAiFoYUngqD87bYF8230Szcz+kO9OT7Dv1B+JP6+QY0FqshuSAnEGr7QfMh/Q8UXS6jOMkmKwfQ6hncpt115bPpm+aD4vbotfpJCGALlQudDm4M7AZuA9//IQEwB/kNkxZYHe4X7QmS/mL8cgLCCbcLNwcM+GLgn9CDztnUkt/f7Yb4yPsU+hP7fAUzFM4hTCJ7FnMEDvn//Y0P7CTHMWctYhXN+PDj/d5E4ZTjU+Lf36Hj0fAPAB4G5wqVDzIPrgiBBJ0CUAIgBPAKThadHgEc8RCtBTf+GgImCX0K0gXX/LXqStjJ0hrW1d3h6fD1WvqJ+PH4AQQ3E6MfzCI4GVUJcfwV/QAJ3Rr2KIApDBeR/Q/s5eI44VTgv96J3eThsO3a+oMDUgqOEJwRxg1MCc8GXQSWBvcNaRY6G9garRHiBND9gv30ApEFQwNz+zvuT91V0ifTsNlt43nug/Z494z3yv/fD+wfuyXhHL8MXwDF/qMI3BanI34m6hrZBwv3OOvQ4N7cKNxo3SzhRuoC9mX+PQZ6DGIQ6w/oDAgHGQLPA/QMVhWeGgMbZBToCDH/XfwH/4YDkgSgAc317+Vw2ajWftqO4Z7pOfHX9cj1dPutCrMdTidjIvQSgQOs/dMEQhFxG4wfYxkoDMD9kvF15aXd9NnI2FrbP+Po8X/+swYvDMwRjhQuErANewidCKUM/xNwGVsa5BfNDzIEbvuF+r39XwAk/7313ufz3JfXldpC4F3nXu568VL0J/zxCqgasiTAI3QZ5g0yB9wGKQ0xFoMarhjhERcHs/ri7gvir9lr1mrZkuGJ6zD4pAHZCU0PxxOwE7EObAllB7QJow6cFYsYwxUrD7cG2v3L+pb7HP/X/4n5TvDj45XbN9th4kLpee2q8Tvz0PkbCIEYLCK2ItwbpRCuB7YFJwmiD4gT4xEuDXgG4P2p8ZjllNts1+bYzuAQ6zX2+v9aCX8TAhkrGjEWKBCOChYNghHmFeQXXhWlD4AG3f46+HH2oPjZ+ob3QvFg6K/eptu34LjnFut07dXw8/fBA0cTUB9BI5QelhTKCygI9grFDUUPfQ7kDLUJZgOb+brtx+E12Y7YI9x35CfusfogBV0ONRUkF3gWrhE8DEML+A9mE3EVJhWWEXgKwAEL+rT1E/VB+Nv4oPN06yDkxeJg5IjoEe3j7ZHxrvfMAgUQ2hsyI8ogaRkAD8gJvgiuCfsJagiyBnYG4gLy+sTwL+d13/Ha/dtB4WnrePemA0sMuhQEGtcb8BdNEWUO/g8NE74S7xImD20KWwNR+mj2DfaM9sH1s/HZ69XlzuFk4+bm7evY7UDvrPSx/rYL+helIG8gShoKEgwN7QqKCjsKwwgpBmED+QK3/l72/+xG5PLdGtya4InodfNa/wQKyRLHGOkaqRgjEkwP3A+fEMARMhA6DgQJ0gN//Kb2JvWX9Z71q/KV76XqaOe05xPqguvp7Gfum/In/PwI/BUxHpQffBuvFPQNcwsECl4HlQRKA+YBrgBz/4f4s+9t5TDfj9zW3RHkCu1Q+owGNBI5GXsb0hqgF60STRHoEvwSlBGjD/QLUAUW/674p/Rr837zOvKo72/sY+lx6IzpxevT7YrurvA9+TQFUBHpGrAdRxyKF8gQpgwyCyMJyQRGAVEALAELASb93PTP6xHlceFE4LTiPOpC9dIAvQtXFfEZtRnkFoUTcBHKEawRaw8sDTYL3AY1AMf6Tvb580Hz7/IY8eXtVOs569brR+zm7U/uKPA59l8CTQ44GGEd5BumF6gRUA4JDKAIGQRz/0L9k/5c/9r8M/bq7qXnYuEc4Jnh1ucD8Tn9iQkmFI8bFxyJGcsWBBauFEMUmxIIECoNwwnYBPD9bvjv9C/z0vHy8HXu3+xZ7J7tXe6n7bTtnO2E8Q770AdOE8IZZBvgGDoURhA6DksLkQVAAGj+Bf+GAE4A7vrb8t/rqOW24Zzh/eMB6xj1GgPkD7YY0RvcGYIWRBPgEvARLhB+DZsLrAcmA6b9Z/g49BrxKvAs79/uxO3u7b/v9PGv8gHyH/GA8o/5HQWrEWgZghsOGq0WuBLID4oMjwZU/1n7TvsI/LD9mPpH9G3tqehD5dzijuNN6PbwC/2tC+wWBB18HJQaIhdOFdkUWhImDxAMgAnqBOgAPvw59/jyPfFG8H7uTu0g7RPvg/BL8lDyU/A+8N31MgD1C7UVhRm0GFsWLxSNEZoP4QkKAo380/qB/P/91fws+MLxVexn6fzmmOah6BXvL/kqBkIT+RmGG1cZihauE64S0xDCDCgKiAayA/kAi/zl993zjvAP8FXwcu+j71DxZvPI9CP1MvSJ8nz0//wxB+ERFxi8F94V1hLLEBEP1AlsAkj8Afi/+PP78/v1+MvzD+6b6YPntub+587r/PStAYIO3hgrHDEbaxiHFfwTvhI+D5sMuAhzBPcCeP/e+kH2lfHv7t3u4+6B73jwwfIR9W31r/Wj9BP0WvncAsIMwRR6F8AWxxNbEZUQVg0nBuz/Cfvf+OD7Kf03/If4MPMu70fs3er/6kfsIvLq/FMIkhOLGQUa7xeoFEETLRLXDjULmwfgAt0Af//a+7j35vIR71fu6u4B8C3x0vFt9Kb10fXq9QD1AvhC//0HhBAjFSIV/xJ4D2EOpwy+BiQAIfph9i73cvkP+Qf3ZPL77a7rMOr66T3rfe9O+PEDhg8jGIsaGhoAFxYUbBOBEZ8N0Qh/BKgBfQD0/Sj6YvS77yDus+578Dzy4PME9V72ovZ69sz1Xfd4/KQDRAxdE6wVjRRlEvoPPQ4BCtMDS/3m+ML4i/om/Jf7ovgi9NDwye6W7XntMPAN97gAHwzGFV4ajRrDGNMUMBL8EMYN4QhCBE4Bh/8j/hX7Evai8OTtgu0Y7/7xqvTp9mv4Vvl5+Sf5Wfmj/PkB7ghOEH4UwxQPE3MQTw2HCbIDQf2s9xr1c/Uv91H4XPfE9JHxaO8A7tHtE+/881D8uQYREfoXWhp0GQEX0BPPEfoOvArOBQIClv9N/k/8Ifh982fvo+0d7nHwCfMc9a72BviF+Dz4WfgC+ir+GwTgCjoQ0xK+EqwQgQ0kCq0Fzf/o+n73BPaX9uz3LfhA9y31lvLC8MfvmPAS9On66wNyDTEVjxk8GooYiRVHEigPDgubBpICqf+q/Zj7cPjB9CPxq+597nDwu/MI96z5LPu8+6j7qfvE/L//ZwT6CU0PtxIhFLUSQA90C+EGJAEM/Kf4PPa19an2c/dd90j2+/Mv8UTvbe8Q8uD3ZwCVCdwRqBdyGjwaixc9FPcQ/wy8CPgEDwKm/zP9PPql9s3ylO+37QTunfBb9K33u/ml+qH6avoL+y39uABtBV8KiA7xEDcRSQ+0C0QHDgIN/Rj5Nvaz9OH0CfY596X3p/be9Ory4vH+8tD2XP11BXwNoRN1F7cYQhcTFFIQGAyFB50DpABE/tr7Y/nJ9sjz6/AT793umvD485n3ifpo/Gr9l/28/Tv/5wGfBcAJcg33D+IQ0Q/9DNcI7QM0/876Ovf69Nrz//MN9d/1lPV09DHzE/KJ8mv1Kfu/Ar4KgRFeFgEZ4hgAF6MTOg+WClAGmwL+/3v9qPq897P0uPGM7+nuH/AZ83j2tfki/Dv9TP3H/OL8tP4cAukFwQlADRYP0Q7gDL4JXQW4AFz83Phx9jX1RPVg9rL3R/i79yb2d/S382D1pflBAMwHag5uE5QWaBcjFi4T2A4CCpoF6QE7/0b9I/ud+Nv1+fJU8O7uaO++8R31sPj6+3j+cv+E/5L/XQBJAjYFpwjpC0sOyw6VDfUKRAcBA0P+wvlM9jL0ufO19HP25feN+Ov3h/Z79eP1TfgF/bADWwoWED8UfBaWFsoUexE4DYgIKAQSAe7+QP1e+//4OfaE877xhPHx8nj1P/gP+8D9Q/9q/w3/K/9IAFgCTgWZCCwLUAzZCxoKgwclBGYARvx6+PH12PRg9ff2sPjO+cP5pfih91P3nfj4+zABXQcYDVwRERTWFIYTqBCgDDwI7gOGAPn9IPxg+pj4RPa788HxEfER8p/0CfiP+7v+eQBDAQYBawBoAAUClQSnB64KOgxKDLQKGwjlBBUBGP2O+ej2BPXL9Pj1r/hi+vD4sPc59w33Yfcr+Wr9NQPuCWcPgxJAFDIUrhIvEOAMpgjDBe0DlwJuAN/9xft3+Cb1F/JB8a7xLPKo8/X1GfiM+QT5B/hB+Kb5w/zPAMwFSQpWDX4PThCFD5kN5QrjB5MEMgEk/+79dv2r/V38ZvnG9aDyzu+A7eDtJfGg9U/7awHBBoAK/AyPDvYOGg9MD0IPxQ6dDhUOKAzLCGEEr/80/I36dPnP97T1nfMX8Rvu6OoN6VPpC+wP8UD3dP3rAnMHtQswD/4QPBFAELUPZw4fDbQMNgzyCUgG1AJz/rj4yvJF7njr7epq7Ufw/fPr9+/7Lv6R/4gCAQNnBd8IUQ0REQ8TwBT2FLUSCA9KC7MGzwMNAn3/Ifx4+KnzyO696I7j5OIX5Nrl9urO8AP4Xv4zA1AHTwmODRIOgw1CDvsPOhGdEtAS3BC6D3AKdwTZ+w73p/PV8APz6fQ99rb2z/WU8kvy3PM+96b7pf/aBMoJbwx2DnQNDg03DtENKg0KDMwKpwf9BCcADfxW93TxT+8u7hTuUO8I8crzufdk+xP9YP5JAP//1/2N/f0AIgXBCBMMtw+jEFkOjQo5Aw78Vfn5+DX6af3QABoD6wIBAZz+Lfy6+ST5nPkR/Eb+aP9vAcoCVwUuB8wIsQrMCyELXwmPB64EYQEE/o/7Nfrr+Jz3w/aR9hv4ePoI+8n68/vp+5z6m/nx+UT8GP+NArEF5AcPCuQKhwlbB4cEagGy/wr/jP7N/n3/rv8i/1H+evyE+t75Wvlc+fT5Oft8/Xb/rAFBAwUF7gcGC4QNyA5TD5QO5gy9CaAFsAF0/lD7R/l7+eb5/vmL+cf4XvdA9U/zjPK48qXz9PVf+UH9CAEPBYkI/AqRC8EKOAjjBEQCBgG9AT0CGQNtA/cB5P5r+xD4qfVo9Of05Pa++Or6wPw3/3sCbAYjC3wPFxJAE3YSbRA4DjQMMgobCHMGDwSlAf/+rvuW+DX2nPPZ8Pbu/u367CHsR+0K8HHzdPdw/AIBawT7BrEIhgkBCboI8gnWC2AMCQzBCqYHFwNC/vr5Dfaa88vxyPC98Kbx4PIs9KH2mPoc/ygELgk3DY8PNxAAES4RbRESEPAOqA6XDCYLDgnJBacBA/5t+r32h/O97yHtTerA6SLquust8GL0j/eB+vX9AgCCAbMCbgTlB8kL9Q1BD+MPRw7aCwMJEwSFABf9y/p/+TX48Pfm9sn4XvkH+1L95v+0ArkC6wLwAcEEnAYtBUYHLgs6Da8LfwzyDZMK8wY/BQIGWgJb/rf8tvci9DXyL/JW8EPyYPWH9PP0G/eT93j0pfZS/DX/sAPjCRwMigumCzAN8Qp+BkgBnQFLA1QAwf/6/dP8r/wg/wIA8AB4AwMD8wDb/uv9G/wT+8351fri/F7+/f07/6cCwgXIBWv/zwIAB40DmwILCWwM3AbzB1MGPwHb/Tb5hfhj9oXzLfIs8wHwueon60HxQPsd/dL8rgFTAuP71vzLBAIHugayDCESgREcCkkEHAmoCwEMjw02B3n6TP9uC1oBmvWA+NT7kPsC/Pn9//nM+hIJzhB9/hfn++yZ+Wn0nfkBDSYIbvnx/tsF9f1e/64N0RjuHl4NQ/eH7s3rr/qKDPQNZgPi9mPix93a75v6oP9KBSQHhf/z+i4ARQkFDKQPUBqhFLD8hOxe7En6vwoADwoLnQYMBXwB//91A4wEo/tM9OsCRBhNDe3roukF9zP7XP2G/pH8v/xNCGcSkBjDAXbnHfDO/2kFdAWoA8b5wfN38UTuGfJ57cfrKvlSBUIBKfe3+WvvefFdFBcv+QuT7NcJXAkh8fgJ0CUHA9v86CZ1QoBCxhPC747+cAWG7wT2IgzM+3LrEtUDyGHfYOhd43HwYP8K4WvFYuLKEAEeOw9ABjAGk/28+L34wAU8GhIiNSDyH5kfKwiu9L/2xAyVHioZBv5F5lTzegmPAgfzkO7767ryGwgREkf7cNol1MP5mCZ9KfsKqPaR9rcAlA0iEIcDk/Ip7hQBMRhRGKX/0+AV2rn4bBT/9k3TXuhmDPb/hfjiGCAPDOoJ96IaZgn4+2IRTCJ3QXA48woB8O3j0OX9+XISfABz7PbcJtkn9cDwSdNA1z/93fiv6KgA+BMcEVoJrBf4JxwSgPGJ7soMjiOeITUWGg2pE40MvwQoBZoBS/UL5KTaweyDDTsCxd+12K31qghCBR0DbPgx5rvgdPiFGdUf8v+n4nH8oinCM7wZNwjKBxr32vTRCNcKGP4cClwY5RTqBCHhKtC15XL+GA6nFfIHUPVW5ePmlP4LCJT6pu6k84n3sPWH9/8AOwcmCUYOe/7b53vmIvB3+cQTfyicHVQQTQ0KC2b/5P8G95vuSBb7NQMb7PsgDdcP2PGQ6b/6Yv/0AzIVphcRAAjUwMYgykbR4fLDA+zoRN+DCTMPAuqA8nQPpgloDb8okzKpF6P+2hZDOJI4lQ4v7iLr6/hHB373Mu0O5VPXCtI76SgIE/IIyxPXQgpkHc//ivOIDIgWPwe1+Lv+3xqbKuwqxTIQJiT7Ptxm7LQjYkLJJ67qNNwl+gr6TOif23PYoNxE8RcKDwm0667Kic0X/CQNaPbp8XH/pPzBCiQveR239LfwDw+cFRcVABsvFwUcKhBu/ir8nvk86grxmhC/GBYMFvMv3tLog/9aDScNlgrL8vbS++PgFjQmlA7PAgX7K+jO4s7lPfbNE+0d3w/H+MfsMewL+FYFuBGUHGYVj/qD7eEB/hgRDzH7u/nJAkgH7ApIEj0ILe8y3bPpkPXY68HnafN053flSAkYBrPkHOPh/q0FGReSN6E+JECdI4AIZRN2Ddfv2u61FPAowBk37IDNY+fN+pjwhO9q97Xd8b7u1vcC7w4wAoDz3fAd9lnx3+Th7p0S+yInI+8ePxpCF2QK4AWZFkIv7SueC3b0uPiRA0/4kuTc4hbxcPcr+e36O+k4zh/LIOwPCMQBYvJC8v7owvBULFA3QhDD+YMG7BMNGaE5kUQOONkTLgQ4E/QAcd2Q0gL0Dwuq/JXtteKN2P3Kb81f77gK9/ac1JTm9wg6Fs0LZgBoB5sAb/DY67cArROlGp4npCq0KDwVu/AD5oT68Rd4JnAcuAgwAKD71+Wq2Tb4NRNKApbtxfUhBzL28czv3X0YZRvB9Qzygv9V/Tb/lQfTF/wdswtIAQoPhA8OAi7/nAzUD7f9leyo4k7wDvYmAKENOQac59LRheej/nAOCw7LAQT3Aveu+SH+LwW//rL8q/kd95oAwgeBCKUVpi7JMScWGPUD6V0B/RdkFBARihS6BeDsY+7u8LPmQeEk8JMJyghq/kr+/val67XwQf2w/94F0gfLAOn+UfM26RXw8gH0DuIG9vRz8hL9aP5KBjoS2wjP9bjr1/fIB8YIuAj9CBAEVfrM+zUEJgweFiMWxhRID48CXP+mAbIAsQP+DJEOhweU/2L8iwKYA9H+KvdN7uPn8u5A8xb0EAgIEK8ILftI7I7oPPXXBu8RzxbID6z97vLX6eDeyeHV6rT/QRLmEr0AyvGy6ibmJu7D/GEK2AR5+Cb7hwghEaUSIBQCFcYGsvKt8Z8DFBNkE3AQ8RSSF0sK9wAuC28U0RDzCzsM6A2gBLPzA+3K7mbvBu/q8wX48fiX9kPtC/Cf+pz0Les49UEDkv+J+lUFYQwAAUjyJu3y8Qn0pvnEB0IQ5Qqt+fPpAOW88U0A/AbPDi4Vgg0+/7z9cQVeDeIO+gvKCLH+r/R8/WcQ+BpWGM4P0QdEAksCxwrUF4ghjyBUE0YCyPHl7MTwf/Vi/XT4qO3Y5MHlBe9C8Wzwje5d9nf4Y/xCBAYCvP5z/twBmv0/9unvnPAW/m0MNRFKDfkD2fSb7+n+hwuWC0IFxf8x+tb3Nv2fBoAOaAiOACQAeAHYASsH+w8TF9wXaREgC0sKtw99FWAZLhkWEI4HaAST+tXu9uoe8sn37fTn7ADnCuZw4wrlPO3y9Ar1gva8+2z7+PdK+Wv87/5fBDAGRP8W+VP8hwTbCSYKVwe5A+4ACQCXAokFuQKg/Tj/fAEj/4T8Rv9gBX0KdwrgA4n93/uQ/2sGQg9fFHkXVBZ9EWcSuRVWFYkQdgtyBrkBXP5x+yP0t+3e7YnwVPIC7U7nPuaB6fjvCvdC+yL4svO581/3uvoc/rcC7AUpBLL9gPTL8ln9KgUyBnAGRwV//5z7tgGkC7wN0QWz/1kEwgsFDU0K/QccB2wFdgQ9BFEE/ASuBHUGUQ8MFm8ShAmgAUIBKwTiAsb+3P21+vLxZu3872ny/O9P7o/xvvU480bu3e7M9Df6KPwjAIQEyATr/4b+hwDt/6r+ifyV+Tb3x/b59X33e/zK/iMA0QKYANn7JPviABAIyQsvC7YHFwlSDVgPzA0gC74N3RN+GIwXohNeDggLRRENGgYa4g3S/835zPqf/OH6WPYh7t3kUeIr55/ste1/6+ToEuhZ6jTuWPNL+cv9AQAEAU4BDAOSAn8APgFnA4AFpQUQB/cGSAX5AZAARQVgB3kDOAH3Adn+tvu2/vcF1gnTCJ4FEgI/ACkCEgarCfoJ8QYeBjMJ+A53EvoSkxK5EWkO/QoTChgHOQAt+gL5NfmU9YHu2+lO6yftcuuj6JnlieSv52Lt7/KZ91H44vYe9w/5y/s/+w34cfiy/bgDrQXOBWoGwAW2BnUJ9AxlERwTqRBrDiMM3gogC94L7wnvBZEDRwGo//r+0QFKB0MKyAavAdQBkQV7CCEKUgqlBlUAvvtO/owCwf9o92zzkvd9+/D5qfV98nvwC/Ep9Dr2RPV19en4QPx9/IX7LPmq9MXzAvgL/e/9bfzD+7H8WP4zALQCwQOuA28FZAkMDAQLqQm3CvcL1wulC88LUgueCe8IDgmCCHQH5wbFByQJ5QkaB3IE2QTGBugHCgeIA0L9sPjc9wb4OPZC9Oby9/FF8C7vrO+U70Dv3PCK9ij72PvF+8L8Qf7A/ur+bv/m/nf9yfxK//AC0QOcAyUDAgPhAooCqQKOA9UFjQcvCJAILAfoBPAEWAdTCCkGpwOrAjcDsQVxCKIJDwsUC/cKBQ0lDiEMmQnVCCsHYwVnAm/9PvlQ9kv1KfZT9s/yNe6x6wns8+6O8QX0VfXX9G/1o/ga/ET9i/wE+0z6Q/sT/RYALgMUBWQHPQkTCI4EnANFBXYICgqiCTEJaAeaBUgESQQPAxUBeABnAEIAZf9//24BVgOaBKMF3gYPB3YGpQd8CPgGOAXaBLQCav/f/VD8Nvm99q32Kvd199T1afFT7afsnO+R9Dr4pflq+Sj3Vfb/98j58vqc+0j7O/ve/RgBuAI4AogBYQPpBFYE8wM6BR4GegZBCBYKIQmsBQUEqgXuB0gHQgZaBXUEbAQ7BM0E9QWrBkQFfASbBgUIlQXsAhECtQE3AM/91Prk94L1GfVZ9vv21fRN8ojy9fNz9NT2TvsQ/jkAif8E/wD+5/s6+8j+0QHUAfcAGP/N/jgAFAKjAycFKQQoA/kDiASUBDoEOwNaBGQFSAQ6BKoEMQNaAkUDSAXJB/cIKgpKDI0M9AskC5QKiwkeCdsHLgOF/1/9QPzw+v/51Piq9h7zZfEy8kr0qfQz83bzv/RW9hz4EPpC+9b7afyK/f/+W/80/sz+9f+fAE0B3AIIBRYGsAXGBVEGAgbWBIoEcwVaBDoCKQHNASMCTAJqApACjAJyAdQAQwJkBGsF4QX6BSYF0AMwBH8F1wU8BaMFywW4Arf/z/7T/i/+Ufyr+bv2cPTf8mXzi/Xa9jv2//R69Lz1q/eP+Hf5bPqQ+g/6vfnE+fL6Sv2d/ycBRwJyAmQC9AIyBOYFHggGCv8J5AnECbgJvAlaCaoIkgcmBjIE9QIuAycEQgUDBncFoANUAl0CjwO3BK8EMgN7AOT96fwM/bz8+ftE+6L6gPmK+Er4Avqy+gf6Ffuo/H78d/oB+qr6APsS+tD5kvql+fX3tvia+1P9g/5Y/0oAywDqACUBMQFdAdcBYwPKBbgHXAeABRIEdgSuBZEGMQeYCBcKkwpiCocJ5wjlCDkJzQgbCB8H8QT8AYH/Ff7y/Kz7lPr/+WH5B/mS+Ez3Rvb49RX2z/Ym+BL5L/kv+a75Zfqn+lv6ePrA+yT+4f/8/9v/XAApAuIDjQTiA4gCpgFbAfYBNgMBBKQDmAL1AScCPwIPAswBJwLGAn4D6QMRBHwE6gRVBX8FpgX4BSMHBAjcB+UGlAUYBHQCoAFpAdoA2v5o/Jb6wfjN9rP1uPXo9TX2vvYD9wH3Avfk9tD2E/fL9+D4svnB+oP8nP7GAHUCDQOTAqUCxQOdBNwEhgWcBrkG5AWxBbsFwASSA04DtgNYA1MCqQGRAboBZgLKA7UErgRRBC4EDAQbBBAE+QM3A5gBHgCR/33/ov5+/b38LPyv+kn5Yfl7+pr65fl3+b74l/fA9mf2c/a49ub22Pdq+fn63Ps9/e7+pgBtAm8DdARSBXoFHgVVBckF7AUGBhUGTwWlBGwE4wO2A6ADygOkA6gDQgQ5BQ8GxQVpBWkFjQVGBRoEGQP0AsUCYAINAmEBdQBj/8b+f/77/e38FvuQ+XT44ffF93n3Zfdh9yb3v/bW9ov3mPja+d36wfv2/O/9c/6F/xIBrgKZA+oDPgS5BFIF1gViBvUGPAcbB5wGgQVzBG0DbwLCAXgBIQGzAPoAYAF6AVUBIgEAAQ8BiwHsAV4C2QKoAmoCMQLBASsBLgDo/nn9dPzh+2b7EPtb+tD5EPo1+rv54/hH+An4WfjP+Bb5Fvk5+fz5WPve/Bv+l/8JAYUC7QMpBeAFOQYGBz4I+QjrCIYI5Qf+BgcG7gVpBWUECwQnBD0EngOUArwBdQEMAWwA7//9/uL9Gv0S/Q/9tfxV/FP82Pwb/X79/P1Y/pf+vP7g/tT+if5x/mj+Ov7C/TX93vwm/H/7UvuV+x/8wvyX/SD+Lv4r/nX+Y/8tADYAZAAAAZABSgIpA1cEHgXzBKAEugR8BfAF+wU6Bq4GlwYaBpgFDQVvBHcDoQKwAZ4Azf9O/8P+//1H/an8SvzA+9v6Z/qE+kP65fn1+SL6TfqW+nr7d/w5/bT9Vf7m/hr/cP/8/+YAOQFVAaEB5wEDAtABpAFxASoB8wA0AdsBXwJqAg4ClwFEAQ8B6QCCAP//wv/Y//r/AgBIAOkAOgFIAZUB8wEzAl0CsgLVApACOQKfAdwALwCe/yP/gf4A/rP9Wv3M/G78evyY/Hr8S/xg/En8+vvN++X7FvxT/HD81fy9/Xr+GP8XAJABuQJUA9YDYwTaBEoFiQWABVYFGQWkBBQEqgM1A4MCsAFRAVQBagFKAfQAmAAsAK3/WP+u/rv9M/0f/UX9Kv0X/QP98vxc/Uf+DP8P/+r+JP+x/xwAJwArABMA5f/R/83/nP8X/yv+fv2M/fL9DP4T/h/+dv78/jP/nf/o/+7/KwC5ADQBjgGsAdEBVgIGA38DygP6A/ADCwRVBIQEbATdA38DLQOgArIB0QAeAGT/8/5z/uz9QP32/M78zvyl/G78Sfwg/An8IfxP/Er8Ufxu/C/9zP0v/pn+NP+x//n/VAChAOIA/QAVAVQBQQH8AMsA0QD2APsAGwEAASYBQwFrAdMBHAI4AhgCGQIvAvsBtwFEAbsAcgCTALMAnwDHAMYAhQBBAFEAeAByAF0AYgBCANX/Mv/5/uP+h/46/g7+9v2I/U/9j/35/Tf+N/44/ov+7P4W/wr/AP8S/wb//P5H/77/rv+v/y8A1ACAAeUBQALzAm4DXwNZA30DlgN4A08DMgO6AvoBWgEdAQkBuAArALv/lv+F/4//Xv8A/13+jP3+/Lb8o/xQ/OP7uvv6+0f8efyk/PD8gf0m/r/+kf8dAFEAkgDyADgBSQFMAWUBlgGCAYMBiwGvAbsBowGYAbABxwHGAW4BFAEGAcwAlQCRAJ8AewBsAIMAmgCtAOAANQFzAWcBXgGQAcgBygGZAWABHQHpALYAXgAQANj/gf8Y/9r+lv43/u39vv2e/Vj9D/3y/N38zvzu/BH9Lf1k/Qf+oP4d/8n/YQD0AHcB6gFmAtYC+QIEA/AC6gLnAvoC7gK6Al8CIgL2Aa0BkQF2AXYBKQGsACkAwP9j//r+av7p/Vv9Cv0F/Qr9RP1j/Y39rP3k/VL+vP4L/zj/Lv8m/wH/+f4D/+/+2P6z/r/+DP9f/57/mP+H/6j/0P8pAH0AnABYABcAAgAaAGkAnwC8ANoALAFkAYkB0wFIAssCGQMdAwcD5gKlAnICUwIpArIBNgHEAFAA7f+m/33/OP/C/nD+V/47/jD+Df7d/Z39g/2T/cf98f0E/jX+TP54/rX+K//V/3wA+QAfAWQBlgHWAf0B8wHtAeEB1AGiAYcBawFSAU0BSAFKAU8BQAEhAQ4B6QCfAFgACwCu/0r/Kv9y/9j/8f8DANz/EgBhAMgA3wCmALAAlADDAHQAOgAZAKP/Fv/4/sb+V/4A/l/+0P1z/Xf9U/2C/T39R/2R/d39EP3E/D/9dP10/XL+G/+Q/xgAHQGiAdMAxAGLAiEDfARoBGMDTwM+BC4DBQKLAqoCcQLOAGoB/gFI/2D+3P8VAT//AP/k/kr9Kv3W/Ez9OPzE/WL+9/3b/sj/rf/b/YEAkwEv/3wA3QNTBIICpQKhA6cArP6KAHMBUP67/pkB1v4Y/S0AJv8U/Kn+YABk/tn8z/30/RX/YgB7/S798/+k/xL+Tf+DAXUB+QHRA8YDSgEHAFsDLAXSAnoAbP7n/0QDvwNJ/kH9E//Q/s8C0QRZ/sT53gCOA/kA2Pt8+/L7YPstATwIXAHb9fH+HwNK/nP+iwNE/7j8zgGPA3QDC/yw/fEA4vys/YgC7/4S+9YGegt8/2L62v3DA8n9xPcc/a0FPga7+oD9FgIw/xP8gAyZEhICzAH0BS8Cnf//A6sDSf5U+Ob1XPkY/Cv5Tfns+8T/5wTZ+wLtWfWkClQHrvbMAoUO/Po/7wcB0Q4LCbYE9AnCFoQW/QpSEWkVbwON9iz3Tftx/RH/2PNz6Z7rGPB18Uzx//Ka8U/yQPvNCSQHMP3N/WEEKwWYAiACfgL6AA8AqAsqFsgX4g89BHj/iQVxDlQJNvtZ+tMCW//Q9Q3zXvg3+w/9Hv+D/Pf26PP/+qoCMgZkAA74dfi5AP4CpP3E/Hz6C/oL/8ABDAJuBZ3yhOWy/m8ZCPk74ZgOURjw/Nr8AQzO+NP0GSAkPD0t9gnSBJoVjApD+y773/2/8vHsGvMg5+rdVNd42kXlqPn7+VjkMOuxB2YQIAU6C3YWGAXO92MBRQ/GJDchKhHTD0IYfhcFC2oLng59E44Qc/lo6qnyqfif7aPlaOpc7JvjgeYr9SX6yPVx/Q0JKwm+BWMCAgHSAtUJ/g6IDbACkfn8/GUDdAbTCxIMSQTT/hD+FAB8/oP37vesAcQJ5Act/5X5rvzBA/7/Y/wT/6j6CvWr+i0G9AUk/e771QRqAdv2Hvbp+l78gvjf/T4GUwnKA4UAp/9kArkHdhAs+aLmngPkJ7IM2trrCL4hWPmS4XMDLQcC7KAN+zq4OTkEROla+Z72A+e83NDgn++Z77/sq+nD7arlqurq9/gDQwns9LP2tRU5Kr0awBO3FxACWfAk+lEEKRfCGlYGEv9ZB9MNWQeACvwMExAlEe76HOJt5b/2qvVi7WDudvZH92P9aQ2+Dkr+Sf0JDHkK9vyJ9YjxPu+29uECkQef+KXrX/cnB/IILg0WDp4FkgAS/4IAfP/H+qj/+Af2DtwMZQMo+wn9rBBxExYCuPS28cTrwexK+I//yPxV/3sKnAXX/18EBwrvCysJngwID6UOaAtBApoBBP2i/bQFRQehCEcJ3wrwAijw6+hL7Onvu+pS6Y7uO+3/7kD97wVR+bXlUeRE5eDcv/boGFAXNQXbGu0kIwEG+SwXhR1QDVoWSy+zKDEA++yWAewS5wUcBKX63O245J7mcO99+lz9vvRl+7H+ZPfr5HLsLRRKMPgewgMR8S3f0+PvA6QZDBuOCx/gXtDJ7GIOfQf8CwYhSggl7+vX1Nh37osW6z01LzQKyefH6jn/UAw5GVoU6gnm/ffyxva49rblmdIJ48z7XPat4nLYpfKIEOgb5CCgHZEA9dsy5KQIgCpINIgfRxQ7FAoWFBUzBUAL5CBcJWEMBuMC0I3XZe+bAhABjPRc4obZrear+nEH1P8X8y3tZvE8+gMDKQkQBlX9IvyuAoUD9AWtDigT9xZMH/4WXgdoAjMEEvyx7wTvafnW+3n57gOBEaH4hdoR9AkTYA5c9yzvr/HM+88O6C0YO5kfzQSxAyUGL/yt/dwBsQBtAbb9UvIN5Yffw94j5hz5A/vG59Xcje/GB8r/C/aYAC0I8QEA/YQLyxjKCfcCvx2sLpMZCPhg6LrsqwDMEbkOjAGI+j72ffCW7TLxUP2nAsD/4P+X/vz3Jv55FWQgpxAP/pD/Bw+8D1YGaBJQEHzo99o++/0LEP8qBpURPf3+32zdiPUp83vhLO7VBUEGsvlC9D3xuvlmBJgFWhDnF2gIqPLl8AD8y/vwAH8U9BUuAMDvjO0M9QkPlSU3HXwJB/yN+r3vouqgBQ0daw9E+bX7wgX0CuQRuhpMFIID/fdq/HMDqgEE+5b9PQdS/qPmW9ui4MPf5tyF5pj3y/kw8VH0wwOIBjIDMwg/CVIEPgB5BvkLfgrmDZMYUx0ZEAn8L/PQ+scPaCAOImwNuOpz3D/sVf9sBDsHPwwzAVz05PgG/7H/TgSqC0wGWPzA9rn91QgIDYkSFh3EFo72teUm7JDyv/B79Fn7bvnm9NDvce9k77PlwN7/8Y0TGRq1EO0LMQ0TD8kGqwAs/48DsAKZBIAIUQO/A1gJkxChDvAFRP1l+qr7Gf8MATj69vqOANz8rfkM/S35K/MN+XUFQBFlF/YRSAVx/+j8mAB3BzwDk/aQ6JnvMwCnAcD0y+rV8GH3VfxI+enwt/L89133gvSQ+cYEshPCHz4fpBKhArf2NvS7/ekEAQlZC+ACpPVp85L/KQgq/27xHPW1/ZD93wIADloTQhEPEWYTFAxW+67vUPhmCEoNFgoqBkMDIv1O9BztOe3d9Qf40/NH8yfzYffP+ef2WPDu5l3jDufW8Bn+3g/cIIwhfxa3CRUHkxC6FSARjwscDhkTtBJ7CeEChgT+BLr+KfXJ7uPtDPIn+SECpwCO8+DsavQB/bH+Mv8KBIwJdQXi/jwAYwNAA8kFpAqbCwMH+f7f+CP2X/e1AOQK6gyNA5T4fPf6+R77/fuy/5b+bveO7uHpIO96+3sLsRRzDnf/KvmB+wcBPQfnCVUIEAZNBKb9dPRk8oz41/w9+J74kgSvDGYMowl9CvgJrwcEBPQCQAQzBuoK3QyJDQEL3wUG/+73cu+t5wLoOPH1+Qv59vKu7/DvnfWE/Sf//PxM+jf7ev12AZkG6QYpBFQDZgVFB3wIsQlgCvMIKAkBCvgJowhbBS8FSwi1Bv0AFv2d+vv29vHR703wFPTk+r0DbAqvB7z/Ofse/kQD4AT/AwoCggCS/wb/4QHjAjL9R/X17/PxTvfa/hkHYA2LDc4Fkf5G/FAAIwZCCI8GBgId/Kr5Yf1VA7ICtfzI9vb1XPmy+gX9ZAJgBh8EcwJbBRIEx/2y+wEA4QQyBLv/Bv7d/gIAzgBRAEgBFQIwAoEDaAQVA74AKgPLB/kKaQpKBZwA2P/zAKYBEwBa+Ivt6ehm7oz3Qf6PAtgFlARf/Lr1Evgy/O/7h/tW/kEBUQAJ/uX7lPzV//EDEAZYBUQGWgpgDfgLvAnGBUACpgK8A2MATvwz/U0BjQMXBKYDYQFa/dX4XPpL/j3/9P2s/EX8fv6sAs0E2QRJA73/qfmT8/HxI/Y6/QwDdwWYA8P9kPju+eAAYgR8AmABdgMJBmsIUwsMDNkKKwlMBoYBi/q783fxhvSh+ZD9ef+O/0v/UQDsANf/aP7++3/4t/jW/aYC0QLq/7H/1f+S/PT46vkP/5gFcQ3dDxsJEwEy/3QCBgUCBLYBvP8b/13/+P4F/nn9m/zz+Qn4xPZo9CTzsPW9+3//f/9Z/5IAPQIkA7MDfwRsBLEC/AA0AegDqgbtBicEkQHx/5L+Wv2F/Sb/ZgHXBOsHaAggBuoEjgW1BmQEtv21+H73v/fI9/b5tP6UAQcCWAGV/1n9SPyI+2z7WPxE/W39cvz8+6T6W/kV+kX8Mf7qANYGOQziCycI7wa9BwsH2gYNBzUFLQNUAo4DmgQhBM4BQP5H/Ar7ePkl+a36R/zV+9T6rfuM/fH/fQJWBPUEfAPn/xn9SvxH/OH8+P14/o7+6v/i/3j+X/wV+zL8Y/1ZAMADcgUSB4EKgg0CDKMFUP6++mD51/eG9y77KAAIAyoEBwRAAwYBVP6e+hv4I/qm/YIAkQI8Ak3/DfwA+XX3sfi3+9T/DwTjBpoG0wMKAQcAdwEKA5sCNwFjATIDPwUgBQUDLQFb/o766vcU+DX6bfwr/t3+2/7P//f/KACFAJsAXgAxAOIBVgNYBFoFvgZlBtkCYwA9ATsCfwKCAvUCtAPlA7UDCAS0A58BQQABAJz/4P1I+uH0GPHn8CfxLvIT9vr5x/sb/ef/CALeAm8DPwO5A64EmQThA9ADAwUlBi0GTQYnBwgI3AdQB/oGGAYYA4sA0f+l/qX9KP6e/xYBJQJCARD/bPyM+DX2a/dw+Tb7lvxP/Yn88fvY/IH+lQALAQgA6P7Y/Yz+xQHdBOIFHgV+Agn+//qY+2r+fQDDAM4AQgE3Ad4B3gMSBW4EpQOyAr4Ab/8Q/1b+B/1z+3D64vo//Ff+5wBEA20EmwSWBNYD/QF0ADwApQDQABgBOgEwAVMA8/5l/h//ggCEAH7/Ev4I/cD8+Pzv/LX8c/w//Mv84f2s/vn+E/+t/p/9+vzj/CL9Yv4tAMAAyP8rAMABYwICA4IESQX0BOcEsAU+B/0HkwY1BEwCaAAg/1D/QQDuAP8AYwATAEcA2v9u//z+gv7S/Ub+If5z/Gr7gPpw+df34PaV95T5nfvN/WUA+AGNAdsAmgCqABAA5P5J/kX/uwHlAsMD6wQtBW8EkgNRArUAdgBNAFL/Dv9YADACNAO8A6oDJgPEAVMA7P+m/y3/Df9t/+P/9wD9AeoBUQA4/yX/3P+tAAkB+gEPAjUCrQJ7AuwAPf6j/P/7gftp+wf7NvuW+/r7QP0e/iz+8P1D//QA0wFMAvEBzgFdAXQAEAAW/17+W/5l/zoAcQEuAo0B4AG9AdIB2AEFAR0AfQDjARkDsQN6A0sCmwGcAdsB/gFKApwC3wK0AmEBVwC0/lX9t/xV/Wf+v/4u//z+Q/4M/Xn7xvq7+vn6LfxM/Qj+o/4s/+v/WgAfARkB4QBYAdEBTQJ/AvwCqwIPAkECVgL5AZYBEwGOAKX/AP8L/2f/QQDzAFwBIAHpAA8BdACF/7j+6v06/cj83P14/2YApABfAO7/J/8l/x7/n/5u/pT+zP/BAPoAZQFvAbUAS/+F/iL+df3l/Dz96f0X/vj93f35/Ub+6P5D/+v/ggA1Ac0BSgIGAswAwf/z/uv+Bf+a/wUAmgBpAa8B5wGAAQoBAAGGASwCjgLyAisDHQMiAjIBzgCIAIMAhwAnASgB3P/G/qr+Ov8+/5f/7P+Q/3X/Rv9Z/57/b/85/+z+s/5+/kP+uP74/qb/4v/i/+z/EQAvAMT/mP8JAOMARwGNAUkBFQFvAB4ALgAKAPf/WQCOAMQApwBtAJgAVgDkAKsBTAIiAtkBigG/AMz/Iv/r/tH+8f6c/2AAmAAoADj/3f68/t3+Uf/6/rj+l/70/ob/CgC6AIUABQAj/+T+3v7k/sr/RQBnAP//jv9Z/3X/2//j/ycAHADB/3//mf+q/3r/JP+4/nz+Wv6G/qH+o/6//hj/Qf+I/+L/8f8CAJIAZQH9ASsCPQJIApsBwgBXAHcAiQDLAAoB6wCZAEcARwD8/8v/FwB6ALsAmwAOAOr/nf/3/jX+2f0X/lT+1f43/1n/Dv83/9X/QgBwAJYAugDLAA0BxAFJAvcBwAGUARsBWABJAGIAVAAxACoAdQC+AHABpwGEAQcBMQA8/5H+oP4D/wH/2P7v/iD/N/9C/xIAfAD7/5z/v//J/9D/WADwAIcBxgHDAcIBmAF2Af4AcgDc/2X/Qv86/17/YP9P/zH/zP7l/Xj9p/2b/c79jv4l/2P/Bv8P/y7/1f6g/u/+cf/B/0YAUwBqAJIA5wD/ACABFwHuAOsA4wCwALkAUAGgAdQB1wG3AUcB5gCHABgA0v/X/ykAlACuAIcADgC//1X/Q/96/5v/gv8O/zD/M/91/33/kv9l/wr/M/8r//n+9P5Q/+n/TgBdAIkAuADRAH8AOwC1/+H+i/6q/g///P4m/yH//P5G/3D/GgB0ALkAzADOALQALgA8AH8A8gA4ASUB9wCXAHYAcQCeAKkAjgDDAOcANAF+Aa0BiQFPARUBrAAjAKb/Qf8s/yD/6/7F/rT+wv70/kz/fP+m/2r/Cf+1/sD+0v7j/vf+Cf/6/hr/Mf8X/zH/Sf+N/7H/r/96/7r/zf/d/x8AZwDOAO0ALQF5AZMBiQF7AbUBqAFvAZYBwAGEAToBDgHYAIEAOQBmALMAqAA1AAUAcv/b/t7+Of9N/xL/J/83/y3/Bf8K/w//8P4o/4b/zf/9/xUACgANADcAUgBmACYAJAAcAHAAYAAbACkAVgCAAH0ANAH+AMsAWwBnACwAvP9GAJ0ABQHCAKwA9QDVADgAMQBbAPf/VP8nAGoAVAClAAcBfgDK/2MBNwIUAr4AugAVAf3/jP7k/Ur/L/+a/i7/v/6n/Yj8Wf2J/p3+r/7T/vP/qv83/gH+6P5f/rb97/7R/w7/n/6z/yUBwQEpAGP/vABUAZcATgAWAeQB6QHWAOkApQDw/qT/RwHTANQAoAFdAB3/GwHJAqsAAf/o/jwBLQEAAM//AP76/XD/3v8h/bX9IAGOAR/+Hf9WAdn92/x2AU8CaP8BAeABcQDk/+gBWwEY/zP/fQDLAEr/Uv9//1MARgHh/4z8G/1mAEUABv/u/uYBEQEm/gL8pP0fARwAp/4pAtEGpQWQA0QAgAHKBcEFgQFIARgDgQJDAoX/6Pyt/94DzwBr95D2vv2W/kf5JPhqANcCZfyZ+QH+if2++zP/wAQDCZ0F3AKpAu//Ff9bBSYD6fxlBKQDz/d09E75ifuS/7QGJAnAAdL5rQIEBVL4VPkwCG0Ho/pa99f9jf/x/Nj69vffA30VBAed5en41iGyD9vt9gFXEuD3t+9LAhARzAYLAA4ILgWG9JTx5/1F90f9lBMICFHs1+sy8lfwNP0DEpcVSQ86DfINbgKX9Sr7UP6z/vsCr/2x8m/v8fEa97f0c/F/+vQBbfYB+iYXNQf271MLACEzAkLq2/suGGEryh59FY0WZQHn7GH6Ug0ODq0HTvgU7DPwHOu54Mjmke+k9qnzpeZP5GPu2P0xBD0BUQr3Ax3uifQHDe8VCxxgKJUrOieIGQISuR3OICoP+fu78k/ze/Oa6STgHOQS4UjZ0OXa8f7jv9e35+b2UPNc/2scBxfx+dYAJxe1DDQBPA30EtIPXiOMP488kiEvDg4V8BgG//XyD/zj+N3srt+81SnYMuMF3F/Lvdr49frpxt69/VcPmACNArIaGRlvBWIDFQ8jIr4hVxUvGmIgPBW5BQL93f/mC9n90+f77L0BNQKw8eTsvucz4nLyxglMBrPz0vBZ8Uz1fQAN/Hf6ugDxA3YGKBI2F7YYkRlREFkcyTHMKf7/QOT850z2ZwLa+LPrnung6oX6Ygfj/Djtw+zJ9tcBwgeQ7PjV9/LnGHUOq+sw+/b/veDM69EO2A0nAbQNMyg1OVAsIRVeERIJLPdeC/oXIQzoAjP/+vr49y7sydFR0rvp/vHP3V/br/DqAVcP4x82F3vxf9lT3xn4bv6v988JoB+8FtcNvRYHCbv3qRf0LSkRMQoUJgM1OCG5/Df1JQJU92nkG/E069XWPdfV0TrVy+dF9JXtjPBQ/VX7KvKL+CINThh2FKsWnhdzCZD6MfMPBGsGU/crA5Ii4iTPEv0OHAKH9woEoRI9/i37sRmNKhIjvfyv5W7rVvbb9zP8oOoF06Lg+OrK6wTp1eq17Zj1dwopC+buS+N6+T8TACDtJwAebvmo1yXOwesvFWEhMhdLE/YkfTESJPENOv0T/54dcSjy9ZvTqNpg2YXc9e4g9TLhmvTiJ5Uhgfw86IfmrviQF1wcYAVLAOYjUjGUCDPwye8r9t3+qBnGId76muV/B1kfTANh5xTi1tUN1J/2Uv748Z391xPYDe70u+tQ7Kjirdsg9GgRKimAKJH3Wu7nG5cWgvJK93QQQBOqGrslIRhoENT8/fVpEhv/atdr2isHgil3AqnbffuQFpUF4QSwCk31TvnlGlAQiu7r55bm8Oke7avjF9/n4wgKzytuF/72ZPBh9sT77Q/VHxsPj/E6/fYLMgBvBQoIN+4I4UsJ+yQfCXL5AAFc97/25AAy/0Dzj/NYBcsMWhBZBTX3LvxdAZ8HYv588Pr+AhXOIycZDPGp580EBxjxFJ/8w/LRDtU6VR/M3KreHuzQ5PTpzu/b21vmNBGIHV0e/wJ2zIvRKPQ9BpcUVxmECyf/5QEO+F0FwAmZ58vcDfmbEpIIp+3N5Fb2exTyJ0IYbfXU5DLxbQ4oLAwqqxL6BiwOqAzB+IfuOvYZD1Mcewu48bX95hg3DvntluGa61IB4RPL8n3Eis+b8uj5/AHWB2Hoxed5DwYaqApG+PDzB/k4DXwgAyhtJtQMNfdd5yrk5Pd2Ca0Ba++a8S/+LfwN7CbfxOgoB8Yejh2jDHP35u5hBBYgLCiJE134iPe8B6cEX//2EnYcIRSbCzH8NfWSCAQJFu8U43j4sxWLFc3/ZegG5Lfse/ej/z/34+o97CwHORMB+gfso+qg8AUF4RgsC/7vtO6R9LnuH/HFB2EPTf7A7d7qv+2l+ugO1hW/GxwjzB3IEVgRIxJ6BnYJ+BSWE54IEv8P/4YCW/xB+ocIiwR66FPdGuxA+sb+Mv+X93frp/BKCOITiAKi7BvpiPihDesQ+QiiA9EBTwLVAJf5U+457x32uf+XEOYO8fb/4injBOiD7M77FAKa+hfz5O/i+WULlxVtE90N7REMGbwaQBAPB70NMRnPGzoVqQ0aAbf2SvvrBSkGOPwa9xb43/Sh7w7xD/vF+Yzto+p4+AYL9A1YAeP06/FT9jwBNgj4BKL9zPi/9CP2Uvsh+bn8+gVbAYH5cvu2/q34mPQq9k/6ugZ1EPwNhP6R9V79MQzQEyIUWhE1C+IL6Q5BDioJkwGZ/e/9QQFK/d30Dff6ABkJpQMh/fH7avjD8570+wItD5wOjwHd9/D7QAaMD6ILQv367oXpevKo///+E/WY80H3o/ZB8XDuMfKO9rH55v7DA/QD+gDAAPIFiA1bEywUTA31/2n/hBCYG+QZghQgCsr/cgBsBmwGdv0Z9Rjz9vU1+v34nfNm8R/2cPpE+L31d/b7/mgJ7Qo1B0cG6gjaBBD/PAC5CXcTJhF6BFHzRu1L9XH9Bf289RXwwu7Y8kj38vbf9L/0Rvfs+s/93P/5AgEEwQGwBF4LVg0eCjwInwuLDtoPdgwWBv4C6AOvCW4MBAez/uj4lfcZ+30CAwRX/dH42Pdu9lD3Lv0qAvQBDgJhA4YA9f2S/gj63/Pe+40KMgtiAFH2Ne6c7BD30wG4/SD1z/fYAbQIDQgbAQP4pfay/SkGBglOB7EGJgUuBSQKPg6QB/b7zvk6/p4CHwViBQcBXfoE+Sz+yQJ5AI/64vc0/PoDmghaBu8CBAM2BI0Bn/7KAQIFuQSpAzsDzgRLBtYE+/1V9IHyqPlZAa0At/g77iTpAvFE/B78jPSv9S/+mgF3AtUGjwnIBssE9Qd3CIEF8wVNCXwKsggpBrQCqv5j/Gj+IwLRBREGDf509t/2JvsS+wn48Piw/Lj/2gA5AjwB9/5qAtoGEAU/AjUE8Ai5Cx4KigYwA1QAaf/e/8X8m/nU/DgBhv6X9k3xGvM6+tz+2fzK9n/04vlHAkEHIQazAN/9LwEbBE8D6QEaBP4GFwaOA7wApv4Q/ID87ACoAiwDsALNAdkARf/jAccE4gEs/ar9GwFpAmcD1AKAAT0Bpv/S/Mv8Dv9RAZ8DNQEr+234n/sJANwAaP2U+dv6Dv4Y/w/+/fwO/QIADAR7A2X/Fv2d/9oDmwVVBF4B5v5E/+UALgIPAuoAZf/1/Lf7Qft++U/5fP3A/hP8f/v9/aj/sgCUAzIFagNl/wwBgQfLCC0GeQVJBTwDdwIAAmn//f+lBEAHvwM9/Sn50Pnb/qYBK/+w+ir45vje+dH7ev6t/i39y/0tAAgA4f0u/rEBygOwA+IC0QGWARUC4AMCBmcFpwGd/xEBFwN3A+8CiQIdAd3+if0t/yYBgwDn/5v/dv2R+x78G/+6ADH+y/vl+6P9yP4a/6z+Efxb+9T/owT0BJUAxPwu/gQCqAXgBacCXAF9AsoDpAN1AZn/e//+APYBFQA//ir+HP0e+8v6Mfwx/NH7Cf1Z/YH7AvqB/Of/M//G/MH9JAFKAyEFVAZPBMYBGQJ+BCMHpQf0BE0CCwJ9AngCdAIiAhUAPf0q/SL+OfxM+Q/5uPxVAP3/7/2o/Gz8t/0IAG8BBAHg/xgAugErAk0B1AEQBKoE9gMaAw0C5gF9AtoDdwT0AVr+YP21/tj+ZP2Z/Aj8YvoZ+a/5oPvN/eL+gv/6/SL7ZvpB/X8BuAJ/Ar8CuANyAzICbgOrBDsEjwK+AVsCoQEWAXgCQwRjA4cAKP8ZAKUAEQDAAB8BWf72+rX6dvwh/U/8UvtG+zL7BPq5+Vn7bv3X/qcAGgJeAYz/aP/DAaUDJgPMAfYAbP8j/ywBBgInAdz/ef+t/8z+5f2Q/ykBQwBN/0P/Hf8h/yEAgwGAAskBvwAqASYCEgLvAS8DZATwAxsC/QA5AY4CEQTcBAkEMAHw/Zb9u/9Y//39Hv5w/or9VPyy/PD8nvsy+UP60v2+/zr/1f5N/if/LwCT/Z7/oQF3/1YAfQK8AmgCFQQnBdwCMQHdASIEpQKZAEQBGQI5Ao0CsQMZAnsAUf60/lH/2/17/Vn9Yv9yALT+PP6c/gb+8P3QAFADxwDc/twAiwKcAXMAOQFtAb3/FP9+/p79bP3c/Hr8bv64/+b/GwCu/tz9K/0d/vT+NP9Z/i/91/6j/3wA2QA7AfMA+v9iAIIAaP9x//MAlQA2AZsBCgEUAWsATv8AAHUBMAFhAGwAeALOA1wDIgPJArAAkf8yAXsC/wFqAE3/1v6W/p/+pP8nAHv/Df+l/oL+kf1F/Yb+fP9S/+r+Iv/p/rz+8P7Z/6MAbQBLACgAbv9G/5wARgGeAH//Dv7t/Qb/uf/7/1MABQFiAbgA4wBoAnoC3QDNAa4DsAKCAewAqwAtARIC9gHIADYAbQB0AOgA1wDX/2EAsQDs/0X/gf+f/xb/Wf9r/3b+wfwi/Ff9Bf7h/Cn8Ov0Q/lH99fsV/Dz8Hft4+hL7yvt5/E/+LQB/AAYA9/9WAKQBxgJZA9IDIgQZBGoEOgUlBZIEzwMjA6ADXQThAywDkwLBATwBAQEPAPn+2f5v/6f/6/5L/uX9xv1p/m3/c/+B/t39sf01/sj+iv0T/L/8K/7O/gP+pf2M/sT/XgABALf/+v7k/Vr+if8C/17+Pv8bAH//w/4l/3T/ev+//wEBVwKEAtACxAO7BIcEDgSLBBwFSgVoBXAFZwXjBJwErgSsA4YCkQFfATcBWADx/mz9m/y0+/P66fpj+rX4Uvij+aT6hfoW+u35vfp0/L/9Jf7f/Yr+p/9nALYApwBrAJcANAGYARoCnQLuAhkDYQNVA/UC8AFRAbgBAwJbAbwAKAFoAZQBpgErAX0ABAC0/+b/NwCu/17/9v+LAEMATv8J/0L/IP8g/zT/QP8o/+z+9f4w/6D+Cf6a/gv/Uf5d/e38Xfxp/DX9cP2f/Df8Tv1a/n/+b/64/hj/2/8jAfcBRwLIApsD+QNxBBcFIgUcBXoFHwbiBScFDAU3BeYE1wMyA9gCeAGr/9L+aP4B/tH9fv0u/Sn9S/0A/QT9Ff3i/Of8Xf3r/Rb+QP5s/sb+9f5b//P/DQACAHEAkwBJAHUANwFGATgACwABAUgBXgDS/7P/aP86/4X/cf+a/lP+tP7l/sf+cv44/kT+qP4s/4T/FABqAK8AzgGnAmMCJAIGAhkCjwJ8ArkBrAHtAQIBUgCwAIAAKP9D/lf+OP7q/dj9qf1d/Rb9Jv2M/bj9u/35/Wf+0f4R/1n/MgBOAaoBKgFNARkCewJkAuABWgFWAb8BZgJjAoYBhgEyAgYCTAEcARYByADFANUAnQA3AOb/CAB0AFUAuv9I/xn/Nv99/7D/pv/k/yQAVACZAFgAmv///i7/sf/J/7//u/+c/3z/V/+2/73/5/4d/qr9hP2o/bn9Mv2c/L/82vzY/GD9uP3x/V/+rv7o/qz/iwAPAWMB6gGEAhoDKAObAo8C0wJsA/gD1wMvA7UCEwN4A1YDmwJxAbkAHQCn/1//Bv+Y/kj+hf69/nT+Jf68/Y39mP2t/c791f3E/b39E/5U/lf+2P3R/TH+ef7a/nj/CwDy/w4AuQAyATcBEQEMAQkBsQAyACAAPwAyAEcAdACQAKMAzQCtAHYAdwCqAPoAWAElAdEAIwHIARUCzAFaAesA3wAZAVUBSwERAbgAzQA2AfAA1v/2/qj+Yv7c/Y39if0n/fr8QP2F/Wf9QP2S/fn9Hv4//pL+LP+Z/6n/BAC8AEUBawGuASgCcwJ1An0C4AIrAy4DQgNnA0wDDQPPAkICeQEnATIB3QAvAIb/Kv8Z/zn/Ev+U/vD9Rv0G/Sv9U/1W/V39qP1C/rD+ov6R/tj+Kf9k/97/NQA9AGAAiwDHAM0AuwDGAKIAPwADAPn/AAD8/+n/6f/f/9L/sP/P/xYANwAsACUAWQCiAMsA+QBgAZYBiQGgAcQBgAEAAdQA/AApASIB+ADbAMwAtwBTAK3/Wv9Q//j+m/6H/nr+bf5e/i/+5f2c/b39+v0e/mr+jv65/t7+SP8CAGcAagB0AAABSQFQAcEBUwJLAjkCwQIBA90CWgIaAhMCrwFFAegATQCD/xT/F//s/kz+ov1n/WL9eP2F/V39jf3n/fz9Kf7G/kP/n/8PACEALwB/ALwAAAFdAZMB0gFMAmMC+QGrAW0BPwGjAWYBOQCA/8z/6f9v/7L/DQBs/7/+9v6U/7v/U/+o/0EAOwDo/4IAhQC2/ywA8gCuAB4AnACjAKj/8//+AAEBcABTAEIAWP8k/+P+Df8w/xX+6f1Z/rL9Qv2X/uj+if1S/pz/C//G/hT/Uf/a/zUA1gBJASAA0v9wATMCaQGlAbcBHQLLAhAD/QKvAnMCTwGOAEgB0wDu/sf+nP8n/1H+S/96/l/9qv39/Z79Tv33/Vr+rv68/t3/VgArALIAMwEPAQkB0QILA7gCTgLBAcwCxAOuA4EAYv+9ANwAxP8V/4gAdf/r/EL+TgHZAG/+4v6q/1X/w/5h/k0AiwFGAMP+NACBAdH/QP44/jMAtgGU/4r+bwFdAIH9Nf6NAM0AFP6+/GT+kwC1/9v9ff/wAQL/QfxM/1AC2P+m/OL92QAt/+D7lf0RAIH/Nf4jASgCsABRAGMB4wKbAgID3APJBEkD/QHbAeIDXgVtAsD/z/0I/53/gv6b/dz9Z/6L+3b7u/2F/Tn6aPry/hP/W/0V/94B+ABd/7oC2QTtArz/mv9xASUBhgGrAU//mvw5ANsCO/8s/iUCYgE8/Wz/QgPdAq0AgAPUAyUAeP/dAWMDQQD7/ZAANwLD/8L/QgHo/pL+gwGJAZ/+Zvyf/UD/OACcALkBZwINAq8BbQJnBAMDbP8y/64AA/7U/kQBlvzE+Ln6mPs2+438cP1w/GP6tvzCAvMCIADbAzAGiwLGApMHZQQ//Ir/qAZQBKr/HgG/AHP9CP4iAMwC2/5q+Yj67P4Z/5L96v7P/GoAhgNMANn+GQJZA4QAmwLmAnj/Zf0c/gX8l/m8+j/4AfnI/Y752PRL/BsD9gHcA0sH+AVaBhIIpwqGCWQEQQEnAYMFyQTqAGf/6vwH+wn+l/6t9iT34/v4+GD7GgI1/zj5lf25AOsCewpiB0wCCQkuDcYIwwVCByAFwwFoAuL8zfhW+br0H/Hi84f08vGO98r/lQF3/z0BZwfDCw0MYggqCKYJWwcRBe4EGQEU+8371/xR+Kz4F/yi8ovzTv+B/m/6AfuO/mP/4wKSBw8JageiBYMIMw8ZEQMNZAm1BhIK+QFn9av3kvoP9P7onuqR6brkbeZn79P9/ACRBDENdg0WBxkIVg6HE7UWOxW+E8QTGgmE+sn7HAEn+57yIfNM9MfwAe1F8VP7CPcV8fD5Jv6i+tn7gwSDDVUQ7g7LCgMMgRDWD1AKZgpxC77+5/En8BPwuO2Z7j7waPF88lb2Df2eABsEqgnKCpMIHAvaEQwS9g9JFOgQcgJK+WH9Efvh8tn3D/uK9ujxZ/B18ZP0mPec+Oz+mwXjAqX/Lwq1Ea0MOQyuFF8VTwviCIcL3wq9AFjzjO887trsaOz37DjuMfC88UDy5/hHAf0AlgSKD8YQ2Av5D1MZcBncD4kKgAlaBL78T/WG8m/0sPYX9Nj0r/hc+cD2vfET8/X4tP66AQQEbQu7Ds4MLA1QDlcLkwLYBZcOeQkQ9efk8etV9Dbyru8w83b5+fgy8qTxe/wKA/MCHglZGLwcdhVeFLMVQBU9DSkJrQi/AqPziOOY6TT4mfny8DLy8Pj69o3w5+wg99oDSwbAA8oJZRYbFiITuhJkEB4MQwmOCOgICQQj8BbplPdn+b/ps+Nr7J31BPZQ78XwUv7MAGn6Iwh1IMskHhxCGBgYARG7BvYGwwM2+MfrMuol9nH8M/Q57Brzjvuu+Obv5e+T+XACEwGEAkcUThuVE1wQbBP4EVUKMwtxCe7/tvYK7mXw8vN660vju+cv8pnz4O2k7FH0cP0e/cIFXBsOJC8hKxxIGoYagxMBCZwDNAAN9VDusfVX/Qj4ueuh6THxqfNu6zzp/fCf+tT+hACwCssTCBPnETMS1RHIDgMKxgZcBPwBq/mQ+LX7TPae6yzmYupH7i/tEesm8Mb7+v96AOwOdx3fG28Y+xuNGWgSNQ2kBkL/fPvM+Wr6yP3u+RHwGutA7pfzzfKA8JTz7vqWAFkAeQZ7EcgTOREGFIwVggy0BkUK/wmABKz9HvpC+MzyN+xX6PfrU+1R6dPoE/DW99j5ef2FCiQXgBn/FlsXuRleFREPQwztBoH++PoQ/FD/n/1A9kHvNe7M8GDuqey68s75jfqz/IAFzgwkDb4NEREjELQKcAjxB2YGMgQ4Aar9zvw4+ubxsOpr6LPoM+cQ6rXxaffs+MD7KQaqELAUOxZ/GJkZEBVaED8OBgl5Asj+zP2l/xj/7PZZ74nv8e/D7BDwSPdC+VD51/3QA2EJQQ25DewMIA1rDS8MKgv1CR4I+AMWAa8AZfx49O3uSe2W65TpWeuD7zLyD/OV9oX/xQlAEJMRQRINFYQUBxCXDeoK6QQ//6n+YACw/RP5s/V58y7z6vFv8mr11Phb/HT+FQNoCjENgAlsCEYM7gxOC7ALkQozBzgDif8B/vj9gvru8y3vqexR6WrpCe1q8K/1Hvq0/t8FlA1kD88OrBJhFJ4Rwg5tC2IGxAKjAXEB0v9C+1r16vED8s3wFvGd9Dv3i/hI+9AA3AVUCYMKRAmyCREKtAgTCUkJwwfUBJMCHQHf/k38d/fh8Zbw6O5k7NjtZfFR9CD3tvxjAxQJDgxMDQQQ6hEiEGUOugzXCBYFHQOcAQb/ofuP9370wvJz8Rny7PP69YL4q/uHAJsF8wgdCmAKUQtrCvQIawraC1QKtAZKBZwEwwF0/gX75PYS81vvpezf7ULwivEU9KL6igHxBFYH7AqDDQwOfA3+DAANOAqKBb8D7AMAAjr/MPzt9xn0k/H08LbzWPfV+FT6+/4KBDkFRAVwBpgHywZiBWQF2gZwB1IF0wOGBKYDzP9C+1j3JPRK8Ynvhu9/8YXzAPV3+VoAiwRsBowJzgzmDHYLVwtWDL4LjgjcBDsEewRWAd/85vjg9RnzVfIt9DL3MPnt+kz+NQP8BfoEpwTfBasFYAS7BPUF3AZ9Bn0FdAVmBRAD6P5w+n73RvVS817ywPIf9JD1K/kY/ywERQaTB1oJsAkJCSYJ/QkHCj4IjAVCBJUEaAL//eD58Pba9G7zIvR290z7qv2eABQFlgfGBlMFaAUzBscFtQRvBM4FaQb6BNYDnASPA+n+VPoT96v0PfLz8LXx1PPP9Xf3jfvfADUEvwXbBjMIzQhrCDsITgkuCtMIPwahBPsDhgCE+0f4NPac9D70/PVL+Y/8N/6wAF0E0gVLBMsCCAP5AgMCFgIQA18EJATIAqoCjQJdAAb8Vfgb9nH0h/Ik8jP0xfbX94v6HAB3BCcGcwavB0gIOgdlBqgHswlGCd4G6gSwA28BXf1X+Rz3qvWZ9Mr0SPi5/CX/JwFABC8HtwYPBbUEzwQgBA4EBAVWBj4HVgaCBbMFkgSzAIT8HPkA9hP0EvTN9d33jPgK+nL9zwAdA4kEywUPBggFuwSJBc8G8wdDB6IFlQQmA+7/E/x1+cz3U/aI9iD5m/wg/xcBYAOVBRoGDgUbBD4DVAKjARECHQM1BCUEUwO7AhUCGACn/Cv5Ova586HynPO89a/3H/my+zb/cQJuBKkFAwaQBTcFeAWNBr8HlAebBrIF/QM0Adn9xfoj+Gr2G/a993769fzp/iEBrgMKBb0E2AOkAj4B5ABsAV0CkQMvBNMDDAQfBLQCngDs/Zn6n/dC9hn22PY2+FT6f/xC/78BGgPcAwgEDgTzA1YEuQQ5BXYF8wRFBNoDBwIH/+z7DPk19w330vg4+7H93P/nATcEJgbXBmsGcAUNBGYCxgHvAX4CUQOCA6MDcgN5AgAAD/3z+p34Z/ad9Tb2FfdH+LX6+f37AGMC9QJcAyMDKQO3A+sEVQUpBQoF2gSzBHcDJQE3/uX7DfrO+Cf5zfrZ/M/+wADtAt0EcwXdBMUDtQJtAVMAFwBgABEBhAH3ATQCjAHW/2/9Xftc+bD3+fZO90L4qfmF+xb++AAWA6wDZQOJA7cD1QP7A3EEeQQtBAQEkgPPAgEBTf7p+1f68vhm+JD5hPtY/WD/wAHjAyAFOgXXBGYEzgMTA3ICJgJwAg4DaAORA64D8AKCAOv94/v++bj4ePgc+eH5/PrN/ID/ywEcA58DfwOSA6sDzgO8A6IDlgM6A8YCRwJMAeP/Lf6k/Gf7fvoJ+2r8Af7r//MBAQSGBcsFCQU3BMcD0QKoAUABFwEgAdsAcQBKAAkA4f7h/PX6a/ki+KL3+feY+MH5PvtH/fP/9QGfAs4ClgMdBNADngOXA4IDBAN0AuIBKwHS//r9NfwE+4L6nPqf+/D8of5dAA0CiQNjBFUElgP/An0CWwFYABcAIABcAGIAmQDOAF8AMf9d/fv77PpS+kf6j/qE+5T8Rf5oAOUB6AI9A30DzAPMA1sD2wLIAm4C3QE9AcwACwCP/tj8m/sM+wn7ePtu/Ab+BgACAv4DjwX+BdAFGwWCBLcDugIvAuwB5QG2AYMBZwEjASUAZv7Y/H/7hPoo+gb6n/q2+y39zP5BAEYBxgFgApACqQLMArMCpQKEAlICCgK/AUIBJwCe/jX9ZfxG/IX8SP1i/qb/dAEYAxwEgwRgBOQDIwNlAlIBNgCo/2H/T/98/5D/Rf97/k39xPuc+g/65Pn7+Xj6lPsF/bn+LQB8AVwCyALrAvoC+AKNAloCKwK3AW8B1gD+/97+c/0p/EX7OftZ+7j7tvwR/qn/hQH2AqYDxAO5A1QDzQKnAkMCvAF/AdYBCQLLAWMByQDH/1X+Dv1B/Hj7Ivtt+xf8Jf10/pv/aQBnAfMBGgIxAnYChgIxAucBuAGAAQIBWgB+/4r+Zf2I/G/83vw4/Rv+cv/6AH0CnwNyBM4E4ARqBPsDlAP9AlQC4gHNAYoBHwGMALP/tv6G/WX8Y/vW+rn6yfp5+1n8Pv1I/if/KQDMAC0B6QFpAqwCmALQAtACNAKbARYBQAD9/u79MP3A/LL8MP3G/Yb+o//zABYC2AI9A1oDNAPGAlUCHwKxAS0B/AC1AGkA/v+D/w7/mv7n/UT97fx3/LH8MP3J/Zz+Yv8wAJcAFQFzAcgB5gEqAmYCLAL5AXoBCgFRAHT/p/6j/fD8evxM/JP8Ef3b/eX+GQBNAaoCdwOoA9ED1QOfAyoDzQJ8AmoCTgLMAWsBMgFkAH7/8P47/mr9w/yB/Lv8BP2k/Zr+S//D/xgAKgCPACYBNwFTAYMBnQF7ASoB5wC5ANP/8f5S/pP9IP3t/KL9af75/gQAJQEbAsMCwwK/AqsCPwKKAf4ArABmACgA5f/c/3D/8P5P/pz9+Px4/AL85Psm/JH8Sf0W/iv/0/9ZAKoAuAAAAWEBtwEJAiUC8QGdAVABuwDg/+T+DP5p/bT8hPye/CP98f36/hQADgHVASECJAIeAhIC2AGhAYgBVwF8AcIB2QHjAS4BTwC7/xr/Rv6c/bX99f34/aH+of9FAEIAdgCYALcA8gANAW0BTwH/AAoBcAExAWkAkP9S/3T+p/1H/c38DP15/dn9cv/kASMCHAK1A1AE5gKXAikDoQK8AT8BZAGxAQYBwADyAFAAMv9a/r/9H/29/Jf8E/3G/Uf+9f58/1b/8v/C/8v/igCuAGsAqgA5Ab4BuAK+Aen/hP8b/9L9J/0X/VD8Jfwi/ob/LwDXAJYBpgGnAVgCPAJiAcsAhwGqAZoArwCVAfYAW/+a/20ARf/0/ev9kv5T/tT+qf8LAIz/tf4U/3j/UP+K/ij/PADpADMBFgBxAC4C5gBX/n3+8/8T/yD/VP/7/KT72v3FANMBVwEQAGMB3wJAA0cDmgJ5ASgCNgKR/0v/ZQCLAF0ATQBu/9j9dvxW/OT9Gf+X/0P/IACfAusAo/1fAB0DFgA7/ZT/PQK2AX3/+/48A7EDF/3++2H/rf68/4ICgQEV/HL8bQEHBMUBzf3xAMwECAYjBbwBtP5zAPMD3gXsBZkCSv4M/vD/Tv8++x74evyr/xv8kPqR/K37GfvV/g==\" type=\"audio/wav\" />\n",
              "                    Your browser does not support the audio element.\n",
              "                </audio>\n",
              "              "
            ]
          },
          "metadata": {},
          "execution_count": 34
        }
      ]
    },
    {
      "cell_type": "code",
      "source": [
        "tf_train_ds = vads_train_test_preprocessed['train'].with_format(\"tf\")"
      ],
      "metadata": {
        "id": "EMW63MV-dpi0"
      },
      "execution_count": null,
      "outputs": []
    },
    {
      "cell_type": "markdown",
      "source": [],
      "metadata": {
        "id": "wYWDpGOWC9gJ"
      }
    },
    {
      "cell_type": "code",
      "source": [
        "tf_test_ds = vads_train_test_preprocessed['test'].with_format(\"tf\")"
      ],
      "metadata": {
        "id": "Tqhim0fBfRyG"
      },
      "execution_count": null,
      "outputs": []
    },
    {
      "cell_type": "code",
      "source": [
        "#tf_train_ds[0]"
      ],
      "metadata": {
        "id": "e8qVV61PdplJ"
      },
      "execution_count": null,
      "outputs": []
    },
    {
      "cell_type": "code",
      "source": [
        "type(tf_train_ds)"
      ],
      "metadata": {
        "colab": {
          "base_uri": "https://localhost:8080/",
          "height": 139
        },
        "id": "gESTpcGFUWpe",
        "outputId": "14e0b180-5d16-45ba-d70b-a3af2802698c"
      },
      "execution_count": null,
      "outputs": [
        {
          "output_type": "execute_result",
          "data": {
            "text/plain": [
              "datasets.arrow_dataset.Dataset"
            ],
            "text/html": [
              "<div style=\"max-width:800px; border: 1px solid var(--colab-border-color);\"><style>\n",
              "      pre.function-repr-contents {\n",
              "        overflow-x: auto;\n",
              "        padding: 8px 12px;\n",
              "        max-height: 500px;\n",
              "      }\n",
              "\n",
              "      pre.function-repr-contents.function-repr-contents-collapsed {\n",
              "        cursor: pointer;\n",
              "        max-height: 100px;\n",
              "      }\n",
              "    </style>\n",
              "    <pre style=\"white-space: initial; background:\n",
              "         var(--colab-secondary-surface-color); padding: 8px 12px;\n",
              "         border-bottom: 1px solid var(--colab-border-color);\"><b>datasets.arrow_dataset.Dataset</b><br/>def __init__(arrow_table: Table, info: Optional[DatasetInfo]=None, split: Optional[NamedSplit]=None, indices_table: Optional[Table]=None, fingerprint: Optional[str]=None)</pre><pre class=\"function-repr-contents function-repr-contents-collapsed\" style=\"\"><a class=\"filepath\" style=\"display:none\" href=\"#\">/usr/local/lib/python3.10/dist-packages/datasets/arrow_dataset.py</a>A Dataset backed by an Arrow table.</pre>\n",
              "      <script>\n",
              "      if (google.colab.kernel.accessAllowed && google.colab.files && google.colab.files.view) {\n",
              "        for (const element of document.querySelectorAll('.filepath')) {\n",
              "          element.style.display = 'block'\n",
              "          element.onclick = (event) => {\n",
              "            event.preventDefault();\n",
              "            event.stopPropagation();\n",
              "            google.colab.files.view(element.textContent, 633);\n",
              "          };\n",
              "        }\n",
              "      }\n",
              "      for (const element of document.querySelectorAll('.function-repr-contents')) {\n",
              "        element.onclick = (event) => {\n",
              "          event.preventDefault();\n",
              "          event.stopPropagation();\n",
              "          element.classList.toggle('function-repr-contents-collapsed');\n",
              "        };\n",
              "      }\n",
              "      </script>\n",
              "      </div>"
            ]
          },
          "metadata": {},
          "execution_count": 38
        }
      ]
    },
    {
      "cell_type": "code",
      "source": [
        "# Now you can create the TensorFlow Datasets\n",
        "#train_ds = vads_train_test_preprocessed['train'].to_tf_dataset(\n",
        "#    columns=[\"audio\", \"label\"],  # Now just specify the column names\n",
        "   # batch_size=32,\n",
        "   # shuffle=True,\n",
        "#    label_cols=\"label\",\n",
        "#)"
      ],
      "metadata": {
        "id": "CaEpABt6U6OU"
      },
      "execution_count": null,
      "outputs": []
    },
    {
      "cell_type": "code",
      "source": [
        "#train_ds.element_spec"
      ],
      "metadata": {
        "id": "VD-ZrFuhX6IC"
      },
      "execution_count": null,
      "outputs": []
    },
    {
      "cell_type": "code",
      "source": [
        "#test_ds = vads_train_test_preprocessed['test'].to_tf_dataset(\n",
        "#    columns=[\"audio\", \"label\"],  # Now just specify the column names\n",
        " #   batch_size=32,\n",
        " #   shuffle=False,\n",
        "#    label_cols=\"label\",\n",
        "#)"
      ],
      "metadata": {
        "id": "U3P2ey13WW0k"
      },
      "execution_count": null,
      "outputs": []
    },
    {
      "cell_type": "code",
      "source": [
        "# applies the embedding extraction model to a wav data\n",
        "def extract_embedding(features):\n",
        "  ''' run YAMNet to extract embedding from the wav data '''\n",
        "  wav_data = features['audio']\n",
        "  label = features['label']\n",
        "  scores, embeddings, spectrogram = yamnet_model(wav_data)\n",
        "  num_embeddings = tf.shape(embeddings)[0]\n",
        "  # Select the first embedding\n",
        "  embeddings = embeddings[0]\n",
        "\n",
        "  # Repeat the label for each embedding\n",
        "  #repeated_label = tf.repeat(label, num_embeddings, axis=0)\n",
        "\n",
        "  # Create a dictionary with repeated embeddings and labels\n",
        "  return {'embeddings': embeddings, 'label': label}"
      ],
      "metadata": {
        "id": "9RRLF_PmWchD"
      },
      "execution_count": null,
      "outputs": []
    },
    {
      "cell_type": "code",
      "source": [
        "extract_embedding(tf_train_ds[5])"
      ],
      "metadata": {
        "colab": {
          "base_uri": "https://localhost:8080/"
        },
        "id": "6jmmis2ngUEu",
        "outputId": "8169df91-d635-45fa-abcd-df7b96629724"
      },
      "execution_count": null,
      "outputs": [
        {
          "output_type": "execute_result",
          "data": {
            "text/plain": [
              "{'embeddings': <tf.Tensor: shape=(1024,), dtype=float32, numpy=\n",
              " array([0.        , 0.        , 0.        , ..., 0.04172736, 0.        ,\n",
              "        0.        ], dtype=float32)>,\n",
              " 'label': <tf.Tensor: shape=(), dtype=int64, numpy=1>}"
            ]
          },
          "metadata": {},
          "execution_count": 43
        }
      ]
    },
    {
      "cell_type": "code",
      "source": [],
      "metadata": {
        "id": "1YV7mnJ6-ZU4"
      },
      "execution_count": null,
      "outputs": []
    },
    {
      "cell_type": "code",
      "source": [
        "tf_train_dataset = tf_train_ds.map(extract_embedding,remove_columns=tf_train_ds.column_names)\n",
        "\n",
        "#train_ds_pr.element_spec\n",
        "#tensor_embeddings = []\n",
        "#tensor_labels = []\n",
        "#for element in tf_train_ds:\n",
        "#  embedding, label = extract_embedding(element)\n",
        "#  tensor_embeddings.append(embedding)\n",
        "#  tensor_labels.append(label)"
      ],
      "metadata": {
        "colab": {
          "base_uri": "https://localhost:8080/",
          "height": 105,
          "referenced_widgets": [
            "aa3fa169d3634edcb227077c62c8c0bc",
            "890d9bbb48324ab2af6c8f26b5334512",
            "e1c9dbf514b24b4aa14e8c0bcc46084b",
            "368587e9e3094a28a1091eec4a01af56",
            "76d795116ab7448d9fa8c57fde9c3ea2",
            "8f17f3c3d545402599ece185dfc2f01a",
            "240ed52a169549f9a67afbcd8df5b87b",
            "07c182a142fa45d28a931f058961e1f9",
            "c966eddb4ce7445ab365ddd736200f06",
            "f55cf658b085423db7a5ee4fe482c6b6",
            "336fef6bd92d4492bf01f15a61e5a10e"
          ]
        },
        "id": "rn3slClUWvsM",
        "outputId": "006a1954-210c-40c6-af52-c4d10dba0a98"
      },
      "execution_count": null,
      "outputs": [
        {
          "output_type": "stream",
          "name": "stderr",
          "text": [
            "Parameter 'function'=<function extract_embedding at 0x7fa7f03e2f80> of the transform datasets.arrow_dataset.Dataset._map_single couldn't be hashed properly, a random hash was used instead. Make sure your transforms and parameters are serializable with pickle or dill for the dataset fingerprinting and caching to work. If you reuse this transform, the caching mechanism will consider it to be different from the previous calls and recompute everything. This warning is only showed once. Subsequent hashing failures won't be showed.\n",
            "WARNING:datasets.fingerprint:Parameter 'function'=<function extract_embedding at 0x7fa7f03e2f80> of the transform datasets.arrow_dataset.Dataset._map_single couldn't be hashed properly, a random hash was used instead. Make sure your transforms and parameters are serializable with pickle or dill for the dataset fingerprinting and caching to work. If you reuse this transform, the caching mechanism will consider it to be different from the previous calls and recompute everything. This warning is only showed once. Subsequent hashing failures won't be showed.\n"
          ]
        },
        {
          "output_type": "display_data",
          "data": {
            "text/plain": [
              "Map:   0%|          | 0/2012 [00:00<?, ? examples/s]"
            ],
            "application/vnd.jupyter.widget-view+json": {
              "version_major": 2,
              "version_minor": 0,
              "model_id": "aa3fa169d3634edcb227077c62c8c0bc"
            }
          },
          "metadata": {}
        }
      ]
    },
    {
      "cell_type": "code",
      "source": [
        "# flatten and unbatch the data\n",
        "#tf_train_dataset = tf_train_dataset.with_format(\"tf\").flat_map(lambda x: tf.data.Dataset.from_tensor_slices((x['embeddings'], x['label']))).unbatch()"
      ],
      "metadata": {
        "id": "PBKGZ1R764tt"
      },
      "execution_count": null,
      "outputs": []
    },
    {
      "cell_type": "code",
      "source": [
        "#train_ds_pr = (tensor_embeddings,tensor_labels)"
      ],
      "metadata": {
        "id": "XRQCNoAykFzG"
      },
      "execution_count": null,
      "outputs": []
    },
    {
      "cell_type": "code",
      "source": [
        "tf_train_dataset[0]"
      ],
      "metadata": {
        "colab": {
          "base_uri": "https://localhost:8080/"
        },
        "id": "0H-8PNBdyfkK",
        "outputId": "da731aa0-b094-464d-eb39-1bb91257ed58"
      },
      "execution_count": null,
      "outputs": [
        {
          "output_type": "execute_result",
          "data": {
            "text/plain": [
              "{'label': <tf.Tensor: shape=(), dtype=int64, numpy=6>,\n",
              " 'embeddings': <tf.Tensor: shape=(1024,), dtype=float32, numpy=\n",
              " array([0.        , 0.        , 0.        , ..., 0.03743266, 0.        ,\n",
              "        0.        ], dtype=float32)>}"
            ]
          },
          "metadata": {},
          "execution_count": 45
        }
      ]
    },
    {
      "cell_type": "code",
      "source": [
        "tf_train_dataset = tf_train_dataset.to_tf_dataset(columns=['embeddings','label'],batch_size=32)"
      ],
      "metadata": {
        "id": "OXMKX5fGyfmn"
      },
      "execution_count": null,
      "outputs": []
    },
    {
      "cell_type": "code",
      "source": [
        "tf_train_dataset.element_spec"
      ],
      "metadata": {
        "colab": {
          "base_uri": "https://localhost:8080/"
        },
        "id": "glVOBsAgyfpS",
        "outputId": "5ae24948-a433-4ce2-9894-86593a31b0de"
      },
      "execution_count": null,
      "outputs": [
        {
          "output_type": "execute_result",
          "data": {
            "text/plain": [
              "{'label': TensorSpec(shape=(None,), dtype=tf.int64, name=None),\n",
              " 'embeddings': TensorSpec(shape=(None, 1024), dtype=tf.float32, name=None)}"
            ]
          },
          "metadata": {},
          "execution_count": 47
        }
      ]
    },
    {
      "cell_type": "code",
      "source": [
        "tf_train_dataset = tf_train_dataset.map(lambda x: (x['embeddings'],x['label']))"
      ],
      "metadata": {
        "id": "e4H2VUuhyfrn"
      },
      "execution_count": null,
      "outputs": []
    },
    {
      "cell_type": "code",
      "source": [
        "tf_train_dataset.element_spec"
      ],
      "metadata": {
        "colab": {
          "base_uri": "https://localhost:8080/"
        },
        "id": "puV7avHnB4xa",
        "outputId": "b61ccb53-1052-4009-b08c-dffd01ea7ced"
      },
      "execution_count": null,
      "outputs": [
        {
          "output_type": "execute_result",
          "data": {
            "text/plain": [
              "(TensorSpec(shape=(None, 1024), dtype=tf.float32, name=None),\n",
              " TensorSpec(shape=(None,), dtype=tf.int64, name=None))"
            ]
          },
          "metadata": {},
          "execution_count": 49
        }
      ]
    },
    {
      "cell_type": "code",
      "source": [
        "#train_ds_pr = train_ds_pr.remove_columns('audio')"
      ],
      "metadata": {
        "id": "U4c8o-bDYxor"
      },
      "execution_count": null,
      "outputs": []
    },
    {
      "cell_type": "code",
      "source": [
        "tf_test_dataset = tf_test_ds.map(extract_embedding,remove_columns=tf_test_ds.column_names)\n",
        "#test_ds_pr.element_spec\n",
        "#test_tensor_embeddings = []\n",
        "#test_tensor_labels = []\n",
        "#for element in tf_test_ds:\n",
        "#  embedding, label = extract_embedding(element)\n",
        "#  test_tensor_embeddings.append(embedding)\n",
        "#  test_tensor_labels.append(label)"
      ],
      "metadata": {
        "colab": {
          "base_uri": "https://localhost:8080/",
          "height": 49,
          "referenced_widgets": [
            "6ffa951ec11d424d8e63d39b68c58455",
            "4d9b27bd716148b39aeec6941b582d3b",
            "94a7957fc2e943768fb78f7fb1811102",
            "cec7f69aa6d24690a0e807519e1ce472",
            "612204c317f14303ba49179299d3edb8",
            "13e907776cf24f18ab363c759aa485a8",
            "80d1ed72bc5e4d0bb9139bad1d996847",
            "5f6718aca23b4a80adbd833405f91b18",
            "2612e9d2c6b340a3b9df13843e3490ab",
            "93a0be534fb0475180950c77de76bd94",
            "2eefbb2448f54426bb5a6da80fb1c914"
          ]
        },
        "id": "WEjlU1n3XQKJ",
        "outputId": "a5d7a013-b884-4314-b426-62fb746ccc4f"
      },
      "execution_count": null,
      "outputs": [
        {
          "output_type": "display_data",
          "data": {
            "text/plain": [
              "Map:   0%|          | 0/503 [00:00<?, ? examples/s]"
            ],
            "application/vnd.jupyter.widget-view+json": {
              "version_major": 2,
              "version_minor": 0,
              "model_id": "6ffa951ec11d424d8e63d39b68c58455"
            }
          },
          "metadata": {}
        }
      ]
    },
    {
      "cell_type": "code",
      "source": [
        "tf_test_dataset = tf_test_dataset.to_tf_dataset(columns=['embeddings','label'],batch_size=32)"
      ],
      "metadata": {
        "id": "3Qry7o1qAe6X"
      },
      "execution_count": null,
      "outputs": []
    },
    {
      "cell_type": "code",
      "source": [
        "tf_test_dataset = tf_test_dataset.map(lambda x: (x['embeddings'],x['label']))"
      ],
      "metadata": {
        "id": "7ne9LZ8-CI0q"
      },
      "execution_count": null,
      "outputs": []
    },
    {
      "cell_type": "code",
      "source": [
        "#test_ds_pr = (test_tensor_embeddings,test_tensor_labels)"
      ],
      "metadata": {
        "id": "CBE9wWeyxSwk"
      },
      "execution_count": null,
      "outputs": []
    },
    {
      "cell_type": "code",
      "source": [
        "#test_ds_pr = test_ds_pr.remove_columns('audio')"
      ],
      "metadata": {
        "id": "UYppIKR_Y4u8"
      },
      "execution_count": null,
      "outputs": []
    },
    {
      "cell_type": "markdown",
      "source": [
        "# Own model"
      ],
      "metadata": {
        "id": "MFggMRzfb9Fx"
      }
    },
    {
      "cell_type": "code",
      "source": [
        "my_classes = vads['train'].features['label'].num_classes"
      ],
      "metadata": {
        "id": "r5cpt7lJb6r1"
      },
      "execution_count": null,
      "outputs": []
    },
    {
      "cell_type": "code",
      "source": [],
      "metadata": {
        "id": "70rQI_8qkILo"
      },
      "execution_count": null,
      "outputs": []
    },
    {
      "cell_type": "code",
      "source": [
        "#tf_train_dataset = train_ds_pr.to_tf_dataset(columns=['embeddings','label'],batch_size=32)\n",
        "tf_train_dataset"
      ],
      "metadata": {
        "colab": {
          "base_uri": "https://localhost:8080/"
        },
        "id": "2ICp5UHEhYCY",
        "outputId": "d555d043-01c8-4379-9011-b8ac759a6256"
      },
      "execution_count": null,
      "outputs": [
        {
          "output_type": "execute_result",
          "data": {
            "text/plain": [
              "<_MapDataset element_spec=(TensorSpec(shape=(None, 1024), dtype=tf.float32, name=None), TensorSpec(shape=(None,), dtype=tf.int64, name=None))>"
            ]
          },
          "metadata": {},
          "execution_count": 54
        }
      ]
    },
    {
      "cell_type": "code",
      "source": [
        "tf_train_dataset.element_spec"
      ],
      "metadata": {
        "colab": {
          "base_uri": "https://localhost:8080/"
        },
        "id": "VF6fM4r-ZrxN",
        "outputId": "aa8e929e-2ebb-4131-86cc-55ce777e0f5d"
      },
      "execution_count": null,
      "outputs": [
        {
          "output_type": "execute_result",
          "data": {
            "text/plain": [
              "(TensorSpec(shape=(None, 1024), dtype=tf.float32, name=None),\n",
              " TensorSpec(shape=(None,), dtype=tf.int64, name=None))"
            ]
          },
          "metadata": {},
          "execution_count": 55
        }
      ]
    },
    {
      "cell_type": "code",
      "source": [
        "#tf_test_dataset = test_ds_pr.to_tf_dataset(columns=['embeddings','label'],batch_size=32)\n",
        "#tf_test_dataset = tf.data.Dataset.from_tensor_slices(test_ds_pr)"
      ],
      "metadata": {
        "id": "_mz0wozcZLZZ"
      },
      "execution_count": null,
      "outputs": []
    },
    {
      "cell_type": "code",
      "source": [
        "tf_test_dataset.element_spec"
      ],
      "metadata": {
        "colab": {
          "base_uri": "https://localhost:8080/"
        },
        "id": "oOBJFZnpgeOR",
        "outputId": "f7a12d5e-4f9c-47e8-9064-f498ea94a890"
      },
      "execution_count": null,
      "outputs": [
        {
          "output_type": "execute_result",
          "data": {
            "text/plain": [
              "(TensorSpec(shape=(None, 1024), dtype=tf.float32, name=None),\n",
              " TensorSpec(shape=(None,), dtype=tf.int64, name=None))"
            ]
          },
          "metadata": {},
          "execution_count": 57
        }
      ]
    },
    {
      "cell_type": "code",
      "source": [
        "regularization = 0.03\n",
        "num_hidden = 64 # or 512\n",
        "activation = 'softmax' # or 'relu'\n",
        "my_model = tf.keras.Sequential([\n",
        "    tf.keras.layers.Input(shape=(1024,), dtype=tf.float32,\n",
        "                          name='input_embedding'),\n",
        "    tf.keras.layers.Dense(num_hidden, activation=None, kernel_regularizer=tf.keras.regularizers.l2(regularization)),\n",
        "    tf.keras.layers.Dense(my_classes,activation=activation)\n",
        "], name='my_model')\n",
        "\n",
        "my_model.summary()"
      ],
      "metadata": {
        "colab": {
          "base_uri": "https://localhost:8080/",
          "height": 204
        },
        "id": "q-LfHox3b-pk",
        "outputId": "1cce24f9-0dd7-4b56-ff37-98415fbaa894"
      },
      "execution_count": null,
      "outputs": [
        {
          "output_type": "display_data",
          "data": {
            "text/plain": [
              "\u001b[1mModel: \"my_model\"\u001b[0m\n"
            ],
            "text/html": [
              "<pre style=\"white-space:pre;overflow-x:auto;line-height:normal;font-family:Menlo,'DejaVu Sans Mono',consolas,'Courier New',monospace\"><span style=\"font-weight: bold\">Model: \"my_model\"</span>\n",
              "</pre>\n"
            ]
          },
          "metadata": {}
        },
        {
          "output_type": "display_data",
          "data": {
            "text/plain": [
              "┏━━━━━━━━━━━━━━━━━━━━━━━━━━━━━━━━━━━━━━┳━━━━━━━━━━━━━━━━━━━━━━━━━━━━━┳━━━━━━━━━━━━━━━━━┓\n",
              "┃\u001b[1m \u001b[0m\u001b[1mLayer (type)                        \u001b[0m\u001b[1m \u001b[0m┃\u001b[1m \u001b[0m\u001b[1mOutput Shape               \u001b[0m\u001b[1m \u001b[0m┃\u001b[1m \u001b[0m\u001b[1m        Param #\u001b[0m\u001b[1m \u001b[0m┃\n",
              "┡━━━━━━━━━━━━━━━━━━━━━━━━━━━━━━━━━━━━━━╇━━━━━━━━━━━━━━━━━━━━━━━━━━━━━╇━━━━━━━━━━━━━━━━━┩\n",
              "│ dense_2 (\u001b[38;5;33mDense\u001b[0m)                      │ (\u001b[38;5;45mNone\u001b[0m, \u001b[38;5;34m64\u001b[0m)                  │          \u001b[38;5;34m65,600\u001b[0m │\n",
              "├──────────────────────────────────────┼─────────────────────────────┼─────────────────┤\n",
              "│ dense_3 (\u001b[38;5;33mDense\u001b[0m)                      │ (\u001b[38;5;45mNone\u001b[0m, \u001b[38;5;34m9\u001b[0m)                   │             \u001b[38;5;34m585\u001b[0m │\n",
              "└──────────────────────────────────────┴─────────────────────────────┴─────────────────┘\n"
            ],
            "text/html": [
              "<pre style=\"white-space:pre;overflow-x:auto;line-height:normal;font-family:Menlo,'DejaVu Sans Mono',consolas,'Courier New',monospace\">┏━━━━━━━━━━━━━━━━━━━━━━━━━━━━━━━━━━━━━━┳━━━━━━━━━━━━━━━━━━━━━━━━━━━━━┳━━━━━━━━━━━━━━━━━┓\n",
              "┃<span style=\"font-weight: bold\"> Layer (type)                         </span>┃<span style=\"font-weight: bold\"> Output Shape                </span>┃<span style=\"font-weight: bold\">         Param # </span>┃\n",
              "┡━━━━━━━━━━━━━━━━━━━━━━━━━━━━━━━━━━━━━━╇━━━━━━━━━━━━━━━━━━━━━━━━━━━━━╇━━━━━━━━━━━━━━━━━┩\n",
              "│ dense_2 (<span style=\"color: #0087ff; text-decoration-color: #0087ff\">Dense</span>)                      │ (<span style=\"color: #00d7ff; text-decoration-color: #00d7ff\">None</span>, <span style=\"color: #00af00; text-decoration-color: #00af00\">64</span>)                  │          <span style=\"color: #00af00; text-decoration-color: #00af00\">65,600</span> │\n",
              "├──────────────────────────────────────┼─────────────────────────────┼─────────────────┤\n",
              "│ dense_3 (<span style=\"color: #0087ff; text-decoration-color: #0087ff\">Dense</span>)                      │ (<span style=\"color: #00d7ff; text-decoration-color: #00d7ff\">None</span>, <span style=\"color: #00af00; text-decoration-color: #00af00\">9</span>)                   │             <span style=\"color: #00af00; text-decoration-color: #00af00\">585</span> │\n",
              "└──────────────────────────────────────┴─────────────────────────────┴─────────────────┘\n",
              "</pre>\n"
            ]
          },
          "metadata": {}
        },
        {
          "output_type": "display_data",
          "data": {
            "text/plain": [
              "\u001b[1m Total params: \u001b[0m\u001b[38;5;34m66,185\u001b[0m (258.54 KB)\n"
            ],
            "text/html": [
              "<pre style=\"white-space:pre;overflow-x:auto;line-height:normal;font-family:Menlo,'DejaVu Sans Mono',consolas,'Courier New',monospace\"><span style=\"font-weight: bold\"> Total params: </span><span style=\"color: #00af00; text-decoration-color: #00af00\">66,185</span> (258.54 KB)\n",
              "</pre>\n"
            ]
          },
          "metadata": {}
        },
        {
          "output_type": "display_data",
          "data": {
            "text/plain": [
              "\u001b[1m Trainable params: \u001b[0m\u001b[38;5;34m66,185\u001b[0m (258.54 KB)\n"
            ],
            "text/html": [
              "<pre style=\"white-space:pre;overflow-x:auto;line-height:normal;font-family:Menlo,'DejaVu Sans Mono',consolas,'Courier New',monospace\"><span style=\"font-weight: bold\"> Trainable params: </span><span style=\"color: #00af00; text-decoration-color: #00af00\">66,185</span> (258.54 KB)\n",
              "</pre>\n"
            ]
          },
          "metadata": {}
        },
        {
          "output_type": "display_data",
          "data": {
            "text/plain": [
              "\u001b[1m Non-trainable params: \u001b[0m\u001b[38;5;34m0\u001b[0m (0.00 B)\n"
            ],
            "text/html": [
              "<pre style=\"white-space:pre;overflow-x:auto;line-height:normal;font-family:Menlo,'DejaVu Sans Mono',consolas,'Courier New',monospace\"><span style=\"font-weight: bold\"> Non-trainable params: </span><span style=\"color: #00af00; text-decoration-color: #00af00\">0</span> (0.00 B)\n",
              "</pre>\n"
            ]
          },
          "metadata": {}
        }
      ]
    },
    {
      "cell_type": "code",
      "source": [
        "my_model.compile(loss=tf.keras.losses.SparseCategoricalCrossentropy(from_logits=True),\n",
        "                 optimizer=\"adam\",\n",
        "                 metrics=['accuracy'])\n",
        "\n",
        "#callback = tf.keras.callbacks.EarlyStopping(monitor='loss',\n",
        "#                                           patience=3,\n",
        "#                                          restore_best_weights=True)"
      ],
      "metadata": {
        "id": "zqpfsqLncBsF"
      },
      "execution_count": null,
      "outputs": []
    },
    {
      "cell_type": "code",
      "source": [
        "callbacks = [tf.keras.callbacks.ModelCheckpoint(filepath='./violin_y.keras', monitor='val_loss', save_best_only=True),\n",
        "                 tf.keras.callbacks.ReduceLROnPlateau(monitor='val_loss', factor=0.9, patience=15, verbose=1,\n",
        "                                                      min_lr=0.000001)]"
      ],
      "metadata": {
        "id": "XM_eQaNJE5Pe"
      },
      "execution_count": null,
      "outputs": []
    },
    {
      "cell_type": "code",
      "source": [],
      "metadata": {
        "id": "BtChP41RE5ZR"
      },
      "execution_count": null,
      "outputs": []
    },
    {
      "cell_type": "code",
      "source": [
        "history = my_model.fit(tf_train_dataset,\n",
        "                       epochs=250,\n",
        "                       validation_data=tf_test_dataset,\n",
        "                       callbacks=callbacks)"
      ],
      "metadata": {
        "colab": {
          "base_uri": "https://localhost:8080/"
        },
        "id": "Giimr0SFdGJ0",
        "outputId": "1b0a9d87-6d3a-4050-de21-82edae7e8c59"
      },
      "execution_count": null,
      "outputs": [
        {
          "output_type": "stream",
          "name": "stdout",
          "text": [
            "Epoch 1/250\n",
            "\u001b[1m63/63\u001b[0m \u001b[32m━━━━━━━━━━━━━━━━━━━━\u001b[0m\u001b[37m\u001b[0m \u001b[1m0s\u001b[0m 7ms/step - accuracy: 0.9088 - loss: 0.4337 - val_accuracy: 0.8787 - val_loss: 0.5125 - learning_rate: 0.0010\n",
            "Epoch 2/250\n",
            "\u001b[1m63/63\u001b[0m \u001b[32m━━━━━━━━━━━━━━━━━━━━\u001b[0m\u001b[37m\u001b[0m \u001b[1m0s\u001b[0m 6ms/step - accuracy: 0.9105 - loss: 0.4333 - val_accuracy: 0.8787 - val_loss: 0.4997 - learning_rate: 0.0010\n",
            "Epoch 3/250\n",
            "\u001b[1m63/63\u001b[0m \u001b[32m━━━━━━━━━━━━━━━━━━━━\u001b[0m\u001b[37m\u001b[0m \u001b[1m0s\u001b[0m 6ms/step - accuracy: 0.9128 - loss: 0.4268 - val_accuracy: 0.8767 - val_loss: 0.5044 - learning_rate: 0.0010\n",
            "Epoch 4/250\n",
            "\u001b[1m63/63\u001b[0m \u001b[32m━━━━━━━━━━━━━━━━━━━━\u001b[0m\u001b[37m\u001b[0m \u001b[1m0s\u001b[0m 6ms/step - accuracy: 0.9143 - loss: 0.4254 - val_accuracy: 0.8767 - val_loss: 0.4964 - learning_rate: 0.0010\n",
            "Epoch 5/250\n",
            "\u001b[1m63/63\u001b[0m \u001b[32m━━━━━━━━━━━━━━━━━━━━\u001b[0m\u001b[37m\u001b[0m \u001b[1m0s\u001b[0m 5ms/step - accuracy: 0.9142 - loss: 0.4211 - val_accuracy: 0.8767 - val_loss: 0.5039 - learning_rate: 0.0010\n",
            "Epoch 6/250\n",
            "\u001b[1m63/63\u001b[0m \u001b[32m━━━━━━━━━━━━━━━━━━━━\u001b[0m\u001b[37m\u001b[0m \u001b[1m0s\u001b[0m 5ms/step - accuracy: 0.9143 - loss: 0.4206 - val_accuracy: 0.8787 - val_loss: 0.4929 - learning_rate: 0.0010\n",
            "Epoch 7/250\n",
            "\u001b[1m63/63\u001b[0m \u001b[32m━━━━━━━━━━━━━━━━━━━━\u001b[0m\u001b[37m\u001b[0m \u001b[1m0s\u001b[0m 6ms/step - accuracy: 0.9157 - loss: 0.4152 - val_accuracy: 0.8807 - val_loss: 0.4998 - learning_rate: 0.0010\n",
            "Epoch 8/250\n",
            "\u001b[1m63/63\u001b[0m \u001b[32m━━━━━━━━━━━━━━━━━━━━\u001b[0m\u001b[37m\u001b[0m \u001b[1m0s\u001b[0m 7ms/step - accuracy: 0.9168 - loss: 0.4147 - val_accuracy: 0.8807 - val_loss: 0.4900 - learning_rate: 0.0010\n",
            "Epoch 9/250\n",
            "\u001b[1m63/63\u001b[0m \u001b[32m━━━━━━━━━━━━━━━━━━━━\u001b[0m\u001b[37m\u001b[0m \u001b[1m0s\u001b[0m 6ms/step - accuracy: 0.9161 - loss: 0.4098 - val_accuracy: 0.8807 - val_loss: 0.4965 - learning_rate: 0.0010\n",
            "Epoch 10/250\n",
            "\u001b[1m63/63\u001b[0m \u001b[32m━━━━━━━━━━━━━━━━━━━━\u001b[0m\u001b[37m\u001b[0m \u001b[1m0s\u001b[0m 6ms/step - accuracy: 0.9179 - loss: 0.4093 - val_accuracy: 0.8827 - val_loss: 0.4874 - learning_rate: 0.0010\n",
            "Epoch 11/250\n",
            "\u001b[1m63/63\u001b[0m \u001b[32m━━━━━━━━━━━━━━━━━━━━\u001b[0m\u001b[37m\u001b[0m \u001b[1m0s\u001b[0m 6ms/step - accuracy: 0.9162 - loss: 0.4047 - val_accuracy: 0.8807 - val_loss: 0.4932 - learning_rate: 0.0010\n",
            "Epoch 12/250\n",
            "\u001b[1m63/63\u001b[0m \u001b[32m━━━━━━━━━━━━━━━━━━━━\u001b[0m\u001b[37m\u001b[0m \u001b[1m0s\u001b[0m 6ms/step - accuracy: 0.9180 - loss: 0.4041 - val_accuracy: 0.8827 - val_loss: 0.4850 - learning_rate: 0.0010\n",
            "Epoch 13/250\n",
            "\u001b[1m63/63\u001b[0m \u001b[32m━━━━━━━━━━━━━━━━━━━━\u001b[0m\u001b[37m\u001b[0m \u001b[1m0s\u001b[0m 5ms/step - accuracy: 0.9187 - loss: 0.3998 - val_accuracy: 0.8827 - val_loss: 0.4900 - learning_rate: 0.0010\n",
            "Epoch 14/250\n",
            "\u001b[1m63/63\u001b[0m \u001b[32m━━━━━━━━━━━━━━━━━━━━\u001b[0m\u001b[37m\u001b[0m \u001b[1m0s\u001b[0m 6ms/step - accuracy: 0.9195 - loss: 0.3991 - val_accuracy: 0.8827 - val_loss: 0.4830 - learning_rate: 0.0010\n",
            "Epoch 15/250\n",
            "\u001b[1m63/63\u001b[0m \u001b[32m━━━━━━━━━━━━━━━━━━━━\u001b[0m\u001b[37m\u001b[0m \u001b[1m0s\u001b[0m 5ms/step - accuracy: 0.9203 - loss: 0.3952 - val_accuracy: 0.8827 - val_loss: 0.4871 - learning_rate: 0.0010\n",
            "Epoch 16/250\n",
            "\u001b[1m63/63\u001b[0m \u001b[32m━━━━━━━━━━━━━━━━━━━━\u001b[0m\u001b[37m\u001b[0m \u001b[1m0s\u001b[0m 6ms/step - accuracy: 0.9212 - loss: 0.3943 - val_accuracy: 0.8827 - val_loss: 0.4811 - learning_rate: 0.0010\n",
            "Epoch 17/250\n",
            "\u001b[1m63/63\u001b[0m \u001b[32m━━━━━━━━━━━━━━━━━━━━\u001b[0m\u001b[37m\u001b[0m \u001b[1m0s\u001b[0m 6ms/step - accuracy: 0.9210 - loss: 0.3908 - val_accuracy: 0.8827 - val_loss: 0.4842 - learning_rate: 0.0010\n",
            "Epoch 18/250\n",
            "\u001b[1m63/63\u001b[0m \u001b[32m━━━━━━━━━━━━━━━━━━━━\u001b[0m\u001b[37m\u001b[0m \u001b[1m0s\u001b[0m 6ms/step - accuracy: 0.9212 - loss: 0.3897 - val_accuracy: 0.8847 - val_loss: 0.4796 - learning_rate: 0.0010\n",
            "Epoch 19/250\n",
            "\u001b[1m63/63\u001b[0m \u001b[32m━━━━━━━━━━━━━━━━━━━━\u001b[0m\u001b[37m\u001b[0m \u001b[1m0s\u001b[0m 5ms/step - accuracy: 0.9227 - loss: 0.3866 - val_accuracy: 0.8827 - val_loss: 0.4815 - learning_rate: 0.0010\n",
            "Epoch 20/250\n",
            "\u001b[1m63/63\u001b[0m \u001b[32m━━━━━━━━━━━━━━━━━━━━\u001b[0m\u001b[37m\u001b[0m \u001b[1m0s\u001b[0m 6ms/step - accuracy: 0.9223 - loss: 0.3853 - val_accuracy: 0.8847 - val_loss: 0.4784 - learning_rate: 0.0010\n",
            "Epoch 21/250\n",
            "\u001b[1m63/63\u001b[0m \u001b[32m━━━━━━━━━━━━━━━━━━━━\u001b[0m\u001b[37m\u001b[0m \u001b[1m0s\u001b[0m 5ms/step - accuracy: 0.9227 - loss: 0.3827 - val_accuracy: 0.8827 - val_loss: 0.4791 - learning_rate: 0.0010\n",
            "Epoch 22/250\n",
            "\u001b[1m63/63\u001b[0m \u001b[32m━━━━━━━━━━━━━━━━━━━━\u001b[0m\u001b[37m\u001b[0m \u001b[1m0s\u001b[0m 6ms/step - accuracy: 0.9229 - loss: 0.3812 - val_accuracy: 0.8847 - val_loss: 0.4774 - learning_rate: 0.0010\n",
            "Epoch 23/250\n",
            "\u001b[1m63/63\u001b[0m \u001b[32m━━━━━━━━━━━━━━━━━━━━\u001b[0m\u001b[37m\u001b[0m \u001b[1m0s\u001b[0m 6ms/step - accuracy: 0.9224 - loss: 0.3790 - val_accuracy: 0.8827 - val_loss: 0.4771 - learning_rate: 0.0010\n",
            "Epoch 24/250\n",
            "\u001b[1m63/63\u001b[0m \u001b[32m━━━━━━━━━━━━━━━━━━━━\u001b[0m\u001b[37m\u001b[0m \u001b[1m0s\u001b[0m 6ms/step - accuracy: 0.9226 - loss: 0.3773 - val_accuracy: 0.8827 - val_loss: 0.4762 - learning_rate: 0.0010\n",
            "Epoch 25/250\n",
            "\u001b[1m63/63\u001b[0m \u001b[32m━━━━━━━━━━━━━━━━━━━━\u001b[0m\u001b[37m\u001b[0m \u001b[1m0s\u001b[0m 7ms/step - accuracy: 0.9226 - loss: 0.3754 - val_accuracy: 0.8827 - val_loss: 0.4756 - learning_rate: 0.0010\n",
            "Epoch 26/250\n",
            "\u001b[1m63/63\u001b[0m \u001b[32m━━━━━━━━━━━━━━━━━━━━\u001b[0m\u001b[37m\u001b[0m \u001b[1m0s\u001b[0m 6ms/step - accuracy: 0.9226 - loss: 0.3737 - val_accuracy: 0.8827 - val_loss: 0.4749 - learning_rate: 0.0010\n",
            "Epoch 27/250\n",
            "\u001b[1m63/63\u001b[0m \u001b[32m━━━━━━━━━━━━━━━━━━━━\u001b[0m\u001b[37m\u001b[0m \u001b[1m0s\u001b[0m 6ms/step - accuracy: 0.9226 - loss: 0.3719 - val_accuracy: 0.8827 - val_loss: 0.4743 - learning_rate: 0.0010\n",
            "Epoch 28/250\n",
            "\u001b[1m63/63\u001b[0m \u001b[32m━━━━━━━━━━━━━━━━━━━━\u001b[0m\u001b[37m\u001b[0m \u001b[1m0s\u001b[0m 6ms/step - accuracy: 0.9233 - loss: 0.3702 - val_accuracy: 0.8827 - val_loss: 0.4737 - learning_rate: 0.0010\n",
            "Epoch 29/250\n",
            "\u001b[1m63/63\u001b[0m \u001b[32m━━━━━━━━━━━━━━━━━━━━\u001b[0m\u001b[37m\u001b[0m \u001b[1m0s\u001b[0m 6ms/step - accuracy: 0.9237 - loss: 0.3685 - val_accuracy: 0.8827 - val_loss: 0.4731 - learning_rate: 0.0010\n",
            "Epoch 30/250\n",
            "\u001b[1m63/63\u001b[0m \u001b[32m━━━━━━━━━━━━━━━━━━━━\u001b[0m\u001b[37m\u001b[0m \u001b[1m0s\u001b[0m 6ms/step - accuracy: 0.9239 - loss: 0.3668 - val_accuracy: 0.8827 - val_loss: 0.4725 - learning_rate: 0.0010\n",
            "Epoch 31/250\n",
            "\u001b[1m63/63\u001b[0m \u001b[32m━━━━━━━━━━━━━━━━━━━━\u001b[0m\u001b[37m\u001b[0m \u001b[1m0s\u001b[0m 5ms/step - accuracy: 0.9239 - loss: 0.3652 - val_accuracy: 0.8827 - val_loss: 0.4720 - learning_rate: 0.0010\n",
            "Epoch 32/250\n",
            "\u001b[1m63/63\u001b[0m \u001b[32m━━━━━━━━━━━━━━━━━━━━\u001b[0m\u001b[37m\u001b[0m \u001b[1m0s\u001b[0m 6ms/step - accuracy: 0.9239 - loss: 0.3636 - val_accuracy: 0.8827 - val_loss: 0.4714 - learning_rate: 0.0010\n",
            "Epoch 33/250\n",
            "\u001b[1m63/63\u001b[0m \u001b[32m━━━━━━━━━━━━━━━━━━━━\u001b[0m\u001b[37m\u001b[0m \u001b[1m0s\u001b[0m 7ms/step - accuracy: 0.9239 - loss: 0.3620 - val_accuracy: 0.8827 - val_loss: 0.4709 - learning_rate: 0.0010\n",
            "Epoch 34/250\n",
            "\u001b[1m63/63\u001b[0m \u001b[32m━━━━━━━━━━━━━━━━━━━━\u001b[0m\u001b[37m\u001b[0m \u001b[1m0s\u001b[0m 6ms/step - accuracy: 0.9244 - loss: 0.3604 - val_accuracy: 0.8827 - val_loss: 0.4704 - learning_rate: 0.0010\n",
            "Epoch 35/250\n",
            "\u001b[1m63/63\u001b[0m \u001b[32m━━━━━━━━━━━━━━━━━━━━\u001b[0m\u001b[37m\u001b[0m \u001b[1m0s\u001b[0m 6ms/step - accuracy: 0.9259 - loss: 0.3589 - val_accuracy: 0.8827 - val_loss: 0.4700 - learning_rate: 0.0010\n",
            "Epoch 36/250\n",
            "\u001b[1m63/63\u001b[0m \u001b[32m━━━━━━━━━━━━━━━━━━━━\u001b[0m\u001b[37m\u001b[0m \u001b[1m0s\u001b[0m 6ms/step - accuracy: 0.9264 - loss: 0.3574 - val_accuracy: 0.8807 - val_loss: 0.4695 - learning_rate: 0.0010\n",
            "Epoch 37/250\n",
            "\u001b[1m63/63\u001b[0m \u001b[32m━━━━━━━━━━━━━━━━━━━━\u001b[0m\u001b[37m\u001b[0m \u001b[1m0s\u001b[0m 6ms/step - accuracy: 0.9276 - loss: 0.3559 - val_accuracy: 0.8807 - val_loss: 0.4691 - learning_rate: 0.0010\n",
            "Epoch 38/250\n",
            "\u001b[1m63/63\u001b[0m \u001b[32m━━━━━━━━━━━━━━━━━━━━\u001b[0m\u001b[37m\u001b[0m \u001b[1m0s\u001b[0m 6ms/step - accuracy: 0.9276 - loss: 0.3544 - val_accuracy: 0.8847 - val_loss: 0.4686 - learning_rate: 0.0010\n",
            "Epoch 39/250\n",
            "\u001b[1m63/63\u001b[0m \u001b[32m━━━━━━━━━━━━━━━━━━━━\u001b[0m\u001b[37m\u001b[0m \u001b[1m0s\u001b[0m 6ms/step - accuracy: 0.9280 - loss: 0.3530 - val_accuracy: 0.8847 - val_loss: 0.4682 - learning_rate: 0.0010\n",
            "Epoch 40/250\n",
            "\u001b[1m63/63\u001b[0m \u001b[32m━━━━━━━━━━━━━━━━━━━━\u001b[0m\u001b[37m\u001b[0m \u001b[1m0s\u001b[0m 6ms/step - accuracy: 0.9302 - loss: 0.3515 - val_accuracy: 0.8847 - val_loss: 0.4678 - learning_rate: 0.0010\n",
            "Epoch 41/250\n",
            "\u001b[1m63/63\u001b[0m \u001b[32m━━━━━━━━━━━━━━━━━━━━\u001b[0m\u001b[37m\u001b[0m \u001b[1m0s\u001b[0m 6ms/step - accuracy: 0.9309 - loss: 0.3501 - val_accuracy: 0.8847 - val_loss: 0.4674 - learning_rate: 0.0010\n",
            "Epoch 42/250\n",
            "\u001b[1m63/63\u001b[0m \u001b[32m━━━━━━━━━━━━━━━━━━━━\u001b[0m\u001b[37m\u001b[0m \u001b[1m0s\u001b[0m 6ms/step - accuracy: 0.9313 - loss: 0.3487 - val_accuracy: 0.8847 - val_loss: 0.4671 - learning_rate: 0.0010\n",
            "Epoch 43/250\n",
            "\u001b[1m63/63\u001b[0m \u001b[32m━━━━━━━━━━━━━━━━━━━━\u001b[0m\u001b[37m\u001b[0m \u001b[1m0s\u001b[0m 6ms/step - accuracy: 0.9310 - loss: 0.3474 - val_accuracy: 0.8827 - val_loss: 0.4667 - learning_rate: 0.0010\n",
            "Epoch 44/250\n",
            "\u001b[1m63/63\u001b[0m \u001b[32m━━━━━━━━━━━━━━━━━━━━\u001b[0m\u001b[37m\u001b[0m \u001b[1m0s\u001b[0m 6ms/step - accuracy: 0.9314 - loss: 0.3460 - val_accuracy: 0.8827 - val_loss: 0.4664 - learning_rate: 0.0010\n",
            "Epoch 45/250\n",
            "\u001b[1m63/63\u001b[0m \u001b[32m━━━━━━━━━━━━━━━━━━━━\u001b[0m\u001b[37m\u001b[0m \u001b[1m0s\u001b[0m 6ms/step - accuracy: 0.9323 - loss: 0.3447 - val_accuracy: 0.8827 - val_loss: 0.4661 - learning_rate: 0.0010\n",
            "Epoch 46/250\n",
            "\u001b[1m63/63\u001b[0m \u001b[32m━━━━━━━━━━━━━━━━━━━━\u001b[0m\u001b[37m\u001b[0m \u001b[1m0s\u001b[0m 6ms/step - accuracy: 0.9326 - loss: 0.3434 - val_accuracy: 0.8827 - val_loss: 0.4657 - learning_rate: 0.0010\n",
            "Epoch 47/250\n",
            "\u001b[1m63/63\u001b[0m \u001b[32m━━━━━━━━━━━━━━━━━━━━\u001b[0m\u001b[37m\u001b[0m \u001b[1m0s\u001b[0m 6ms/step - accuracy: 0.9336 - loss: 0.3421 - val_accuracy: 0.8807 - val_loss: 0.4654 - learning_rate: 0.0010\n",
            "Epoch 48/250\n",
            "\u001b[1m63/63\u001b[0m \u001b[32m━━━━━━━━━━━━━━━━━━━━\u001b[0m\u001b[37m\u001b[0m \u001b[1m0s\u001b[0m 6ms/step - accuracy: 0.9336 - loss: 0.3408 - val_accuracy: 0.8807 - val_loss: 0.4651 - learning_rate: 0.0010\n",
            "Epoch 49/250\n",
            "\u001b[1m63/63\u001b[0m \u001b[32m━━━━━━━━━━━━━━━━━━━━\u001b[0m\u001b[37m\u001b[0m \u001b[1m0s\u001b[0m 6ms/step - accuracy: 0.9336 - loss: 0.3396 - val_accuracy: 0.8807 - val_loss: 0.4649 - learning_rate: 0.0010\n",
            "Epoch 50/250\n",
            "\u001b[1m63/63\u001b[0m \u001b[32m━━━━━━━━━━━━━━━━━━━━\u001b[0m\u001b[37m\u001b[0m \u001b[1m0s\u001b[0m 6ms/step - accuracy: 0.9336 - loss: 0.3383 - val_accuracy: 0.8807 - val_loss: 0.4646 - learning_rate: 0.0010\n",
            "Epoch 51/250\n",
            "\u001b[1m63/63\u001b[0m \u001b[32m━━━━━━━━━━━━━━━━━━━━\u001b[0m\u001b[37m\u001b[0m \u001b[1m0s\u001b[0m 6ms/step - accuracy: 0.9336 - loss: 0.3371 - val_accuracy: 0.8807 - val_loss: 0.4643 - learning_rate: 0.0010\n",
            "Epoch 52/250\n",
            "\u001b[1m63/63\u001b[0m \u001b[32m━━━━━━━━━━━━━━━━━━━━\u001b[0m\u001b[37m\u001b[0m \u001b[1m0s\u001b[0m 6ms/step - accuracy: 0.9347 - loss: 0.3359 - val_accuracy: 0.8807 - val_loss: 0.4641 - learning_rate: 0.0010\n",
            "Epoch 53/250\n",
            "\u001b[1m63/63\u001b[0m \u001b[32m━━━━━━━━━━━━━━━━━━━━\u001b[0m\u001b[37m\u001b[0m \u001b[1m0s\u001b[0m 5ms/step - accuracy: 0.9350 - loss: 0.3347 - val_accuracy: 0.8807 - val_loss: 0.4639 - learning_rate: 0.0010\n",
            "Epoch 54/250\n",
            "\u001b[1m63/63\u001b[0m \u001b[32m━━━━━━━━━━━━━━━━━━━━\u001b[0m\u001b[37m\u001b[0m \u001b[1m0s\u001b[0m 6ms/step - accuracy: 0.9350 - loss: 0.3335 - val_accuracy: 0.8807 - val_loss: 0.4636 - learning_rate: 0.0010\n",
            "Epoch 55/250\n",
            "\u001b[1m63/63\u001b[0m \u001b[32m━━━━━━━━━━━━━━━━━━━━\u001b[0m\u001b[37m\u001b[0m \u001b[1m0s\u001b[0m 6ms/step - accuracy: 0.9352 - loss: 0.3324 - val_accuracy: 0.8807 - val_loss: 0.4634 - learning_rate: 0.0010\n",
            "Epoch 56/250\n",
            "\u001b[1m63/63\u001b[0m \u001b[32m━━━━━━━━━━━━━━━━━━━━\u001b[0m\u001b[37m\u001b[0m \u001b[1m0s\u001b[0m 6ms/step - accuracy: 0.9362 - loss: 0.3312 - val_accuracy: 0.8807 - val_loss: 0.4632 - learning_rate: 0.0010\n",
            "Epoch 57/250\n",
            "\u001b[1m63/63\u001b[0m \u001b[32m━━━━━━━━━━━━━━━━━━━━\u001b[0m\u001b[37m\u001b[0m \u001b[1m0s\u001b[0m 6ms/step - accuracy: 0.9362 - loss: 0.3301 - val_accuracy: 0.8807 - val_loss: 0.4630 - learning_rate: 0.0010\n",
            "Epoch 58/250\n",
            "\u001b[1m63/63\u001b[0m \u001b[32m━━━━━━━━━━━━━━━━━━━━\u001b[0m\u001b[37m\u001b[0m \u001b[1m0s\u001b[0m 6ms/step - accuracy: 0.9362 - loss: 0.3289 - val_accuracy: 0.8807 - val_loss: 0.4628 - learning_rate: 0.0010\n",
            "Epoch 59/250\n",
            "\u001b[1m63/63\u001b[0m \u001b[32m━━━━━━━━━━━━━━━━━━━━\u001b[0m\u001b[37m\u001b[0m \u001b[1m0s\u001b[0m 6ms/step - accuracy: 0.9366 - loss: 0.3278 - val_accuracy: 0.8807 - val_loss: 0.4627 - learning_rate: 0.0010\n",
            "Epoch 60/250\n",
            "\u001b[1m63/63\u001b[0m \u001b[32m━━━━━━━━━━━━━━━━━━━━\u001b[0m\u001b[37m\u001b[0m \u001b[1m0s\u001b[0m 6ms/step - accuracy: 0.9366 - loss: 0.3267 - val_accuracy: 0.8827 - val_loss: 0.4625 - learning_rate: 0.0010\n",
            "Epoch 61/250\n",
            "\u001b[1m63/63\u001b[0m \u001b[32m━━━━━━━━━━━━━━━━━━━━\u001b[0m\u001b[37m\u001b[0m \u001b[1m0s\u001b[0m 6ms/step - accuracy: 0.9366 - loss: 0.3256 - val_accuracy: 0.8807 - val_loss: 0.4623 - learning_rate: 0.0010\n",
            "Epoch 62/250\n",
            "\u001b[1m63/63\u001b[0m \u001b[32m━━━━━━━━━━━━━━━━━━━━\u001b[0m\u001b[37m\u001b[0m \u001b[1m0s\u001b[0m 6ms/step - accuracy: 0.9366 - loss: 0.3245 - val_accuracy: 0.8807 - val_loss: 0.4622 - learning_rate: 0.0010\n",
            "Epoch 63/250\n",
            "\u001b[1m63/63\u001b[0m \u001b[32m━━━━━━━━━━━━━━━━━━━━\u001b[0m\u001b[37m\u001b[0m \u001b[1m0s\u001b[0m 6ms/step - accuracy: 0.9369 - loss: 0.3235 - val_accuracy: 0.8807 - val_loss: 0.4621 - learning_rate: 0.0010\n",
            "Epoch 64/250\n",
            "\u001b[1m63/63\u001b[0m \u001b[32m━━━━━━━━━━━━━━━━━━━━\u001b[0m\u001b[37m\u001b[0m \u001b[1m0s\u001b[0m 6ms/step - accuracy: 0.9384 - loss: 0.3224 - val_accuracy: 0.8807 - val_loss: 0.4619 - learning_rate: 0.0010\n",
            "Epoch 65/250\n",
            "\u001b[1m63/63\u001b[0m \u001b[32m━━━━━━━━━━━━━━━━━━━━\u001b[0m\u001b[37m\u001b[0m \u001b[1m0s\u001b[0m 7ms/step - accuracy: 0.9397 - loss: 0.3214 - val_accuracy: 0.8787 - val_loss: 0.4618 - learning_rate: 0.0010\n",
            "Epoch 66/250\n",
            "\u001b[1m63/63\u001b[0m \u001b[32m━━━━━━━━━━━━━━━━━━━━\u001b[0m\u001b[37m\u001b[0m \u001b[1m0s\u001b[0m 6ms/step - accuracy: 0.9397 - loss: 0.3203 - val_accuracy: 0.8787 - val_loss: 0.4617 - learning_rate: 0.0010\n",
            "Epoch 67/250\n",
            "\u001b[1m63/63\u001b[0m \u001b[32m━━━━━━━━━━━━━━━━━━━━\u001b[0m\u001b[37m\u001b[0m \u001b[1m0s\u001b[0m 6ms/step - accuracy: 0.9396 - loss: 0.3193 - val_accuracy: 0.8787 - val_loss: 0.4616 - learning_rate: 0.0010\n",
            "Epoch 68/250\n",
            "\u001b[1m63/63\u001b[0m \u001b[32m━━━━━━━━━━━━━━━━━━━━\u001b[0m\u001b[37m\u001b[0m \u001b[1m0s\u001b[0m 6ms/step - accuracy: 0.9396 - loss: 0.3183 - val_accuracy: 0.8787 - val_loss: 0.4615 - learning_rate: 0.0010\n",
            "Epoch 69/250\n",
            "\u001b[1m63/63\u001b[0m \u001b[32m━━━━━━━━━━━━━━━━━━━━\u001b[0m\u001b[37m\u001b[0m \u001b[1m0s\u001b[0m 6ms/step - accuracy: 0.9396 - loss: 0.3172 - val_accuracy: 0.8787 - val_loss: 0.4614 - learning_rate: 0.0010\n",
            "Epoch 70/250\n",
            "\u001b[1m63/63\u001b[0m \u001b[32m━━━━━━━━━━━━━━━━━━━━\u001b[0m\u001b[37m\u001b[0m \u001b[1m0s\u001b[0m 6ms/step - accuracy: 0.9402 - loss: 0.3162 - val_accuracy: 0.8787 - val_loss: 0.4613 - learning_rate: 0.0010\n",
            "Epoch 71/250\n",
            "\u001b[1m63/63\u001b[0m \u001b[32m━━━━━━━━━━━━━━━━━━━━\u001b[0m\u001b[37m\u001b[0m \u001b[1m0s\u001b[0m 6ms/step - accuracy: 0.9406 - loss: 0.3152 - val_accuracy: 0.8787 - val_loss: 0.4613 - learning_rate: 0.0010\n",
            "Epoch 72/250\n",
            "\u001b[1m63/63\u001b[0m \u001b[32m━━━━━━━━━━━━━━━━━━━━\u001b[0m\u001b[37m\u001b[0m \u001b[1m0s\u001b[0m 6ms/step - accuracy: 0.9412 - loss: 0.3143 - val_accuracy: 0.8767 - val_loss: 0.4612 - learning_rate: 0.0010\n",
            "Epoch 73/250\n",
            "\u001b[1m63/63\u001b[0m \u001b[32m━━━━━━━━━━━━━━━━━━━━\u001b[0m\u001b[37m\u001b[0m \u001b[1m0s\u001b[0m 6ms/step - accuracy: 0.9412 - loss: 0.3133 - val_accuracy: 0.8767 - val_loss: 0.4612 - learning_rate: 0.0010\n",
            "Epoch 74/250\n",
            "\u001b[1m63/63\u001b[0m \u001b[32m━━━━━━━━━━━━━━━━━━━━\u001b[0m\u001b[37m\u001b[0m \u001b[1m0s\u001b[0m 6ms/step - accuracy: 0.9417 - loss: 0.3123 - val_accuracy: 0.8767 - val_loss: 0.4611 - learning_rate: 0.0010\n",
            "Epoch 75/250\n",
            "\u001b[1m63/63\u001b[0m \u001b[32m━━━━━━━━━━━━━━━━━━━━\u001b[0m\u001b[37m\u001b[0m \u001b[1m0s\u001b[0m 6ms/step - accuracy: 0.9423 - loss: 0.3113 - val_accuracy: 0.8787 - val_loss: 0.4611 - learning_rate: 0.0010\n",
            "Epoch 76/250\n",
            "\u001b[1m63/63\u001b[0m \u001b[32m━━━━━━━━━━━━━━━━━━━━\u001b[0m\u001b[37m\u001b[0m \u001b[1m0s\u001b[0m 6ms/step - accuracy: 0.9423 - loss: 0.3104 - val_accuracy: 0.8787 - val_loss: 0.4611 - learning_rate: 0.0010\n",
            "Epoch 77/250\n",
            "\u001b[1m63/63\u001b[0m \u001b[32m━━━━━━━━━━━━━━━━━━━━\u001b[0m\u001b[37m\u001b[0m \u001b[1m0s\u001b[0m 6ms/step - accuracy: 0.9432 - loss: 0.3095 - val_accuracy: 0.8787 - val_loss: 0.4611 - learning_rate: 0.0010\n",
            "Epoch 78/250\n",
            "\u001b[1m63/63\u001b[0m \u001b[32m━━━━━━━━━━━━━━━━━━━━\u001b[0m\u001b[37m\u001b[0m \u001b[1m0s\u001b[0m 6ms/step - accuracy: 0.9432 - loss: 0.3086 - val_accuracy: 0.8787 - val_loss: 0.4611 - learning_rate: 0.0010\n",
            "Epoch 79/250\n",
            "\u001b[1m63/63\u001b[0m \u001b[32m━━━━━━━━━━━━━━━━━━━━\u001b[0m\u001b[37m\u001b[0m \u001b[1m0s\u001b[0m 5ms/step - accuracy: 0.9432 - loss: 0.3077 - val_accuracy: 0.8787 - val_loss: 0.4612 - learning_rate: 0.0010\n",
            "Epoch 80/250\n",
            "\u001b[1m63/63\u001b[0m \u001b[32m━━━━━━━━━━━━━━━━━━━━\u001b[0m\u001b[37m\u001b[0m \u001b[1m0s\u001b[0m 6ms/step - accuracy: 0.9442 - loss: 0.3074 - val_accuracy: 0.8807 - val_loss: 0.4614 - learning_rate: 0.0010\n",
            "Epoch 81/250\n",
            "\u001b[1m63/63\u001b[0m \u001b[32m━━━━━━━━━━━━━━━━━━━━\u001b[0m\u001b[37m\u001b[0m \u001b[1m0s\u001b[0m 6ms/step - accuracy: 0.9442 - loss: 0.3058 - val_accuracy: 0.8807 - val_loss: 0.4617 - learning_rate: 0.0010\n",
            "Epoch 82/250\n",
            "\u001b[1m63/63\u001b[0m \u001b[32m━━━━━━━━━━━━━━━━━━━━\u001b[0m\u001b[37m\u001b[0m \u001b[1m0s\u001b[0m 6ms/step - accuracy: 0.9240 - loss: 0.4930 - val_accuracy: 0.8588 - val_loss: 0.5599 - learning_rate: 0.0010\n",
            "Epoch 83/250\n",
            "\u001b[1m63/63\u001b[0m \u001b[32m━━━━━━━━━━━━━━━━━━━━\u001b[0m\u001b[37m\u001b[0m \u001b[1m0s\u001b[0m 6ms/step - accuracy: 0.9465 - loss: 0.3355 - val_accuracy: 0.8787 - val_loss: 0.4741 - learning_rate: 0.0010\n",
            "Epoch 84/250\n",
            "\u001b[1m63/63\u001b[0m \u001b[32m━━━━━━━━━━━━━━━━━━━━\u001b[0m\u001b[37m\u001b[0m \u001b[1m0s\u001b[0m 6ms/step - accuracy: 0.9440 - loss: 0.3082 - val_accuracy: 0.8867 - val_loss: 0.4708 - learning_rate: 0.0010\n",
            "Epoch 85/250\n",
            "\u001b[1m63/63\u001b[0m \u001b[32m━━━━━━━━━━━━━━━━━━━━\u001b[0m\u001b[37m\u001b[0m \u001b[1m0s\u001b[0m 6ms/step - accuracy: 0.9436 - loss: 0.3090 - val_accuracy: 0.8887 - val_loss: 0.4677 - learning_rate: 0.0010\n",
            "Epoch 86/250\n",
            "\u001b[1m63/63\u001b[0m \u001b[32m━━━━━━━━━━━━━━━━━━━━\u001b[0m\u001b[37m\u001b[0m \u001b[1m0s\u001b[0m 6ms/step - accuracy: 0.9423 - loss: 0.3083 - val_accuracy: 0.8867 - val_loss: 0.4755 - learning_rate: 0.0010\n",
            "Epoch 87/250\n",
            "\u001b[1m63/63\u001b[0m \u001b[32m━━━━━━━━━━━━━━━━━━━━\u001b[0m\u001b[37m\u001b[0m \u001b[1m0s\u001b[0m 6ms/step - accuracy: 0.9443 - loss: 0.3045 - val_accuracy: 0.8767 - val_loss: 0.4914 - learning_rate: 0.0010\n",
            "Epoch 88/250\n",
            "\u001b[1m63/63\u001b[0m \u001b[32m━━━━━━━━━━━━━━━━━━━━\u001b[0m\u001b[37m\u001b[0m \u001b[1m0s\u001b[0m 6ms/step - accuracy: 0.9449 - loss: 0.3045 - val_accuracy: 0.8887 - val_loss: 0.4529 - learning_rate: 0.0010\n",
            "Epoch 89/250\n",
            "\u001b[1m63/63\u001b[0m \u001b[32m━━━━━━━━━━━━━━━━━━━━\u001b[0m\u001b[37m\u001b[0m \u001b[1m0s\u001b[0m 6ms/step - accuracy: 0.9432 - loss: 0.3006 - val_accuracy: 0.8807 - val_loss: 0.4615 - learning_rate: 0.0010\n",
            "Epoch 90/250\n",
            "\u001b[1m63/63\u001b[0m \u001b[32m━━━━━━━━━━━━━━━━━━━━\u001b[0m\u001b[37m\u001b[0m \u001b[1m0s\u001b[0m 6ms/step - accuracy: 0.9454 - loss: 0.2965 - val_accuracy: 0.8748 - val_loss: 0.4896 - learning_rate: 0.0010\n",
            "Epoch 91/250\n",
            "\u001b[1m63/63\u001b[0m \u001b[32m━━━━━━━━━━━━━━━━━━━━\u001b[0m\u001b[37m\u001b[0m \u001b[1m0s\u001b[0m 6ms/step - accuracy: 0.9426 - loss: 0.3052 - val_accuracy: 0.8728 - val_loss: 0.4998 - learning_rate: 0.0010\n",
            "Epoch 92/250\n",
            "\u001b[1m63/63\u001b[0m \u001b[32m━━━━━━━━━━━━━━━━━━━━\u001b[0m\u001b[37m\u001b[0m \u001b[1m0s\u001b[0m 5ms/step - accuracy: 0.9483 - loss: 0.3072 - val_accuracy: 0.8867 - val_loss: 0.4590 - learning_rate: 0.0010\n",
            "Epoch 93/250\n",
            "\u001b[1m63/63\u001b[0m \u001b[32m━━━━━━━━━━━━━━━━━━━━\u001b[0m\u001b[37m\u001b[0m \u001b[1m0s\u001b[0m 6ms/step - accuracy: 0.9445 - loss: 0.2961 - val_accuracy: 0.8867 - val_loss: 0.4677 - learning_rate: 0.0010\n",
            "Epoch 94/250\n",
            "\u001b[1m63/63\u001b[0m \u001b[32m━━━━━━━━━━━━━━━━━━━━\u001b[0m\u001b[37m\u001b[0m \u001b[1m0s\u001b[0m 6ms/step - accuracy: 0.9457 - loss: 0.2962 - val_accuracy: 0.8867 - val_loss: 0.4517 - learning_rate: 0.0010\n",
            "Epoch 95/250\n",
            "\u001b[1m63/63\u001b[0m \u001b[32m━━━━━━━━━━━━━━━━━━━━\u001b[0m\u001b[37m\u001b[0m \u001b[1m0s\u001b[0m 6ms/step - accuracy: 0.9488 - loss: 0.2900 - val_accuracy: 0.8867 - val_loss: 0.4553 - learning_rate: 0.0010\n",
            "Epoch 96/250\n",
            "\u001b[1m63/63\u001b[0m \u001b[32m━━━━━━━━━━━━━━━━━━━━\u001b[0m\u001b[37m\u001b[0m \u001b[1m0s\u001b[0m 6ms/step - accuracy: 0.9513 - loss: 0.2845 - val_accuracy: 0.8827 - val_loss: 0.4540 - learning_rate: 0.0010\n",
            "Epoch 97/250\n",
            "\u001b[1m63/63\u001b[0m \u001b[32m━━━━━━━━━━━━━━━━━━━━\u001b[0m\u001b[37m\u001b[0m \u001b[1m0s\u001b[0m 6ms/step - accuracy: 0.9437 - loss: 0.2896 - val_accuracy: 0.8847 - val_loss: 0.4506 - learning_rate: 0.0010\n",
            "Epoch 98/250\n",
            "\u001b[1m63/63\u001b[0m \u001b[32m━━━━━━━━━━━━━━━━━━━━\u001b[0m\u001b[37m\u001b[0m \u001b[1m0s\u001b[0m 6ms/step - accuracy: 0.9473 - loss: 0.2873 - val_accuracy: 0.8847 - val_loss: 0.4555 - learning_rate: 0.0010\n",
            "Epoch 99/250\n",
            "\u001b[1m63/63\u001b[0m \u001b[32m━━━━━━━━━━━━━━━━━━━━\u001b[0m\u001b[37m\u001b[0m \u001b[1m0s\u001b[0m 5ms/step - accuracy: 0.9454 - loss: 0.2884 - val_accuracy: 0.8827 - val_loss: 0.4554 - learning_rate: 0.0010\n",
            "Epoch 100/250\n",
            "\u001b[1m63/63\u001b[0m \u001b[32m━━━━━━━━━━━━━━━━━━━━\u001b[0m\u001b[37m\u001b[0m \u001b[1m0s\u001b[0m 5ms/step - accuracy: 0.9462 - loss: 0.2867 - val_accuracy: 0.8867 - val_loss: 0.4595 - learning_rate: 0.0010\n",
            "Epoch 101/250\n",
            "\u001b[1m63/63\u001b[0m \u001b[32m━━━━━━━━━━━━━━━━━━━━\u001b[0m\u001b[37m\u001b[0m \u001b[1m0s\u001b[0m 5ms/step - accuracy: 0.9470 - loss: 0.2891 - val_accuracy: 0.8847 - val_loss: 0.4542 - learning_rate: 0.0010\n",
            "Epoch 102/250\n",
            "\u001b[1m63/63\u001b[0m \u001b[32m━━━━━━━━━━━━━━━━━━━━\u001b[0m\u001b[37m\u001b[0m \u001b[1m0s\u001b[0m 5ms/step - accuracy: 0.9509 - loss: 0.2819 - val_accuracy: 0.8867 - val_loss: 0.4538 - learning_rate: 0.0010\n",
            "Epoch 103/250\n",
            "\u001b[1m63/63\u001b[0m \u001b[32m━━━━━━━━━━━━━━━━━━━━\u001b[0m\u001b[37m\u001b[0m \u001b[1m0s\u001b[0m 6ms/step - accuracy: 0.9481 - loss: 0.2850 - val_accuracy: 0.8847 - val_loss: 0.4546 - learning_rate: 0.0010\n",
            "Epoch 104/250\n",
            "\u001b[1m63/63\u001b[0m \u001b[32m━━━━━━━━━━━━━━━━━━━━\u001b[0m\u001b[37m\u001b[0m \u001b[1m0s\u001b[0m 5ms/step - accuracy: 0.9502 - loss: 0.2834 - val_accuracy: 0.8807 - val_loss: 0.4605 - learning_rate: 0.0010\n",
            "Epoch 105/250\n",
            "\u001b[1m63/63\u001b[0m \u001b[32m━━━━━━━━━━━━━━━━━━━━\u001b[0m\u001b[37m\u001b[0m \u001b[1m0s\u001b[0m 5ms/step - accuracy: 0.9490 - loss: 0.2861 - val_accuracy: 0.8807 - val_loss: 0.4639 - learning_rate: 0.0010\n",
            "Epoch 106/250\n",
            "\u001b[1m63/63\u001b[0m \u001b[32m━━━━━━━━━━━━━━━━━━━━\u001b[0m\u001b[37m\u001b[0m \u001b[1m0s\u001b[0m 5ms/step - accuracy: 0.9494 - loss: 0.2910 - val_accuracy: 0.8827 - val_loss: 0.4853 - learning_rate: 0.0010\n",
            "Epoch 107/250\n",
            "\u001b[1m63/63\u001b[0m \u001b[32m━━━━━━━━━━━━━━━━━━━━\u001b[0m\u001b[37m\u001b[0m \u001b[1m0s\u001b[0m 5ms/step - accuracy: 0.9472 - loss: 0.2978 - val_accuracy: 0.8787 - val_loss: 0.4740 - learning_rate: 0.0010\n",
            "Epoch 108/250\n",
            "\u001b[1m63/63\u001b[0m \u001b[32m━━━━━━━━━━━━━━━━━━━━\u001b[0m\u001b[37m\u001b[0m \u001b[1m0s\u001b[0m 6ms/step - accuracy: 0.9492 - loss: 0.2886 - val_accuracy: 0.8887 - val_loss: 0.4660 - learning_rate: 0.0010\n",
            "Epoch 109/250\n",
            "\u001b[1m63/63\u001b[0m \u001b[32m━━━━━━━━━━━━━━━━━━━━\u001b[0m\u001b[37m\u001b[0m \u001b[1m0s\u001b[0m 6ms/step - accuracy: 0.9504 - loss: 0.2842 - val_accuracy: 0.8867 - val_loss: 0.4781 - learning_rate: 0.0010\n",
            "Epoch 110/250\n",
            "\u001b[1m63/63\u001b[0m \u001b[32m━━━━━━━━━━━━━━━━━━━━\u001b[0m\u001b[37m\u001b[0m \u001b[1m0s\u001b[0m 5ms/step - accuracy: 0.9481 - loss: 0.2891 - val_accuracy: 0.8887 - val_loss: 0.4643 - learning_rate: 0.0010\n",
            "Epoch 111/250\n",
            "\u001b[1m63/63\u001b[0m \u001b[32m━━━━━━━━━━━━━━━━━━━━\u001b[0m\u001b[37m\u001b[0m \u001b[1m0s\u001b[0m 6ms/step - accuracy: 0.9441 - loss: 0.2899 - val_accuracy: 0.8787 - val_loss: 0.4776 - learning_rate: 0.0010\n",
            "Epoch 112/250\n",
            "\u001b[1m59/63\u001b[0m \u001b[32m━━━━━━━━━━━━━━━━━━\u001b[0m\u001b[37m━━\u001b[0m \u001b[1m0s\u001b[0m 4ms/step - accuracy: 0.9491 - loss: 0.2821\n",
            "Epoch 112: ReduceLROnPlateau reducing learning rate to 0.0009000000427477062.\n",
            "\u001b[1m63/63\u001b[0m \u001b[32m━━━━━━━━━━━━━━━━━━━━\u001b[0m\u001b[37m\u001b[0m \u001b[1m0s\u001b[0m 6ms/step - accuracy: 0.9492 - loss: 0.2817 - val_accuracy: 0.8827 - val_loss: 0.4744 - learning_rate: 0.0010\n",
            "Epoch 113/250\n",
            "\u001b[1m63/63\u001b[0m \u001b[32m━━━━━━━━━━━━━━━━━━━━\u001b[0m\u001b[37m\u001b[0m \u001b[1m0s\u001b[0m 6ms/step - accuracy: 0.9450 - loss: 0.2852 - val_accuracy: 0.8628 - val_loss: 0.5264 - learning_rate: 9.0000e-04\n",
            "Epoch 114/250\n",
            "\u001b[1m63/63\u001b[0m \u001b[32m━━━━━━━━━━━━━━━━━━━━\u001b[0m\u001b[37m\u001b[0m \u001b[1m0s\u001b[0m 5ms/step - accuracy: 0.9479 - loss: 0.2962 - val_accuracy: 0.8588 - val_loss: 0.5883 - learning_rate: 9.0000e-04\n",
            "Epoch 115/250\n",
            "\u001b[1m63/63\u001b[0m \u001b[32m━━━━━━━━━━━━━━━━━━━━\u001b[0m\u001b[37m\u001b[0m \u001b[1m0s\u001b[0m 5ms/step - accuracy: 0.9369 - loss: 0.4036 - val_accuracy: 0.8350 - val_loss: 0.6890 - learning_rate: 9.0000e-04\n",
            "Epoch 116/250\n",
            "\u001b[1m63/63\u001b[0m \u001b[32m━━━━━━━━━━━━━━━━━━━━\u001b[0m\u001b[37m\u001b[0m \u001b[1m0s\u001b[0m 5ms/step - accuracy: 0.9386 - loss: 0.3406 - val_accuracy: 0.8787 - val_loss: 0.4744 - learning_rate: 9.0000e-04\n",
            "Epoch 117/250\n",
            "\u001b[1m63/63\u001b[0m \u001b[32m━━━━━━━━━━━━━━━━━━━━\u001b[0m\u001b[37m\u001b[0m \u001b[1m0s\u001b[0m 6ms/step - accuracy: 0.9405 - loss: 0.3045 - val_accuracy: 0.8807 - val_loss: 0.5044 - learning_rate: 9.0000e-04\n",
            "Epoch 118/250\n",
            "\u001b[1m63/63\u001b[0m \u001b[32m━━━━━━━━━━━━━━━━━━━━\u001b[0m\u001b[37m\u001b[0m \u001b[1m0s\u001b[0m 5ms/step - accuracy: 0.9450 - loss: 0.3149 - val_accuracy: 0.8668 - val_loss: 0.9386 - learning_rate: 9.0000e-04\n",
            "Epoch 119/250\n",
            "\u001b[1m63/63\u001b[0m \u001b[32m━━━━━━━━━━━━━━━━━━━━\u001b[0m\u001b[37m\u001b[0m \u001b[1m0s\u001b[0m 5ms/step - accuracy: 0.9388 - loss: 0.5671 - val_accuracy: 0.8807 - val_loss: 0.5444 - learning_rate: 9.0000e-04\n",
            "Epoch 120/250\n",
            "\u001b[1m63/63\u001b[0m \u001b[32m━━━━━━━━━━━━━━━━━━━━\u001b[0m\u001b[37m\u001b[0m \u001b[1m0s\u001b[0m 5ms/step - accuracy: 0.9598 - loss: 0.3136 - val_accuracy: 0.8787 - val_loss: 0.4988 - learning_rate: 9.0000e-04\n",
            "Epoch 121/250\n",
            "\u001b[1m63/63\u001b[0m \u001b[32m━━━━━━━━━━━━━━━━━━━━\u001b[0m\u001b[37m\u001b[0m \u001b[1m0s\u001b[0m 6ms/step - accuracy: 0.9615 - loss: 0.2721 - val_accuracy: 0.8807 - val_loss: 0.4708 - learning_rate: 9.0000e-04\n",
            "Epoch 122/250\n",
            "\u001b[1m63/63\u001b[0m \u001b[32m━━━━━━━━━━━━━━━━━━━━\u001b[0m\u001b[37m\u001b[0m \u001b[1m0s\u001b[0m 6ms/step - accuracy: 0.9643 - loss: 0.2579 - val_accuracy: 0.8787 - val_loss: 0.4613 - learning_rate: 9.0000e-04\n",
            "Epoch 123/250\n",
            "\u001b[1m63/63\u001b[0m \u001b[32m━━━━━━━━━━━━━━━━━━━━\u001b[0m\u001b[37m\u001b[0m \u001b[1m0s\u001b[0m 6ms/step - accuracy: 0.9599 - loss: 0.2537 - val_accuracy: 0.8807 - val_loss: 0.4514 - learning_rate: 9.0000e-04\n",
            "Epoch 124/250\n",
            "\u001b[1m63/63\u001b[0m \u001b[32m━━━━━━━━━━━━━━━━━━━━\u001b[0m\u001b[37m\u001b[0m \u001b[1m0s\u001b[0m 5ms/step - accuracy: 0.9588 - loss: 0.2527 - val_accuracy: 0.8827 - val_loss: 0.4534 - learning_rate: 9.0000e-04\n",
            "Epoch 125/250\n",
            "\u001b[1m63/63\u001b[0m \u001b[32m━━━━━━━━━━━━━━━━━━━━\u001b[0m\u001b[37m\u001b[0m \u001b[1m0s\u001b[0m 5ms/step - accuracy: 0.9594 - loss: 0.2517 - val_accuracy: 0.8867 - val_loss: 0.4523 - learning_rate: 9.0000e-04\n",
            "Epoch 126/250\n",
            "\u001b[1m63/63\u001b[0m \u001b[32m━━━━━━━━━━━━━━━━━━━━\u001b[0m\u001b[37m\u001b[0m \u001b[1m0s\u001b[0m 6ms/step - accuracy: 0.9591 - loss: 0.2517 - val_accuracy: 0.8907 - val_loss: 0.4480 - learning_rate: 9.0000e-04\n",
            "Epoch 127/250\n",
            "\u001b[1m63/63\u001b[0m \u001b[32m━━━━━━━━━━━━━━━━━━━━\u001b[0m\u001b[37m\u001b[0m \u001b[1m0s\u001b[0m 6ms/step - accuracy: 0.9631 - loss: 0.2503 - val_accuracy: 0.8867 - val_loss: 0.4439 - learning_rate: 9.0000e-04\n",
            "Epoch 128/250\n",
            "\u001b[1m63/63\u001b[0m \u001b[32m━━━━━━━━━━━━━━━━━━━━\u001b[0m\u001b[37m\u001b[0m \u001b[1m0s\u001b[0m 6ms/step - accuracy: 0.9596 - loss: 0.2499 - val_accuracy: 0.8867 - val_loss: 0.4401 - learning_rate: 9.0000e-04\n",
            "Epoch 129/250\n",
            "\u001b[1m63/63\u001b[0m \u001b[32m━━━━━━━━━━━━━━━━━━━━\u001b[0m\u001b[37m\u001b[0m \u001b[1m0s\u001b[0m 5ms/step - accuracy: 0.9607 - loss: 0.2490 - val_accuracy: 0.8867 - val_loss: 0.4402 - learning_rate: 9.0000e-04\n",
            "Epoch 130/250\n",
            "\u001b[1m63/63\u001b[0m \u001b[32m━━━━━━━━━━━━━━━━━━━━\u001b[0m\u001b[37m\u001b[0m \u001b[1m0s\u001b[0m 6ms/step - accuracy: 0.9612 - loss: 0.2482 - val_accuracy: 0.8847 - val_loss: 0.4385 - learning_rate: 9.0000e-04\n",
            "Epoch 131/250\n",
            "\u001b[1m63/63\u001b[0m \u001b[32m━━━━━━━━━━━━━━━━━━━━\u001b[0m\u001b[37m\u001b[0m \u001b[1m0s\u001b[0m 5ms/step - accuracy: 0.9631 - loss: 0.2488 - val_accuracy: 0.8867 - val_loss: 0.4393 - learning_rate: 9.0000e-04\n",
            "Epoch 132/250\n",
            "\u001b[1m63/63\u001b[0m \u001b[32m━━━━━━━━━━━━━━━━━━━━\u001b[0m\u001b[37m\u001b[0m \u001b[1m0s\u001b[0m 5ms/step - accuracy: 0.9627 - loss: 0.2499 - val_accuracy: 0.8887 - val_loss: 0.4429 - learning_rate: 9.0000e-04\n",
            "Epoch 133/250\n",
            "\u001b[1m63/63\u001b[0m \u001b[32m━━━━━━━━━━━━━━━━━━━━\u001b[0m\u001b[37m\u001b[0m \u001b[1m0s\u001b[0m 6ms/step - accuracy: 0.9595 - loss: 0.2494 - val_accuracy: 0.8887 - val_loss: 0.4461 - learning_rate: 9.0000e-04\n",
            "Epoch 134/250\n",
            "\u001b[1m63/63\u001b[0m \u001b[32m━━━━━━━━━━━━━━━━━━━━\u001b[0m\u001b[37m\u001b[0m \u001b[1m0s\u001b[0m 6ms/step - accuracy: 0.9605 - loss: 0.2506 - val_accuracy: 0.8907 - val_loss: 0.4454 - learning_rate: 9.0000e-04\n",
            "Epoch 135/250\n",
            "\u001b[1m63/63\u001b[0m \u001b[32m━━━━━━━━━━━━━━━━━━━━\u001b[0m\u001b[37m\u001b[0m \u001b[1m0s\u001b[0m 6ms/step - accuracy: 0.9602 - loss: 0.2539 - val_accuracy: 0.8867 - val_loss: 0.4530 - learning_rate: 9.0000e-04\n",
            "Epoch 136/250\n",
            "\u001b[1m63/63\u001b[0m \u001b[32m━━━━━━━━━━━━━━━━━━━━\u001b[0m\u001b[37m\u001b[0m \u001b[1m0s\u001b[0m 6ms/step - accuracy: 0.9591 - loss: 0.2535 - val_accuracy: 0.8887 - val_loss: 0.4561 - learning_rate: 9.0000e-04\n",
            "Epoch 137/250\n",
            "\u001b[1m63/63\u001b[0m \u001b[32m━━━━━━━━━━━━━━━━━━━━\u001b[0m\u001b[37m\u001b[0m \u001b[1m0s\u001b[0m 5ms/step - accuracy: 0.9576 - loss: 0.2588 - val_accuracy: 0.8847 - val_loss: 0.4581 - learning_rate: 9.0000e-04\n",
            "Epoch 138/250\n",
            "\u001b[1m63/63\u001b[0m \u001b[32m━━━━━━━━━━━━━━━━━━━━\u001b[0m\u001b[37m\u001b[0m \u001b[1m0s\u001b[0m 6ms/step - accuracy: 0.9572 - loss: 0.2564 - val_accuracy: 0.8887 - val_loss: 0.4610 - learning_rate: 9.0000e-04\n",
            "Epoch 139/250\n",
            "\u001b[1m63/63\u001b[0m \u001b[32m━━━━━━━━━━━━━━━━━━━━\u001b[0m\u001b[37m\u001b[0m \u001b[1m0s\u001b[0m 6ms/step - accuracy: 0.9547 - loss: 0.2606 - val_accuracy: 0.8847 - val_loss: 0.4669 - learning_rate: 9.0000e-04\n",
            "Epoch 140/250\n",
            "\u001b[1m63/63\u001b[0m \u001b[32m━━━━━━━━━━━━━━━━━━━━\u001b[0m\u001b[37m\u001b[0m \u001b[1m0s\u001b[0m 6ms/step - accuracy: 0.9530 - loss: 0.2609 - val_accuracy: 0.8827 - val_loss: 0.4633 - learning_rate: 9.0000e-04\n",
            "Epoch 141/250\n",
            "\u001b[1m63/63\u001b[0m \u001b[32m━━━━━━━━━━━━━━━━━━━━\u001b[0m\u001b[37m\u001b[0m \u001b[1m0s\u001b[0m 6ms/step - accuracy: 0.9551 - loss: 0.2582 - val_accuracy: 0.8748 - val_loss: 0.4739 - learning_rate: 9.0000e-04\n",
            "Epoch 142/250\n",
            "\u001b[1m63/63\u001b[0m \u001b[32m━━━━━━━━━━━━━━━━━━━━\u001b[0m\u001b[37m\u001b[0m \u001b[1m0s\u001b[0m 5ms/step - accuracy: 0.9572 - loss: 0.2597 - val_accuracy: 0.8827 - val_loss: 0.4595 - learning_rate: 9.0000e-04\n",
            "Epoch 143/250\n",
            "\u001b[1m63/63\u001b[0m \u001b[32m━━━━━━━━━━━━━━━━━━━━\u001b[0m\u001b[37m\u001b[0m \u001b[1m0s\u001b[0m 5ms/step - accuracy: 0.9542 - loss: 0.2582 - val_accuracy: 0.8708 - val_loss: 0.4773 - learning_rate: 9.0000e-04\n",
            "Epoch 144/250\n",
            "\u001b[1m63/63\u001b[0m \u001b[32m━━━━━━━━━━━━━━━━━━━━\u001b[0m\u001b[37m\u001b[0m \u001b[1m0s\u001b[0m 5ms/step - accuracy: 0.9631 - loss: 0.2565 - val_accuracy: 0.8807 - val_loss: 0.4546 - learning_rate: 9.0000e-04\n",
            "Epoch 145/250\n",
            "\u001b[1m60/63\u001b[0m \u001b[32m━━━━━━━━━━━━━━━━━━━\u001b[0m\u001b[37m━\u001b[0m \u001b[1m0s\u001b[0m 4ms/step - accuracy: 0.9539 - loss: 0.2569\n",
            "Epoch 145: ReduceLROnPlateau reducing learning rate to 0.0008100000384729356.\n",
            "\u001b[1m63/63\u001b[0m \u001b[32m━━━━━━━━━━━━━━━━━━━━\u001b[0m\u001b[37m\u001b[0m \u001b[1m0s\u001b[0m 6ms/step - accuracy: 0.9541 - loss: 0.2568 - val_accuracy: 0.8807 - val_loss: 0.4721 - learning_rate: 9.0000e-04\n",
            "Epoch 146/250\n",
            "\u001b[1m63/63\u001b[0m \u001b[32m━━━━━━━━━━━━━━━━━━━━\u001b[0m\u001b[37m\u001b[0m \u001b[1m0s\u001b[0m 5ms/step - accuracy: 0.9628 - loss: 0.2497 - val_accuracy: 0.8807 - val_loss: 0.4710 - learning_rate: 8.1000e-04\n",
            "Epoch 147/250\n",
            "\u001b[1m63/63\u001b[0m \u001b[32m━━━━━━━━━━━━━━━━━━━━\u001b[0m\u001b[37m\u001b[0m \u001b[1m0s\u001b[0m 6ms/step - accuracy: 0.9509 - loss: 0.2626 - val_accuracy: 0.8827 - val_loss: 0.4811 - learning_rate: 8.1000e-04\n",
            "Epoch 148/250\n",
            "\u001b[1m63/63\u001b[0m \u001b[32m━━━━━━━━━━━━━━━━━━━━\u001b[0m\u001b[37m\u001b[0m \u001b[1m0s\u001b[0m 5ms/step - accuracy: 0.9564 - loss: 0.2545 - val_accuracy: 0.8767 - val_loss: 0.4804 - learning_rate: 8.1000e-04\n",
            "Epoch 149/250\n",
            "\u001b[1m63/63\u001b[0m \u001b[32m━━━━━━━━━━━━━━━━━━━━\u001b[0m\u001b[37m\u001b[0m \u001b[1m0s\u001b[0m 6ms/step - accuracy: 0.9624 - loss: 0.2497 - val_accuracy: 0.8807 - val_loss: 0.4740 - learning_rate: 8.1000e-04\n",
            "Epoch 150/250\n",
            "\u001b[1m63/63\u001b[0m \u001b[32m━━━━━━━━━━━━━━━━━━━━\u001b[0m\u001b[37m\u001b[0m \u001b[1m0s\u001b[0m 6ms/step - accuracy: 0.9655 - loss: 0.2349 - val_accuracy: 0.8787 - val_loss: 0.4666 - learning_rate: 8.1000e-04\n",
            "Epoch 151/250\n",
            "\u001b[1m63/63\u001b[0m \u001b[32m━━━━━━━━━━━━━━━━━━━━\u001b[0m\u001b[37m\u001b[0m \u001b[1m0s\u001b[0m 5ms/step - accuracy: 0.9605 - loss: 0.2410 - val_accuracy: 0.8827 - val_loss: 0.4703 - learning_rate: 8.1000e-04\n",
            "Epoch 152/250\n",
            "\u001b[1m63/63\u001b[0m \u001b[32m━━━━━━━━━━━━━━━━━━━━\u001b[0m\u001b[37m\u001b[0m \u001b[1m0s\u001b[0m 5ms/step - accuracy: 0.9627 - loss: 0.2356 - val_accuracy: 0.8807 - val_loss: 0.4711 - learning_rate: 8.1000e-04\n",
            "Epoch 153/250\n",
            "\u001b[1m63/63\u001b[0m \u001b[32m━━━━━━━━━━━━━━━━━━━━\u001b[0m\u001b[37m\u001b[0m \u001b[1m0s\u001b[0m 6ms/step - accuracy: 0.9627 - loss: 0.2363 - val_accuracy: 0.8668 - val_loss: 0.4892 - learning_rate: 8.1000e-04\n",
            "Epoch 154/250\n",
            "\u001b[1m63/63\u001b[0m \u001b[32m━━━━━━━━━━━━━━━━━━━━\u001b[0m\u001b[37m\u001b[0m \u001b[1m1s\u001b[0m 5ms/step - accuracy: 0.9629 - loss: 0.2423 - val_accuracy: 0.8787 - val_loss: 0.4640 - learning_rate: 8.1000e-04\n",
            "Epoch 155/250\n",
            "\u001b[1m63/63\u001b[0m \u001b[32m━━━━━━━━━━━━━━━━━━━━\u001b[0m\u001b[37m\u001b[0m \u001b[1m0s\u001b[0m 6ms/step - accuracy: 0.9712 - loss: 0.2290 - val_accuracy: 0.8827 - val_loss: 0.4668 - learning_rate: 8.1000e-04\n",
            "Epoch 156/250\n",
            "\u001b[1m63/63\u001b[0m \u001b[32m━━━━━━━━━━━━━━━━━━━━\u001b[0m\u001b[37m\u001b[0m \u001b[1m0s\u001b[0m 6ms/step - accuracy: 0.9650 - loss: 0.2329 - val_accuracy: 0.8867 - val_loss: 0.4619 - learning_rate: 8.1000e-04\n",
            "Epoch 157/250\n",
            "\u001b[1m63/63\u001b[0m \u001b[32m━━━━━━━━━━━━━━━━━━━━\u001b[0m\u001b[37m\u001b[0m \u001b[1m0s\u001b[0m 6ms/step - accuracy: 0.9704 - loss: 0.2279 - val_accuracy: 0.8767 - val_loss: 0.4747 - learning_rate: 8.1000e-04\n",
            "Epoch 158/250\n",
            "\u001b[1m63/63\u001b[0m \u001b[32m━━━━━━━━━━━━━━━━━━━━\u001b[0m\u001b[37m\u001b[0m \u001b[1m0s\u001b[0m 5ms/step - accuracy: 0.9605 - loss: 0.2448 - val_accuracy: 0.8608 - val_loss: 0.7503 - learning_rate: 8.1000e-04\n",
            "Epoch 159/250\n",
            "\u001b[1m63/63\u001b[0m \u001b[32m━━━━━━━━━━━━━━━━━━━━\u001b[0m\u001b[37m\u001b[0m \u001b[1m0s\u001b[0m 5ms/step - accuracy: 0.9406 - loss: 0.4757 - val_accuracy: 0.8270 - val_loss: 0.7414 - learning_rate: 8.1000e-04\n",
            "Epoch 160/250\n",
            "\u001b[1m59/63\u001b[0m \u001b[32m━━━━━━━━━━━━━━━━━━\u001b[0m\u001b[37m━━\u001b[0m \u001b[1m0s\u001b[0m 4ms/step - accuracy: 0.9422 - loss: 0.3362\n",
            "Epoch 160: ReduceLROnPlateau reducing learning rate to 0.0007290000503417104.\n",
            "\u001b[1m63/63\u001b[0m \u001b[32m━━━━━━━━━━━━━━━━━━━━\u001b[0m\u001b[37m\u001b[0m \u001b[1m0s\u001b[0m 6ms/step - accuracy: 0.9433 - loss: 0.3332 - val_accuracy: 0.8807 - val_loss: 0.5179 - learning_rate: 8.1000e-04\n",
            "Epoch 161/250\n",
            "\u001b[1m63/63\u001b[0m \u001b[32m━━━━━━━━━━━━━━━━━━━━\u001b[0m\u001b[37m\u001b[0m \u001b[1m0s\u001b[0m 5ms/step - accuracy: 0.9631 - loss: 0.2579 - val_accuracy: 0.8847 - val_loss: 0.5035 - learning_rate: 7.2900e-04\n",
            "Epoch 162/250\n",
            "\u001b[1m63/63\u001b[0m \u001b[32m━━━━━━━━━━━━━━━━━━━━\u001b[0m\u001b[37m\u001b[0m \u001b[1m0s\u001b[0m 5ms/step - accuracy: 0.9651 - loss: 0.2416 - val_accuracy: 0.8767 - val_loss: 0.4612 - learning_rate: 7.2900e-04\n",
            "Epoch 163/250\n",
            "\u001b[1m63/63\u001b[0m \u001b[32m━━━━━━━━━━━━━━━━━━━━\u001b[0m\u001b[37m\u001b[0m \u001b[1m0s\u001b[0m 5ms/step - accuracy: 0.9707 - loss: 0.2329 - val_accuracy: 0.8867 - val_loss: 0.4655 - learning_rate: 7.2900e-04\n",
            "Epoch 164/250\n",
            "\u001b[1m63/63\u001b[0m \u001b[32m━━━━━━━━━━━━━━━━━━━━\u001b[0m\u001b[37m\u001b[0m \u001b[1m0s\u001b[0m 6ms/step - accuracy: 0.9678 - loss: 0.2283 - val_accuracy: 0.8946 - val_loss: 0.4424 - learning_rate: 7.2900e-04\n",
            "Epoch 165/250\n",
            "\u001b[1m63/63\u001b[0m \u001b[32m━━━━━━━━━━━━━━━━━━━━\u001b[0m\u001b[37m\u001b[0m \u001b[1m0s\u001b[0m 6ms/step - accuracy: 0.9685 - loss: 0.2218 - val_accuracy: 0.8986 - val_loss: 0.4362 - learning_rate: 7.2900e-04\n",
            "Epoch 166/250\n",
            "\u001b[1m63/63\u001b[0m \u001b[32m━━━━━━━━━━━━━━━━━━━━\u001b[0m\u001b[37m\u001b[0m \u001b[1m0s\u001b[0m 6ms/step - accuracy: 0.9691 - loss: 0.2203 - val_accuracy: 0.8926 - val_loss: 0.4331 - learning_rate: 7.2900e-04\n",
            "Epoch 167/250\n",
            "\u001b[1m63/63\u001b[0m \u001b[32m━━━━━━━━━━━━━━━━━━━━\u001b[0m\u001b[37m\u001b[0m \u001b[1m0s\u001b[0m 6ms/step - accuracy: 0.9725 - loss: 0.2161 - val_accuracy: 0.8907 - val_loss: 0.4623 - learning_rate: 7.2900e-04\n",
            "Epoch 168/250\n",
            "\u001b[1m63/63\u001b[0m \u001b[32m━━━━━━━━━━━━━━━━━━━━\u001b[0m\u001b[37m\u001b[0m \u001b[1m0s\u001b[0m 6ms/step - accuracy: 0.9741 - loss: 0.2244 - val_accuracy: 0.8907 - val_loss: 0.4416 - learning_rate: 7.2900e-04\n",
            "Epoch 169/250\n",
            "\u001b[1m63/63\u001b[0m \u001b[32m━━━━━━━━━━━━━━━━━━━━\u001b[0m\u001b[37m\u001b[0m \u001b[1m0s\u001b[0m 6ms/step - accuracy: 0.9741 - loss: 0.2144 - val_accuracy: 0.8827 - val_loss: 0.4421 - learning_rate: 7.2900e-04\n",
            "Epoch 170/250\n",
            "\u001b[1m63/63\u001b[0m \u001b[32m━━━━━━━━━━━━━━━━━━━━\u001b[0m\u001b[37m\u001b[0m \u001b[1m0s\u001b[0m 6ms/step - accuracy: 0.9699 - loss: 0.2172 - val_accuracy: 0.8867 - val_loss: 0.4473 - learning_rate: 7.2900e-04\n",
            "Epoch 171/250\n",
            "\u001b[1m63/63\u001b[0m \u001b[32m━━━━━━━━━━━━━━━━━━━━\u001b[0m\u001b[37m\u001b[0m \u001b[1m0s\u001b[0m 6ms/step - accuracy: 0.9707 - loss: 0.2174 - val_accuracy: 0.8887 - val_loss: 0.4449 - learning_rate: 7.2900e-04\n",
            "Epoch 172/250\n",
            "\u001b[1m63/63\u001b[0m \u001b[32m━━━━━━━━━━━━━━━━━━━━\u001b[0m\u001b[37m\u001b[0m \u001b[1m0s\u001b[0m 6ms/step - accuracy: 0.9702 - loss: 0.2157 - val_accuracy: 0.8907 - val_loss: 0.4415 - learning_rate: 7.2900e-04\n",
            "Epoch 173/250\n",
            "\u001b[1m63/63\u001b[0m \u001b[32m━━━━━━━━━━━━━━━━━━━━\u001b[0m\u001b[37m\u001b[0m \u001b[1m0s\u001b[0m 6ms/step - accuracy: 0.9715 - loss: 0.2157 - val_accuracy: 0.8847 - val_loss: 0.4410 - learning_rate: 7.2900e-04\n",
            "Epoch 174/250\n",
            "\u001b[1m63/63\u001b[0m \u001b[32m━━━━━━━━━━━━━━━━━━━━\u001b[0m\u001b[37m\u001b[0m \u001b[1m0s\u001b[0m 5ms/step - accuracy: 0.9714 - loss: 0.2150 - val_accuracy: 0.8867 - val_loss: 0.4401 - learning_rate: 7.2900e-04\n",
            "Epoch 175/250\n",
            "\u001b[1m63/63\u001b[0m \u001b[32m━━━━━━━━━━━━━━━━━━━━\u001b[0m\u001b[37m\u001b[0m \u001b[1m0s\u001b[0m 5ms/step - accuracy: 0.9736 - loss: 0.2142 - val_accuracy: 0.8887 - val_loss: 0.4390 - learning_rate: 7.2900e-04\n",
            "Epoch 176/250\n",
            "\u001b[1m63/63\u001b[0m \u001b[32m━━━━━━━━━━━━━━━━━━━━\u001b[0m\u001b[37m\u001b[0m \u001b[1m0s\u001b[0m 6ms/step - accuracy: 0.9722 - loss: 0.2146 - val_accuracy: 0.8887 - val_loss: 0.4418 - learning_rate: 7.2900e-04\n",
            "Epoch 177/250\n",
            "\u001b[1m63/63\u001b[0m \u001b[32m━━━━━━━━━━━━━━━━━━━━\u001b[0m\u001b[37m\u001b[0m \u001b[1m0s\u001b[0m 5ms/step - accuracy: 0.9706 - loss: 0.2160 - val_accuracy: 0.8887 - val_loss: 0.4460 - learning_rate: 7.2900e-04\n",
            "Epoch 178/250\n",
            "\u001b[1m63/63\u001b[0m \u001b[32m━━━━━━━━━━━━━━━━━━━━\u001b[0m\u001b[37m\u001b[0m \u001b[1m0s\u001b[0m 6ms/step - accuracy: 0.9709 - loss: 0.2175 - val_accuracy: 0.8887 - val_loss: 0.4463 - learning_rate: 7.2900e-04\n",
            "Epoch 179/250\n",
            "\u001b[1m63/63\u001b[0m \u001b[32m━━━━━━━━━━━━━━━━━━━━\u001b[0m\u001b[37m\u001b[0m \u001b[1m0s\u001b[0m 6ms/step - accuracy: 0.9705 - loss: 0.2169 - val_accuracy: 0.8887 - val_loss: 0.4445 - learning_rate: 7.2900e-04\n",
            "Epoch 180/250\n",
            "\u001b[1m63/63\u001b[0m \u001b[32m━━━━━━━━━━━━━━━━━━━━\u001b[0m\u001b[37m\u001b[0m \u001b[1m0s\u001b[0m 6ms/step - accuracy: 0.9694 - loss: 0.2174 - val_accuracy: 0.8907 - val_loss: 0.4452 - learning_rate: 7.2900e-04\n",
            "Epoch 181/250\n",
            "\u001b[1m52/63\u001b[0m \u001b[32m━━━━━━━━━━━━━━━━\u001b[0m\u001b[37m━━━━\u001b[0m \u001b[1m0s\u001b[0m 5ms/step - accuracy: 0.9658 - loss: 0.2191\n",
            "Epoch 181: ReduceLROnPlateau reducing learning rate to 0.0006561000715009868.\n",
            "\u001b[1m63/63\u001b[0m \u001b[32m━━━━━━━━━━━━━━━━━━━━\u001b[0m\u001b[37m\u001b[0m \u001b[1m0s\u001b[0m 6ms/step - accuracy: 0.9668 - loss: 0.2188 - val_accuracy: 0.8827 - val_loss: 0.4471 - learning_rate: 7.2900e-04\n",
            "Epoch 182/250\n",
            "\u001b[1m63/63\u001b[0m \u001b[32m━━━━━━━━━━━━━━━━━━━━\u001b[0m\u001b[37m\u001b[0m \u001b[1m0s\u001b[0m 6ms/step - accuracy: 0.9648 - loss: 0.2161 - val_accuracy: 0.8887 - val_loss: 0.4711 - learning_rate: 6.5610e-04\n",
            "Epoch 183/250\n",
            "\u001b[1m63/63\u001b[0m \u001b[32m━━━━━━━━━━━━━━━━━━━━\u001b[0m\u001b[37m\u001b[0m \u001b[1m0s\u001b[0m 6ms/step - accuracy: 0.9715 - loss: 0.2204 - val_accuracy: 0.8807 - val_loss: 0.4644 - learning_rate: 6.5610e-04\n",
            "Epoch 184/250\n",
            "\u001b[1m63/63\u001b[0m \u001b[32m━━━━━━━━━━━━━━━━━━━━\u001b[0m\u001b[37m\u001b[0m \u001b[1m0s\u001b[0m 7ms/step - accuracy: 0.9747 - loss: 0.2139 - val_accuracy: 0.8867 - val_loss: 0.4549 - learning_rate: 6.5610e-04\n",
            "Epoch 185/250\n",
            "\u001b[1m63/63\u001b[0m \u001b[32m━━━━━━━━━━━━━━━━━━━━\u001b[0m\u001b[37m\u001b[0m \u001b[1m0s\u001b[0m 6ms/step - accuracy: 0.9760 - loss: 0.2091 - val_accuracy: 0.8787 - val_loss: 0.4618 - learning_rate: 6.5610e-04\n",
            "Epoch 186/250\n",
            "\u001b[1m63/63\u001b[0m \u001b[32m━━━━━━━━━━━━━━━━━━━━\u001b[0m\u001b[37m\u001b[0m \u001b[1m0s\u001b[0m 5ms/step - accuracy: 0.9819 - loss: 0.2098 - val_accuracy: 0.8907 - val_loss: 0.4425 - learning_rate: 6.5610e-04\n",
            "Epoch 187/250\n",
            "\u001b[1m63/63\u001b[0m \u001b[32m━━━━━━━━━━━━━━━━━━━━\u001b[0m\u001b[37m\u001b[0m \u001b[1m0s\u001b[0m 6ms/step - accuracy: 0.9762 - loss: 0.2069 - val_accuracy: 0.8887 - val_loss: 0.4472 - learning_rate: 6.5610e-04\n",
            "Epoch 188/250\n",
            "\u001b[1m63/63\u001b[0m \u001b[32m━━━━━━━━━━━━━━━━━━━━\u001b[0m\u001b[37m\u001b[0m \u001b[1m0s\u001b[0m 6ms/step - accuracy: 0.9743 - loss: 0.2097 - val_accuracy: 0.8847 - val_loss: 0.4430 - learning_rate: 6.5610e-04\n",
            "Epoch 189/250\n",
            "\u001b[1m63/63\u001b[0m \u001b[32m━━━━━━━━━━━━━━━━━━━━\u001b[0m\u001b[37m\u001b[0m \u001b[1m0s\u001b[0m 5ms/step - accuracy: 0.9755 - loss: 0.2089 - val_accuracy: 0.8887 - val_loss: 0.4414 - learning_rate: 6.5610e-04\n",
            "Epoch 190/250\n",
            "\u001b[1m63/63\u001b[0m \u001b[32m━━━━━━━━━━━━━━━━━━━━\u001b[0m\u001b[37m\u001b[0m \u001b[1m0s\u001b[0m 5ms/step - accuracy: 0.9732 - loss: 0.2093 - val_accuracy: 0.8907 - val_loss: 0.4500 - learning_rate: 6.5610e-04\n",
            "Epoch 191/250\n",
            "\u001b[1m63/63\u001b[0m \u001b[32m━━━━━━━━━━━━━━━━━━━━\u001b[0m\u001b[37m\u001b[0m \u001b[1m0s\u001b[0m 6ms/step - accuracy: 0.9713 - loss: 0.2139 - val_accuracy: 0.8847 - val_loss: 0.4540 - learning_rate: 6.5610e-04\n",
            "Epoch 192/250\n",
            "\u001b[1m63/63\u001b[0m \u001b[32m━━━━━━━━━━━━━━━━━━━━\u001b[0m\u001b[37m\u001b[0m \u001b[1m0s\u001b[0m 6ms/step - accuracy: 0.9718 - loss: 0.2137 - val_accuracy: 0.8588 - val_loss: 0.5869 - learning_rate: 6.5610e-04\n",
            "Epoch 193/250\n",
            "\u001b[1m63/63\u001b[0m \u001b[32m━━━━━━━━━━━━━━━━━━━━\u001b[0m\u001b[37m\u001b[0m \u001b[1m0s\u001b[0m 6ms/step - accuracy: 0.9534 - loss: 0.2841 - val_accuracy: 0.8767 - val_loss: 0.5384 - learning_rate: 6.5610e-04\n",
            "Epoch 194/250\n",
            "\u001b[1m63/63\u001b[0m \u001b[32m━━━━━━━━━━━━━━━━━━━━\u001b[0m\u001b[37m\u001b[0m \u001b[1m0s\u001b[0m 6ms/step - accuracy: 0.9545 - loss: 0.2502 - val_accuracy: 0.8728 - val_loss: 0.5050 - learning_rate: 6.5610e-04\n",
            "Epoch 195/250\n",
            "\u001b[1m63/63\u001b[0m \u001b[32m━━━━━━━━━━━━━━━━━━━━\u001b[0m\u001b[37m\u001b[0m \u001b[1m0s\u001b[0m 6ms/step - accuracy: 0.9633 - loss: 0.2337 - val_accuracy: 0.8748 - val_loss: 0.4683 - learning_rate: 6.5610e-04\n",
            "Epoch 196/250\n",
            "\u001b[1m58/63\u001b[0m \u001b[32m━━━━━━━━━━━━━━━━━━\u001b[0m\u001b[37m━━\u001b[0m \u001b[1m0s\u001b[0m 5ms/step - accuracy: 0.9763 - loss: 0.2155\n",
            "Epoch 196: ReduceLROnPlateau reducing learning rate to 0.0005904900433961303.\n",
            "\u001b[1m63/63\u001b[0m \u001b[32m━━━━━━━━━━━━━━━━━━━━\u001b[0m\u001b[37m\u001b[0m \u001b[1m0s\u001b[0m 6ms/step - accuracy: 0.9759 - loss: 0.2158 - val_accuracy: 0.8907 - val_loss: 0.4731 - learning_rate: 6.5610e-04\n",
            "Epoch 197/250\n",
            "\u001b[1m63/63\u001b[0m \u001b[32m━━━━━━━━━━━━━━━━━━━━\u001b[0m\u001b[37m\u001b[0m \u001b[1m0s\u001b[0m 6ms/step - accuracy: 0.9695 - loss: 0.2166 - val_accuracy: 0.8867 - val_loss: 0.4538 - learning_rate: 5.9049e-04\n",
            "Epoch 198/250\n",
            "\u001b[1m63/63\u001b[0m \u001b[32m━━━━━━━━━━━━━━━━━━━━\u001b[0m\u001b[37m\u001b[0m \u001b[1m0s\u001b[0m 6ms/step - accuracy: 0.9779 - loss: 0.2018 - val_accuracy: 0.8926 - val_loss: 0.4508 - learning_rate: 5.9049e-04\n",
            "Epoch 199/250\n",
            "\u001b[1m63/63\u001b[0m \u001b[32m━━━━━━━━━━━━━━━━━━━━\u001b[0m\u001b[37m\u001b[0m \u001b[1m0s\u001b[0m 6ms/step - accuracy: 0.9817 - loss: 0.2052 - val_accuracy: 0.8907 - val_loss: 0.4372 - learning_rate: 5.9049e-04\n",
            "Epoch 200/250\n",
            "\u001b[1m63/63\u001b[0m \u001b[32m━━━━━━━━━━━━━━━━━━━━\u001b[0m\u001b[37m\u001b[0m \u001b[1m0s\u001b[0m 5ms/step - accuracy: 0.9789 - loss: 0.1962 - val_accuracy: 0.8907 - val_loss: 0.4343 - learning_rate: 5.9049e-04\n",
            "Epoch 201/250\n",
            "\u001b[1m63/63\u001b[0m \u001b[32m━━━━━━━━━━━━━━━━━━━━\u001b[0m\u001b[37m\u001b[0m \u001b[1m0s\u001b[0m 5ms/step - accuracy: 0.9747 - loss: 0.1959 - val_accuracy: 0.8887 - val_loss: 0.4406 - learning_rate: 5.9049e-04\n",
            "Epoch 202/250\n",
            "\u001b[1m63/63\u001b[0m \u001b[32m━━━━━━━━━━━━━━━━━━━━\u001b[0m\u001b[37m\u001b[0m \u001b[1m0s\u001b[0m 6ms/step - accuracy: 0.9767 - loss: 0.1976 - val_accuracy: 0.8887 - val_loss: 0.4365 - learning_rate: 5.9049e-04\n",
            "Epoch 203/250\n",
            "\u001b[1m63/63\u001b[0m \u001b[32m━━━━━━━━━━━━━━━━━━━━\u001b[0m\u001b[37m\u001b[0m \u001b[1m0s\u001b[0m 6ms/step - accuracy: 0.9781 - loss: 0.1948 - val_accuracy: 0.8887 - val_loss: 0.4299 - learning_rate: 5.9049e-04\n",
            "Epoch 204/250\n",
            "\u001b[1m63/63\u001b[0m \u001b[32m━━━━━━━━━━━━━━━━━━━━\u001b[0m\u001b[37m\u001b[0m \u001b[1m0s\u001b[0m 5ms/step - accuracy: 0.9819 - loss: 0.1925 - val_accuracy: 0.8887 - val_loss: 0.4380 - learning_rate: 5.9049e-04\n",
            "Epoch 205/250\n",
            "\u001b[1m63/63\u001b[0m \u001b[32m━━━━━━━━━━━━━━━━━━━━\u001b[0m\u001b[37m\u001b[0m \u001b[1m0s\u001b[0m 7ms/step - accuracy: 0.9832 - loss: 0.1956 - val_accuracy: 0.8907 - val_loss: 0.4372 - learning_rate: 5.9049e-04\n",
            "Epoch 206/250\n",
            "\u001b[1m63/63\u001b[0m \u001b[32m━━━━━━━━━━━━━━━━━━━━\u001b[0m\u001b[37m\u001b[0m \u001b[1m0s\u001b[0m 6ms/step - accuracy: 0.9750 - loss: 0.1937 - val_accuracy: 0.8867 - val_loss: 0.4439 - learning_rate: 5.9049e-04\n",
            "Epoch 207/250\n",
            "\u001b[1m63/63\u001b[0m \u001b[32m━━━━━━━━━━━━━━━━━━━━\u001b[0m\u001b[37m\u001b[0m \u001b[1m0s\u001b[0m 6ms/step - accuracy: 0.9807 - loss: 0.1933 - val_accuracy: 0.8867 - val_loss: 0.4444 - learning_rate: 5.9049e-04\n",
            "Epoch 208/250\n",
            "\u001b[1m63/63\u001b[0m \u001b[32m━━━━━━━━━━━━━━━━━━━━\u001b[0m\u001b[37m\u001b[0m \u001b[1m0s\u001b[0m 6ms/step - accuracy: 0.9811 - loss: 0.1932 - val_accuracy: 0.8867 - val_loss: 0.4389 - learning_rate: 5.9049e-04\n",
            "Epoch 209/250\n",
            "\u001b[1m63/63\u001b[0m \u001b[32m━━━━━━━━━━━━━━━━━━━━\u001b[0m\u001b[37m\u001b[0m \u001b[1m0s\u001b[0m 6ms/step - accuracy: 0.9831 - loss: 0.1905 - val_accuracy: 0.8827 - val_loss: 0.4399 - learning_rate: 5.9049e-04\n",
            "Epoch 210/250\n",
            "\u001b[1m63/63\u001b[0m \u001b[32m━━━━━━━━━━━━━━━━━━━━\u001b[0m\u001b[37m\u001b[0m \u001b[1m0s\u001b[0m 7ms/step - accuracy: 0.9835 - loss: 0.1916 - val_accuracy: 0.8827 - val_loss: 0.4345 - learning_rate: 5.9049e-04\n",
            "Epoch 211/250\n",
            "\u001b[1m63/63\u001b[0m \u001b[32m━━━━━━━━━━━━━━━━━━━━\u001b[0m\u001b[37m\u001b[0m \u001b[1m0s\u001b[0m 6ms/step - accuracy: 0.9807 - loss: 0.1904 - val_accuracy: 0.8807 - val_loss: 0.4324 - learning_rate: 5.9049e-04\n",
            "Epoch 212/250\n",
            "\u001b[1m63/63\u001b[0m \u001b[32m━━━━━━━━━━━━━━━━━━━━\u001b[0m\u001b[37m\u001b[0m \u001b[1m0s\u001b[0m 6ms/step - accuracy: 0.9822 - loss: 0.1893 - val_accuracy: 0.8867 - val_loss: 0.4375 - learning_rate: 5.9049e-04\n",
            "Epoch 213/250\n",
            "\u001b[1m63/63\u001b[0m \u001b[32m━━━━━━━━━━━━━━━━━━━━\u001b[0m\u001b[37m\u001b[0m \u001b[1m0s\u001b[0m 6ms/step - accuracy: 0.9822 - loss: 0.1915 - val_accuracy: 0.8907 - val_loss: 0.4335 - learning_rate: 5.9049e-04\n",
            "Epoch 214/250\n",
            "\u001b[1m63/63\u001b[0m \u001b[32m━━━━━━━━━━━━━━━━━━━━\u001b[0m\u001b[37m\u001b[0m \u001b[1m0s\u001b[0m 6ms/step - accuracy: 0.9787 - loss: 0.1911 - val_accuracy: 0.8907 - val_loss: 0.4290 - learning_rate: 5.9049e-04\n",
            "Epoch 215/250\n",
            "\u001b[1m63/63\u001b[0m \u001b[32m━━━━━━━━━━━━━━━━━━━━\u001b[0m\u001b[37m\u001b[0m \u001b[1m0s\u001b[0m 7ms/step - accuracy: 0.9787 - loss: 0.1907 - val_accuracy: 0.8867 - val_loss: 0.4454 - learning_rate: 5.9049e-04\n",
            "Epoch 216/250\n",
            "\u001b[1m63/63\u001b[0m \u001b[32m━━━━━━━━━━━━━━━━━━━━\u001b[0m\u001b[37m\u001b[0m \u001b[1m0s\u001b[0m 7ms/step - accuracy: 0.9771 - loss: 0.1981 - val_accuracy: 0.8867 - val_loss: 0.4368 - learning_rate: 5.9049e-04\n",
            "Epoch 217/250\n",
            "\u001b[1m63/63\u001b[0m \u001b[32m━━━━━━━━━━━━━━━━━━━━\u001b[0m\u001b[37m\u001b[0m \u001b[1m0s\u001b[0m 7ms/step - accuracy: 0.9772 - loss: 0.1930 - val_accuracy: 0.8926 - val_loss: 0.4323 - learning_rate: 5.9049e-04\n",
            "Epoch 218/250\n",
            "\u001b[1m63/63\u001b[0m \u001b[32m━━━━━━━━━━━━━━━━━━━━\u001b[0m\u001b[37m\u001b[0m \u001b[1m0s\u001b[0m 6ms/step - accuracy: 0.9790 - loss: 0.1924 - val_accuracy: 0.8887 - val_loss: 0.4607 - learning_rate: 5.9049e-04\n",
            "Epoch 219/250\n",
            "\u001b[1m63/63\u001b[0m \u001b[32m━━━━━━━━━━━━━━━━━━━━\u001b[0m\u001b[37m\u001b[0m \u001b[1m0s\u001b[0m 6ms/step - accuracy: 0.9802 - loss: 0.2012 - val_accuracy: 0.8907 - val_loss: 0.4460 - learning_rate: 5.9049e-04\n",
            "Epoch 220/250\n",
            "\u001b[1m63/63\u001b[0m \u001b[32m━━━━━━━━━━━━━━━━━━━━\u001b[0m\u001b[37m\u001b[0m \u001b[1m0s\u001b[0m 6ms/step - accuracy: 0.9780 - loss: 0.1922 - val_accuracy: 0.8867 - val_loss: 0.4425 - learning_rate: 5.9049e-04\n",
            "Epoch 221/250\n",
            "\u001b[1m63/63\u001b[0m \u001b[32m━━━━━━━━━━━━━━━━━━━━\u001b[0m\u001b[37m\u001b[0m \u001b[1m0s\u001b[0m 6ms/step - accuracy: 0.9845 - loss: 0.1884 - val_accuracy: 0.8907 - val_loss: 0.4430 - learning_rate: 5.9049e-04\n",
            "Epoch 222/250\n",
            "\u001b[1m63/63\u001b[0m \u001b[32m━━━━━━━━━━━━━━━━━━━━\u001b[0m\u001b[37m\u001b[0m \u001b[1m0s\u001b[0m 6ms/step - accuracy: 0.9799 - loss: 0.1897 - val_accuracy: 0.8907 - val_loss: 0.4383 - learning_rate: 5.9049e-04\n",
            "Epoch 223/250\n",
            "\u001b[1m63/63\u001b[0m \u001b[32m━━━━━━━━━━━━━━━━━━━━\u001b[0m\u001b[37m\u001b[0m \u001b[1m0s\u001b[0m 6ms/step - accuracy: 0.9817 - loss: 0.1885 - val_accuracy: 0.8907 - val_loss: 0.4393 - learning_rate: 5.9049e-04\n",
            "Epoch 224/250\n",
            "\u001b[1m63/63\u001b[0m \u001b[32m━━━━━━━━━━━━━━━━━━━━\u001b[0m\u001b[37m\u001b[0m \u001b[1m0s\u001b[0m 6ms/step - accuracy: 0.9818 - loss: 0.1886 - val_accuracy: 0.8887 - val_loss: 0.4376 - learning_rate: 5.9049e-04\n",
            "Epoch 225/250\n",
            "\u001b[1m63/63\u001b[0m \u001b[32m━━━━━━━━━━━━━━━━━━━━\u001b[0m\u001b[37m\u001b[0m \u001b[1m0s\u001b[0m 6ms/step - accuracy: 0.9808 - loss: 0.1902 - val_accuracy: 0.8926 - val_loss: 0.4353 - learning_rate: 5.9049e-04\n",
            "Epoch 226/250\n",
            "\u001b[1m63/63\u001b[0m \u001b[32m━━━━━━━━━━━━━━━━━━━━\u001b[0m\u001b[37m\u001b[0m \u001b[1m0s\u001b[0m 6ms/step - accuracy: 0.9792 - loss: 0.1898 - val_accuracy: 0.8847 - val_loss: 0.4423 - learning_rate: 5.9049e-04\n",
            "Epoch 227/250\n",
            "\u001b[1m63/63\u001b[0m \u001b[32m━━━━━━━━━━━━━━━━━━━━\u001b[0m\u001b[37m\u001b[0m \u001b[1m0s\u001b[0m 7ms/step - accuracy: 0.9821 - loss: 0.1897 - val_accuracy: 0.8887 - val_loss: 0.4440 - learning_rate: 5.9049e-04\n",
            "Epoch 228/250\n",
            "\u001b[1m63/63\u001b[0m \u001b[32m━━━━━━━━━━━━━━━━━━━━\u001b[0m\u001b[37m\u001b[0m \u001b[1m0s\u001b[0m 6ms/step - accuracy: 0.9803 - loss: 0.1939 - val_accuracy: 0.8827 - val_loss: 0.4741 - learning_rate: 5.9049e-04\n",
            "Epoch 229/250\n",
            "\u001b[1m51/63\u001b[0m \u001b[32m━━━━━━━━━━━━━━━━\u001b[0m\u001b[37m━━━━\u001b[0m \u001b[1m0s\u001b[0m 5ms/step - accuracy: 0.9773 - loss: 0.2044\n",
            "Epoch 229: ReduceLROnPlateau reducing learning rate to 0.0005314410547725857.\n",
            "\u001b[1m63/63\u001b[0m \u001b[32m━━━━━━━━━━━━━━━━━━━━\u001b[0m\u001b[37m\u001b[0m \u001b[1m0s\u001b[0m 6ms/step - accuracy: 0.9777 - loss: 0.2035 - val_accuracy: 0.8907 - val_loss: 0.4467 - learning_rate: 5.9049e-04\n",
            "Epoch 230/250\n",
            "\u001b[1m63/63\u001b[0m \u001b[32m━━━━━━━━━━━━━━━━━━━━\u001b[0m\u001b[37m\u001b[0m \u001b[1m0s\u001b[0m 6ms/step - accuracy: 0.9793 - loss: 0.1921 - val_accuracy: 0.8867 - val_loss: 0.4627 - learning_rate: 5.3144e-04\n",
            "Epoch 231/250\n",
            "\u001b[1m63/63\u001b[0m \u001b[32m━━━━━━━━━━━━━━━━━━━━\u001b[0m\u001b[37m\u001b[0m \u001b[1m0s\u001b[0m 6ms/step - accuracy: 0.9755 - loss: 0.1986 - val_accuracy: 0.8588 - val_loss: 0.5594 - learning_rate: 5.3144e-04\n",
            "Epoch 232/250\n",
            "\u001b[1m63/63\u001b[0m \u001b[32m━━━━━━━━━━━━━━━━━━━━\u001b[0m\u001b[37m\u001b[0m \u001b[1m0s\u001b[0m 6ms/step - accuracy: 0.9673 - loss: 0.2340 - val_accuracy: 0.8946 - val_loss: 0.4432 - learning_rate: 5.3144e-04\n",
            "Epoch 233/250\n",
            "\u001b[1m63/63\u001b[0m \u001b[32m━━━━━━━━━━━━━━━━━━━━\u001b[0m\u001b[37m\u001b[0m \u001b[1m0s\u001b[0m 6ms/step - accuracy: 0.9725 - loss: 0.1990 - val_accuracy: 0.8966 - val_loss: 0.4351 - learning_rate: 5.3144e-04\n",
            "Epoch 234/250\n",
            "\u001b[1m63/63\u001b[0m \u001b[32m━━━━━━━━━━━━━━━━━━━━\u001b[0m\u001b[37m\u001b[0m \u001b[1m0s\u001b[0m 6ms/step - accuracy: 0.9814 - loss: 0.1899 - val_accuracy: 0.8887 - val_loss: 0.4548 - learning_rate: 5.3144e-04\n",
            "Epoch 235/250\n",
            "\u001b[1m63/63\u001b[0m \u001b[32m━━━━━━━━━━━━━━━━━━━━\u001b[0m\u001b[37m\u001b[0m \u001b[1m0s\u001b[0m 6ms/step - accuracy: 0.9809 - loss: 0.1909 - val_accuracy: 0.8847 - val_loss: 0.4623 - learning_rate: 5.3144e-04\n",
            "Epoch 236/250\n",
            "\u001b[1m63/63\u001b[0m \u001b[32m━━━━━━━━━━━━━━━━━━━━\u001b[0m\u001b[37m\u001b[0m \u001b[1m0s\u001b[0m 6ms/step - accuracy: 0.9848 - loss: 0.1875 - val_accuracy: 0.8926 - val_loss: 0.4397 - learning_rate: 5.3144e-04\n",
            "Epoch 237/250\n",
            "\u001b[1m63/63\u001b[0m \u001b[32m━━━━━━━━━━━━━━━━━━━━\u001b[0m\u001b[37m\u001b[0m \u001b[1m0s\u001b[0m 6ms/step - accuracy: 0.9834 - loss: 0.1838 - val_accuracy: 0.8986 - val_loss: 0.4314 - learning_rate: 5.3144e-04\n",
            "Epoch 238/250\n",
            "\u001b[1m63/63\u001b[0m \u001b[32m━━━━━━━━━━━━━━━━━━━━\u001b[0m\u001b[37m\u001b[0m \u001b[1m0s\u001b[0m 6ms/step - accuracy: 0.9847 - loss: 0.1849 - val_accuracy: 0.8966 - val_loss: 0.4183 - learning_rate: 5.3144e-04\n",
            "Epoch 239/250\n",
            "\u001b[1m63/63\u001b[0m \u001b[32m━━━━━━━━━━━━━━━━━━━━\u001b[0m\u001b[37m\u001b[0m \u001b[1m0s\u001b[0m 6ms/step - accuracy: 0.9816 - loss: 0.1805 - val_accuracy: 0.8966 - val_loss: 0.4339 - learning_rate: 5.3144e-04\n",
            "Epoch 240/250\n",
            "\u001b[1m63/63\u001b[0m \u001b[32m━━━━━━━━━━━━━━━━━━━━\u001b[0m\u001b[37m\u001b[0m \u001b[1m0s\u001b[0m 6ms/step - accuracy: 0.9793 - loss: 0.1842 - val_accuracy: 0.8887 - val_loss: 0.4453 - learning_rate: 5.3144e-04\n",
            "Epoch 241/250\n",
            "\u001b[1m63/63\u001b[0m \u001b[32m━━━━━━━━━━━━━━━━━━━━\u001b[0m\u001b[37m\u001b[0m \u001b[1m0s\u001b[0m 5ms/step - accuracy: 0.9801 - loss: 0.1850 - val_accuracy: 0.8887 - val_loss: 0.4518 - learning_rate: 5.3144e-04\n",
            "Epoch 242/250\n",
            "\u001b[1m63/63\u001b[0m \u001b[32m━━━━━━━━━━━━━━━━━━━━\u001b[0m\u001b[37m\u001b[0m \u001b[1m0s\u001b[0m 6ms/step - accuracy: 0.9814 - loss: 0.1857 - val_accuracy: 0.8887 - val_loss: 0.4458 - learning_rate: 5.3144e-04\n",
            "Epoch 243/250\n",
            "\u001b[1m63/63\u001b[0m \u001b[32m━━━━━━━━━━━━━━━━━━━━\u001b[0m\u001b[37m\u001b[0m \u001b[1m0s\u001b[0m 6ms/step - accuracy: 0.9849 - loss: 0.1801 - val_accuracy: 0.8847 - val_loss: 0.4370 - learning_rate: 5.3144e-04\n",
            "Epoch 244/250\n",
            "\u001b[1m63/63\u001b[0m \u001b[32m━━━━━━━━━━━━━━━━━━━━\u001b[0m\u001b[37m\u001b[0m \u001b[1m0s\u001b[0m 6ms/step - accuracy: 0.9842 - loss: 0.1809 - val_accuracy: 0.8907 - val_loss: 0.4311 - learning_rate: 5.3144e-04\n",
            "Epoch 245/250\n",
            "\u001b[1m63/63\u001b[0m \u001b[32m━━━━━━━━━━━━━━━━━━━━\u001b[0m\u001b[37m\u001b[0m \u001b[1m0s\u001b[0m 6ms/step - accuracy: 0.9835 - loss: 0.1807 - val_accuracy: 0.8907 - val_loss: 0.4395 - learning_rate: 5.3144e-04\n",
            "Epoch 246/250\n",
            "\u001b[1m63/63\u001b[0m \u001b[32m━━━━━━━━━━━━━━━━━━━━\u001b[0m\u001b[37m\u001b[0m \u001b[1m0s\u001b[0m 6ms/step - accuracy: 0.9816 - loss: 0.1820 - val_accuracy: 0.8887 - val_loss: 0.4363 - learning_rate: 5.3144e-04\n",
            "Epoch 247/250\n",
            "\u001b[1m63/63\u001b[0m \u001b[32m━━━━━━━━━━━━━━━━━━━━\u001b[0m\u001b[37m\u001b[0m \u001b[1m0s\u001b[0m 5ms/step - accuracy: 0.9845 - loss: 0.1780 - val_accuracy: 0.8946 - val_loss: 0.4240 - learning_rate: 5.3144e-04\n",
            "Epoch 248/250\n",
            "\u001b[1m63/63\u001b[0m \u001b[32m━━━━━━━━━━━━━━━━━━━━\u001b[0m\u001b[37m\u001b[0m \u001b[1m0s\u001b[0m 6ms/step - accuracy: 0.9833 - loss: 0.1775 - val_accuracy: 0.8946 - val_loss: 0.4233 - learning_rate: 5.3144e-04\n",
            "Epoch 249/250\n",
            "\u001b[1m63/63\u001b[0m \u001b[32m━━━━━━━━━━━━━━━━━━━━\u001b[0m\u001b[37m\u001b[0m \u001b[1m0s\u001b[0m 6ms/step - accuracy: 0.9835 - loss: 0.1774 - val_accuracy: 0.8946 - val_loss: 0.4260 - learning_rate: 5.3144e-04\n",
            "Epoch 250/250\n",
            "\u001b[1m63/63\u001b[0m \u001b[32m━━━━━━━━━━━━━━━━━━━━\u001b[0m\u001b[37m\u001b[0m \u001b[1m0s\u001b[0m 6ms/step - accuracy: 0.9810 - loss: 0.1792 - val_accuracy: 0.8827 - val_loss: 0.4391 - learning_rate: 5.3144e-04\n"
          ]
        }
      ]
    },
    {
      "cell_type": "code",
      "source": [
        "#for element in tf_train_dataset:\n",
        "#  if element['embeddings'] is None:\n",
        "#           print(element)\n",
        "#  if element['label'] is None:\n",
        "#           print(element)"
      ],
      "metadata": {
        "id": "ZnQMBi-pdRzr"
      },
      "execution_count": null,
      "outputs": []
    },
    {
      "cell_type": "code",
      "source": [
        "#classification test\n",
        "scores, embeddings, spectrogram = yamnet_model(wav)\n",
        "scores= my_model(embeddings)\n",
        "class_scores = tf.reduce_mean(scores, axis=0)\n",
        "top_class = tf.math.argmax(class_scores)\n",
        "inferred_class = top_class\n",
        "\n",
        "print(f'The main sound is: {inferred_class}')\n",
        "print(f'The embeddings shape: {embeddings.shape}')"
      ],
      "metadata": {
        "id": "_OJv48AzrWWK",
        "colab": {
          "base_uri": "https://localhost:8080/"
        },
        "outputId": "9511a16a-80bc-47f4-d0fa-0e8464cad602"
      },
      "execution_count": null,
      "outputs": [
        {
          "output_type": "stream",
          "name": "stdout",
          "text": [
            "The main sound is: 0\n",
            "The embeddings shape: (2, 1024)\n"
          ]
        }
      ]
    },
    {
      "cell_type": "code",
      "source": [
        "class_scores"
      ],
      "metadata": {
        "colab": {
          "base_uri": "https://localhost:8080/"
        },
        "id": "-eepILOWiSqL",
        "outputId": "f9abf3fb-7492-46be-edd6-bc5b13d7d0d9"
      },
      "execution_count": null,
      "outputs": [
        {
          "output_type": "execute_result",
          "data": {
            "text/plain": [
              "<tf.Tensor: shape=(9,), dtype=float32, numpy=\n",
              "array([9.6708250e-01, 2.0603109e-03, 2.6260003e-02, 5.3142506e-04,\n",
              "       3.0872603e-03, 6.4755914e-05, 4.8462785e-04, 4.6406727e-05,\n",
              "       3.8272777e-04], dtype=float32)>"
            ]
          },
          "metadata": {},
          "execution_count": 102
        }
      ]
    },
    {
      "cell_type": "code",
      "source": [
        "id2label_fn = vads[\"train\"].features[\"label\"].int2str"
      ],
      "metadata": {
        "id": "Y1epXXHTJWaE",
        "colab": {
          "base_uri": "https://localhost:8080/",
          "height": 144
        },
        "outputId": "f434b416-be18-4b4f-cd5e-b9fa743c6ab3"
      },
      "execution_count": null,
      "outputs": [
        {
          "output_type": "error",
          "ename": "KeyError",
          "evalue": "'label'",
          "traceback": [
            "\u001b[0;31m---------------------------------------------------------------------------\u001b[0m",
            "\u001b[0;31mKeyError\u001b[0m                                  Traceback (most recent call last)",
            "\u001b[0;32m<ipython-input-4-545c10572cb8>\u001b[0m in \u001b[0;36m<cell line: 1>\u001b[0;34m()\u001b[0m\n\u001b[0;32m----> 1\u001b[0;31m \u001b[0mid2label_fn\u001b[0m \u001b[0;34m=\u001b[0m \u001b[0mvads\u001b[0m\u001b[0;34m[\u001b[0m\u001b[0;34m\"train\"\u001b[0m\u001b[0;34m]\u001b[0m\u001b[0;34m.\u001b[0m\u001b[0mfeatures\u001b[0m\u001b[0;34m[\u001b[0m\u001b[0;34m\"label\"\u001b[0m\u001b[0;34m]\u001b[0m\u001b[0;34m.\u001b[0m\u001b[0mint2str\u001b[0m\u001b[0;34m\u001b[0m\u001b[0;34m\u001b[0m\u001b[0m\n\u001b[0m",
            "\u001b[0;31mKeyError\u001b[0m: 'label'"
          ]
        }
      ]
    },
    {
      "cell_type": "code",
      "source": [
        "id2label_fn(6)"
      ],
      "metadata": {
        "colab": {
          "base_uri": "https://localhost:8080/",
          "height": 35
        },
        "id": "tv9fhUZhJiQS",
        "outputId": "aa3cbd45-d9ee-4c16-cf9a-568a4d68be1b"
      },
      "execution_count": null,
      "outputs": [
        {
          "output_type": "execute_result",
          "data": {
            "text/plain": [
              "'ricochet'"
            ],
            "application/vnd.google.colaboratory.intrinsic+json": {
              "type": "string"
            }
          },
          "metadata": {},
          "execution_count": 104
        }
      ]
    },
    {
      "cell_type": "markdown",
      "source": [
        "# Save a model that can directly take a WAV file as input\n",
        "\n",
        "Your model works when you give it the embeddings as input.\n",
        "\n",
        "In a real-world scenario, you'll want to use audio data as a direct input.\n",
        "\n",
        "To do that, you will combine YAMNet with your model into a single model that you can export for other applications.\n",
        "\n",
        "To make it easier to use the model's result, the final layer will be a reduce_mean operation. When using this model for serving (which you will learn about later in the tutorial), you will need the name of the final layer. If you don't define one, TensorFlow will auto-define an incremental one that makes it hard to test, as it will keep changing every time you train the model. When using a raw TensorFlow operation, you can't assign a name to it. To address this issue, you'll create a custom layer that applies reduce_mean and call it 'classifier'."
      ],
      "metadata": {
        "id": "QTJIs_rLEZN8"
      }
    },
    {
      "cell_type": "code",
      "source": [
        "class ReduceMeanLayer(tf.keras.layers.Layer):\n",
        "  def __init__(self, axis=0, **kwargs):\n",
        "    super(ReduceMeanLayer, self).__init__(**kwargs)\n",
        "    self.axis = axis\n",
        "\n",
        "  def call(self, input):\n",
        "    return tf.math.reduce_mean(input, axis=self.axis)"
      ],
      "metadata": {
        "id": "yANjAmK4Ecya"
      },
      "execution_count": null,
      "outputs": []
    },
    {
      "cell_type": "code",
      "source": [
        "class YamnetLayer(tf.keras.layers.Layer):\n",
        "    def __init__(self, yamnet_model_handle, **kwargs):\n",
        "        super(YamnetLayer, self).__init__(**kwargs)\n",
        "        self.yamnet_model = hub.KerasLayer(yamnet_model_handle, trainable=False)\n",
        "\n",
        "    def call(self, inputs):\n",
        "        # The input to the Yamnet layer should be a Tensor, not a KerasTensor\n",
        "        # This conversion happens automatically during execution\n",
        "        _, embeddings_output, _ = self.yamnet_model(inputs)\n",
        "        return embeddings_output"
      ],
      "metadata": {
        "id": "Zp7cyfIUF9A2"
      },
      "execution_count": null,
      "outputs": []
    },
    {
      "cell_type": "code",
      "source": [
        "saved_model_path = './violin_yamnet'\n",
        "\n",
        "input_segment = tf.keras.layers.Input(shape=(), dtype=tf.float32, name='audio')\n",
        "yamnet_layer = YamnetLayer(yamnet_model_handle)\n",
        "# Pass the input_segment to the YamnetLayer\n",
        "embeddings_output = yamnet_layer(input_segment)\n",
        "\n",
        "serving_outputs = my_model(embeddings_output)\n",
        "serving_outputs = ReduceMeanLayer(axis=0, name='classifier')(serving_outputs)\n",
        "serving_model = tf.keras.Model(input_segment, serving_outputs)\n"
      ],
      "metadata": {
        "id": "z3IML-NsEfTD"
      },
      "execution_count": null,
      "outputs": []
    },
    {
      "cell_type": "code",
      "source": [
        "serving_model.export(saved_model_path)"
      ],
      "metadata": {
        "colab": {
          "base_uri": "https://localhost:8080/"
        },
        "id": "S6AzYQUUG1WU",
        "outputId": "41ce177e-05c4-4e0a-ed86-07dbab2dca47"
      },
      "execution_count": null,
      "outputs": [
        {
          "output_type": "stream",
          "name": "stdout",
          "text": [
            "Saved artifact at './violin_yamnet'. The following endpoints are available:\n",
            "\n",
            "* Endpoint 'serve'\n",
            "  args_0 (POSITIONAL_ONLY): TensorSpec(shape=(None,), dtype=tf.float32, name='audio')\n",
            "Output Type:\n",
            "  TensorSpec(shape=(9,), dtype=tf.float32, name=None)\n",
            "Captures:\n",
            "  140355713139456: TensorSpec(shape=(), dtype=tf.resource, name=None)\n",
            "  140355713203392: TensorSpec(shape=(32,), dtype=tf.float32, name=None)\n",
            "  140355713139104: TensorSpec(shape=(), dtype=tf.resource, name=None)\n",
            "  140355713138752: TensorSpec(shape=(), dtype=tf.resource, name=None)\n",
            "  140355713203744: TensorSpec(shape=(), dtype=tf.resource, name=None)\n",
            "  140355713203216: TensorSpec(shape=(), dtype=tf.resource, name=None)\n",
            "  140355713201808: TensorSpec(shape=(32,), dtype=tf.float32, name=None)\n",
            "  140355713202864: TensorSpec(shape=(), dtype=tf.resource, name=None)\n",
            "  140355713202512: TensorSpec(shape=(), dtype=tf.resource, name=None)\n",
            "  140355713202160: TensorSpec(shape=(), dtype=tf.resource, name=None)\n",
            "  140355713201632: TensorSpec(shape=(), dtype=tf.resource, name=None)\n",
            "  140355713200224: TensorSpec(shape=(64,), dtype=tf.float32, name=None)\n",
            "  140355713201280: TensorSpec(shape=(), dtype=tf.resource, name=None)\n",
            "  140355713200928: TensorSpec(shape=(), dtype=tf.resource, name=None)\n",
            "  140355713200576: TensorSpec(shape=(), dtype=tf.resource, name=None)\n",
            "  140355713200048: TensorSpec(shape=(), dtype=tf.resource, name=None)\n",
            "  140355713199696: TensorSpec(shape=(64,), dtype=tf.float32, name=None)\n",
            "  140355713199520: TensorSpec(shape=(), dtype=tf.resource, name=None)\n",
            "  140355713199168: TensorSpec(shape=(), dtype=tf.resource, name=None)\n",
            "  140355713198816: TensorSpec(shape=(), dtype=tf.resource, name=None)\n",
            "  140355713198464: TensorSpec(shape=(), dtype=tf.resource, name=None)\n",
            "  140355713198112: TensorSpec(shape=(128,), dtype=tf.float32, name=None)\n",
            "  140355713197936: TensorSpec(shape=(), dtype=tf.resource, name=None)\n",
            "  140355713197584: TensorSpec(shape=(), dtype=tf.resource, name=None)\n",
            "  140355713197232: TensorSpec(shape=(), dtype=tf.resource, name=None)\n",
            "  140355713196880: TensorSpec(shape=(), dtype=tf.resource, name=None)\n",
            "  140355713196176: TensorSpec(shape=(128,), dtype=tf.float32, name=None)\n",
            "  140355713196000: TensorSpec(shape=(), dtype=tf.resource, name=None)\n",
            "  140355713195648: TensorSpec(shape=(), dtype=tf.resource, name=None)\n",
            "  140355713196528: TensorSpec(shape=(), dtype=tf.resource, name=None)\n",
            "  140355713195296: TensorSpec(shape=(), dtype=tf.resource, name=None)\n",
            "  140355713194240: TensorSpec(shape=(128,), dtype=tf.float32, name=None)\n",
            "  140355713194064: TensorSpec(shape=(), dtype=tf.resource, name=None)\n",
            "  140355713194944: TensorSpec(shape=(), dtype=tf.resource, name=None)\n",
            "  140355713194592: TensorSpec(shape=(), dtype=tf.resource, name=None)\n",
            "  140355713193712: TensorSpec(shape=(), dtype=tf.resource, name=None)\n",
            "  140355713192304: TensorSpec(shape=(128,), dtype=tf.float32, name=None)\n",
            "  140355713193360: TensorSpec(shape=(), dtype=tf.resource, name=None)\n",
            "  140355713193008: TensorSpec(shape=(), dtype=tf.resource, name=None)\n",
            "  140355713192656: TensorSpec(shape=(), dtype=tf.resource, name=None)\n",
            "  140355713192128: TensorSpec(shape=(), dtype=tf.resource, name=None)\n",
            "  140355713190720: TensorSpec(shape=(256,), dtype=tf.float32, name=None)\n",
            "  140355713191776: TensorSpec(shape=(), dtype=tf.resource, name=None)\n",
            "  140355713191424: TensorSpec(shape=(), dtype=tf.resource, name=None)\n",
            "  140355713191072: TensorSpec(shape=(), dtype=tf.resource, name=None)\n",
            "  140355713190544: TensorSpec(shape=(), dtype=tf.resource, name=None)\n",
            "  140355713189136: TensorSpec(shape=(256,), dtype=tf.float32, name=None)\n",
            "  140355713190192: TensorSpec(shape=(), dtype=tf.resource, name=None)\n",
            "  140355713189840: TensorSpec(shape=(), dtype=tf.resource, name=None)\n",
            "  140355713189488: TensorSpec(shape=(), dtype=tf.resource, name=None)\n",
            "  140355713188960: TensorSpec(shape=(), dtype=tf.resource, name=None)\n",
            "  140355713302048: TensorSpec(shape=(256,), dtype=tf.float32, name=None)\n",
            "  140355713188608: TensorSpec(shape=(), dtype=tf.resource, name=None)\n",
            "  140355713188256: TensorSpec(shape=(), dtype=tf.resource, name=None)\n",
            "  140355713187904: TensorSpec(shape=(), dtype=tf.resource, name=None)\n",
            "  140355713301872: TensorSpec(shape=(), dtype=tf.resource, name=None)\n",
            "  140355713301520: TensorSpec(shape=(256,), dtype=tf.float32, name=None)\n",
            "  140355713301344: TensorSpec(shape=(), dtype=tf.resource, name=None)\n",
            "  140355713300992: TensorSpec(shape=(), dtype=tf.resource, name=None)\n",
            "  140355713300640: TensorSpec(shape=(), dtype=tf.resource, name=None)\n",
            "  140355713300288: TensorSpec(shape=(), dtype=tf.resource, name=None)\n",
            "  140355713299936: TensorSpec(shape=(512,), dtype=tf.float32, name=None)\n",
            "  140355713299760: TensorSpec(shape=(), dtype=tf.resource, name=None)\n",
            "  140355713299408: TensorSpec(shape=(), dtype=tf.resource, name=None)\n",
            "  140355713299056: TensorSpec(shape=(), dtype=tf.resource, name=None)\n",
            "  140355713298704: TensorSpec(shape=(), dtype=tf.resource, name=None)\n",
            "  140355713298000: TensorSpec(shape=(512,), dtype=tf.float32, name=None)\n",
            "  140355713297824: TensorSpec(shape=(), dtype=tf.resource, name=None)\n",
            "  140355713297472: TensorSpec(shape=(), dtype=tf.resource, name=None)\n",
            "  140355713298352: TensorSpec(shape=(), dtype=tf.resource, name=None)\n",
            "  140355713297120: TensorSpec(shape=(), dtype=tf.resource, name=None)\n",
            "  140355713296064: TensorSpec(shape=(512,), dtype=tf.float32, name=None)\n",
            "  140355713295888: TensorSpec(shape=(), dtype=tf.resource, name=None)\n",
            "  140355713296768: TensorSpec(shape=(), dtype=tf.resource, name=None)\n",
            "  140355713296416: TensorSpec(shape=(), dtype=tf.resource, name=None)\n",
            "  140355713295536: TensorSpec(shape=(), dtype=tf.resource, name=None)\n",
            "  140355713294128: TensorSpec(shape=(512,), dtype=tf.float32, name=None)\n",
            "  140355713295184: TensorSpec(shape=(), dtype=tf.resource, name=None)\n",
            "  140355713294832: TensorSpec(shape=(), dtype=tf.resource, name=None)\n",
            "  140355713294480: TensorSpec(shape=(), dtype=tf.resource, name=None)\n",
            "  140355713293952: TensorSpec(shape=(), dtype=tf.resource, name=None)\n",
            "  140355713292544: TensorSpec(shape=(512,), dtype=tf.float32, name=None)\n",
            "  140355713293600: TensorSpec(shape=(), dtype=tf.resource, name=None)\n",
            "  140355713293248: TensorSpec(shape=(), dtype=tf.resource, name=None)\n",
            "  140355713292896: TensorSpec(shape=(), dtype=tf.resource, name=None)\n",
            "  140355713292368: TensorSpec(shape=(), dtype=tf.resource, name=None)\n",
            "  140355713290960: TensorSpec(shape=(512,), dtype=tf.float32, name=None)\n",
            "  140355713292016: TensorSpec(shape=(), dtype=tf.resource, name=None)\n",
            "  140355713291664: TensorSpec(shape=(), dtype=tf.resource, name=None)\n",
            "  140355713291312: TensorSpec(shape=(), dtype=tf.resource, name=None)\n",
            "  140355713290784: TensorSpec(shape=(), dtype=tf.resource, name=None)\n",
            "  140355713289376: TensorSpec(shape=(512,), dtype=tf.float32, name=None)\n",
            "  140355713290432: TensorSpec(shape=(), dtype=tf.resource, name=None)\n",
            "  140355713290080: TensorSpec(shape=(), dtype=tf.resource, name=None)\n",
            "  140355713289728: TensorSpec(shape=(), dtype=tf.resource, name=None)\n",
            "  140355713289200: TensorSpec(shape=(), dtype=tf.resource, name=None)\n",
            "  140355713288848: TensorSpec(shape=(512,), dtype=tf.float32, name=None)\n",
            "  140355713288672: TensorSpec(shape=(), dtype=tf.resource, name=None)\n",
            "  140355713288320: TensorSpec(shape=(), dtype=tf.resource, name=None)\n",
            "  140355713287968: TensorSpec(shape=(), dtype=tf.resource, name=None)\n",
            "  140355713287616: TensorSpec(shape=(), dtype=tf.resource, name=None)\n",
            "  140355713287264: TensorSpec(shape=(512,), dtype=tf.float32, name=None)\n",
            "  140355713287088: TensorSpec(shape=(), dtype=tf.resource, name=None)\n",
            "  140355713286736: TensorSpec(shape=(), dtype=tf.resource, name=None)\n",
            "  140355713286384: TensorSpec(shape=(), dtype=tf.resource, name=None)\n",
            "  140355713040080: TensorSpec(shape=(), dtype=tf.resource, name=None)\n",
            "  140355713039376: TensorSpec(shape=(512,), dtype=tf.float32, name=None)\n",
            "  140355713039200: TensorSpec(shape=(), dtype=tf.resource, name=None)\n",
            "  140355713038848: TensorSpec(shape=(), dtype=tf.resource, name=None)\n",
            "  140355713039728: TensorSpec(shape=(), dtype=tf.resource, name=None)\n",
            "  140355713038496: TensorSpec(shape=(), dtype=tf.resource, name=None)\n",
            "  140355713037440: TensorSpec(shape=(512,), dtype=tf.float32, name=None)\n",
            "  140355713037264: TensorSpec(shape=(), dtype=tf.resource, name=None)\n",
            "  140355713038144: TensorSpec(shape=(), dtype=tf.resource, name=None)\n",
            "  140355713037792: TensorSpec(shape=(), dtype=tf.resource, name=None)\n",
            "  140355713036912: TensorSpec(shape=(), dtype=tf.resource, name=None)\n",
            "  140355713035504: TensorSpec(shape=(512,), dtype=tf.float32, name=None)\n",
            "  140355713036560: TensorSpec(shape=(), dtype=tf.resource, name=None)\n",
            "  140355713036208: TensorSpec(shape=(), dtype=tf.resource, name=None)\n",
            "  140355713035856: TensorSpec(shape=(), dtype=tf.resource, name=None)\n",
            "  140355713035328: TensorSpec(shape=(), dtype=tf.resource, name=None)\n",
            "  140355713033920: TensorSpec(shape=(1024,), dtype=tf.float32, name=None)\n",
            "  140355713034976: TensorSpec(shape=(), dtype=tf.resource, name=None)\n",
            "  140355713034624: TensorSpec(shape=(), dtype=tf.resource, name=None)\n",
            "  140355713034272: TensorSpec(shape=(), dtype=tf.resource, name=None)\n",
            "  140355713033744: TensorSpec(shape=(), dtype=tf.resource, name=None)\n",
            "  140355713032336: TensorSpec(shape=(1024,), dtype=tf.float32, name=None)\n",
            "  140355713033392: TensorSpec(shape=(), dtype=tf.resource, name=None)\n",
            "  140355713033040: TensorSpec(shape=(), dtype=tf.resource, name=None)\n",
            "  140355713032688: TensorSpec(shape=(), dtype=tf.resource, name=None)\n",
            "  140355713032160: TensorSpec(shape=(), dtype=tf.resource, name=None)\n",
            "  140355713030752: TensorSpec(shape=(1024,), dtype=tf.float32, name=None)\n",
            "  140355713031808: TensorSpec(shape=(), dtype=tf.resource, name=None)\n",
            "  140355713031456: TensorSpec(shape=(), dtype=tf.resource, name=None)\n",
            "  140355713031104: TensorSpec(shape=(), dtype=tf.resource, name=None)\n",
            "  140355713030576: TensorSpec(shape=(), dtype=tf.resource, name=None)\n",
            "  140355713030048: TensorSpec(shape=(), dtype=tf.resource, name=None)\n",
            "  140358816915424: TensorSpec(shape=(), dtype=tf.resource, name=None)\n",
            "  140358816922288: TensorSpec(shape=(), dtype=tf.resource, name=None)\n",
            "  140358816913488: TensorSpec(shape=(), dtype=tf.resource, name=None)\n",
            "  140358816912960: TensorSpec(shape=(), dtype=tf.resource, name=None)\n"
          ]
        }
      ]
    },
    {
      "cell_type": "code",
      "source": [
        "#tf.saved_model.save(serving_model, saved_model_path)"
      ],
      "metadata": {
        "id": "LRW2x4NMHDHq"
      },
      "execution_count": null,
      "outputs": []
    },
    {
      "cell_type": "code",
      "source": [
        "tf.keras.utils.plot_model(serving_model)"
      ],
      "metadata": {
        "colab": {
          "base_uri": "https://localhost:8080/",
          "height": 839
        },
        "id": "bd-29ycWEjvD",
        "outputId": "505ea0f8-4130-4f87-ea38-e8ca5eec3038"
      },
      "execution_count": null,
      "outputs": [
        {
          "output_type": "execute_result",
          "data": {
            "image/png": "[encoded data removed]",
            "text/plain": [
              "<IPython.core.display.Image object>"
            ]
          },
          "metadata": {},
          "execution_count": 110
        }
      ]
    },
    {
      "cell_type": "code",
      "source": [
        "serving_model.summary()"
      ],
      "metadata": {
        "colab": {
          "base_uri": "https://localhost:8080/",
          "height": 272
        },
        "id": "7M5y9rcanti6",
        "outputId": "372f3b68-a5fe-4d7c-b44b-d1c5ede89bc5"
      },
      "execution_count": null,
      "outputs": [
        {
          "output_type": "display_data",
          "data": {
            "text/plain": [
              "\u001b[1mModel: \"functional_3\"\u001b[0m\n"
            ],
            "text/html": [
              "<pre style=\"white-space:pre;overflow-x:auto;line-height:normal;font-family:Menlo,'DejaVu Sans Mono',consolas,'Courier New',monospace\"><span style=\"font-weight: bold\">Model: \"functional_3\"</span>\n",
              "</pre>\n"
            ]
          },
          "metadata": {}
        },
        {
          "output_type": "display_data",
          "data": {
            "text/plain": [
              "┏━━━━━━━━━━━━━━━━━━━━━━━━━━━━━━━━━━━━━━┳━━━━━━━━━━━━━━━━━━━━━━━━━━━━━┳━━━━━━━━━━━━━━━━━┓\n",
              "┃\u001b[1m \u001b[0m\u001b[1mLayer (type)                        \u001b[0m\u001b[1m \u001b[0m┃\u001b[1m \u001b[0m\u001b[1mOutput Shape               \u001b[0m\u001b[1m \u001b[0m┃\u001b[1m \u001b[0m\u001b[1m        Param #\u001b[0m\u001b[1m \u001b[0m┃\n",
              "┡━━━━━━━━━━━━━━━━━━━━━━━━━━━━━━━━━━━━━━╇━━━━━━━━━━━━━━━━━━━━━━━━━━━━━╇━━━━━━━━━━━━━━━━━┩\n",
              "│ audio (\u001b[38;5;33mInputLayer\u001b[0m)                   │ (\u001b[38;5;45mNone\u001b[0m)                      │               \u001b[38;5;34m0\u001b[0m │\n",
              "├──────────────────────────────────────┼─────────────────────────────┼─────────────────┤\n",
              "│ yamnet_layer_1 (\u001b[38;5;33mYamnetLayer\u001b[0m)         │ (\u001b[38;5;45mNone\u001b[0m, \u001b[38;5;34m1024\u001b[0m)                │               \u001b[38;5;34m0\u001b[0m │\n",
              "├──────────────────────────────────────┼─────────────────────────────┼─────────────────┤\n",
              "│ my_model (\u001b[38;5;33mSequential\u001b[0m)                │ (\u001b[38;5;45mNone\u001b[0m, \u001b[38;5;34m9\u001b[0m)                   │          \u001b[38;5;34m66,185\u001b[0m │\n",
              "├──────────────────────────────────────┼─────────────────────────────┼─────────────────┤\n",
              "│ classifier (\u001b[38;5;33mReduceMeanLayer\u001b[0m)         │ (\u001b[38;5;34m9\u001b[0m)                         │               \u001b[38;5;34m0\u001b[0m │\n",
              "└──────────────────────────────────────┴─────────────────────────────┴─────────────────┘\n"
            ],
            "text/html": [
              "<pre style=\"white-space:pre;overflow-x:auto;line-height:normal;font-family:Menlo,'DejaVu Sans Mono',consolas,'Courier New',monospace\">┏━━━━━━━━━━━━━━━━━━━━━━━━━━━━━━━━━━━━━━┳━━━━━━━━━━━━━━━━━━━━━━━━━━━━━┳━━━━━━━━━━━━━━━━━┓\n",
              "┃<span style=\"font-weight: bold\"> Layer (type)                         </span>┃<span style=\"font-weight: bold\"> Output Shape                </span>┃<span style=\"font-weight: bold\">         Param # </span>┃\n",
              "┡━━━━━━━━━━━━━━━━━━━━━━━━━━━━━━━━━━━━━━╇━━━━━━━━━━━━━━━━━━━━━━━━━━━━━╇━━━━━━━━━━━━━━━━━┩\n",
              "│ audio (<span style=\"color: #0087ff; text-decoration-color: #0087ff\">InputLayer</span>)                   │ (<span style=\"color: #00d7ff; text-decoration-color: #00d7ff\">None</span>)                      │               <span style=\"color: #00af00; text-decoration-color: #00af00\">0</span> │\n",
              "├──────────────────────────────────────┼─────────────────────────────┼─────────────────┤\n",
              "│ yamnet_layer_1 (<span style=\"color: #0087ff; text-decoration-color: #0087ff\">YamnetLayer</span>)         │ (<span style=\"color: #00d7ff; text-decoration-color: #00d7ff\">None</span>, <span style=\"color: #00af00; text-decoration-color: #00af00\">1024</span>)                │               <span style=\"color: #00af00; text-decoration-color: #00af00\">0</span> │\n",
              "├──────────────────────────────────────┼─────────────────────────────┼─────────────────┤\n",
              "│ my_model (<span style=\"color: #0087ff; text-decoration-color: #0087ff\">Sequential</span>)                │ (<span style=\"color: #00d7ff; text-decoration-color: #00d7ff\">None</span>, <span style=\"color: #00af00; text-decoration-color: #00af00\">9</span>)                   │          <span style=\"color: #00af00; text-decoration-color: #00af00\">66,185</span> │\n",
              "├──────────────────────────────────────┼─────────────────────────────┼─────────────────┤\n",
              "│ classifier (<span style=\"color: #0087ff; text-decoration-color: #0087ff\">ReduceMeanLayer</span>)         │ (<span style=\"color: #00af00; text-decoration-color: #00af00\">9</span>)                         │               <span style=\"color: #00af00; text-decoration-color: #00af00\">0</span> │\n",
              "└──────────────────────────────────────┴─────────────────────────────┴─────────────────┘\n",
              "</pre>\n"
            ]
          },
          "metadata": {}
        },
        {
          "output_type": "display_data",
          "data": {
            "text/plain": [
              "\u001b[1m Total params: \u001b[0m\u001b[38;5;34m66,185\u001b[0m (258.54 KB)\n"
            ],
            "text/html": [
              "<pre style=\"white-space:pre;overflow-x:auto;line-height:normal;font-family:Menlo,'DejaVu Sans Mono',consolas,'Courier New',monospace\"><span style=\"font-weight: bold\"> Total params: </span><span style=\"color: #00af00; text-decoration-color: #00af00\">66,185</span> (258.54 KB)\n",
              "</pre>\n"
            ]
          },
          "metadata": {}
        },
        {
          "output_type": "display_data",
          "data": {
            "text/plain": [
              "\u001b[1m Trainable params: \u001b[0m\u001b[38;5;34m66,185\u001b[0m (258.54 KB)\n"
            ],
            "text/html": [
              "<pre style=\"white-space:pre;overflow-x:auto;line-height:normal;font-family:Menlo,'DejaVu Sans Mono',consolas,'Courier New',monospace\"><span style=\"font-weight: bold\"> Trainable params: </span><span style=\"color: #00af00; text-decoration-color: #00af00\">66,185</span> (258.54 KB)\n",
              "</pre>\n"
            ]
          },
          "metadata": {}
        },
        {
          "output_type": "display_data",
          "data": {
            "text/plain": [
              "\u001b[1m Non-trainable params: \u001b[0m\u001b[38;5;34m0\u001b[0m (0.00 B)\n"
            ],
            "text/html": [
              "<pre style=\"white-space:pre;overflow-x:auto;line-height:normal;font-family:Menlo,'DejaVu Sans Mono',consolas,'Courier New',monospace\"><span style=\"font-weight: bold\"> Non-trainable params: </span><span style=\"color: #00af00; text-decoration-color: #00af00\">0</span> (0.00 B)\n",
              "</pre>\n"
            ]
          },
          "metadata": {}
        }
      ]
    },
    {
      "cell_type": "code",
      "source": [
        "reloaded_model = tf.saved_model.load(saved_model_path)"
      ],
      "metadata": {
        "id": "Of3G6Gq6GVB4"
      },
      "execution_count": null,
      "outputs": []
    },
    {
      "cell_type": "code",
      "source": [
        "reloaded_results= reloaded_model.signatures[\"serving_default\"](tf.convert_to_tensor(wav,dtype=tf.float32))"
      ],
      "metadata": {
        "id": "FP_VZeTHkIST"
      },
      "execution_count": null,
      "outputs": []
    },
    {
      "cell_type": "code",
      "source": [
        "reloaded_results"
      ],
      "metadata": {
        "colab": {
          "base_uri": "https://localhost:8080/"
        },
        "id": "e_mu3klbmEKM",
        "outputId": "2debc10f-49d7-4598-956d-0a005d6041a0"
      },
      "execution_count": null,
      "outputs": [
        {
          "output_type": "execute_result",
          "data": {
            "text/plain": [
              "{'output_0': <tf.Tensor: shape=(9,), dtype=float32, numpy=\n",
              " array([9.6708250e-01, 2.0603109e-03, 2.6260003e-02, 5.3142506e-04,\n",
              "        3.0872603e-03, 6.4755914e-05, 4.8462785e-04, 4.6406727e-05,\n",
              "        3.8272777e-04], dtype=float32)>}"
            ]
          },
          "metadata": {},
          "execution_count": 114
        }
      ]
    },
    {
      "cell_type": "code",
      "source": [
        "top_class = np.argmax(reloaded_results)\n",
        "inferred_class = top_class"
      ],
      "metadata": {
        "id": "SwvWficWGYUJ"
      },
      "execution_count": null,
      "outputs": []
    },
    {
      "cell_type": "code",
      "source": [
        "inferred_class"
      ],
      "metadata": {
        "colab": {
          "base_uri": "https://localhost:8080/"
        },
        "id": "kg9OEUPbHsoP",
        "outputId": "06091774-35cb-4687-f621-aa8c55a355c0"
      },
      "execution_count": null,
      "outputs": [
        {
          "output_type": "execute_result",
          "data": {
            "text/plain": [
              "0"
            ]
          },
          "metadata": {},
          "execution_count": 116
        }
      ]
    },
    {
      "cell_type": "code",
      "source": [],
      "metadata": {
        "id": "TqcHQx-PH7kX"
      },
      "execution_count": null,
      "outputs": []
    },
    {
      "cell_type": "markdown",
      "source": [
        "# Optimizing the model"
      ],
      "metadata": {
        "id": "Rw_8iyARn18O"
      }
    },
    {
      "cell_type": "code",
      "source": [
        "import tensorflow_model_optimization as tfmot"
      ],
      "metadata": {
        "id": "Yj_zDsa8oCN3"
      },
      "execution_count": null,
      "outputs": []
    },
    {
      "cell_type": "code",
      "source": [
        "def apply_qat_to_dense_and_cnn(layer):\n",
        "  if isinstance(layer, (tf.keras.layers.Dense, tf.keras.layers.Conv2D)):\n",
        "    return tfmot.quantization.keras.quantize_annotate_layer(layer)\n",
        "  return layer\n",
        "\n",
        "\n"
      ],
      "metadata": {
        "id": "zAAulpT7n3xR"
      },
      "execution_count": null,
      "outputs": []
    },
    {
      "cell_type": "code",
      "source": [
        "annotated_model = tf.keras.models.clone_model(\n",
        "    serving_model,\n",
        "    clone_function=apply_qat_to_dense_and_cnn,\n",
        ")\n"
      ],
      "metadata": {
        "id": "ZyBK94pqoLBx"
      },
      "execution_count": null,
      "outputs": []
    },
    {
      "cell_type": "code",
      "source": [
        "annotated_model"
      ],
      "metadata": {
        "colab": {
          "base_uri": "https://localhost:8080/"
        },
        "id": "MfWN5UampAEk",
        "outputId": "a4cfd953-147c-45ad-d4b0-ee70c3b9ce88"
      },
      "execution_count": null,
      "outputs": [
        {
          "output_type": "execute_result",
          "data": {
            "text/plain": [
              "<Functional name=functional_1, built=True>"
            ]
          },
          "metadata": {},
          "execution_count": 86
        }
      ]
    },
    {
      "cell_type": "code",
      "source": [
        "#quant_aware_model = tfmot.quantization.keras.quantize_apply(annotated_model)\n",
        "#quant_aware_model.summary()"
      ],
      "metadata": {
        "id": "es1CJ8dJoIcL"
      },
      "execution_count": null,
      "outputs": []
    },
    {
      "cell_type": "code",
      "source": [],
      "metadata": {
        "id": "IOJjqBpIoaAz"
      },
      "execution_count": null,
      "outputs": []
    },
    {
      "cell_type": "markdown",
      "source": [
        "# Save the model in tflite format"
      ],
      "metadata": {
        "id": "t-ca4qRysJ40"
      }
    },
    {
      "cell_type": "code",
      "source": [],
      "metadata": {
        "id": "i98H4AYP2BSs"
      },
      "execution_count": null,
      "outputs": []
    },
    {
      "cell_type": "code",
      "source": [
        "#converter = tf.lite.TFLiteConverter.from_keras_model(serving_model)\n",
        "#converter.optimizations = [tf.lite.Optimize.DEFAULT]"
      ],
      "metadata": {
        "id": "GDsqvzF1sNrA"
      },
      "execution_count": null,
      "outputs": []
    },
    {
      "cell_type": "code",
      "source": [
        "#def representative_data_gen():\n",
        "#  for input_value, output_value in tf_train_dataset.unbatch().batch(1).take(100):\n",
        "#    # Model has only one input so each data point has one element.\n",
        "#    yield [input_value]"
      ],
      "metadata": {
        "id": "_V4jeko1sbhn"
      },
      "execution_count": null,
      "outputs": []
    },
    {
      "cell_type": "code",
      "source": [
        "#converter.representative_dataset = representative_data_gen"
      ],
      "metadata": {
        "id": "LU-IpV3JssO9"
      },
      "execution_count": null,
      "outputs": []
    },
    {
      "cell_type": "code",
      "source": [
        "# Ensure that if any ops can't be quantized, the converter throws an error\n",
        "#converter.target_spec.supported_ops = [tf.lite.OpsSet.TFLITE_BUILTINS_INT8]"
      ],
      "metadata": {
        "id": "_JRHl6-Rs38T"
      },
      "execution_count": null,
      "outputs": []
    },
    {
      "cell_type": "code",
      "source": [
        "# Set the input and output tensors to uint8 (APIs added in r2.3)\n",
        "#converter.inference_input_type = tf.float32\n",
        "#converter.inference_output_type = tf.int8\n",
        "#tflite_model_quant = converter.convert()\n",
        "\n",
        "#with open(\"tflite_model.tflite\", \"wb\") as f:\n",
        "#  f.write(tflite_model_quant)"
      ],
      "metadata": {
        "id": "YPDKeEAPsvbA"
      },
      "execution_count": null,
      "outputs": []
    },
    {
      "cell_type": "code",
      "source": [
        "converter = tf.lite.TFLiteConverter.from_saved_model(saved_model_path)"
      ],
      "metadata": {
        "id": "qVNrcr32uEwo"
      },
      "execution_count": null,
      "outputs": []
    },
    {
      "cell_type": "code",
      "source": [
        "tf_lite_model = converter.convert()"
      ],
      "metadata": {
        "id": "EGoj-xfG2-NM"
      },
      "execution_count": null,
      "outputs": []
    },
    {
      "cell_type": "code",
      "source": [
        "with open('violin.tflite','wb') as f:\n",
        "  f.write(tf_lite_model)"
      ],
      "metadata": {
        "id": "f8rjx_DR3CIU"
      },
      "execution_count": null,
      "outputs": []
    },
    {
      "cell_type": "code",
      "source": [
        "# Check the model\n",
        "interpreter = tf.lite.Interpreter('violin.tflite')"
      ],
      "metadata": {
        "id": "pgS1nZFB3I8u"
      },
      "execution_count": null,
      "outputs": []
    },
    {
      "cell_type": "code",
      "source": [
        "audio_input_index = interpreter.get_input_details()[0]['index']"
      ],
      "metadata": {
        "id": "RPY2lEF9Jdu-"
      },
      "execution_count": null,
      "outputs": []
    },
    {
      "cell_type": "code",
      "source": [
        "scores_output_index = interpreter.get_output_details()[0]['index']"
      ],
      "metadata": {
        "id": "u4EoDo70Jr8k"
      },
      "execution_count": null,
      "outputs": []
    },
    {
      "cell_type": "code",
      "source": [
        "embeddings_output_index = interpreter.get_output_details()[1]['index']"
      ],
      "metadata": {
        "colab": {
          "base_uri": "https://localhost:8080/",
          "height": 144
        },
        "id": "6CAiwHtTJvLS",
        "outputId": "87833a29-8dc6-44e1-bb3d-6ff1a2ba0c97"
      },
      "execution_count": null,
      "outputs": [
        {
          "output_type": "error",
          "ename": "IndexError",
          "evalue": "list index out of range",
          "traceback": [
            "\u001b[0;31m---------------------------------------------------------------------------\u001b[0m",
            "\u001b[0;31mIndexError\u001b[0m                                Traceback (most recent call last)",
            "\u001b[0;32m<ipython-input-93-57f35cdd529e>\u001b[0m in \u001b[0;36m<cell line: 1>\u001b[0;34m()\u001b[0m\n\u001b[0;32m----> 1\u001b[0;31m \u001b[0membeddings_output_index\u001b[0m \u001b[0;34m=\u001b[0m \u001b[0minterpreter\u001b[0m\u001b[0;34m.\u001b[0m\u001b[0mget_output_details\u001b[0m\u001b[0;34m(\u001b[0m\u001b[0;34m)\u001b[0m\u001b[0;34m[\u001b[0m\u001b[0;36m1\u001b[0m\u001b[0;34m]\u001b[0m\u001b[0;34m[\u001b[0m\u001b[0;34m'index'\u001b[0m\u001b[0;34m]\u001b[0m\u001b[0;34m\u001b[0m\u001b[0;34m\u001b[0m\u001b[0m\n\u001b[0m",
            "\u001b[0;31mIndexError\u001b[0m: list index out of range"
          ]
        }
      ]
    },
    {
      "cell_type": "code",
      "source": [
        "interpreter.get_output_details()"
      ],
      "metadata": {
        "colab": {
          "base_uri": "https://localhost:8080/"
        },
        "id": "4BvgmGGmJxoc",
        "outputId": "52c765d6-fca3-4483-c207-27b080850485"
      },
      "execution_count": null,
      "outputs": [
        {
          "output_type": "execute_result",
          "data": {
            "text/plain": [
              "[{'name': 'StatefulPartitionedCall_1:0',\n",
              "  'index': 195,\n",
              "  'shape': array([9], dtype=int32),\n",
              "  'shape_signature': array([9], dtype=int32),\n",
              "  'dtype': numpy.float32,\n",
              "  'quantization': (0.0, 0),\n",
              "  'quantization_parameters': {'scales': array([], dtype=float32),\n",
              "   'zero_points': array([], dtype=int32),\n",
              "   'quantized_dimension': 0},\n",
              "  'sparsity_parameters': {}}]"
            ]
          },
          "metadata": {},
          "execution_count": 84
        }
      ]
    },
    {
      "cell_type": "code",
      "source": [
        "# Check the model\n",
        "interpreter = tf.lite.Interpreter('yamnet.tflite')"
      ],
      "metadata": {
        "id": "HIkNspLoJ3wN"
      },
      "execution_count": null,
      "outputs": []
    },
    {
      "cell_type": "code",
      "source": [
        "audio_input_index = interpreter.get_input_details()[0]['index']"
      ],
      "metadata": {
        "id": "bpN7GMP-OOeP"
      },
      "execution_count": null,
      "outputs": []
    },
    {
      "cell_type": "code",
      "source": [
        "audio_input_index"
      ],
      "metadata": {
        "colab": {
          "base_uri": "https://localhost:8080/"
        },
        "id": "mgzV83ZoOVhy",
        "outputId": "9cbb722e-d501-4519-a31b-c4c4d2a65a4c"
      },
      "execution_count": null,
      "outputs": [
        {
          "output_type": "execute_result",
          "data": {
            "text/plain": [
              "0"
            ]
          },
          "metadata": {},
          "execution_count": 90
        }
      ]
    },
    {
      "cell_type": "code",
      "source": [
        "scores_output_index = interpreter.get_output_details()[0]['index']"
      ],
      "metadata": {
        "id": "IqbGDuOWORep"
      },
      "execution_count": null,
      "outputs": []
    },
    {
      "cell_type": "code",
      "source": [
        "scores_output_index"
      ],
      "metadata": {
        "colab": {
          "base_uri": "https://localhost:8080/"
        },
        "id": "t3M9uwAkOUQ5",
        "outputId": "1e01e9db-2adb-4632-a161-e686b21b7ef0"
      },
      "execution_count": null,
      "outputs": [
        {
          "output_type": "execute_result",
          "data": {
            "text/plain": [
              "120"
            ]
          },
          "metadata": {},
          "execution_count": 91
        }
      ]
    },
    {
      "cell_type": "code",
      "source": [
        "interpreter.get_output_details()"
      ],
      "metadata": {
        "colab": {
          "base_uri": "https://localhost:8080/"
        },
        "id": "p9kFG5zFOX4d",
        "outputId": "756b9c70-0fbb-45db-cdd8-051ecea9159e"
      },
      "execution_count": null,
      "outputs": [
        {
          "output_type": "execute_result",
          "data": {
            "text/plain": [
              "[{'name': 'tower0/network/layer32/final_output',\n",
              "  'index': 120,\n",
              "  'shape': array([  1, 521], dtype=int32),\n",
              "  'shape_signature': array([  1, 521], dtype=int32),\n",
              "  'dtype': numpy.float32,\n",
              "  'quantization': (0.0, 0),\n",
              "  'quantization_parameters': {'scales': array([], dtype=float32),\n",
              "   'zero_points': array([], dtype=int32),\n",
              "   'quantized_dimension': 0},\n",
              "  'sparsity_parameters': {}}]"
            ]
          },
          "metadata": {},
          "execution_count": 92
        }
      ]
    },
    {
      "cell_type": "code",
      "source": [
        "embeddings_output_index = interpreter.get_output_details()[1]['index']"
      ],
      "metadata": {
        "colab": {
          "base_uri": "https://localhost:8080/",
          "height": 144
        },
        "id": "GrKhb8nbOZkh",
        "outputId": "696d8b18-dd91-4524-952f-a640f52c55f7"
      },
      "execution_count": null,
      "outputs": [
        {
          "output_type": "error",
          "ename": "IndexError",
          "evalue": "list index out of range",
          "traceback": [
            "\u001b[0;31m---------------------------------------------------------------------------\u001b[0m",
            "\u001b[0;31mIndexError\u001b[0m                                Traceback (most recent call last)",
            "\u001b[0;32m<ipython-input-95-57f35cdd529e>\u001b[0m in \u001b[0;36m<cell line: 1>\u001b[0;34m()\u001b[0m\n\u001b[0;32m----> 1\u001b[0;31m \u001b[0membeddings_output_index\u001b[0m \u001b[0;34m=\u001b[0m \u001b[0minterpreter\u001b[0m\u001b[0;34m.\u001b[0m\u001b[0mget_output_details\u001b[0m\u001b[0;34m(\u001b[0m\u001b[0;34m)\u001b[0m\u001b[0;34m[\u001b[0m\u001b[0;36m1\u001b[0m\u001b[0;34m]\u001b[0m\u001b[0;34m[\u001b[0m\u001b[0;34m'index'\u001b[0m\u001b[0;34m]\u001b[0m\u001b[0;34m\u001b[0m\u001b[0;34m\u001b[0m\u001b[0m\n\u001b[0m",
            "\u001b[0;31mIndexError\u001b[0m: list index out of range"
          ]
        }
      ]
    },
    {
      "cell_type": "code",
      "source": [
        "!pip install tflite-support"
      ],
      "metadata": {
        "colab": {
          "base_uri": "https://localhost:8080/"
        },
        "id": "fZaQGGEYWL1G",
        "outputId": "db5c42e6-321c-48e1-c048-296bdb0448b9"
      },
      "execution_count": null,
      "outputs": [
        {
          "output_type": "stream",
          "name": "stdout",
          "text": [
            "Collecting tflite-support\n",
            "  Downloading tflite_support-0.4.4-cp310-cp310-manylinux2014_x86_64.whl.metadata (2.4 kB)\n",
            "Requirement already satisfied: absl-py>=0.7.0 in /usr/local/lib/python3.10/dist-packages (from tflite-support) (1.4.0)\n",
            "Requirement already satisfied: numpy>=1.20.0 in /usr/local/lib/python3.10/dist-packages (from tflite-support) (1.26.4)\n",
            "Requirement already satisfied: flatbuffers>=2.0 in /usr/local/lib/python3.10/dist-packages (from tflite-support) (24.3.25)\n",
            "Requirement already satisfied: protobuf<4,>=3.18.0 in /usr/local/lib/python3.10/dist-packages (from tflite-support) (3.20.3)\n",
            "Collecting sounddevice>=0.4.4 (from tflite-support)\n",
            "  Downloading sounddevice-0.5.1-py3-none-any.whl.metadata (1.4 kB)\n",
            "Collecting pybind11>=2.6.0 (from tflite-support)\n",
            "  Downloading pybind11-2.13.6-py3-none-any.whl.metadata (9.5 kB)\n",
            "Requirement already satisfied: CFFI>=1.0 in /usr/local/lib/python3.10/dist-packages (from sounddevice>=0.4.4->tflite-support) (1.17.1)\n",
            "Requirement already satisfied: pycparser in /usr/local/lib/python3.10/dist-packages (from CFFI>=1.0->sounddevice>=0.4.4->tflite-support) (2.22)\n",
            "Downloading tflite_support-0.4.4-cp310-cp310-manylinux2014_x86_64.whl (60.8 MB)\n",
            "\u001b[2K   \u001b[90m━━━━━━━━━━━━━━━━━━━━━━━━━━━━━━━━━━━━━━━━\u001b[0m \u001b[32m60.8/60.8 MB\u001b[0m \u001b[31m9.4 MB/s\u001b[0m eta \u001b[36m0:00:00\u001b[0m\n",
            "\u001b[?25hDownloading pybind11-2.13.6-py3-none-any.whl (243 kB)\n",
            "\u001b[2K   \u001b[90m━━━━━━━━━━━━━━━━━━━━━━━━━━━━━━━━━━━━━━━━\u001b[0m \u001b[32m243.3/243.3 kB\u001b[0m \u001b[31m21.0 MB/s\u001b[0m eta \u001b[36m0:00:00\u001b[0m\n",
            "\u001b[?25hDownloading sounddevice-0.5.1-py3-none-any.whl (32 kB)\n",
            "Installing collected packages: pybind11, sounddevice, tflite-support\n",
            "Successfully installed pybind11-2.13.6 sounddevice-0.5.1 tflite-support-0.4.4\n"
          ]
        }
      ]
    },
    {
      "cell_type": "code",
      "source": [
        "from tflite_support.metadata_writers import audio_classifier"
      ],
      "metadata": {
        "colab": {
          "base_uri": "https://localhost:8080/",
          "height": 900
        },
        "id": "sF_l-Jx3PriD",
        "outputId": "91e66dba-4b97-4b5d-d44a-78519650c3cc"
      },
      "execution_count": null,
      "outputs": [
        {
          "output_type": "error",
          "ename": "ImportError",
          "evalue": "generic_type: cannot initialize type \"StatusCode\": an object with that name is already defined",
          "traceback": [
            "\u001b[0;31m---------------------------------------------------------------------------\u001b[0m",
            "\u001b[0;31mImportError\u001b[0m                               Traceback (most recent call last)",
            "\u001b[0;32m<ipython-input-123-6cf0ccb75047>\u001b[0m in \u001b[0;36m<cell line: 1>\u001b[0;34m()\u001b[0m\n\u001b[0;32m----> 1\u001b[0;31m \u001b[0;32mfrom\u001b[0m \u001b[0mtflite_support\u001b[0m\u001b[0;34m.\u001b[0m\u001b[0mmetadata_writers\u001b[0m \u001b[0;32mimport\u001b[0m \u001b[0maudio_classifier\u001b[0m\u001b[0;34m\u001b[0m\u001b[0;34m\u001b[0m\u001b[0m\n\u001b[0m",
            "\u001b[0;32m/usr/local/lib/python3.10/dist-packages/tflite_support/__init__.py\u001b[0m in \u001b[0;36m<module>\u001b[0;34m\u001b[0m\n\u001b[1;32m     51\u001b[0m \u001b[0;32mif\u001b[0m \u001b[0mplatform\u001b[0m\u001b[0;34m.\u001b[0m\u001b[0msystem\u001b[0m\u001b[0;34m(\u001b[0m\u001b[0;34m)\u001b[0m \u001b[0;34m!=\u001b[0m \u001b[0;34m'Windows'\u001b[0m\u001b[0;34m:\u001b[0m\u001b[0;34m\u001b[0m\u001b[0;34m\u001b[0m\u001b[0m\n\u001b[1;32m     52\u001b[0m   \u001b[0;31m# Task Library is not supported on Windows yet.\u001b[0m\u001b[0;34m\u001b[0m\u001b[0;34m\u001b[0m\u001b[0m\n\u001b[0;32m---> 53\u001b[0;31m   \u001b[0;32mfrom\u001b[0m \u001b[0mtflite_support\u001b[0m \u001b[0;32mimport\u001b[0m \u001b[0mtask\u001b[0m\u001b[0;34m\u001b[0m\u001b[0;34m\u001b[0m\u001b[0m\n\u001b[0m",
            "\u001b[0;32m/usr/local/lib/python3.10/dist-packages/tflite_support/task/__init__.py\u001b[0m in \u001b[0;36m<module>\u001b[0;34m\u001b[0m\n\u001b[1;32m     30\u001b[0m \u001b[0;32mfrom\u001b[0m \u001b[0;34m.\u001b[0m \u001b[0;32mimport\u001b[0m \u001b[0mprocessor\u001b[0m\u001b[0;34m\u001b[0m\u001b[0;34m\u001b[0m\u001b[0m\n\u001b[1;32m     31\u001b[0m \u001b[0;32mfrom\u001b[0m \u001b[0;34m.\u001b[0m \u001b[0;32mimport\u001b[0m \u001b[0mtext\u001b[0m\u001b[0;34m\u001b[0m\u001b[0;34m\u001b[0m\u001b[0m\n\u001b[0;32m---> 32\u001b[0;31m \u001b[0;32mfrom\u001b[0m \u001b[0;34m.\u001b[0m \u001b[0;32mimport\u001b[0m \u001b[0mvision\u001b[0m\u001b[0;34m\u001b[0m\u001b[0;34m\u001b[0m\u001b[0m\n\u001b[0m",
            "\u001b[0;32m/usr/local/lib/python3.10/dist-packages/tflite_support/task/vision/__init__.py\u001b[0m in \u001b[0;36m<module>\u001b[0;34m\u001b[0m\n\u001b[1;32m     18\u001b[0m \"\"\"\n\u001b[1;32m     19\u001b[0m \u001b[0;34m\u001b[0m\u001b[0m\n\u001b[0;32m---> 20\u001b[0;31m \u001b[0;32mfrom\u001b[0m \u001b[0mtensorflow_lite_support\u001b[0m\u001b[0;34m.\u001b[0m\u001b[0mpython\u001b[0m\u001b[0;34m.\u001b[0m\u001b[0mtask\u001b[0m\u001b[0;34m.\u001b[0m\u001b[0mvision\u001b[0m \u001b[0;32mimport\u001b[0m \u001b[0mimage_classifier\u001b[0m\u001b[0;34m\u001b[0m\u001b[0;34m\u001b[0m\u001b[0m\n\u001b[0m\u001b[1;32m     21\u001b[0m \u001b[0;32mfrom\u001b[0m \u001b[0mtensorflow_lite_support\u001b[0m\u001b[0;34m.\u001b[0m\u001b[0mpython\u001b[0m\u001b[0;34m.\u001b[0m\u001b[0mtask\u001b[0m\u001b[0;34m.\u001b[0m\u001b[0mvision\u001b[0m \u001b[0;32mimport\u001b[0m \u001b[0mimage_embedder\u001b[0m\u001b[0;34m\u001b[0m\u001b[0;34m\u001b[0m\u001b[0m\n\u001b[1;32m     22\u001b[0m \u001b[0;32mfrom\u001b[0m \u001b[0mtensorflow_lite_support\u001b[0m\u001b[0;34m.\u001b[0m\u001b[0mpython\u001b[0m\u001b[0;34m.\u001b[0m\u001b[0mtask\u001b[0m\u001b[0;34m.\u001b[0m\u001b[0mvision\u001b[0m \u001b[0;32mimport\u001b[0m \u001b[0mimage_segmenter\u001b[0m\u001b[0;34m\u001b[0m\u001b[0;34m\u001b[0m\u001b[0m\n",
            "\u001b[0;32m/usr/local/lib/python3.10/dist-packages/tensorflow_lite_support/python/task/vision/image_classifier.py\u001b[0m in \u001b[0;36m<module>\u001b[0;34m\u001b[0m\n\u001b[1;32m     21\u001b[0m \u001b[0;32mfrom\u001b[0m \u001b[0mtensorflow_lite_support\u001b[0m\u001b[0;34m.\u001b[0m\u001b[0mpython\u001b[0m\u001b[0;34m.\u001b[0m\u001b[0mtask\u001b[0m\u001b[0;34m.\u001b[0m\u001b[0mprocessor\u001b[0m\u001b[0;34m.\u001b[0m\u001b[0mproto\u001b[0m \u001b[0;32mimport\u001b[0m \u001b[0mclassification_options_pb2\u001b[0m\u001b[0;34m\u001b[0m\u001b[0;34m\u001b[0m\u001b[0m\n\u001b[1;32m     22\u001b[0m \u001b[0;32mfrom\u001b[0m \u001b[0mtensorflow_lite_support\u001b[0m\u001b[0;34m.\u001b[0m\u001b[0mpython\u001b[0m\u001b[0;34m.\u001b[0m\u001b[0mtask\u001b[0m\u001b[0;34m.\u001b[0m\u001b[0mprocessor\u001b[0m\u001b[0;34m.\u001b[0m\u001b[0mproto\u001b[0m \u001b[0;32mimport\u001b[0m \u001b[0mclassifications_pb2\u001b[0m\u001b[0;34m\u001b[0m\u001b[0;34m\u001b[0m\u001b[0m\n\u001b[0;32m---> 23\u001b[0;31m \u001b[0;32mfrom\u001b[0m \u001b[0mtensorflow_lite_support\u001b[0m\u001b[0;34m.\u001b[0m\u001b[0mpython\u001b[0m\u001b[0;34m.\u001b[0m\u001b[0mtask\u001b[0m\u001b[0;34m.\u001b[0m\u001b[0mvision\u001b[0m\u001b[0;34m.\u001b[0m\u001b[0mcore\u001b[0m \u001b[0;32mimport\u001b[0m \u001b[0mtensor_image\u001b[0m\u001b[0;34m\u001b[0m\u001b[0;34m\u001b[0m\u001b[0m\n\u001b[0m\u001b[1;32m     24\u001b[0m \u001b[0;32mfrom\u001b[0m \u001b[0mtensorflow_lite_support\u001b[0m\u001b[0;34m.\u001b[0m\u001b[0mpython\u001b[0m\u001b[0;34m.\u001b[0m\u001b[0mtask\u001b[0m\u001b[0;34m.\u001b[0m\u001b[0mvision\u001b[0m\u001b[0;34m.\u001b[0m\u001b[0mcore\u001b[0m\u001b[0;34m.\u001b[0m\u001b[0mpybinds\u001b[0m \u001b[0;32mimport\u001b[0m \u001b[0mimage_utils\u001b[0m\u001b[0;34m\u001b[0m\u001b[0;34m\u001b[0m\u001b[0m\n\u001b[1;32m     25\u001b[0m \u001b[0;32mfrom\u001b[0m \u001b[0mtensorflow_lite_support\u001b[0m\u001b[0;34m.\u001b[0m\u001b[0mpython\u001b[0m\u001b[0;34m.\u001b[0m\u001b[0mtask\u001b[0m\u001b[0;34m.\u001b[0m\u001b[0mvision\u001b[0m\u001b[0;34m.\u001b[0m\u001b[0mpybinds\u001b[0m \u001b[0;32mimport\u001b[0m \u001b[0m_pywrap_image_classifier\u001b[0m\u001b[0;34m\u001b[0m\u001b[0;34m\u001b[0m\u001b[0m\n",
            "\u001b[0;32m/usr/local/lib/python3.10/dist-packages/tensorflow_lite_support/python/task/vision/core/tensor_image.py\u001b[0m in \u001b[0;36m<module>\u001b[0;34m\u001b[0m\n\u001b[1;32m     17\u001b[0m \u001b[0;34m\u001b[0m\u001b[0m\n\u001b[1;32m     18\u001b[0m \u001b[0;32mfrom\u001b[0m \u001b[0mtensorflow_lite_support\u001b[0m\u001b[0;34m.\u001b[0m\u001b[0mpython\u001b[0m\u001b[0;34m.\u001b[0m\u001b[0mtask\u001b[0m\u001b[0;34m.\u001b[0m\u001b[0mvision\u001b[0m\u001b[0;34m.\u001b[0m\u001b[0mcore\u001b[0m \u001b[0;32mimport\u001b[0m \u001b[0mcolor_space_type\u001b[0m\u001b[0;34m\u001b[0m\u001b[0;34m\u001b[0m\u001b[0m\n\u001b[0;32m---> 19\u001b[0;31m \u001b[0;32mfrom\u001b[0m \u001b[0mtensorflow_lite_support\u001b[0m\u001b[0;34m.\u001b[0m\u001b[0mpython\u001b[0m\u001b[0;34m.\u001b[0m\u001b[0mtask\u001b[0m\u001b[0;34m.\u001b[0m\u001b[0mvision\u001b[0m\u001b[0;34m.\u001b[0m\u001b[0mcore\u001b[0m\u001b[0;34m.\u001b[0m\u001b[0mpybinds\u001b[0m \u001b[0;32mimport\u001b[0m \u001b[0mimage_utils\u001b[0m\u001b[0;34m\u001b[0m\u001b[0;34m\u001b[0m\u001b[0m\n\u001b[0m\u001b[1;32m     20\u001b[0m \u001b[0;34m\u001b[0m\u001b[0m\n\u001b[1;32m     21\u001b[0m \u001b[0;34m\u001b[0m\u001b[0m\n",
            "\u001b[0;31mImportError\u001b[0m: generic_type: cannot initialize type \"StatusCode\": an object with that name is already defined",
            "",
            "\u001b[0;31m---------------------------------------------------------------------------\u001b[0;32m\nNOTE: If your import is failing due to a missing package, you can\nmanually install dependencies using either !pip or !apt.\n\nTo view examples of installing some common dependencies, click the\n\"Open Examples\" button below.\n\u001b[0;31m---------------------------------------------------------------------------\u001b[0m\n"
          ],
          "errorDetails": {
            "actions": [
              {
                "action": "open_url",
                "actionText": "Open Examples",
                "url": "/notebooks/snippets/importing_libraries.ipynb"
              }
            ]
          }
        }
      ]
    },
    {
      "cell_type": "code",
      "source": [
        "platform.system()"
      ],
      "metadata": {
        "colab": {
          "base_uri": "https://localhost:8080/",
          "height": 144
        },
        "id": "MHH6HgFKWK9b",
        "outputId": "87b99014-0766-498f-87a8-c8e9eecb9d11"
      },
      "execution_count": null,
      "outputs": [
        {
          "output_type": "error",
          "ename": "NameError",
          "evalue": "name 'platform' is not defined",
          "traceback": [
            "\u001b[0;31m---------------------------------------------------------------------------\u001b[0m",
            "\u001b[0;31mNameError\u001b[0m                                 Traceback (most recent call last)",
            "\u001b[0;32m<ipython-input-124-a7bf3d18f8f7>\u001b[0m in \u001b[0;36m<cell line: 1>\u001b[0;34m()\u001b[0m\n\u001b[0;32m----> 1\u001b[0;31m \u001b[0mplatform\u001b[0m\u001b[0;34m.\u001b[0m\u001b[0msystem\u001b[0m\u001b[0;34m(\u001b[0m\u001b[0;34m)\u001b[0m\u001b[0;34m\u001b[0m\u001b[0;34m\u001b[0m\u001b[0m\n\u001b[0m",
            "\u001b[0;31mNameError\u001b[0m: name 'platform' is not defined"
          ]
        }
      ]
    },
    {
      "cell_type": "code",
      "source": [],
      "metadata": {
        "id": "fmIloJoKWrez"
      },
      "execution_count": null,
      "outputs": []
    }
  ]
}